{
 "cells": [
  {
   "cell_type": "code",
   "execution_count": 122,
   "metadata": {},
   "outputs": [
    {
     "name": "stderr",
     "output_type": "stream",
     "text": [
      "<ipython-input-122-96c1293fdd0e>:8: DeprecationWarning: executable_path has been deprecated, please pass in a Service object\n",
      "  driver = webdriver.Chrome(PATH)\n"
     ]
    }
   ],
   "source": [
    "# Q.1\n",
    "\n",
    "#downloading important libraries\n",
    "import selenium\n",
    "\n",
    "from selenium import webdriver\n",
    "PATH = 'C:\\Program Files\\TeamViewer\\chromedriver.exe' #extracting path of the webdriver\n",
    "driver = webdriver.Chrome(PATH)\n",
    "\n",
    "from selenium.webdriver.common.keys import Keys"
   ]
  },
  {
   "cell_type": "code",
   "execution_count": 25,
   "metadata": {},
   "outputs": [],
   "source": [
    "#fetching url of naukri\n",
    "driver.get('https://www.naukri.com/')"
   ]
  },
  {
   "cell_type": "code",
   "execution_count": 26,
   "metadata": {
    "scrolled": true
   },
   "outputs": [
    {
     "name": "stderr",
     "output_type": "stream",
     "text": [
      "<ipython-input-26-0eaa9b1fbc5f>:2: DeprecationWarning: find_element_by_* commands are deprecated. Please use find_element() instead\n",
      "  search_job = driver.find_element_by_id('qsb-keyword-sugg')\n",
      "<ipython-input-26-0eaa9b1fbc5f>:5: DeprecationWarning: find_element_by_* commands are deprecated. Please use find_element() instead\n",
      "  search_loc = driver.find_element_by_id('qsb-location-sugg')\n",
      "<ipython-input-26-0eaa9b1fbc5f>:8: DeprecationWarning: find_element_by_* commands are deprecated. Please use find_element() instead\n",
      "  search_btn = driver.find_element_by_xpath(\"//button[@class='btn']\")\n"
     ]
    }
   ],
   "source": [
    "#giving input for job title as Data Analyst\n",
    "search_job = driver.find_element_by_id('qsb-keyword-sugg')\n",
    "search_job.send_keys('Data Analyst')\n",
    "#giving input for job location as Bangalore\n",
    "search_loc = driver.find_element_by_id('qsb-location-sugg')\n",
    "search_loc.send_keys('Bangalore')\n",
    "#code to click on search button\n",
    "search_btn = driver.find_element_by_xpath(\"//button[@class='btn']\")\n",
    "search_btn.click()"
   ]
  },
  {
   "cell_type": "code",
   "execution_count": 7,
   "metadata": {},
   "outputs": [
    {
     "name": "stderr",
     "output_type": "stream",
     "text": [
      "<ipython-input-7-bf70bf4bc80e>:2: DeprecationWarning: find_elements_by_* commands are deprecated. Please use find_elements() instead\n",
      "  title = driver.find_elements_by_xpath(\"//a[@class='title fw500 ellipsis']\")\n"
     ]
    }
   ],
   "source": [
    "#fetching job title for top 10 data\n",
    "title = driver.find_elements_by_xpath(\"//a[@class='title fw500 ellipsis']\")\n",
    "job_title=[]\n",
    "for i in title[0:10]:\n",
    "    job_title.append(i.text)"
   ]
  },
  {
   "cell_type": "code",
   "execution_count": 8,
   "metadata": {},
   "outputs": [
    {
     "data": {
      "text/plain": [
       "['Business Data Analyst - MIS & Reporting',\n",
       " 'Business Data Analyst - Database Design/Mining',\n",
       " 'Senior Data Analyst - SQL/Tableau/Redshift',\n",
       " 'Sr Business Data Analyst',\n",
       " 'Lead Data Analyst - Claim Analytics',\n",
       " 'Lead Data Analyst - Claim Analytics',\n",
       " 'ID&A - Data Analyst - Informatica MDM',\n",
       " 'Data Analyst',\n",
       " 'Data Analyst',\n",
       " 'Hiring For Clinical Data Analyst - Bangalore / Chennai / Homebased']"
      ]
     },
     "execution_count": 8,
     "metadata": {},
     "output_type": "execute_result"
    }
   ],
   "source": [
    "job_title"
   ]
  },
  {
   "cell_type": "code",
   "execution_count": 9,
   "metadata": {
    "scrolled": true
   },
   "outputs": [
    {
     "name": "stderr",
     "output_type": "stream",
     "text": [
      "<ipython-input-9-468641f97398>:3: DeprecationWarning: find_elements_by_* commands are deprecated. Please use find_elements() instead\n",
      "  location = driver.find_elements_by_xpath(\"//li[@class='fleft grey-text br2 placeHolderLi location']\")\n"
     ]
    }
   ],
   "source": [
    "# job-location, company_name, experience_required\n",
    "#fetching job-location for top 10 data\n",
    "location = driver.find_elements_by_xpath(\"//li[@class='fleft grey-text br2 placeHolderLi location']\")\n",
    "job_location=[]\n",
    "for i in location[0:10]:\n",
    "    job_location.append(i.text)"
   ]
  },
  {
   "cell_type": "code",
   "execution_count": 10,
   "metadata": {},
   "outputs": [
    {
     "data": {
      "text/plain": [
       "['Mumbai, Bangalore/Bengaluru',\n",
       " 'Bangalore/Bengaluru',\n",
       " 'Noida, Mumbai, Indore, Hyderabad/Secunderabad, Pune, Chennai, Bangalore/Bengaluru\\n(WFH during Covid)',\n",
       " 'Bangalore/Bengaluru',\n",
       " 'Noida, Bangalore/Bengaluru',\n",
       " 'Noida, Bangalore/Bengaluru',\n",
       " 'Bangalore/Bengaluru',\n",
       " 'Bangalore/Bengaluru',\n",
       " 'Bangalore/Bengaluru',\n",
       " 'Chennai, Bangalore/Bengaluru, Mumbai (All Areas)']"
      ]
     },
     "execution_count": 10,
     "metadata": {},
     "output_type": "execute_result"
    }
   ],
   "source": [
    "job_location"
   ]
  },
  {
   "cell_type": "code",
   "execution_count": 11,
   "metadata": {
    "scrolled": true
   },
   "outputs": [
    {
     "name": "stderr",
     "output_type": "stream",
     "text": [
      "<ipython-input-11-7970ac025e32>:1: DeprecationWarning: find_elements_by_* commands are deprecated. Please use find_elements() instead\n",
      "  company = driver.find_elements_by_xpath(\"//a[@class='subTitle ellipsis fleft']\")\n"
     ]
    }
   ],
   "source": [
    "company = driver.find_elements_by_xpath(\"//a[@class='subTitle ellipsis fleft']\")\n",
    "company_name =[]\n",
    "for i in company[0:10]:\n",
    "    company_name.append(i.text)\n"
   ]
  },
  {
   "cell_type": "code",
   "execution_count": 12,
   "metadata": {},
   "outputs": [
    {
     "data": {
      "text/plain": [
       "['INTERTRUST GROUP',\n",
       " 'AugmatrixGo',\n",
       " 'Pronto Consulting Services',\n",
       " 'ExecBoardinAsia',\n",
       " 'InnovAccer',\n",
       " 'InnovAccer',\n",
       " 'Shell',\n",
       " 'Capgemini',\n",
       " 'Snaphunt',\n",
       " 'ICON plc (Formerly PRA Health Sciences)']"
      ]
     },
     "execution_count": 12,
     "metadata": {},
     "output_type": "execute_result"
    }
   ],
   "source": [
    "company_name"
   ]
  },
  {
   "cell_type": "code",
   "execution_count": 13,
   "metadata": {},
   "outputs": [
    {
     "name": "stderr",
     "output_type": "stream",
     "text": [
      "<ipython-input-13-c8e25ae26aef>:1: DeprecationWarning: find_elements_by_* commands are deprecated. Please use find_elements() instead\n",
      "  experience = driver.find_elements_by_xpath(\"//li[@class='fleft grey-text br2 placeHolderLi experience']\")\n"
     ]
    }
   ],
   "source": [
    "experience = driver.find_elements_by_xpath(\"//li[@class='fleft grey-text br2 placeHolderLi experience']\")\n",
    "experience_required = []\n",
    "for i in experience[0:10]:\n",
    "    experience_required.append(i.text)"
   ]
  },
  {
   "cell_type": "code",
   "execution_count": 14,
   "metadata": {},
   "outputs": [
    {
     "data": {
      "text/plain": [
       "['3-8 Yrs',\n",
       " '2-5 Yrs',\n",
       " '6-10 Yrs',\n",
       " '5-10 Yrs',\n",
       " '7-12 Yrs',\n",
       " '7-12 Yrs',\n",
       " '5-9 Yrs',\n",
       " '2-5 Yrs',\n",
       " '0-2 Yrs',\n",
       " '1-6 Yrs']"
      ]
     },
     "execution_count": 14,
     "metadata": {},
     "output_type": "execute_result"
    }
   ],
   "source": [
    "experience_required"
   ]
  },
  {
   "cell_type": "code",
   "execution_count": 1,
   "metadata": {},
   "outputs": [],
   "source": [
    "import pandas as pd"
   ]
  },
  {
   "cell_type": "code",
   "execution_count": 19,
   "metadata": {},
   "outputs": [],
   "source": [
    "data=list(zip(job_title,job_location,company_name,experience_required))"
   ]
  },
  {
   "cell_type": "code",
   "execution_count": 20,
   "metadata": {},
   "outputs": [],
   "source": [
    "df = pd.DataFrame(data,columns=['job_title','job_location','company_name','experience_required'])"
   ]
  },
  {
   "cell_type": "code",
   "execution_count": 21,
   "metadata": {},
   "outputs": [
    {
     "data": {
      "text/html": [
       "<div>\n",
       "<style scoped>\n",
       "    .dataframe tbody tr th:only-of-type {\n",
       "        vertical-align: middle;\n",
       "    }\n",
       "\n",
       "    .dataframe tbody tr th {\n",
       "        vertical-align: top;\n",
       "    }\n",
       "\n",
       "    .dataframe thead th {\n",
       "        text-align: right;\n",
       "    }\n",
       "</style>\n",
       "<table border=\"1\" class=\"dataframe\">\n",
       "  <thead>\n",
       "    <tr style=\"text-align: right;\">\n",
       "      <th></th>\n",
       "      <th>job_title</th>\n",
       "      <th>job_location</th>\n",
       "      <th>company_name</th>\n",
       "      <th>experience_required</th>\n",
       "    </tr>\n",
       "  </thead>\n",
       "  <tbody>\n",
       "    <tr>\n",
       "      <th>0</th>\n",
       "      <td>Business Data Analyst - MIS &amp; Reporting</td>\n",
       "      <td>Mumbai, Bangalore/Bengaluru</td>\n",
       "      <td>INTERTRUST GROUP</td>\n",
       "      <td>3-8 Yrs</td>\n",
       "    </tr>\n",
       "    <tr>\n",
       "      <th>1</th>\n",
       "      <td>Business Data Analyst - Database Design/Mining</td>\n",
       "      <td>Bangalore/Bengaluru</td>\n",
       "      <td>AugmatrixGo</td>\n",
       "      <td>2-5 Yrs</td>\n",
       "    </tr>\n",
       "    <tr>\n",
       "      <th>2</th>\n",
       "      <td>Senior Data Analyst - SQL/Tableau/Redshift</td>\n",
       "      <td>Noida, Mumbai, Indore, Hyderabad/Secunderabad,...</td>\n",
       "      <td>Pronto Consulting Services</td>\n",
       "      <td>6-10 Yrs</td>\n",
       "    </tr>\n",
       "    <tr>\n",
       "      <th>3</th>\n",
       "      <td>Sr Business Data Analyst</td>\n",
       "      <td>Bangalore/Bengaluru</td>\n",
       "      <td>ExecBoardinAsia</td>\n",
       "      <td>5-10 Yrs</td>\n",
       "    </tr>\n",
       "    <tr>\n",
       "      <th>4</th>\n",
       "      <td>Lead Data Analyst - Claim Analytics</td>\n",
       "      <td>Noida, Bangalore/Bengaluru</td>\n",
       "      <td>InnovAccer</td>\n",
       "      <td>7-12 Yrs</td>\n",
       "    </tr>\n",
       "    <tr>\n",
       "      <th>5</th>\n",
       "      <td>Lead Data Analyst - Claim Analytics</td>\n",
       "      <td>Noida, Bangalore/Bengaluru</td>\n",
       "      <td>InnovAccer</td>\n",
       "      <td>7-12 Yrs</td>\n",
       "    </tr>\n",
       "    <tr>\n",
       "      <th>6</th>\n",
       "      <td>ID&amp;A - Data Analyst - Informatica MDM</td>\n",
       "      <td>Bangalore/Bengaluru</td>\n",
       "      <td>Shell</td>\n",
       "      <td>5-9 Yrs</td>\n",
       "    </tr>\n",
       "    <tr>\n",
       "      <th>7</th>\n",
       "      <td>Data Analyst</td>\n",
       "      <td>Bangalore/Bengaluru</td>\n",
       "      <td>Capgemini</td>\n",
       "      <td>2-5 Yrs</td>\n",
       "    </tr>\n",
       "    <tr>\n",
       "      <th>8</th>\n",
       "      <td>Data Analyst</td>\n",
       "      <td>Bangalore/Bengaluru</td>\n",
       "      <td>Snaphunt</td>\n",
       "      <td>0-2 Yrs</td>\n",
       "    </tr>\n",
       "    <tr>\n",
       "      <th>9</th>\n",
       "      <td>Hiring For Clinical Data Analyst - Bangalore /...</td>\n",
       "      <td>Chennai, Bangalore/Bengaluru, Mumbai (All Areas)</td>\n",
       "      <td>ICON plc (Formerly PRA Health Sciences)</td>\n",
       "      <td>1-6 Yrs</td>\n",
       "    </tr>\n",
       "  </tbody>\n",
       "</table>\n",
       "</div>"
      ],
      "text/plain": [
       "                                           job_title  \\\n",
       "0            Business Data Analyst - MIS & Reporting   \n",
       "1     Business Data Analyst - Database Design/Mining   \n",
       "2         Senior Data Analyst - SQL/Tableau/Redshift   \n",
       "3                           Sr Business Data Analyst   \n",
       "4                Lead Data Analyst - Claim Analytics   \n",
       "5                Lead Data Analyst - Claim Analytics   \n",
       "6              ID&A - Data Analyst - Informatica MDM   \n",
       "7                                       Data Analyst   \n",
       "8                                       Data Analyst   \n",
       "9  Hiring For Clinical Data Analyst - Bangalore /...   \n",
       "\n",
       "                                        job_location  \\\n",
       "0                        Mumbai, Bangalore/Bengaluru   \n",
       "1                                Bangalore/Bengaluru   \n",
       "2  Noida, Mumbai, Indore, Hyderabad/Secunderabad,...   \n",
       "3                                Bangalore/Bengaluru   \n",
       "4                         Noida, Bangalore/Bengaluru   \n",
       "5                         Noida, Bangalore/Bengaluru   \n",
       "6                                Bangalore/Bengaluru   \n",
       "7                                Bangalore/Bengaluru   \n",
       "8                                Bangalore/Bengaluru   \n",
       "9   Chennai, Bangalore/Bengaluru, Mumbai (All Areas)   \n",
       "\n",
       "                              company_name experience_required  \n",
       "0                         INTERTRUST GROUP             3-8 Yrs  \n",
       "1                              AugmatrixGo             2-5 Yrs  \n",
       "2               Pronto Consulting Services            6-10 Yrs  \n",
       "3                          ExecBoardinAsia            5-10 Yrs  \n",
       "4                               InnovAccer            7-12 Yrs  \n",
       "5                               InnovAccer            7-12 Yrs  \n",
       "6                                    Shell             5-9 Yrs  \n",
       "7                                Capgemini             2-5 Yrs  \n",
       "8                                 Snaphunt             0-2 Yrs  \n",
       "9  ICON plc (Formerly PRA Health Sciences)             1-6 Yrs  "
      ]
     },
     "execution_count": 21,
     "metadata": {},
     "output_type": "execute_result"
    }
   ],
   "source": [
    "df"
   ]
  },
  {
   "cell_type": "code",
   "execution_count": 14,
   "metadata": {},
   "outputs": [],
   "source": [
    "# Q.2\n",
    "driver.get('https://www.naukri.com/')"
   ]
  },
  {
   "cell_type": "code",
   "execution_count": 15,
   "metadata": {},
   "outputs": [
    {
     "name": "stderr",
     "output_type": "stream",
     "text": [
      "<ipython-input-15-ae79bb9f747e>:2: DeprecationWarning: find_element_by_* commands are deprecated. Please use find_element() instead\n",
      "  search_job = driver.find_element_by_id('qsb-keyword-sugg')\n"
     ]
    }
   ],
   "source": [
    "# giving input for job title as Data scientist\n",
    "search_job = driver.find_element_by_id('qsb-keyword-sugg')\n",
    "search_job.send_keys('Data Scientist')"
   ]
  },
  {
   "cell_type": "code",
   "execution_count": 16,
   "metadata": {},
   "outputs": [
    {
     "name": "stderr",
     "output_type": "stream",
     "text": [
      "<ipython-input-16-be6251dd96a5>:2: DeprecationWarning: find_element_by_* commands are deprecated. Please use find_element() instead\n",
      "  search_loc = driver.find_element_by_id('qsb-location-sugg')\n"
     ]
    }
   ],
   "source": [
    "# giving input for job location as Bangalore\n",
    "search_loc = driver.find_element_by_id('qsb-location-sugg')\n",
    "search_loc.send_keys('Bangalore')"
   ]
  },
  {
   "cell_type": "code",
   "execution_count": 17,
   "metadata": {},
   "outputs": [
    {
     "name": "stderr",
     "output_type": "stream",
     "text": [
      "<ipython-input-17-d9cb70721bf8>:2: DeprecationWarning: find_element_by_* commands are deprecated. Please use find_element() instead\n",
      "  search_btn = driver.find_element_by_xpath(\"//button[@class='btn']\")\n"
     ]
    }
   ],
   "source": [
    "# code to click on search button\n",
    "search_btn = driver.find_element_by_xpath(\"//button[@class='btn']\")\n",
    "search_btn.click()"
   ]
  },
  {
   "cell_type": "code",
   "execution_count": 18,
   "metadata": {},
   "outputs": [
    {
     "name": "stderr",
     "output_type": "stream",
     "text": [
      "<ipython-input-18-c1b24b9a6849>:2: DeprecationWarning: find_elements_by_* commands are deprecated. Please use find_elements() instead\n",
      "  title = driver.find_elements_by_xpath(\"//a[@class='title fw500 ellipsis']\")\n"
     ]
    }
   ],
   "source": [
    "# fetching job title for top 10 data\n",
    "title = driver.find_elements_by_xpath(\"//a[@class='title fw500 ellipsis']\")\n",
    "job_title = []\n",
    "for i in title[0:10]:\n",
    "    job_title.append(i.text)"
   ]
  },
  {
   "cell_type": "code",
   "execution_count": 19,
   "metadata": {},
   "outputs": [
    {
     "data": {
      "text/plain": [
       "['Data Scientist',\n",
       " 'Data Scientist',\n",
       " 'Senior Data Scientist | Fortune 500 Supermarket Chain',\n",
       " 'Senior Data Scientist',\n",
       " 'Data Scientist',\n",
       " 'Hiring For AI Architect / Lead Data Scientist - Bangalore -Iqvia',\n",
       " 'Senior Data Scientist',\n",
       " 'Senior / Lead Data Scientist',\n",
       " 'Lead Data Scientist - Machine Learning/ Data Mining',\n",
       " 'Data Scientist']"
      ]
     },
     "execution_count": 19,
     "metadata": {},
     "output_type": "execute_result"
    }
   ],
   "source": [
    "job_title"
   ]
  },
  {
   "cell_type": "code",
   "execution_count": 20,
   "metadata": {},
   "outputs": [
    {
     "name": "stderr",
     "output_type": "stream",
     "text": [
      "<ipython-input-20-9177045d1ba0>:2: DeprecationWarning: find_elements_by_* commands are deprecated. Please use find_elements() instead\n",
      "  location = driver.find_elements_by_xpath(\"//li[@class='fleft grey-text br2 placeHolderLi location']\")\n"
     ]
    }
   ],
   "source": [
    "#fetching job location for top 10 data\n",
    "location = driver.find_elements_by_xpath(\"//li[@class='fleft grey-text br2 placeHolderLi location']\")\n",
    "job_location = []\n",
    "for i in location[0:10]:\n",
    "    job_location.append(i.text)"
   ]
  },
  {
   "cell_type": "code",
   "execution_count": 21,
   "metadata": {},
   "outputs": [
    {
     "data": {
      "text/plain": [
       "['Hyderabad/Secunderabad, Pune, Bangalore/Bengaluru',\n",
       " 'Bangalore/Bengaluru',\n",
       " 'Bangalore/Bengaluru',\n",
       " 'Hyderabad/Secunderabad, Chennai, Bangalore/Bengaluru',\n",
       " 'Bangalore/Bengaluru\\n(WFH during Covid)',\n",
       " 'Bangalore/Bengaluru',\n",
       " 'Bangalore/Bengaluru',\n",
       " 'Bangalore/Bengaluru',\n",
       " 'Bangalore/Bengaluru',\n",
       " 'Hyderabad/Secunderabad, Pune, Bangalore/Bengaluru']"
      ]
     },
     "execution_count": 21,
     "metadata": {},
     "output_type": "execute_result"
    }
   ],
   "source": [
    "job_location"
   ]
  },
  {
   "cell_type": "code",
   "execution_count": 22,
   "metadata": {},
   "outputs": [
    {
     "name": "stderr",
     "output_type": "stream",
     "text": [
      "<ipython-input-22-15276d6296b8>:1: DeprecationWarning: find_elements_by_* commands are deprecated. Please use find_elements() instead\n",
      "  company = driver.find_elements_by_xpath(\"//a[@class='subTitle ellipsis fleft']\")\n"
     ]
    }
   ],
   "source": [
    "company = driver.find_elements_by_xpath(\"//a[@class='subTitle ellipsis fleft']\")\n",
    "company_name = []\n",
    "for i in company[0:10]:\n",
    "    company_name.append(i.text)"
   ]
  },
  {
   "cell_type": "code",
   "execution_count": 23,
   "metadata": {},
   "outputs": [
    {
     "data": {
      "text/plain": [
       "['Amazon',\n",
       " 'Alstom Transport India Ltd.',\n",
       " 'TALENT500 TECH (INDIA) PRIVATE LIMITED',\n",
       " 'Santechture',\n",
       " 'Evalueserve',\n",
       " 'IQVIA RDS India Pvt Ltd',\n",
       " 'Easy Recruit',\n",
       " 'Bukuwarung',\n",
       " 'Wrackle Technologies Pvt Ltd',\n",
       " 'SG Analytics Pvt. Ltd.']"
      ]
     },
     "execution_count": 23,
     "metadata": {},
     "output_type": "execute_result"
    }
   ],
   "source": [
    "company_name"
   ]
  },
  {
   "cell_type": "code",
   "execution_count": 24,
   "metadata": {},
   "outputs": [],
   "source": [
    "data = list(zip(job_title,job_location,company_name))"
   ]
  },
  {
   "cell_type": "code",
   "execution_count": 25,
   "metadata": {},
   "outputs": [],
   "source": [
    "df = pd.DataFrame(data,columns=['job_title','job_location','company_name'])"
   ]
  },
  {
   "cell_type": "code",
   "execution_count": 26,
   "metadata": {},
   "outputs": [
    {
     "data": {
      "text/html": [
       "<div>\n",
       "<style scoped>\n",
       "    .dataframe tbody tr th:only-of-type {\n",
       "        vertical-align: middle;\n",
       "    }\n",
       "\n",
       "    .dataframe tbody tr th {\n",
       "        vertical-align: top;\n",
       "    }\n",
       "\n",
       "    .dataframe thead th {\n",
       "        text-align: right;\n",
       "    }\n",
       "</style>\n",
       "<table border=\"1\" class=\"dataframe\">\n",
       "  <thead>\n",
       "    <tr style=\"text-align: right;\">\n",
       "      <th></th>\n",
       "      <th>job_title</th>\n",
       "      <th>job_location</th>\n",
       "      <th>company_name</th>\n",
       "    </tr>\n",
       "  </thead>\n",
       "  <tbody>\n",
       "    <tr>\n",
       "      <th>0</th>\n",
       "      <td>Data Scientist</td>\n",
       "      <td>Hyderabad/Secunderabad, Pune, Bangalore/Bengaluru</td>\n",
       "      <td>Amazon</td>\n",
       "    </tr>\n",
       "    <tr>\n",
       "      <th>1</th>\n",
       "      <td>Data Scientist</td>\n",
       "      <td>Bangalore/Bengaluru</td>\n",
       "      <td>Alstom Transport India Ltd.</td>\n",
       "    </tr>\n",
       "    <tr>\n",
       "      <th>2</th>\n",
       "      <td>Senior Data Scientist | Fortune 500 Supermarke...</td>\n",
       "      <td>Bangalore/Bengaluru</td>\n",
       "      <td>TALENT500 TECH (INDIA) PRIVATE LIMITED</td>\n",
       "    </tr>\n",
       "    <tr>\n",
       "      <th>3</th>\n",
       "      <td>Senior Data Scientist</td>\n",
       "      <td>Hyderabad/Secunderabad, Chennai, Bangalore/Ben...</td>\n",
       "      <td>Santechture</td>\n",
       "    </tr>\n",
       "    <tr>\n",
       "      <th>4</th>\n",
       "      <td>Data Scientist</td>\n",
       "      <td>Bangalore/Bengaluru\\n(WFH during Covid)</td>\n",
       "      <td>Evalueserve</td>\n",
       "    </tr>\n",
       "    <tr>\n",
       "      <th>5</th>\n",
       "      <td>Hiring For AI Architect / Lead Data Scientist ...</td>\n",
       "      <td>Bangalore/Bengaluru</td>\n",
       "      <td>IQVIA RDS India Pvt Ltd</td>\n",
       "    </tr>\n",
       "    <tr>\n",
       "      <th>6</th>\n",
       "      <td>Senior Data Scientist</td>\n",
       "      <td>Bangalore/Bengaluru</td>\n",
       "      <td>Easy Recruit</td>\n",
       "    </tr>\n",
       "    <tr>\n",
       "      <th>7</th>\n",
       "      <td>Senior / Lead Data Scientist</td>\n",
       "      <td>Bangalore/Bengaluru</td>\n",
       "      <td>Bukuwarung</td>\n",
       "    </tr>\n",
       "    <tr>\n",
       "      <th>8</th>\n",
       "      <td>Lead Data Scientist - Machine Learning/ Data M...</td>\n",
       "      <td>Bangalore/Bengaluru</td>\n",
       "      <td>Wrackle Technologies Pvt Ltd</td>\n",
       "    </tr>\n",
       "    <tr>\n",
       "      <th>9</th>\n",
       "      <td>Data Scientist</td>\n",
       "      <td>Hyderabad/Secunderabad, Pune, Bangalore/Bengaluru</td>\n",
       "      <td>SG Analytics Pvt. Ltd.</td>\n",
       "    </tr>\n",
       "  </tbody>\n",
       "</table>\n",
       "</div>"
      ],
      "text/plain": [
       "                                           job_title  \\\n",
       "0                                     Data Scientist   \n",
       "1                                     Data Scientist   \n",
       "2  Senior Data Scientist | Fortune 500 Supermarke...   \n",
       "3                              Senior Data Scientist   \n",
       "4                                     Data Scientist   \n",
       "5  Hiring For AI Architect / Lead Data Scientist ...   \n",
       "6                              Senior Data Scientist   \n",
       "7                       Senior / Lead Data Scientist   \n",
       "8  Lead Data Scientist - Machine Learning/ Data M...   \n",
       "9                                     Data Scientist   \n",
       "\n",
       "                                        job_location  \\\n",
       "0  Hyderabad/Secunderabad, Pune, Bangalore/Bengaluru   \n",
       "1                                Bangalore/Bengaluru   \n",
       "2                                Bangalore/Bengaluru   \n",
       "3  Hyderabad/Secunderabad, Chennai, Bangalore/Ben...   \n",
       "4            Bangalore/Bengaluru\\n(WFH during Covid)   \n",
       "5                                Bangalore/Bengaluru   \n",
       "6                                Bangalore/Bengaluru   \n",
       "7                                Bangalore/Bengaluru   \n",
       "8                                Bangalore/Bengaluru   \n",
       "9  Hyderabad/Secunderabad, Pune, Bangalore/Bengaluru   \n",
       "\n",
       "                             company_name  \n",
       "0                                  Amazon  \n",
       "1             Alstom Transport India Ltd.  \n",
       "2  TALENT500 TECH (INDIA) PRIVATE LIMITED  \n",
       "3                             Santechture  \n",
       "4                             Evalueserve  \n",
       "5                 IQVIA RDS India Pvt Ltd  \n",
       "6                            Easy Recruit  \n",
       "7                              Bukuwarung  \n",
       "8            Wrackle Technologies Pvt Ltd  \n",
       "9                  SG Analytics Pvt. Ltd.  "
      ]
     },
     "execution_count": 26,
     "metadata": {},
     "output_type": "execute_result"
    }
   ],
   "source": [
    "df"
   ]
  },
  {
   "cell_type": "code",
   "execution_count": 27,
   "metadata": {},
   "outputs": [],
   "source": [
    "# Q.3\n",
    "driver.get('https://www.naukri.com/')"
   ]
  },
  {
   "cell_type": "code",
   "execution_count": 28,
   "metadata": {},
   "outputs": [
    {
     "name": "stderr",
     "output_type": "stream",
     "text": [
      "<ipython-input-28-ae79bb9f747e>:2: DeprecationWarning: find_element_by_* commands are deprecated. Please use find_element() instead\n",
      "  search_job = driver.find_element_by_id('qsb-keyword-sugg')\n"
     ]
    }
   ],
   "source": [
    "# giving input for job title as Data scientist\n",
    "search_job = driver.find_element_by_id('qsb-keyword-sugg')\n",
    "search_job.send_keys('Data Scientist')"
   ]
  },
  {
   "cell_type": "code",
   "execution_count": 29,
   "metadata": {},
   "outputs": [
    {
     "name": "stderr",
     "output_type": "stream",
     "text": [
      "<ipython-input-29-0092e6bdd995>:2: DeprecationWarning: find_element_by_* commands are deprecated. Please use find_element() instead\n",
      "  search_loc = driver.find_element_by_id('qsb-location-sugg')\n"
     ]
    }
   ],
   "source": [
    " # giving input for job location as Bangalore\n",
    "search_loc = driver.find_element_by_id('qsb-location-sugg')\n",
    "search_loc.send_keys('Delhi')"
   ]
  },
  {
   "cell_type": "code",
   "execution_count": 30,
   "metadata": {},
   "outputs": [
    {
     "name": "stderr",
     "output_type": "stream",
     "text": [
      "<ipython-input-30-d9cb70721bf8>:2: DeprecationWarning: find_element_by_* commands are deprecated. Please use find_element() instead\n",
      "  search_btn = driver.find_element_by_xpath(\"//button[@class='btn']\")\n"
     ]
    }
   ],
   "source": [
    "# code to click on search button\n",
    "search_btn = driver.find_element_by_xpath(\"//button[@class='btn']\")\n",
    "search_btn.click()"
   ]
  },
  {
   "cell_type": "code",
   "execution_count": 31,
   "metadata": {},
   "outputs": [
    {
     "name": "stderr",
     "output_type": "stream",
     "text": [
      "<ipython-input-31-c1b24b9a6849>:2: DeprecationWarning: find_elements_by_* commands are deprecated. Please use find_elements() instead\n",
      "  title = driver.find_elements_by_xpath(\"//a[@class='title fw500 ellipsis']\")\n"
     ]
    }
   ],
   "source": [
    "# fetching job title for top 10 data\n",
    "title = driver.find_elements_by_xpath(\"//a[@class='title fw500 ellipsis']\")\n",
    "job_title = []\n",
    "for i in title[0:10]:\n",
    "    job_title.append(i.text)"
   ]
  },
  {
   "cell_type": "code",
   "execution_count": 32,
   "metadata": {},
   "outputs": [
    {
     "data": {
      "text/plain": [
       "['Associate Data Scientist',\n",
       " 'Data Scientist',\n",
       " 'Co-Founder - Principal Data Scientist/Senior Data Scientist',\n",
       " 'Data Scientist- Predictive Modelling',\n",
       " 'Data Scientist: ML and NLP Expert',\n",
       " 'Lead Data Scientist',\n",
       " 'Data Scientist - Analytics & Insights Team - Food Services Firm - IIT/',\n",
       " 'Data Scientist',\n",
       " 'Data Scientist, Energy modelling',\n",
       " 'Data Scientist: Advanced Analytics']"
      ]
     },
     "execution_count": 32,
     "metadata": {},
     "output_type": "execute_result"
    }
   ],
   "source": [
    "job_title"
   ]
  },
  {
   "cell_type": "code",
   "execution_count": 33,
   "metadata": {},
   "outputs": [
    {
     "name": "stderr",
     "output_type": "stream",
     "text": [
      "<ipython-input-33-9177045d1ba0>:2: DeprecationWarning: find_elements_by_* commands are deprecated. Please use find_elements() instead\n",
      "  location = driver.find_elements_by_xpath(\"//li[@class='fleft grey-text br2 placeHolderLi location']\")\n"
     ]
    }
   ],
   "source": [
    "#fetching job location for top 10 data\n",
    "location = driver.find_elements_by_xpath(\"//li[@class='fleft grey-text br2 placeHolderLi location']\")\n",
    "job_location = []\n",
    "for i in location[0:10]:\n",
    "    job_location.append(i.text)"
   ]
  },
  {
   "cell_type": "code",
   "execution_count": 34,
   "metadata": {},
   "outputs": [
    {
     "data": {
      "text/plain": [
       "['Gurgaon/Gurugram',\n",
       " 'Kochi/Cochin, Kolkata, Hyderabad/Secunderabad, Pune, Ahmedabad, Chennai, Bangalore/Bengaluru, Delhi / NCR, Mumbai (All Areas)',\n",
       " 'Gurgaon/Gurugram, Delhi / NCR',\n",
       " 'Noida, Gurgaon/Gurugram, Bangalore/Bengaluru, Delhi / NCR\\n(WFH during Covid)',\n",
       " 'Noida, Hyderabad/Secunderabad, Gurgaon/Gurugram, Bangalore/Bengaluru',\n",
       " 'Faridabad, Bangalore/Bengaluru',\n",
       " 'Noida',\n",
       " 'Gurgaon/Gurugram, Gurgaon',\n",
       " 'Remote',\n",
       " 'Delhi']"
      ]
     },
     "execution_count": 34,
     "metadata": {},
     "output_type": "execute_result"
    }
   ],
   "source": [
    "job_location"
   ]
  },
  {
   "cell_type": "code",
   "execution_count": 35,
   "metadata": {},
   "outputs": [
    {
     "name": "stderr",
     "output_type": "stream",
     "text": [
      "<ipython-input-35-15276d6296b8>:1: DeprecationWarning: find_elements_by_* commands are deprecated. Please use find_elements() instead\n",
      "  company = driver.find_elements_by_xpath(\"//a[@class='subTitle ellipsis fleft']\")\n"
     ]
    }
   ],
   "source": [
    "company = driver.find_elements_by_xpath(\"//a[@class='subTitle ellipsis fleft']\")\n",
    "company_name = []\n",
    "for i in company[0:10]:\n",
    "    company_name.append(i.text)"
   ]
  },
  {
   "cell_type": "code",
   "execution_count": 36,
   "metadata": {},
   "outputs": [
    {
     "data": {
      "text/plain": [
       "['leading global company',\n",
       " 'Think i',\n",
       " 'Benovymed Healthcare Private Limited',\n",
       " 'Emmess technologies private Limited',\n",
       " 'Evalueserve',\n",
       " 'Freshworks',\n",
       " 'HyrEzy Talent Solutions',\n",
       " 'Webhelp',\n",
       " 'CEPA',\n",
       " 'IBM India Pvt. Limited']"
      ]
     },
     "execution_count": 36,
     "metadata": {},
     "output_type": "execute_result"
    }
   ],
   "source": [
    "company_name"
   ]
  },
  {
   "cell_type": "code",
   "execution_count": 37,
   "metadata": {},
   "outputs": [
    {
     "name": "stderr",
     "output_type": "stream",
     "text": [
      "<ipython-input-37-c8e25ae26aef>:1: DeprecationWarning: find_elements_by_* commands are deprecated. Please use find_elements() instead\n",
      "  experience = driver.find_elements_by_xpath(\"//li[@class='fleft grey-text br2 placeHolderLi experience']\")\n"
     ]
    }
   ],
   "source": [
    "experience = driver.find_elements_by_xpath(\"//li[@class='fleft grey-text br2 placeHolderLi experience']\")\n",
    "experience_required = []\n",
    "for i in experience[0:10]:\n",
    "    experience_required.append(i.text)"
   ]
  },
  {
   "cell_type": "code",
   "execution_count": 38,
   "metadata": {},
   "outputs": [
    {
     "data": {
      "text/plain": [
       "['2-4 Yrs',\n",
       " '0-2 Yrs',\n",
       " '2-7 Yrs',\n",
       " '3-8 Yrs',\n",
       " '2-4 Yrs',\n",
       " '5-9 Yrs',\n",
       " '3-6 Yrs',\n",
       " '0-0 Yrs',\n",
       " '0-5 Yrs',\n",
       " '5-7 Yrs']"
      ]
     },
     "execution_count": 38,
     "metadata": {},
     "output_type": "execute_result"
    }
   ],
   "source": [
    "experience_required"
   ]
  },
  {
   "cell_type": "code",
   "execution_count": 40,
   "metadata": {},
   "outputs": [
    {
     "name": "stderr",
     "output_type": "stream",
     "text": [
      "<ipython-input-40-ee0e463a00dd>:1: DeprecationWarning: find_elements_by_* commands are deprecated. Please use find_elements() instead\n",
      "  salary = driver.find_elements_by_xpath(\"//li[@class='fleft grey-text br2 placeHolderLi salary']\")\n"
     ]
    }
   ],
   "source": [
    "salary = driver.find_elements_by_xpath(\"//li[@class='fleft grey-text br2 placeHolderLi salary']\")\n",
    "#salary = driver.find_elements_by_xpath(\"//span[@class='fleft ml-5']\")\n",
    "\n",
    "Salary=[]\n",
    "for i in salary[0:10]:\n",
    "    Salary.append(i.text)"
   ]
  },
  {
   "cell_type": "code",
   "execution_count": 41,
   "metadata": {},
   "outputs": [
    {
     "data": {
      "text/plain": [
       "['5,00,000 - 5,50,000 PA.',\n",
       " '5,00,000 - 10,00,000 PA.',\n",
       " '5,00,000 - 10,00,000 PA.',\n",
       " '3,00,000 - 8,00,000 PA.',\n",
       " 'Not disclosed',\n",
       " 'Not disclosed',\n",
       " 'Not disclosed',\n",
       " 'Not disclosed',\n",
       " 'Not disclosed',\n",
       " 'Not disclosed']"
      ]
     },
     "execution_count": 41,
     "metadata": {},
     "output_type": "execute_result"
    }
   ],
   "source": [
    "Salary"
   ]
  },
  {
   "cell_type": "code",
   "execution_count": 42,
   "metadata": {},
   "outputs": [],
   "source": [
    "data = list(zip(job_title,job_location,company_name,experience_required,Salary))"
   ]
  },
  {
   "cell_type": "code",
   "execution_count": 43,
   "metadata": {},
   "outputs": [],
   "source": [
    "df = pd.DataFrame(data,columns=['job_title','job_location','company_name','experience_required','Salary'])"
   ]
  },
  {
   "cell_type": "code",
   "execution_count": 44,
   "metadata": {},
   "outputs": [
    {
     "data": {
      "text/html": [
       "<div>\n",
       "<style scoped>\n",
       "    .dataframe tbody tr th:only-of-type {\n",
       "        vertical-align: middle;\n",
       "    }\n",
       "\n",
       "    .dataframe tbody tr th {\n",
       "        vertical-align: top;\n",
       "    }\n",
       "\n",
       "    .dataframe thead th {\n",
       "        text-align: right;\n",
       "    }\n",
       "</style>\n",
       "<table border=\"1\" class=\"dataframe\">\n",
       "  <thead>\n",
       "    <tr style=\"text-align: right;\">\n",
       "      <th></th>\n",
       "      <th>job_title</th>\n",
       "      <th>job_location</th>\n",
       "      <th>company_name</th>\n",
       "      <th>experience_required</th>\n",
       "      <th>Salary</th>\n",
       "    </tr>\n",
       "  </thead>\n",
       "  <tbody>\n",
       "    <tr>\n",
       "      <th>0</th>\n",
       "      <td>Associate Data Scientist</td>\n",
       "      <td>Gurgaon/Gurugram</td>\n",
       "      <td>leading global company</td>\n",
       "      <td>2-4 Yrs</td>\n",
       "      <td>5,00,000 - 5,50,000 PA.</td>\n",
       "    </tr>\n",
       "    <tr>\n",
       "      <th>1</th>\n",
       "      <td>Data Scientist</td>\n",
       "      <td>Kochi/Cochin, Kolkata, Hyderabad/Secunderabad,...</td>\n",
       "      <td>Think i</td>\n",
       "      <td>0-2 Yrs</td>\n",
       "      <td>5,00,000 - 10,00,000 PA.</td>\n",
       "    </tr>\n",
       "    <tr>\n",
       "      <th>2</th>\n",
       "      <td>Co-Founder - Principal Data Scientist/Senior D...</td>\n",
       "      <td>Gurgaon/Gurugram, Delhi / NCR</td>\n",
       "      <td>Benovymed Healthcare Private Limited</td>\n",
       "      <td>2-7 Yrs</td>\n",
       "      <td>5,00,000 - 10,00,000 PA.</td>\n",
       "    </tr>\n",
       "    <tr>\n",
       "      <th>3</th>\n",
       "      <td>Data Scientist- Predictive Modelling</td>\n",
       "      <td>Noida, Gurgaon/Gurugram, Bangalore/Bengaluru, ...</td>\n",
       "      <td>Emmess technologies private Limited</td>\n",
       "      <td>3-8 Yrs</td>\n",
       "      <td>3,00,000 - 8,00,000 PA.</td>\n",
       "    </tr>\n",
       "    <tr>\n",
       "      <th>4</th>\n",
       "      <td>Data Scientist: ML and NLP Expert</td>\n",
       "      <td>Noida, Hyderabad/Secunderabad, Gurgaon/Gurugra...</td>\n",
       "      <td>Evalueserve</td>\n",
       "      <td>2-4 Yrs</td>\n",
       "      <td>Not disclosed</td>\n",
       "    </tr>\n",
       "    <tr>\n",
       "      <th>5</th>\n",
       "      <td>Lead Data Scientist</td>\n",
       "      <td>Faridabad, Bangalore/Bengaluru</td>\n",
       "      <td>Freshworks</td>\n",
       "      <td>5-9 Yrs</td>\n",
       "      <td>Not disclosed</td>\n",
       "    </tr>\n",
       "    <tr>\n",
       "      <th>6</th>\n",
       "      <td>Data Scientist - Analytics &amp; Insights Team - F...</td>\n",
       "      <td>Noida</td>\n",
       "      <td>HyrEzy Talent Solutions</td>\n",
       "      <td>3-6 Yrs</td>\n",
       "      <td>Not disclosed</td>\n",
       "    </tr>\n",
       "    <tr>\n",
       "      <th>7</th>\n",
       "      <td>Data Scientist</td>\n",
       "      <td>Gurgaon/Gurugram, Gurgaon</td>\n",
       "      <td>Webhelp</td>\n",
       "      <td>0-0 Yrs</td>\n",
       "      <td>Not disclosed</td>\n",
       "    </tr>\n",
       "    <tr>\n",
       "      <th>8</th>\n",
       "      <td>Data Scientist, Energy modelling</td>\n",
       "      <td>Remote</td>\n",
       "      <td>CEPA</td>\n",
       "      <td>0-5 Yrs</td>\n",
       "      <td>Not disclosed</td>\n",
       "    </tr>\n",
       "    <tr>\n",
       "      <th>9</th>\n",
       "      <td>Data Scientist: Advanced Analytics</td>\n",
       "      <td>Delhi</td>\n",
       "      <td>IBM India Pvt. Limited</td>\n",
       "      <td>5-7 Yrs</td>\n",
       "      <td>Not disclosed</td>\n",
       "    </tr>\n",
       "  </tbody>\n",
       "</table>\n",
       "</div>"
      ],
      "text/plain": [
       "                                           job_title  \\\n",
       "0                           Associate Data Scientist   \n",
       "1                                     Data Scientist   \n",
       "2  Co-Founder - Principal Data Scientist/Senior D...   \n",
       "3               Data Scientist- Predictive Modelling   \n",
       "4                  Data Scientist: ML and NLP Expert   \n",
       "5                                Lead Data Scientist   \n",
       "6  Data Scientist - Analytics & Insights Team - F...   \n",
       "7                                     Data Scientist   \n",
       "8                   Data Scientist, Energy modelling   \n",
       "9                 Data Scientist: Advanced Analytics   \n",
       "\n",
       "                                        job_location  \\\n",
       "0                                   Gurgaon/Gurugram   \n",
       "1  Kochi/Cochin, Kolkata, Hyderabad/Secunderabad,...   \n",
       "2                      Gurgaon/Gurugram, Delhi / NCR   \n",
       "3  Noida, Gurgaon/Gurugram, Bangalore/Bengaluru, ...   \n",
       "4  Noida, Hyderabad/Secunderabad, Gurgaon/Gurugra...   \n",
       "5                     Faridabad, Bangalore/Bengaluru   \n",
       "6                                              Noida   \n",
       "7                          Gurgaon/Gurugram, Gurgaon   \n",
       "8                                             Remote   \n",
       "9                                              Delhi   \n",
       "\n",
       "                           company_name experience_required  \\\n",
       "0                leading global company             2-4 Yrs   \n",
       "1                               Think i             0-2 Yrs   \n",
       "2  Benovymed Healthcare Private Limited             2-7 Yrs   \n",
       "3   Emmess technologies private Limited             3-8 Yrs   \n",
       "4                           Evalueserve             2-4 Yrs   \n",
       "5                            Freshworks             5-9 Yrs   \n",
       "6               HyrEzy Talent Solutions             3-6 Yrs   \n",
       "7                               Webhelp             0-0 Yrs   \n",
       "8                                  CEPA             0-5 Yrs   \n",
       "9                IBM India Pvt. Limited             5-7 Yrs   \n",
       "\n",
       "                     Salary  \n",
       "0   5,00,000 - 5,50,000 PA.  \n",
       "1  5,00,000 - 10,00,000 PA.  \n",
       "2  5,00,000 - 10,00,000 PA.  \n",
       "3   3,00,000 - 8,00,000 PA.  \n",
       "4             Not disclosed  \n",
       "5             Not disclosed  \n",
       "6             Not disclosed  \n",
       "7             Not disclosed  \n",
       "8             Not disclosed  \n",
       "9             Not disclosed  "
      ]
     },
     "execution_count": 44,
     "metadata": {},
     "output_type": "execute_result"
    }
   ],
   "source": [
    "df"
   ]
  },
  {
   "cell_type": "code",
   "execution_count": 101,
   "metadata": {},
   "outputs": [],
   "source": [
    "# Q.4"
   ]
  },
  {
   "cell_type": "code",
   "execution_count": 31,
   "metadata": {},
   "outputs": [],
   "source": [
    "driver.get('https://www.flipkart.com/')"
   ]
  },
  {
   "cell_type": "code",
   "execution_count": 38,
   "metadata": {},
   "outputs": [],
   "source": [
    "brand=[]"
   ]
  },
  {
   "cell_type": "code",
   "execution_count": 39,
   "metadata": {},
   "outputs": [
    {
     "name": "stderr",
     "output_type": "stream",
     "text": [
      "<ipython-input-39-5ce92c2a6d69>:7: DeprecationWarning: find_elements_by_* commands are deprecated. Please use find_elements() instead\n",
      "  brands=driver.find_elements_by_class_name('_2WkVRV')#scraping brands name by class name='_2WkVRV'\n",
      "<ipython-input-39-5ce92c2a6d69>:13: DeprecationWarning: find_elements_by_* commands are deprecated. Please use find_elements() instead\n",
      "  nxt_button=driver.find_elements_by_xpath(\"//a[@class='_1LKTO3']\")#scraping the list of buttons from the page\n"
     ]
    }
   ],
   "source": [
    "start=0\n",
    "\n",
    "end=3\n",
    "\n",
    "for page in range(start,end):#for loop for scrapping 4 page\n",
    "\n",
    "    brands=driver.find_elements_by_class_name('_2WkVRV')#scraping brands name by class name='_2WkVRV'\n",
    "\n",
    "    for i in brands:\n",
    "\n",
    "        brand.append(i.text)\n",
    "\n",
    "    nxt_button=driver.find_elements_by_xpath(\"//a[@class='_1LKTO3']\")#scraping the list of buttons from the page\n",
    "\n",
    "    try:\n",
    "\n",
    "        driver.get(nxt_button[1].get_attribute('href'))#getting the link from the list for next page\n",
    "\n",
    "    except:\n",
    "\n",
    "        driver.get(nxt_button[0].get_attribute('href'))"
   ]
  },
  {
   "cell_type": "code",
   "execution_count": 40,
   "metadata": {},
   "outputs": [
    {
     "data": {
      "text/plain": [
       "['ROZZETTA CRAFT',\n",
       " 'VINCENT CHASE',\n",
       " 'Fastrack',\n",
       " 'PIRASO',\n",
       " 'PIRASO',\n",
       " 'SHAAH COLLECTIONS',\n",
       " 'kingsunglasses',\n",
       " 'VINCENT CHASE',\n",
       " 'New Specs',\n",
       " 'PHENOMENAL',\n",
       " 'SUNBEE',\n",
       " 'ROZZETTA CRAFT',\n",
       " 'New Specs',\n",
       " 'ROZZETTA CRAFT',\n",
       " 'GANSTA',\n",
       " 'elegante',\n",
       " 'kingsunglasses',\n",
       " 'SHAAH COLLECTIONS',\n",
       " 'HIPPON',\n",
       " 'VINCENT CHASE',\n",
       " 'Rich Club',\n",
       " 'Elligator',\n",
       " 'ROZZETTA CRAFT',\n",
       " 'VINCENT CHASE',\n",
       " 'hipe',\n",
       " 'SHAAH COLLECTIONS',\n",
       " 'Elligator',\n",
       " 'VILLAIN',\n",
       " 'PIRASO',\n",
       " 'kingsunglasses',\n",
       " 'Silver Kartz',\n",
       " 'Fravy',\n",
       " 'Lee Topper',\n",
       " 'SUNBEE',\n",
       " 'ROZZETTA CRAFT',\n",
       " 'ROYAL SON',\n",
       " 'kingsunglasses',\n",
       " 'kingsunglasses',\n",
       " 'PIRASO',\n",
       " 'VINCENT CHASE',\n",
       " 'povty',\n",
       " 'ROYAL SON',\n",
       " 'kingsunglasses',\n",
       " 'ROZZETTA CRAFT',\n",
       " 'GANSTA',\n",
       " 'New Specs',\n",
       " 'PHENOMENAL',\n",
       " 'VINCENT CHASE',\n",
       " 'GANSTA',\n",
       " 'kingsunglasses',\n",
       " 'GANSTA',\n",
       " 'VINCENT CHASE',\n",
       " 'ROZZETTA CRAFT',\n",
       " 'ROZZETTA CRAFT',\n",
       " 'SUNBEE',\n",
       " 'VINCENT CHASE',\n",
       " 'PHENOMENAL',\n",
       " 'PIRASO',\n",
       " 'kingsunglasses',\n",
       " 'elegante',\n",
       " 'elegante',\n",
       " 'MAXX',\n",
       " 'Elligator',\n",
       " 'VINCENT CHASE',\n",
       " 'Silver Kartz',\n",
       " 'SUNBEE',\n",
       " 'kingsunglasses',\n",
       " 'VINCENT CHASE',\n",
       " 'kingsunglasses',\n",
       " 'Singco India',\n",
       " 'Rich Club',\n",
       " 'ROZZETTA CRAFT',\n",
       " 'Elligator',\n",
       " 'DEIXELS',\n",
       " 'SHAAH COLLECTIONS',\n",
       " 'ROZZETTA CRAFT',\n",
       " 'kingsunglasses',\n",
       " 'PIRASO',\n",
       " 'hipe',\n",
       " 'VINCENT CHASE',\n",
       " 'PIRASO',\n",
       " 'Lee Topper',\n",
       " 'Fastrack',\n",
       " 'ROZZETTA CRAFT',\n",
       " 'ROYAL SON',\n",
       " 'Ray-Ban',\n",
       " 'GANSTA',\n",
       " 'VINCENT CHASE',\n",
       " 'PETER JONES',\n",
       " 'DEIXELS',\n",
       " 'PHENOMENAL',\n",
       " 'VINCENT CHASE',\n",
       " 'PHENOMENAL',\n",
       " 'Rich Club',\n",
       " 'PHENOMENAL',\n",
       " 'VINCENT CHASE',\n",
       " 'Singco',\n",
       " 'NuVew',\n",
       " 'elegante',\n",
       " 'elegante',\n",
       " 'Elligator',\n",
       " 'Fastrack',\n",
       " 'kingsunglasses',\n",
       " 'ROZZETTA CRAFT',\n",
       " 'Elligator',\n",
       " 'ROYAL SON',\n",
       " 'Fastrack',\n",
       " 'VINCENT CHASE',\n",
       " 'Rich Club',\n",
       " 'elegante',\n",
       " 'ROYAL SON',\n",
       " 'ROZZETTA CRAFT',\n",
       " 'kingsunglasses',\n",
       " 'ROYAL SON',\n",
       " 'Fastrack',\n",
       " 'VINCENT CHASE',\n",
       " 'ROYAL SON',\n",
       " 'Elligator',\n",
       " 'NuVew',\n",
       " 'hipe']"
      ]
     },
     "execution_count": 40,
     "metadata": {},
     "output_type": "execute_result"
    }
   ],
   "source": [
    "brand"
   ]
  },
  {
   "cell_type": "code",
   "execution_count": 44,
   "metadata": {},
   "outputs": [],
   "source": [
    "product_description =[]"
   ]
  },
  {
   "cell_type": "code",
   "execution_count": 45,
   "metadata": {},
   "outputs": [
    {
     "name": "stderr",
     "output_type": "stream",
     "text": [
      "<ipython-input-45-50d0b7404b71>:7: DeprecationWarning: find_elements_by_* commands are deprecated. Please use find_elements() instead\n",
      "  products=driver.find_elements_by_class_name('IRpwTa')#scraping brands name by class name='_2WkVRV'\n",
      "<ipython-input-45-50d0b7404b71>:13: DeprecationWarning: find_elements_by_* commands are deprecated. Please use find_elements() instead\n",
      "  nxt_button=driver.find_elements_by_xpath(\"//a[@class='_1LKTO3']\")#scraping the list of buttons from the page\n"
     ]
    }
   ],
   "source": [
    "start=0\n",
    "\n",
    "end=3\n",
    "\n",
    "for page in range(start,end):#for loop for scrapping 4 page\n",
    "\n",
    "    products=driver.find_elements_by_class_name('IRpwTa')#scraping brands name by class name='_2WkVRV'\n",
    "\n",
    "    for i in products:\n",
    "\n",
    "        product_description.append(i.text)\n",
    "\n",
    "    nxt_button=driver.find_elements_by_xpath(\"//a[@class='_1LKTO3']\")#scraping the list of buttons from the page\n",
    "\n",
    "    try:\n",
    "\n",
    "        driver.get(nxt_button[1].get_attribute('href'))#getting the link from the list for next page\n",
    "\n",
    "    except:\n",
    "\n",
    "        driver.get(nxt_button[0].get_attribute('href'))"
   ]
  },
  {
   "cell_type": "code",
   "execution_count": 46,
   "metadata": {},
   "outputs": [
    {
     "data": {
      "text/plain": [
       "['UV Protection, Gradient Wayfarer Sunglasses (53)',\n",
       " 'UV Protection Over-sized Sunglasses (60)',\n",
       " 'Polarized Retro Square Sunglasses (58)',\n",
       " 'UV Protection, Gradient Round Sunglasses (Free Size)',\n",
       " 'UV Protection Round Sunglasses (Free Size)',\n",
       " 'Polarized, UV Protection, Mirrored Aviator Sunglasses (...',\n",
       " 'UV Protection, Gradient, Mirrored Shield Sunglasses (54...',\n",
       " 'UV Protection Aviator Sunglasses (53)',\n",
       " 'UV Protection Wayfarer Sunglasses (Free Size)',\n",
       " 'Gradient, UV Protection Round Sunglasses (49)',\n",
       " 'UV Protection Aviator Sunglasses (Free Size)',\n",
       " 'Polarized, UV Protection Wayfarer Sunglasses (Free Size...',\n",
       " 'UV Protection Wayfarer Sunglasses (54)',\n",
       " 'Gradient Wayfarer Sunglasses (50)',\n",
       " 'UV Protection, Gradient Cat-eye Sunglasses (68)',\n",
       " 'Polarized, UV Protection Wayfarer Sunglasses (57)',\n",
       " 'UV Protection Wayfarer, Rectangular Sunglasses (53)',\n",
       " 'UV Protection Aviator Sunglasses (Free Size)',\n",
       " 'UV Protection, Gradient Round Sunglasses (Free Size)',\n",
       " 'UV Protection Oval Sunglasses (Free Size)',\n",
       " 'Mirrored Retro Square Sunglasses (57)',\n",
       " 'UV Protection, Gradient Round Sunglasses (55)',\n",
       " 'UV Protection, Riding Glasses Aviator Sunglasses (57)',\n",
       " 'UV Protection, Gradient Rectangular Sunglasses (Free Si...',\n",
       " 'UV Protection Wayfarer Sunglasses (Free Size)',\n",
       " 'UV Protection, Gradient Butterfly, Wayfarer Sunglasses ...',\n",
       " 'UV Protection Wayfarer Sunglasses (55)',\n",
       " 'by Lenskart Polarized, UV Protection Round Sunglasses (...',\n",
       " 'UV Protection, Gradient Oval Sunglasses (58)',\n",
       " 'UV Protection, Gradient Cat-eye Sunglasses (61)',\n",
       " 'UV Protection Wayfarer Sunglasses (51)',\n",
       " 'UV Protection, Gradient Retro Square Sunglasses (Free S...',\n",
       " 'UV Protection Aviator Sunglasses (57)',\n",
       " 'UV Protection Round Sunglasses (52)',\n",
       " 'Polarized Wayfarer Sunglasses (Free Size)',\n",
       " 'Polarized, UV Protection Wayfarer Sunglasses (57)',\n",
       " 'UV Protection, Mirrored, Night Vision, Riding Glasses R...',\n",
       " 'UV Protection Oval Sunglasses (58)',\n",
       " 'by Lenskart UV Protection Rectangular Sunglasses (54)',\n",
       " 'UV Protection Sports Sunglasses (Free Size)',\n",
       " 'UV Protection Retro Square Sunglasses (Free Size)',\n",
       " 'Polarized Sports Sunglasses (68)',\n",
       " 'Mirrored, UV Protection Wayfarer Sunglasses (Free Size)',\n",
       " 'UV Protection Aviator Sunglasses (57)',\n",
       " 'UV Protection Aviator Sunglasses (58)',\n",
       " 'UV Protection, Gradient, Night Vision Retro Square Sung...',\n",
       " 'UV Protection Retro Square Sunglasses (49)',\n",
       " 'UV Protection Wayfarer Sunglasses (58)',\n",
       " 'UV Protection Rectangular Sunglasses (60)',\n",
       " 'UV Protection Wayfarer, Rectangular Sunglasses (61)',\n",
       " 'UV Protection Round Sunglasses (52)',\n",
       " 'Night Vision, Riding Glasses Wayfarer Sunglasses (53)',\n",
       " 'UV Protection Aviator Sunglasses (Free Size)',\n",
       " 'UV Protection, Riding Glasses Sports Sunglasses (65)',\n",
       " 'UV Protection Cat-eye Sunglasses (57)',\n",
       " 'Polarized Wayfarer Sunglasses (60)',\n",
       " 'Mirrored, UV Protection Wayfarer Sunglasses (18)',\n",
       " 'Polarized Aviator Sunglasses (Free Size)',\n",
       " 'UV Protection Sports Sunglasses (Free Size)',\n",
       " 'Polarized Over-sized Sunglasses (56)',\n",
       " 'Gradient Oval Sunglasses (Free Size)',\n",
       " 'UV Protection Round Sunglasses (58)',\n",
       " 'Polarized, UV Protection Over-sized Sunglasses (56)',\n",
       " 'Riding Glasses, Others, UV Protection Wrap-around Sungl...',\n",
       " 'UV Protection Round Sunglasses (50)',\n",
       " 'Mirrored, UV Protection Aviator Sunglasses (56)',\n",
       " 'Gradient, UV Protection Round Sunglasses (Free Size)',\n",
       " 'Polarized Over-sized Sunglasses (56)',\n",
       " 'UV Protection, Riding Glasses Aviator Sunglasses (57)',\n",
       " 'UV Protection Oval Sunglasses (Free Size)',\n",
       " 'UV Protection Wayfarer Sunglasses (50)',\n",
       " 'UV Protection, Night Vision Wayfarer Sunglasses (Free S...',\n",
       " 'Polarized Aviator Sunglasses (Free Size)',\n",
       " 'Wrap-around Sunglasses (61)',\n",
       " 'UV Protection, Mirrored Aviator Sunglasses (60)',\n",
       " 'UV Protection Retro Square Sunglasses (53)',\n",
       " 'UV Protection, Gradient Butterfly Sunglasses (62)',\n",
       " 'Riding Glasses, UV Protection, Mirrored Sports Sunglass...',\n",
       " 'by Lenskart UV Protection Wayfarer Sunglasses (49)',\n",
       " 'UV Protection, Gradient Cat-eye, Wayfarer Sunglasses (6...',\n",
       " 'UV Protection Round Sunglasses (50)',\n",
       " 'UV Protection Wayfarer, Round Sunglasses (63)',\n",
       " 'UV Protection Wrap-around Sunglasses (Free Size)',\n",
       " 'UV Protection, Gradient Round Sunglasses (Free Size)',\n",
       " 'UV Protection Round Sunglasses (Free Size)',\n",
       " 'UV Protection, Night Vision, Riding Glasses, Polarized ...',\n",
       " 'UV Protection Retro Square Sunglasses (47)',\n",
       " 'UV Protection Aviator Sunglasses (53)',\n",
       " 'UV Protection Aviator Sunglasses (58)',\n",
       " 'Polarized, UV Protection Wayfarer Sunglasses (57)',\n",
       " 'Polarized, Mirrored Round Sunglasses (49)',\n",
       " 'Polarized, UV Protection Wayfarer Sunglasses (Free Size...',\n",
       " 'Mirrored, UV Protection Wayfarer Sunglasses (50)',\n",
       " 'UV Protection Sports Sunglasses (Free Size)',\n",
       " 'Polarized Wayfarer Sunglasses (53)',\n",
       " 'Polarized, UV Protection Wayfarer Sunglasses (57)',\n",
       " 'UV Protection, Riding Glasses Aviator Sunglasses (58)',\n",
       " 'Mirrored Aviator Sunglasses (58)',\n",
       " 'UV Protection Round Sunglasses (50)',\n",
       " 'UV Protection Oval Sunglasses (Free Size)',\n",
       " 'UV Protection, Gradient Butterfly, Retro Square Sunglas...',\n",
       " 'UV Protection Aviator Sunglasses (54)',\n",
       " 'UV Protection Aviator Sunglasses (Free Size)',\n",
       " 'UV Protection, Gradient Rectangular Sunglasses (Free Si...',\n",
       " 'UV Protection, Gradient Aviator Sunglasses (57)',\n",
       " 'UV Protection Rectangular Sunglasses (Free Size)',\n",
       " 'UV Protection, Gradient Oval Sunglasses (58)',\n",
       " 'by Lenskart Polarized, UV Protection Wayfarer Sunglasse...',\n",
       " 'UV Protection Round Sunglasses (54)',\n",
       " 'UV Protection, Gradient Over-sized Sunglasses (56)',\n",
       " 'UV Protection Wayfarer Sunglasses (55)',\n",
       " 'by Lenskart Polarized, UV Protection Round Sunglasses (...',\n",
       " 'Others Retro Square Sunglasses (62)',\n",
       " 'UV Protection Wayfarer Sunglasses (Free Size)',\n",
       " 'Polarized Cat-eye Sunglasses (57)',\n",
       " 'UV Protection, Gradient Retro Square Sunglasses (Free S...',\n",
       " 'UV Protection Wayfarer Sunglasses (55)',\n",
       " 'UV Protection, Mirrored Aviator Sunglasses (58)',\n",
       " 'UV Protection Aviator Sunglasses (59)',\n",
       " 'Polarized, UV Protection Wayfarer Sunglasses (57)']"
      ]
     },
     "execution_count": 46,
     "metadata": {},
     "output_type": "execute_result"
    }
   ],
   "source": [
    "product_description"
   ]
  },
  {
   "cell_type": "code",
   "execution_count": 47,
   "metadata": {},
   "outputs": [],
   "source": [
    "price=[]"
   ]
  },
  {
   "cell_type": "code",
   "execution_count": 48,
   "metadata": {},
   "outputs": [
    {
     "name": "stderr",
     "output_type": "stream",
     "text": [
      "<ipython-input-48-ad4fde94eee8>:7: DeprecationWarning: find_elements_by_* commands are deprecated. Please use find_elements() instead\n",
      "  prices=driver.find_elements_by_class_name('_3bPFwb')#scraping brands name by class name='_2WkVRV'\n",
      "<ipython-input-48-ad4fde94eee8>:13: DeprecationWarning: find_elements_by_* commands are deprecated. Please use find_elements() instead\n",
      "  nxt_button=driver.find_elements_by_xpath(\"//a[@class='_1LKTO3']\")#scraping the list of buttons from the page\n"
     ]
    }
   ],
   "source": [
    "start=0\n",
    "\n",
    "end=3\n",
    "\n",
    "for page in range(start,end):#for loop for scrapping 4 page\n",
    "\n",
    "    prices=driver.find_elements_by_class_name('_3bPFwb')#scraping brands name by class name='_2WkVRV'\n",
    "\n",
    "    for i in prices:\n",
    "\n",
    "        price.append(i.text)\n",
    "\n",
    "    nxt_button=driver.find_elements_by_xpath(\"//a[@class='_1LKTO3']\")#scraping the list of buttons from the page\n",
    "\n",
    "    try:\n",
    "\n",
    "        driver.get(nxt_button[1].get_attribute('href'))#getting the link from the list for next page\n",
    "\n",
    "    except:\n",
    "\n",
    "        driver.get(nxt_button[0].get_attribute('href'))"
   ]
  },
  {
   "cell_type": "code",
   "execution_count": 49,
   "metadata": {},
   "outputs": [
    {
     "data": {
      "text/plain": [
       "['₹664₹1,99966% off',\n",
       " '₹1,010₹2,99966% off',\n",
       " '₹2,250',\n",
       " '₹336₹1,99983% off',\n",
       " '₹399₹1,99980% off',\n",
       " '₹699₹1,99965% off',\n",
       " '₹851₹3,25073% off',\n",
       " '₹799₹1,99960% off',\n",
       " '₹548₹3,80085% off',\n",
       " '₹359₹1,49976% off',\n",
       " '₹343₹1,24572% off',\n",
       " '₹999₹1,99950% off',\n",
       " '₹2,162₹2,2995% off',\n",
       " '₹219₹1,29983% off',\n",
       " '₹1,100₹3,99972% off',\n",
       " '₹999₹1,99950% off',\n",
       " '₹263₹1,99586% off',\n",
       " '₹239₹1,99988% off',\n",
       " '₹310₹1,99984% off',\n",
       " '₹449₹1,99977% off',\n",
       " '₹403₹1,44572% off',\n",
       " '₹6,021₹7,49019% off',\n",
       " '₹4,719₹5,49014% off',\n",
       " '₹359₹1,49976% off',\n",
       " '₹1,259₹1,2993% off',\n",
       " '₹259₹1,49982% off',\n",
       " '₹1,326₹4,10067% off',\n",
       " '₹1,415₹1,99929% off',\n",
       " '₹695₹79913% off',\n",
       " '₹255₹1,19978% off',\n",
       " '₹990₹3,99975% off',\n",
       " '₹325₹1,99983% off',\n",
       " '₹958₹3,44972% off',\n",
       " '₹1,535₹4,10062% off',\n",
       " '₹1,100₹3,99972% off',\n",
       " '₹799₹1,99960% off',\n",
       " '₹276₹1,29978% off',\n",
       " '₹467₹1,49968% off',\n",
       " '₹170₹99982% off',\n",
       " '₹799₹1,99960% off',\n",
       " '₹179₹1,29986% off',\n",
       " '₹599₹1,99970% off',\n",
       " '₹245₹1,99987% off',\n",
       " '₹336₹1,99983% off',\n",
       " '₹664₹1,99966% off',\n",
       " '₹1,164₹3,70068% off',\n",
       " '₹249₹1,49983% off',\n",
       " '₹799₹1,99960% off',\n",
       " '₹448₹1,69573% off',\n",
       " '₹258₹1,29980% off',\n",
       " '₹1,506₹4,10063% off',\n",
       " '₹999₹1,99950% off',\n",
       " '₹689₹89923% off',\n",
       " '₹1,591₹4,10061% off',\n",
       " '₹1,179₹1,99941% off',\n",
       " '₹999₹1,99950% off',\n",
       " '₹289₹1,99985% off',\n",
       " '₹1,621₹4,10060% off',\n",
       " '₹300₹92567% off',\n",
       " '₹359₹1,49976% off',\n",
       " '₹383₹99961% off',\n",
       " '₹499₹2,55580% off',\n",
       " '₹1,100₹3,99972% off',\n",
       " '₹449₹1,99977% off',\n",
       " '₹815₹2,54968% off',\n",
       " '₹759₹1,99962% off',\n",
       " '₹569₹1,99971% off',\n",
       " '₹325₹1,99983% off',\n",
       " '₹448₹1,72574% off',\n",
       " '₹395₹1,70076% off',\n",
       " '₹3,092₹8,67064% off',\n",
       " '₹1,415₹1,99929% off',\n",
       " '₹854₹1,99957% off',\n",
       " '₹4,851₹5,39010% off',\n",
       " '₹1,085₹1,29916% off',\n",
       " '₹287₹1,89984% off',\n",
       " '₹169₹1,19985% off',\n",
       " '₹184₹69973% off',\n",
       " '₹1,080₹1,0991% off',\n",
       " '₹799₹1,99960% off',\n",
       " '₹661₹2,85076% off',\n",
       " '₹664₹1,99966% off',\n",
       " '₹437₹1,62573% off',\n",
       " '₹336₹1,99983% off',\n",
       " '₹8,451₹9,39010% off',\n",
       " '₹161₹99983% off',\n",
       " '₹699₹1,49953% off',\n",
       " '₹799₹1,99960% off',\n",
       " '₹738₹1,09932% off',\n",
       " '₹1,135₹4,25073% off',\n",
       " '₹314₹1,99984% off',\n",
       " '₹999₹1,99950% off',\n",
       " '₹1,745₹4,70062% off',\n",
       " '₹574₹1,52562% off',\n",
       " '₹1,571₹3,90059% off',\n",
       " '₹999₹1,99950% off',\n",
       " '₹1,274₹1,2991% off',\n",
       " '₹664₹1,99966% off',\n",
       " '₹225₹1,09979% off',\n",
       " '₹359₹1,49976% off',\n",
       " '₹330₹1,24573% off',\n",
       " '₹664₹1,99966% off',\n",
       " '₹1,442₹3,90063% off',\n",
       " '₹449₹1,99977% off',\n",
       " '₹500₹1,52567% off',\n",
       " '₹276₹1,69983% off',\n",
       " '₹349₹1,54977% off',\n",
       " '₹1,415₹1,99929% off',\n",
       " '₹1,223₹3,70066% off',\n",
       " '₹10,971₹12,19010% off',\n",
       " '₹8,631₹9,59010% off',\n",
       " '₹325₹1,99983% off',\n",
       " '₹209₹1,29583% off',\n",
       " '₹1,434₹4,10065% off',\n",
       " '₹664₹1,99966% off',\n",
       " '₹799₹1,99960% off',\n",
       " '₹215₹1,29983% off',\n",
       " '₹824₹2,99972% off',\n",
       " '₹359₹1,49976% off',\n",
       " '₹799₹1,99960% off']"
      ]
     },
     "execution_count": 49,
     "metadata": {},
     "output_type": "execute_result"
    }
   ],
   "source": [
    "price"
   ]
  },
  {
   "cell_type": "code",
   "execution_count": 50,
   "metadata": {
    "scrolled": true
   },
   "outputs": [
    {
     "name": "stdout",
     "output_type": "stream",
     "text": [
      "120 120 120\n"
     ]
    }
   ],
   "source": [
    "print(len(brand),len(product_description),len(price))"
   ]
  },
  {
   "cell_type": "code",
   "execution_count": 51,
   "metadata": {},
   "outputs": [],
   "source": [
    "data = list(zip(brand,product_description,price))"
   ]
  },
  {
   "cell_type": "code",
   "execution_count": 39,
   "metadata": {},
   "outputs": [],
   "source": [
    "import pandas as pd"
   ]
  },
  {
   "cell_type": "code",
   "execution_count": 54,
   "metadata": {},
   "outputs": [],
   "source": [
    "df = pd.DataFrame(data,columns=['brand','product_description','price'])"
   ]
  },
  {
   "cell_type": "code",
   "execution_count": 55,
   "metadata": {},
   "outputs": [
    {
     "data": {
      "text/html": [
       "<div>\n",
       "<style scoped>\n",
       "    .dataframe tbody tr th:only-of-type {\n",
       "        vertical-align: middle;\n",
       "    }\n",
       "\n",
       "    .dataframe tbody tr th {\n",
       "        vertical-align: top;\n",
       "    }\n",
       "\n",
       "    .dataframe thead th {\n",
       "        text-align: right;\n",
       "    }\n",
       "</style>\n",
       "<table border=\"1\" class=\"dataframe\">\n",
       "  <thead>\n",
       "    <tr style=\"text-align: right;\">\n",
       "      <th></th>\n",
       "      <th>brand</th>\n",
       "      <th>product_description</th>\n",
       "      <th>price</th>\n",
       "    </tr>\n",
       "  </thead>\n",
       "  <tbody>\n",
       "    <tr>\n",
       "      <th>0</th>\n",
       "      <td>ROZZETTA CRAFT</td>\n",
       "      <td>UV Protection, Gradient Wayfarer Sunglasses (53)</td>\n",
       "      <td>₹664₹1,99966% off</td>\n",
       "    </tr>\n",
       "    <tr>\n",
       "      <th>1</th>\n",
       "      <td>VINCENT CHASE</td>\n",
       "      <td>UV Protection Over-sized Sunglasses (60)</td>\n",
       "      <td>₹1,010₹2,99966% off</td>\n",
       "    </tr>\n",
       "    <tr>\n",
       "      <th>2</th>\n",
       "      <td>Fastrack</td>\n",
       "      <td>Polarized Retro Square Sunglasses (58)</td>\n",
       "      <td>₹2,250</td>\n",
       "    </tr>\n",
       "    <tr>\n",
       "      <th>3</th>\n",
       "      <td>PIRASO</td>\n",
       "      <td>UV Protection, Gradient Round Sunglasses (Free...</td>\n",
       "      <td>₹336₹1,99983% off</td>\n",
       "    </tr>\n",
       "    <tr>\n",
       "      <th>4</th>\n",
       "      <td>PIRASO</td>\n",
       "      <td>UV Protection Round Sunglasses (Free Size)</td>\n",
       "      <td>₹399₹1,99980% off</td>\n",
       "    </tr>\n",
       "    <tr>\n",
       "      <th>...</th>\n",
       "      <td>...</td>\n",
       "      <td>...</td>\n",
       "      <td>...</td>\n",
       "    </tr>\n",
       "    <tr>\n",
       "      <th>95</th>\n",
       "      <td>VINCENT CHASE</td>\n",
       "      <td>Polarized, UV Protection Wayfarer Sunglasses (57)</td>\n",
       "      <td>₹999₹1,99950% off</td>\n",
       "    </tr>\n",
       "    <tr>\n",
       "      <th>96</th>\n",
       "      <td>Singco</td>\n",
       "      <td>UV Protection, Riding Glasses Aviator Sunglass...</td>\n",
       "      <td>₹1,274₹1,2991% off</td>\n",
       "    </tr>\n",
       "    <tr>\n",
       "      <th>97</th>\n",
       "      <td>NuVew</td>\n",
       "      <td>Mirrored Aviator Sunglasses (58)</td>\n",
       "      <td>₹664₹1,99966% off</td>\n",
       "    </tr>\n",
       "    <tr>\n",
       "      <th>98</th>\n",
       "      <td>elegante</td>\n",
       "      <td>UV Protection Round Sunglasses (50)</td>\n",
       "      <td>₹225₹1,09979% off</td>\n",
       "    </tr>\n",
       "    <tr>\n",
       "      <th>99</th>\n",
       "      <td>elegante</td>\n",
       "      <td>UV Protection Oval Sunglasses (Free Size)</td>\n",
       "      <td>₹359₹1,49976% off</td>\n",
       "    </tr>\n",
       "  </tbody>\n",
       "</table>\n",
       "<p>100 rows × 3 columns</p>\n",
       "</div>"
      ],
      "text/plain": [
       "             brand                                product_description  \\\n",
       "0   ROZZETTA CRAFT   UV Protection, Gradient Wayfarer Sunglasses (53)   \n",
       "1    VINCENT CHASE           UV Protection Over-sized Sunglasses (60)   \n",
       "2         Fastrack             Polarized Retro Square Sunglasses (58)   \n",
       "3           PIRASO  UV Protection, Gradient Round Sunglasses (Free...   \n",
       "4           PIRASO         UV Protection Round Sunglasses (Free Size)   \n",
       "..             ...                                                ...   \n",
       "95   VINCENT CHASE  Polarized, UV Protection Wayfarer Sunglasses (57)   \n",
       "96          Singco  UV Protection, Riding Glasses Aviator Sunglass...   \n",
       "97           NuVew                   Mirrored Aviator Sunglasses (58)   \n",
       "98        elegante                UV Protection Round Sunglasses (50)   \n",
       "99        elegante          UV Protection Oval Sunglasses (Free Size)   \n",
       "\n",
       "                  price  \n",
       "0     ₹664₹1,99966% off  \n",
       "1   ₹1,010₹2,99966% off  \n",
       "2                ₹2,250  \n",
       "3     ₹336₹1,99983% off  \n",
       "4     ₹399₹1,99980% off  \n",
       "..                  ...  \n",
       "95    ₹999₹1,99950% off  \n",
       "96   ₹1,274₹1,2991% off  \n",
       "97    ₹664₹1,99966% off  \n",
       "98    ₹225₹1,09979% off  \n",
       "99    ₹359₹1,49976% off  \n",
       "\n",
       "[100 rows x 3 columns]"
      ]
     },
     "execution_count": 55,
     "metadata": {},
     "output_type": "execute_result"
    }
   ],
   "source": [
    "df.head(100)"
   ]
  },
  {
   "cell_type": "code",
   "execution_count": 24,
   "metadata": {},
   "outputs": [],
   "source": [
    "#  Q.5\n",
    "\n",
    "\n",
    "driver.get('https://www.flipkart.com/apple-iphone-11-black-64-gb-includes-earpods-power-adapter/product-reviews/itm0f37c2240b217?pid=MOBFKCTSVZAXUHGR&lid=LSTMOBFKCTSVZAXUHGREPBFGI&marketplace=FLIPKART')"
   ]
  },
  {
   "cell_type": "code",
   "execution_count": 25,
   "metadata": {},
   "outputs": [],
   "source": [
    "from time import sleep"
   ]
  },
  {
   "cell_type": "code",
   "execution_count": 36,
   "metadata": {},
   "outputs": [
    {
     "name": "stderr",
     "output_type": "stream",
     "text": [
      "<ipython-input-36-a2150c09943d>:3: DeprecationWarning: find_elements_by_* commands are deprecated. Please use find_elements() instead\n",
      "  url = driver.find_elements_by_xpath(\"//nav[@class='yFHi8N']//a\")\n",
      "<ipython-input-36-a2150c09943d>:25: DeprecationWarning: find_elements_by_* commands are deprecated. Please use find_elements() instead\n",
      "  rat = driver.find_elements_by_xpath(\"//div[@class='_3LWZlK _1BLPMq' or @class='_3LWZlK _1rdVr6 _1BLPMq']\") # stores all web elements of ratings present on one page\n",
      "<ipython-input-36-a2150c09943d>:32: DeprecationWarning: find_elements_by_* commands are deprecated. Please use find_elements() instead\n",
      "  rev = driver.find_elements_by_xpath(\"//p[@class='_2-N8zT']\")\n",
      "<ipython-input-36-a2150c09943d>:38: DeprecationWarning: find_elements_by_* commands are deprecated. Please use find_elements() instead\n",
      "  review = driver.find_elements_by_xpath(\"//div[@class='t-ZTKy']\")\n"
     ]
    }
   ],
   "source": [
    "page_url = [] # a list containg url's of every page\n",
    "\n",
    "url = driver.find_elements_by_xpath(\"//nav[@class='yFHi8N']//a\")\n",
    "\n",
    "for i in url:\n",
    "\n",
    "    page_url.append(i.get_attribute('href'))\n",
    "\n",
    "rating = []\n",
    "\n",
    "review_short =[]\n",
    "\n",
    "review_full =[]\n",
    "\n",
    "for i in page_url[:10]:\n",
    "\n",
    "    # open one browser window at a time and extract data\n",
    "\n",
    "    driver.get(i)\n",
    "\n",
    "    #time.sleep(10)\n",
    "\n",
    "    try:\n",
    "\n",
    "        rat = driver.find_elements_by_xpath(\"//div[@class='_3LWZlK _1BLPMq' or @class='_3LWZlK _1rdVr6 _1BLPMq']\") # stores all web elements of ratings present on one page\n",
    "\n",
    "        for j in rat:\n",
    "\n",
    "            rating.append(j.text) # fetches text out of those web elements\n",
    "            \n",
    "            \n",
    "        rev = driver.find_elements_by_xpath(\"//p[@class='_2-N8zT']\")    \n",
    "        for j in rev:\n",
    "            \n",
    "            review_short.append(j.text)\n",
    "\n",
    "            \n",
    "        review = driver.find_elements_by_xpath(\"//div[@class='t-ZTKy']\")\n",
    "        \n",
    "        for j in review:\n",
    "            \n",
    "            review_full.append(j.text)\n",
    "\n",
    "        \n",
    "    except:\n",
    "\n",
    "        pass\n",
    "    \n",
    "      "
   ]
  },
  {
   "cell_type": "code",
   "execution_count": 32,
   "metadata": {},
   "outputs": [
    {
     "data": {
      "text/plain": [
       "['4',\n",
       " '5',\n",
       " '5',\n",
       " '5',\n",
       " '5',\n",
       " '5',\n",
       " '5',\n",
       " '5',\n",
       " '5',\n",
       " '5',\n",
       " '5',\n",
       " '5',\n",
       " '4',\n",
       " '5',\n",
       " '5',\n",
       " '5',\n",
       " '5',\n",
       " '5',\n",
       " '5',\n",
       " '5',\n",
       " '5',\n",
       " '1',\n",
       " '5',\n",
       " '5',\n",
       " '5',\n",
       " '4',\n",
       " '5',\n",
       " '5',\n",
       " '5',\n",
       " '4',\n",
       " '5',\n",
       " '5',\n",
       " '5',\n",
       " '4',\n",
       " '5',\n",
       " '1',\n",
       " '5',\n",
       " '5',\n",
       " '5',\n",
       " '5',\n",
       " '4',\n",
       " '5',\n",
       " '5',\n",
       " '5',\n",
       " '5',\n",
       " '5',\n",
       " '5',\n",
       " '5',\n",
       " '5',\n",
       " '5',\n",
       " '5',\n",
       " '4',\n",
       " '5',\n",
       " '5',\n",
       " '5',\n",
       " '5',\n",
       " '5',\n",
       " '5',\n",
       " '5',\n",
       " '3',\n",
       " '5',\n",
       " '5',\n",
       " '5',\n",
       " '5',\n",
       " '5',\n",
       " '4',\n",
       " '5',\n",
       " '4',\n",
       " '5',\n",
       " '4',\n",
       " '3',\n",
       " '5',\n",
       " '5',\n",
       " '5',\n",
       " '5',\n",
       " '5',\n",
       " '5',\n",
       " '5',\n",
       " '5',\n",
       " '5',\n",
       " '5',\n",
       " '5',\n",
       " '5',\n",
       " '4',\n",
       " '5',\n",
       " '4',\n",
       " '5',\n",
       " '5',\n",
       " '5',\n",
       " '5',\n",
       " '5',\n",
       " '5',\n",
       " '5',\n",
       " '5',\n",
       " '5',\n",
       " '5',\n",
       " '4',\n",
       " '5',\n",
       " '5',\n",
       " '5']"
      ]
     },
     "execution_count": 32,
     "metadata": {},
     "output_type": "execute_result"
    }
   ],
   "source": [
    "rating"
   ]
  },
  {
   "cell_type": "code",
   "execution_count": 35,
   "metadata": {
    "scrolled": true
   },
   "outputs": [
    {
     "data": {
      "text/plain": [
       "['Excellent',\n",
       " 'Terrific purchase',\n",
       " 'Fabulous!',\n",
       " 'Value-for-money',\n",
       " 'Highly recommended',\n",
       " 'Really Nice',\n",
       " 'Great product',\n",
       " 'Mind-blowing purchase',\n",
       " 'Terrific purchase',\n",
       " 'Great product',\n",
       " 'Worth every penny',\n",
       " 'Pretty good',\n",
       " 'Fabulous!',\n",
       " 'Mind-blowing purchase',\n",
       " 'Excellent',\n",
       " 'Super!',\n",
       " 'Just wow!',\n",
       " 'Terrific purchase',\n",
       " 'Awesome',\n",
       " 'Decent product',\n",
       " 'Awesome',\n",
       " 'Worth every penny',\n",
       " 'Wonderful',\n",
       " 'Classy product',\n",
       " 'Must buy!',\n",
       " 'Wonderful',\n",
       " 'Mind-blowing purchase',\n",
       " 'Good quality product',\n",
       " 'Fabulous!',\n",
       " 'Good quality product',\n",
       " 'Does the job',\n",
       " 'Best in the market!',\n",
       " 'Excellent',\n",
       " 'Mind-blowing purchase',\n",
       " 'Super!',\n",
       " 'Best in the market!',\n",
       " 'Mind-blowing purchase',\n",
       " 'Classy product',\n",
       " 'Brilliant',\n",
       " 'Most Price worthy Iphone',\n",
       " 'excellent',\n",
       " 'Simply awesome',\n",
       " 'Wonderful',\n",
       " 'Fabulous!',\n",
       " 'Perfect product!',\n",
       " 'Mind-blowing purchase',\n",
       " 'Good choice',\n",
       " 'Best in the market!',\n",
       " 'Super!',\n",
       " 'Classy product',\n",
       " 'Super!',\n",
       " 'Absolute rubbish!',\n",
       " 'Terrific',\n",
       " 'Wonderful',\n",
       " 'Excellent',\n",
       " 'Worth every penny',\n",
       " 'Must buy!',\n",
       " 'Terrific',\n",
       " 'Worth every penny',\n",
       " 'Delightful',\n",
       " 'Awesome',\n",
       " 'Perfect product!',\n",
       " 'Just okay',\n",
       " 'Fabulous!',\n",
       " 'Fabulous!',\n",
       " 'Just okay',\n",
       " 'Just wow!',\n",
       " 'Delightful',\n",
       " 'Terrific purchase',\n",
       " 'Perfect product!',\n",
       " 'Classy product',\n",
       " 'Terrific',\n",
       " 'Terrific',\n",
       " 'Just wow!',\n",
       " 'Fabulous!',\n",
       " 'Mind-blowing purchase',\n",
       " 'Just wow!',\n",
       " 'Worth every penny',\n",
       " 'Just wow!',\n",
       " 'Super!',\n",
       " 'Good choice',\n",
       " 'Simply awesome',\n",
       " 'Great product',\n",
       " 'Nice',\n",
       " 'Mind-blowing purchase',\n",
       " 'Worth every penny',\n",
       " 'Mind-blowing purchase',\n",
       " 'Awesome',\n",
       " 'Awesome',\n",
       " 'Wonderful']"
      ]
     },
     "execution_count": 35,
     "metadata": {},
     "output_type": "execute_result"
    }
   ],
   "source": [
    "review_short"
   ]
  },
  {
   "cell_type": "code",
   "execution_count": 37,
   "metadata": {},
   "outputs": [
    {
     "data": {
      "text/plain": [
       "['Finally switched to iOS from android\\nThere is some things which u can’t do like using android but it’s worth to iOS. Battery backup is good holds for a day in average. Cam quality is okay. Good night mode visibility.',\n",
       " 'Very good smartphone and value for smoother and speedy response and work',\n",
       " 'This is very nice phone with great camera, performance, battery but their display is not good as their price overall best iphone to purchase right now',\n",
       " 'Got delivered by good packing from Flipkart with a agreed time line. Apple always stood good and great products towards their customers and this is my 2nd Iphone overall experience with phone is great, Especially when it comes battery gives long-standing performance for applications and gaming purposes, Camera is one of the great features includes in this mobile\\n\\nI will strongly suggest this !',\n",
       " 'Iphone is best ever but Flipkart delivered is quality on the product is so promising i really satisfied and trust with it by Flipkart assured\\nTq..🥰',\n",
       " 'Quite osm more then expected . Purple color truly recommended its lookin so beautiful then others .Someone suggest me and have selected the same color its beautiful.\\n\\n\\nPerformance is far better then my last i phone',\n",
       " 'My first iPhone. Still wondering where was I lost all this while. Always thought that an iPhone is just to pricey and not worth its cost. Trust me, I didn’t regret once for this mighty purchase. It is a different ecosystem all together and I have become an Apple fan instantly. Now all my gadgets ought to be Apple. Just seamless, timeless, super smooth, flamboyant, style statement, and the list is endless. The back camera is worth the hype not the selfie camera. Sound quality is surround sound...\\nREAD MORE',\n",
       " 'PROS:\\n1. Ballistic performance\\n2. Amazing image quality from the camera setup\\n3. Superb battery performance,\\n4. Design\\n5. Fit and finish.\\n6. iOS 13 integration with the hardware.\\nCONS:\\n1. Display quality leaves a lot to be desired. The non-1080p display is hardly noticeable during regular usage and is more than a pass. But if you are someone who use their phone for a majority of video playback, you’re in for a disappointment. Otherwise, it’s perfect for every other need.\\n2. The overall s...\\nREAD MORE',\n",
       " 'iPhone 11 is good but if someone want Superior phone then go for 11 pro because screen display is too good from iPhone 11 and as well as camera quality',\n",
       " 'Everything good as expected from Apple, but only thing thing missing is the 18w power adapter, because if the phone is compatible for fast charging and it takes more than 3 hours for full charge on a normal charger then it should come bundled with the 18w adapter.',\n",
       " 'I liked it very much, super performance , giving best battery life around one day. fast charging is super. camera quality is excellent no words.',\n",
       " \"Incredible phone with a excellent battery and a better experience.\\nThose who are concerned about its screen quality.Trust me this is one of the best IPS panal.\\nPreviously I used OnePlus 5t which had a full hd AMOLED display,but I didn't notice a huge difference.\\nIf a get a fabulous deal then just go for it.\",\n",
       " 'Dont think too much guys. perfect phone for day today use. If you are familiar with apple then go for it. camera is good which can match up with next 3 years, battery is good than all other iPhones. Definitely morning to evening-8 it can do. Display is not that bad, you will be satisfied. Best mobile worth for the money. Best for one handed issue. Very less overheating than other mobiles in market. Go for 128 gb or 256. This iphone can live upto next 3-4 years for sure. Enjoy Apple👌🏾',\n",
       " \"This is my first I phone and I'm very happy to have it but it's battery life is not good as Android have that's all. All over phone is Awesome\",\n",
       " 'Excellent service by Flipkart. The phone is true value for money, the camera is great especially the low light night photography.\\nThe processor is fast making gaming a lot of fun.\\nI read a lot of negative reviews about the display but I was using a OnePlus before and somehow the iphone 11 display is more easy on the eyes and the adaptive brightness is more effective than any of the other phones that I have used.\\nCharging is a bit slow owing to the smaller charger included in the box inste...\\nREAD MORE',\n",
       " 'It’s a quiet good for new users. And I’m happy with it. Thanks apple and Flipkart too. 😊♥️',\n",
       " 'I have my first iPhone\\nI love it\\nusing 15 day very good performance\\n\\nMobile- 5/4\\nCharging- 5/5\\nCamera- 5/5\\nBattery backup -5/5\\nDisplay- 5/4\\nCourier facility- 5/0 Very bad\\nCourier facility is poor. I have not happy in courier facility..',\n",
       " 'The only thing i didnt like about the phone is its display as its only an non full hd display means its not 1080p one and not an amoled one of course but still better than all the lcds out there in the market but at this price point android alternatives provide 144hz samoled like the rog phone 5, Aside from that the performance is top notch as you would expect from an Iphone and will last you for many years unlike androids who stop getting updates in less than 2 years',\n",
       " \"Good display in this phone however screen is LCD, you'll get a bit disappointed .\\nCamera is superb , I have tried underwater shot is sea water, works good. Video quality is a bit inferior as compared to similar price range phones.\\nPerformance is superb. Maybe the best in this range , even with A13 bionic chip and 4GB ram, it works really smooth.\\nBattery is fine, you'll get decent backup.\\nNo charger inside , that's very disappointing for 1st time users. I had previously iPhone and iPad so it...\\nREAD MORE\",\n",
       " 'This is very second time I am using iphone I am not a huge fan of I phone but as my past experience iphone is always iphone whn you use it in your hand and it feel firmly buildup and camera quality is awesome processing is fast and realy smooth while using it.Night mode is awesome and photography is brilliant. Go for it and it will be great if you buy it worth it',\n",
       " 'I’d like to start by saying that the overall experience with the iPhone 11 is super smooth and amazing in every aspect. It’s an absolute powerhouse.\\n\\nPerformance - The Apple A13 Bionic is super optimised. You will not face any performance issue at all. You will never have to worry about the lag on this one.\\n\\nBattery - Battery life is one of the best you can get in a iPhone at this time. It’s better than the XR. Average use can get you more than a day and heavy use will get you through the da...\\nREAD MORE',\n",
       " 'Worst product delivered by Flipkart\\nAfter 10days of delivery mobile will not work properly\\nVolume and silent buttons are not working.\\nNo worth to buy in Flipkart.\\nPlease don’t buy apple products in Flipkart',\n",
       " 'Good buy.. working perfectly !\\n\\nThat was upgrade from 6S to 11. I see no deference in both the phones except:\\n1. Battery performance\\n2. Camera quality\\n3. Face detection unlock\\n\\nGo for it..!',\n",
       " \"Ok, so after almost 3 years I am again back into Apple Ecosystem. Switching from Android to iOS has just one disadvantage imo, and that's you can't take your WhatsApp data restored to iOS. Everything starts fresh, pretty sad. I am so glad that I chose iPhone 11 over 12. With 5G nowhere in India for at least an year will have an added advantage to iPhone 11. Spending extra 25k just for A14 chipset and OLED display is not a clever choice. Anyways, a fantastic phone with everything fit perfectly...\\nREAD MORE\",\n",
       " '🤩🤩🤩🤩🤩🤩I loved the Phone.. Every time I pick up the phone it makes me happy... The phone is beast💪💪 and the camera is fabulous 🥰🥰🥰.. I think one of my great purchase from Flipkart.. Thank you Filpkart..',\n",
       " 'I upgraded from one plus 6 to iPhone 11 and it’s too good. Very smooth, battery also good. I love it. And thanks flipkart for fast delivery.',\n",
       " 'I will just say its an awesome phone. Starting from speed , battery life, resolutions, camera quality, features it is superior in all department versus its predecessor. Also would like to state that at this price point it is an extraordinary value product. Recommend anyone who is looking for a highend smart phone within a range of 60k to 100K. .',\n",
       " 'Have used both iPhone X and iPhone XR and I can say upgrade only if you want better camera it’s awesome with great display even though lcd but still better than oled on iPhone X or XS.\\nThe camera is huge improvement in low light and very nice improvement in less light and times better than iPhone X but not that big improvement on iPhone XR in day light but very big improvement in low light.',\n",
       " 'Just go for it without a second thought, if you are looking for a best phone in the market and want to save 40k to not go for iPhone 11 pro, the only thing i think this product is feel missing is Oled display software do the job of portrait, so go for it rather than 11 pro. Everything is at top with this phone. I am writing this review after using this phone for more than 2 months.',\n",
       " 'Nice camera for front and back.. The display is not as good because it makes sound when we tap on it! But overall it’s a good phone.',\n",
       " 'Best iphone ever.. best value for money phone.. easy to hold and face unlock is very fast and works even in dark.. looks very cool.. delivered in one day.. best flipkart experience and get also the original product. Red one is the .best color and most selling color so I love red one.',\n",
       " 'At time of writing this review this phone processor definitely beat any flagship android phone !\\n\\nUpgraded from 7 Plus which is also quite good\\n\\nBut this phone performance is huge ! Fast and always to roll 😅\\nLow light Camera is great\\nBut i think portrait mode is not good as iPhone 7 plus\\nIn this phone portrait mode is looks like artificial but on my previous phone it looks like dslr photo maybe i am missing setting on this !\\n\\nOtherwise everything is good !',\n",
       " \"Genuine review after few weeks.\\nDecent camera quality.\\nDon't expect to meet the quality and features of the upcoming brands with cheaper prices and better megapixels. Overall smooth experience and everything seems so good. If you have used iOS before, you know the ease of using it.\\nLooks so secure and fast.\\nDefinately it beats my 6GB phones in performance.\\nIf you play games don't bother about RAM, the processor kills it.\\nOverall a good choice to switch from Android to iOS.\\nDon't expect that V...\\nREAD MORE\",\n",
       " 'I really liked the budget iPhone. First I thought display would be issue as it is a LCD with less pixels, then after using my perception changed and I never felt like I am using an outdated display. Though I also use S 10+ with Amoled display.\\n\\nSo this is perfect iPhone and a real value for money.',\n",
       " 'Awesome mobile… Battery Backup is really impressive, getting a solid battery life of 1.5 days with a normal usage. Even if u are a heavy user, u will get a day of backup for sure. Excellent audio quality. Overall I’m very much satisfied with the device :)',\n",
       " 'I have been using iphone 11 model since its launch. Here is my review\\nPros:\\nPerformance\\nPrivacy\\nOS Updates\\nBuild quality\\nSound\\n\\nCons:\\nDisplay issue: After using for nearly a year a small line popped up at left notch and slowly it spread to right notch. Well it could an exceptional case\\n\\nAt this price range \\uf8ff could have given OLED screen.\\n\\nPrice: I strongly believe this product has been overpriced.\\nSignal Issue: I see this issue across the \\uf8ff devices.\\nCharging: I takes around 4hrs for 100% wit...\\nREAD MORE',\n",
       " 'Not mere a phone , Its more than that for fun and enjoy life. Just grab it. Best luck',\n",
       " 'Received product before the delivery date performance is very good value for money no problem till now camera is also good but the screen is lcd which is not good and irritate some time so you have to compromise the screen Flipkart services is good and nice',\n",
       " 'Very good phone. All the apps are running smoothly. Sleek and sturdy design. No more words for apple as it has its own class.',\n",
       " \"Awesome Product. Initially I was looking for green color but wasn't available and then I went for white one and believe me it's really awesome color.\",\n",
       " 'Finally switched to iOS from android\\nThere is some things which u can’t do like using android but it’s worth to iOS. Battery backup is good holds for a day in average. Cam quality is okay. Good night mode visibility.',\n",
       " 'Very good smartphone and value for smoother and speedy response and work',\n",
       " 'This is very nice phone with great camera, performance, battery but their display is not good as their price overall best iphone to purchase right now',\n",
       " 'Got delivered by good packing from Flipkart with a agreed time line. Apple always stood good and great products towards their customers and this is my 2nd Iphone overall experience with phone is great, Especially when it comes battery gives long-standing performance for applications and gaming purposes, Camera is one of the great features includes in this mobile\\n\\nI will strongly suggest this !',\n",
       " 'Iphone is best ever but Flipkart delivered is quality on the product is so promising i really satisfied and trust with it by Flipkart assured\\nTq..🥰',\n",
       " 'Quite osm more then expected . Purple color truly recommended its lookin so beautiful then others .Someone suggest me and have selected the same color its beautiful.\\n\\n\\nPerformance is far better then my last i phone',\n",
       " 'My first iPhone. Still wondering where was I lost all this while. Always thought that an iPhone is just to pricey and not worth its cost. Trust me, I didn’t regret once for this mighty purchase. It is a different ecosystem all together and I have become an Apple fan instantly. Now all my gadgets ought to be Apple. Just seamless, timeless, super smooth, flamboyant, style statement, and the list is endless. The back camera is worth the hype not the selfie camera. Sound quality is surround sound...\\nREAD MORE',\n",
       " 'PROS:\\n1. Ballistic performance\\n2. Amazing image quality from the camera setup\\n3. Superb battery performance,\\n4. Design\\n5. Fit and finish.\\n6. iOS 13 integration with the hardware.\\nCONS:\\n1. Display quality leaves a lot to be desired. The non-1080p display is hardly noticeable during regular usage and is more than a pass. But if you are someone who use their phone for a majority of video playback, you’re in for a disappointment. Otherwise, it’s perfect for every other need.\\n2. The overall s...\\nREAD MORE',\n",
       " 'iPhone 11 is good but if someone want Superior phone then go for 11 pro because screen display is too good from iPhone 11 and as well as camera quality',\n",
       " 'Everything good as expected from Apple, but only thing thing missing is the 18w power adapter, because if the phone is compatible for fast charging and it takes more than 3 hours for full charge on a normal charger then it should come bundled with the 18w adapter.',\n",
       " 'Great product as usual. Handy phone with best processor and camera quality in the market. Recommended 128GB storage 👍',\n",
       " 'excellent mobile phone with amazing feautures. 100% value for money.The greatest attribute was its battery(all day long usage). dont hesitate to buy. Only difference between 11pro and 11 is display and its telescope lens remaining all are same',\n",
       " 'Terrific!!! Lucky to get this phone in first lot. First switch over for me from android. awesome camera.. One of the best in class.. go for iphone 11 if you are the first time user.',\n",
       " 'Iphone 11 black 64gb is really a cool phone\\n\\n1. Camera is superb using it long time heats the phone a bit\\n2. iOS 13 is elegant and nice\\n3. Video yet to test\\n4. Charger : Phone has the capability to fast charge but charger is not capable of doing it which frustrates being a top brand and providing and charger like this is worst from Apple\\n5. Sound quality especially in headphones is wonderful',\n",
       " 'This is phone is super duper sexy.\\nYou will get in love with this phone the moment you will unbox it.\\nPerformance is awesome.\\nSo smooth, easy to handle.\\nSometimes, if working continuously, you will feel that the phone is heavy otherwise you won’t if worked for shorter period of time.\\nI would personally suggest you to go for 128GB version because it will be a true value for money.\\nTalking about colour, I find white colour as a royal one.',\n",
       " \"no complaint against the display it's very crisp , though it is not the OLED but if you put side by side and compare with iPhone xs you hardly notice any difference , i noticed the brightness because 11 has 600 nits compare to 1200 nits on xs . other wise you never feel that its a 720 p display. very very good quality LCD screen you can't compare with any other LCD screen it's far better than any other LCD screen available in market. battery is very impressive , and Love the sound of stereo s...\\nREAD MORE\",\n",
       " 'Wow!! What a beauty.. i was a hardcore fan of android and i always felt iphone is overrated. Features are far inferior to android and costs 4 times. I am a heavy user and for me battery life is one of the more important feature and everyone knows apple lacked in it. This is my 1st iphone and I am loving the change. RAM concept was totally misunderstood.. it is the most fluidic set I ever used. In hand feel is premium. Display is good but I loved the one plus more in this. Battery life is a sh...\\nREAD MORE',\n",
       " 'Features and design is good bt not satisfied with display i lyk apple bcz of their display quality bt in dis ph they give same diplay like other brands give us i hv 6s too frankly speaking both 6s and 11 have lcd display bt lots of diff between them\\nApple previous lcd display was awsm bt nw jst making money like other brands vary disappointing it feels like m playing ios in samsung screen',\n",
       " 'So good look comfortable iPhone 11 I am so very happy my life first time iPhone used camera is 👌 sound quality is clear sounds',\n",
       " \"If I consider it just as a smartphone, it's pretty expensive. Have to admit that I payed a lot of money just for the brand. I understand people use apple products for years and if we consider the time span the phone is also worth for the money. But, there are also phones available under 10k and runs for years. Yes, it is true.\\nBuy, this phone only if you want to show others how much you earn, otherwise it's nothing but just a smartphone like others are.\",\n",
       " 'The phone is awesome undoubtedly and worth the purchase .\\n\\nI had preordered it from Flipkart, but this time I am little disappointed with the packaging from Flipkart . I had preordered iPhone 7 Plus too but that time the packaging was excellent but didn’t get the same experience this time .... hence rating it a little low. Flipkart should have packed it better as it’s worth is much more .... Expecting betterment next time ...',\n",
       " 'Best phone in this price segment people say that it is a IPS display but don’t judge a book with the specs sheet only I have not seen any LCD Display like this in any smartphone industry leading IPS display . Everything is awesome in this phone but sometime but apple should have been giving OLED in this price segment',\n",
       " 'brilliant design I personally liked red colour\\nprocessing speed\\ncamera\\nbattery\\ndisplay\\neverything is gorgeous in iphone 11\\nthis is super smooth',\n",
       " 'Switched from Android to Iphone. great experience till now. Night photography feature is Awesome. Scope of improvement in front camera. Fantastic & seamless gaming experience.',\n",
       " 'Just love it... I rated battery 1 star because, when I turned it on it was only 3% 🥺🥺😭. Now I need to wait until the charger comes. But ye, overall I just love this phone♥️♥️♥️♥️♥️♥️♥️♥️♥️♥️♥️♥️♥️♥️ My first ever iPhone😄 My daddy gifted me as a birthday gift, so it will be my mark to return something special more than this♥️ I only want to thank is to my dad.... Thank you Apple for your wonderful product😘🍎❤️😇',\n",
       " \"I was using android phone earlier..I was thinking apple phones are much more costy than other phones with less specifications..so why to waste money in this??..But trust me guys once if you start using ios then you won't go back to android...beleive me this phone is the best than all other...There is no other phone which can beat iphones in terms of camera..iphones gives the best real image..its very faster and smoother than android phones...if you think to switch to ios iphone 11 is the best...\\nREAD MORE\",\n",
       " \"iPhone 11 is not better than Samsung s20 at the same price\\nIf you need to buy a phone under 65000/ pls go for Samsung S20, this is better choice for you. I'm not satisfied\",\n",
       " 'Reviewing after 10 days\\nCamera:- In this price segment best camera phone for Video as well as photo. This mobile not for the selfie lover due lack of beautification option.\\nDisplay :- LCD display not justify its price. Quality not upto the mark. Light yellowish tint observed on display even after colour correction.\\nBattery :- Battery back up good, It last full day.\\nProfessor :- No doubt about Iphone processor. It is best A13 bionic chip better than SD 865.\\nOS:- Little bit difficult to unders...\\nREAD MORE',\n",
       " 'The best phone I have ever owned!\\n\\nCamera: Rear camera is one of the best in the industry. The front camera is7/10. My Poco f1 with Google Camera mod took better selfies.\\n\\nPerformance: If you are moving from an android device, the performance is unreal. The sync between hardware and software is unreal! There is virtually no lag at all. All games run on it smooth AF! Bluetooth, WiFi performance is superb as well.\\n\\nBattery Life: Getting close to 7-7.5 of screen on time. Very good in comparison...\\nREAD MORE',\n",
       " \"Excellent phone. Got it for 29k after exchange and bank offer. Totally value for money at that price. Loved the product red colour.\\niOS is smooth and no lags at all. Shifted from android though I have used iOS earlier and totally loving iOS.\\nGot an original sealed box piece so go ahead and order without worrying. Also received the iOS 14.5.1 after turning on the phone immediately.\\nFor people who are worried that there is no 5G in this phone don't hesitate to buy it. 5G is going to take tim...\\nREAD MORE\",\n",
       " 'iPhone 11 is the real flagship killer in my opinion.I have been using it for a week so I might post more later.Don’t go for the specification jargon put out like 1080 p quad HD,16 GB ram,these things mean nothing when you use IPhone,the user experience and refinement you get will make you realise it is the best phone you will use.The only thing missing might be faster 90hz or more display which is essential in my opinion. The deeper darks of AMOLED screen is overhyped in my opinion,while igno...\\nREAD MORE',\n",
       " 'It is a very good phone but price is very high. May be in case of exchange we may get more. But need to bare this much amount initially.\\n\\nRegarding phone, it is okay. Not upto the mark. We can get good android phones under this price. And really painful to buy charger and earphones, this is really con in iphones. Some bluetooth earphones won’t be supported fully like same Bluetooth earphones working fine with android and working with IOS but less sounds compare to android.\\n\\nPros:\\nPhone look...\\nREAD MORE',\n",
       " \"Hmmm., my first iphone and i love it .\\nI thought the battery will be really bad cuz it's so low , but surprisingly it's awesome . Camera are superb .\\nI had oppo f11 pro before buying this , except display everything on iphone 11 is way more good than my oppo one .\\nJust want this phone to last 3 year minimum without much lag.\",\n",
       " 'Amazing delivery. Got my phone a day before expected delivery date. The phone was in an excellent condition and the delivery guy was also very humble. Love my new phone. Switched from android to ios and im already loving it!',\n",
       " \"It is iPhone. There isn't much I could say about the phone that isn't out there already.\\nIf you get a good deal including discount or offer on any card, just go for it.\\nOnly one major drawback, it comes with 5V basic charging which is a big let down.\\n\\nFrom Flipkart POV, the delivery was on time, the product was in proper condition so there is no reason for anything less than 5 star.\",\n",
       " 'Good phone over all but if you want to buy it from pubg then you have to compromise with battery it charge very slow too but pubg performance is top notch l. I am impressed with tha performance i was using oneplus 7 pro but performance was not good as this iphone 11 has its very nice and smooth',\n",
       " 'The only issue is the unavailability of fast charging adapter in the box. It really takes a hell lotta time to get 100%.\\nApart from that.. it really is a premium smart phone.\\nOne can easily fall in love with the fast and efficient performance.',\n",
       " 'Loved everything about it - the camera, the display, the overall built of the phone. But just not sure if this phone or any phone for that matter is worth this crazy price. Nonetheless a good phone that I intend on using for atleast 4-5 years. I would pick RED or YELLOW.',\n",
       " 'Upgraded from iPhone SE. The device is bulky. The design is not ergonomic . However , the performance , display, camera are really good. If you are a frequent mobile user then this is not the right device as it is tough to type in one hand.',\n",
       " 'It’s being awesome to buy an apple product simply awesome first time use so don’t know that much about device still apple clearly wins from android.🤓',\n",
       " 'Most powerful phone you can buy in 2019, Best Camera, Great Battery life, Decent Display, close your eyes and buy this ultimate phone, you’ll never regret it’s a complete package.',\n",
       " 'Awesome product and awesome experience . We are using this for last 3 months. Love the performance and happy about the affordable emi option as well. We have exchanged our old iPhone and got reasonable exchange price. And the delivery executive verified our old phone and handled the delivery very professionally and effectively without any confusion. Thank you Flipkart 😍😍😍',\n",
       " 'Bought iphone 11 last month. I must say that this is a good phone overall package for content creators, business persons. Very good camera quality. High end performance. Good screen and touch. But very expensive.',\n",
       " 'Overall I am happy with the Apple iPhone 11. For past four years I used one plus 3T and personally I loved the phone and have no complaints so far. I thought of initially upgrading to the latest OnePlus phone but seeing the negative remarks/opinions I changed my mind and went for iPhone and eventually felt it was a good decision. It will take some time to adjust to iPhone if you are an android user but truly you will love it after some time.Camera and performance of iPhone is superb.',\n",
       " 'Delivered on 16th, package was in excellent condition and the device is working perfectly.\\nThe phone has more of a smooth/flowing feeling as compared to android snappy feeling l…\\nAll in all a very good product to go for if you are not looking for 5g and screen quality-is far better than lcd standards nice color reproduction.',\n",
       " 'After using it for more than 3 months , I’m writing the review-\\n\\nCamera - excellent front and back (could have been better if night mode was present in front camera)\\n\\nFastness - extremely smooth and fast ( u May clearly experience it if u are shifting from android to iOS for the first time)\\n\\nBattery - Though it may appear that the battery is less than 3500 mAH , but believe me it’s much better than those android ones claiming 5000 mAH. U may easily keep on surfing internet and other things ...\\nREAD MORE',\n",
       " 'Really happy to get iphone 11. it has a good camera, good battery life and smooth touch. I ordered during sale and got pretty good discount.',\n",
       " \"Loved it, although images get pixelated while using vivid mode , but overall performance wise it's worth buying..\",\n",
       " 'Has some limitations as compared to android but it is stable and is overall a balanced package. I liked it. Thanks to seller, received a genuine product.',\n",
       " 'My experience with this phone was pretty good it a nice phone but in the battery section it needs to improve',\n",
       " 'Amazing product. Size is perfect not too big to hold in hand yet quite good screen size. Delivery was perfectly on time.',\n",
       " 'worth full product. its great experience thanks flipkart thanks I apple .camera quality awesome very smooth function .',\n",
       " 'One of the best value for money smartphone ever , As you know Apple phones have very powerful processors so they don’t get slow in next couple of years that easy or their software updates will be available till next 4-5 years !',\n",
       " 'I have upgraded from iPhone 7 to iPhone 11 ,and I have been using it since 3 months .\\nNo disappointment seen in this wonderful phone .\\nObviously it is a recommended product.\\nFlipkart service is quite good ,COD is available and you can check your phone in front of delivery person .\\n\\nOverall guarenteed recommended product',\n",
       " 'With this price (44999/-) product like iPhone 11 is one of the best choice. After iPhone 5 and iPhone 7 me upgraded to iPhone 11 - now I can feel the power of the phone.',\n",
       " 'Needless to say an Apple Phone is always the best to have. Great battery, wireless charging facility, good camera, and best in class security. ?',\n",
       " 'Apple always better than other and i reccomend u can afford this than u buy and enjoy with this..',\n",
       " 'After using it for nearly 1 month I feel its a great product\\n1. Battery comes a day long for normal usage. I used to get screen on time of more than 9 plus hours with more than normal usage.\\n2. Call quality is great\\n3. Charging without any heating with fast charger.\\n4. No heating observed with normal usage. that mean I didnt play any games on this device so cant comment how it behaves while playing some games.\\n5. Transition from Andriod to ios is great, flawless software optimization and cust...\\nREAD MORE',\n",
       " \"I am using IOS devices since last 4 years. So its not a new thing for me. But this model is such an extraordinary product that Apple has ever made. I am putting some points for helping other buyers.\\nBattery- Don't know what technology they are using in it, but literally it shocks everyone by its power consumption and backup. A big 👍 to Team Apple.\\nCamera- People are usually running behind the numbers of lenses. But when it comes to an Iphone, u don't need to count the lenses. Its Dynamic Ra...\\nREAD MORE\",\n",
       " \"No doubt why cost what it cost? No complain about any specifications a fluid, luxurious experience with all sturdy design and premium looks. Although the battery should be more and why on earth did Apple choose not to add a charger is out of any logic and excuses. Except for that the device is great to use and add Appley style to your looks. Let's be honest or else why would we go for iphone right? Some people face problem with 64 GB internal memory for those I would recommend buying a SanDis...\\nREAD MORE\"]"
      ]
     },
     "execution_count": 37,
     "metadata": {},
     "output_type": "execute_result"
    }
   ],
   "source": [
    "review_full"
   ]
  },
  {
   "cell_type": "code",
   "execution_count": 38,
   "metadata": {},
   "outputs": [],
   "source": [
    "data = list(zip(rating,review_short,review_full))"
   ]
  },
  {
   "cell_type": "code",
   "execution_count": 41,
   "metadata": {},
   "outputs": [],
   "source": [
    "df = pd.DataFrame(data,columns=['rating','review_short','review_full'])"
   ]
  },
  {
   "cell_type": "code",
   "execution_count": 42,
   "metadata": {},
   "outputs": [
    {
     "data": {
      "text/html": [
       "<div>\n",
       "<style scoped>\n",
       "    .dataframe tbody tr th:only-of-type {\n",
       "        vertical-align: middle;\n",
       "    }\n",
       "\n",
       "    .dataframe tbody tr th {\n",
       "        vertical-align: top;\n",
       "    }\n",
       "\n",
       "    .dataframe thead th {\n",
       "        text-align: right;\n",
       "    }\n",
       "</style>\n",
       "<table border=\"1\" class=\"dataframe\">\n",
       "  <thead>\n",
       "    <tr style=\"text-align: right;\">\n",
       "      <th></th>\n",
       "      <th>rating</th>\n",
       "      <th>review_short</th>\n",
       "      <th>review_full</th>\n",
       "    </tr>\n",
       "  </thead>\n",
       "  <tbody>\n",
       "    <tr>\n",
       "      <th>0</th>\n",
       "      <td>5</td>\n",
       "      <td>Classy product</td>\n",
       "      <td>Finally switched to iOS from android\\nThere is...</td>\n",
       "    </tr>\n",
       "    <tr>\n",
       "      <th>1</th>\n",
       "      <td>5</td>\n",
       "      <td>Terrific</td>\n",
       "      <td>Very good smartphone and value for smoother an...</td>\n",
       "    </tr>\n",
       "    <tr>\n",
       "      <th>2</th>\n",
       "      <td>5</td>\n",
       "      <td>Terrific</td>\n",
       "      <td>This is very nice phone with great camera, per...</td>\n",
       "    </tr>\n",
       "    <tr>\n",
       "      <th>3</th>\n",
       "      <td>5</td>\n",
       "      <td>Just wow!</td>\n",
       "      <td>Got delivered by good packing from Flipkart wi...</td>\n",
       "    </tr>\n",
       "    <tr>\n",
       "      <th>4</th>\n",
       "      <td>5</td>\n",
       "      <td>Fabulous!</td>\n",
       "      <td>Iphone is best ever but Flipkart delivered is ...</td>\n",
       "    </tr>\n",
       "    <tr>\n",
       "      <th>...</th>\n",
       "      <td>...</td>\n",
       "      <td>...</td>\n",
       "      <td>...</td>\n",
       "    </tr>\n",
       "    <tr>\n",
       "      <th>95</th>\n",
       "      <td>5</td>\n",
       "      <td>Great product</td>\n",
       "      <td>Needless to say an Apple Phone is always the b...</td>\n",
       "    </tr>\n",
       "    <tr>\n",
       "      <th>96</th>\n",
       "      <td>5</td>\n",
       "      <td>Worth every penny</td>\n",
       "      <td>Apple always better than other and i reccomend...</td>\n",
       "    </tr>\n",
       "    <tr>\n",
       "      <th>97</th>\n",
       "      <td>5</td>\n",
       "      <td>Terrific purchase</td>\n",
       "      <td>After using it for nearly 1 month I feel its a...</td>\n",
       "    </tr>\n",
       "    <tr>\n",
       "      <th>98</th>\n",
       "      <td>5</td>\n",
       "      <td>Awesome</td>\n",
       "      <td>I am using IOS devices since last 4 years. So ...</td>\n",
       "    </tr>\n",
       "    <tr>\n",
       "      <th>99</th>\n",
       "      <td>5</td>\n",
       "      <td>Simply awesome</td>\n",
       "      <td>No doubt why cost what it cost? No complain ab...</td>\n",
       "    </tr>\n",
       "  </tbody>\n",
       "</table>\n",
       "<p>100 rows × 3 columns</p>\n",
       "</div>"
      ],
      "text/plain": [
       "   rating       review_short  \\\n",
       "0       5     Classy product   \n",
       "1       5           Terrific   \n",
       "2       5           Terrific   \n",
       "3       5          Just wow!   \n",
       "4       5          Fabulous!   \n",
       "..    ...                ...   \n",
       "95      5      Great product   \n",
       "96      5  Worth every penny   \n",
       "97      5  Terrific purchase   \n",
       "98      5            Awesome   \n",
       "99      5     Simply awesome   \n",
       "\n",
       "                                          review_full  \n",
       "0   Finally switched to iOS from android\\nThere is...  \n",
       "1   Very good smartphone and value for smoother an...  \n",
       "2   This is very nice phone with great camera, per...  \n",
       "3   Got delivered by good packing from Flipkart wi...  \n",
       "4   Iphone is best ever but Flipkart delivered is ...  \n",
       "..                                                ...  \n",
       "95  Needless to say an Apple Phone is always the b...  \n",
       "96  Apple always better than other and i reccomend...  \n",
       "97  After using it for nearly 1 month I feel its a...  \n",
       "98  I am using IOS devices since last 4 years. So ...  \n",
       "99  No doubt why cost what it cost? No complain ab...  \n",
       "\n",
       "[100 rows x 3 columns]"
      ]
     },
     "execution_count": 42,
     "metadata": {},
     "output_type": "execute_result"
    }
   ],
   "source": [
    "df"
   ]
  },
  {
   "cell_type": "code",
   "execution_count": 62,
   "metadata": {},
   "outputs": [],
   "source": [
    "#  Q.6\n",
    "\n",
    "driver.get('https://www.flipkart.com/search?q=sneakers&as=on&as-show=on&otracker=AS_Query_OrganicAutoSuggest_3_2_na_na_na&otracker1=AS_Query_OrganicAutoSuggest_3_2_na_na_na&as-pos=3&as-type=RECENT&suggestionId=sneakers&requestId=837f9781-622c-430e-b586-db3d3b4d1053&as-searchtext=sn')"
   ]
  },
  {
   "cell_type": "code",
   "execution_count": 63,
   "metadata": {},
   "outputs": [],
   "source": [
    "Brand=[]"
   ]
  },
  {
   "cell_type": "code",
   "execution_count": 64,
   "metadata": {},
   "outputs": [
    {
     "name": "stderr",
     "output_type": "stream",
     "text": [
      "<ipython-input-64-7a37cfc0e872>:7: DeprecationWarning: find_elements_by_* commands are deprecated. Please use find_elements() instead\n",
      "  brands=driver.find_elements_by_class_name('_2WkVRV')#scraping brands name by class name='_2WkVRV'\n",
      "<ipython-input-64-7a37cfc0e872>:13: DeprecationWarning: find_elements_by_* commands are deprecated. Please use find_elements() instead\n",
      "  nxt_button=driver.find_elements_by_xpath(\"//a[@class='_1LKTO3']\")#scraping the list of buttons from the page\n"
     ]
    }
   ],
   "source": [
    "start= 0\n",
    "\n",
    "end=3\n",
    "\n",
    "for page in range(start,end):#for loop for scrapping 4 page\n",
    "\n",
    "    brands=driver.find_elements_by_class_name('_2WkVRV')#scraping brands name by class name='_2WkVRV'\n",
    "\n",
    "    for i in brands:\n",
    "\n",
    "        Brand.append(i.text)\n",
    "\n",
    "    nxt_button=driver.find_elements_by_xpath(\"//a[@class='_1LKTO3']\")#scraping the list of buttons from the page\n",
    "\n",
    "    try:\n",
    "\n",
    "        driver.get(nxt_button[1].get_attribute('href'))#getting the link from the list for next page\n",
    "\n",
    "    except:\n",
    "\n",
    "        driver.get(nxt_button[0].get_attribute('href'))"
   ]
  },
  {
   "cell_type": "code",
   "execution_count": 65,
   "metadata": {},
   "outputs": [],
   "source": [
    "product_description =[]"
   ]
  },
  {
   "cell_type": "code",
   "execution_count": 66,
   "metadata": {},
   "outputs": [
    {
     "name": "stderr",
     "output_type": "stream",
     "text": [
      "<ipython-input-66-50d0b7404b71>:7: DeprecationWarning: find_elements_by_* commands are deprecated. Please use find_elements() instead\n",
      "  products=driver.find_elements_by_class_name('IRpwTa')#scraping brands name by class name='_2WkVRV'\n",
      "<ipython-input-66-50d0b7404b71>:13: DeprecationWarning: find_elements_by_* commands are deprecated. Please use find_elements() instead\n",
      "  nxt_button=driver.find_elements_by_xpath(\"//a[@class='_1LKTO3']\")#scraping the list of buttons from the page\n"
     ]
    }
   ],
   "source": [
    "start=0\n",
    "\n",
    "end=3\n",
    "\n",
    "for page in range(start,end):#for loop for scrapping 4 page\n",
    "\n",
    "    products=driver.find_elements_by_class_name('IRpwTa')#scraping brands name by class name='_2WkVRV'\n",
    "\n",
    "    for i in products:\n",
    "\n",
    "        product_description.append(i.text)\n",
    "\n",
    "    nxt_button=driver.find_elements_by_xpath(\"//a[@class='_1LKTO3']\")#scraping the list of buttons from the page\n",
    "\n",
    "    try:\n",
    "\n",
    "        driver.get(nxt_button[1].get_attribute('href'))#getting the link from the list for next page\n",
    "\n",
    "    except:\n",
    "\n",
    "        driver.get(nxt_button[0].get_attribute('href'))"
   ]
  },
  {
   "cell_type": "code",
   "execution_count": 67,
   "metadata": {},
   "outputs": [],
   "source": [
    "price=[]"
   ]
  },
  {
   "cell_type": "code",
   "execution_count": 68,
   "metadata": {},
   "outputs": [
    {
     "name": "stderr",
     "output_type": "stream",
     "text": [
      "<ipython-input-68-ad4fde94eee8>:7: DeprecationWarning: find_elements_by_* commands are deprecated. Please use find_elements() instead\n",
      "  prices=driver.find_elements_by_class_name('_3bPFwb')#scraping brands name by class name='_2WkVRV'\n",
      "<ipython-input-68-ad4fde94eee8>:13: DeprecationWarning: find_elements_by_* commands are deprecated. Please use find_elements() instead\n",
      "  nxt_button=driver.find_elements_by_xpath(\"//a[@class='_1LKTO3']\")#scraping the list of buttons from the page\n"
     ]
    }
   ],
   "source": [
    "start=0\n",
    "\n",
    "end=3\n",
    "\n",
    "for page in range(start,end):#for loop for scrapping 4 page\n",
    "\n",
    "    prices=driver.find_elements_by_class_name('_3bPFwb')#scraping brands name by class name='_2WkVRV'\n",
    "\n",
    "    for i in prices:\n",
    "\n",
    "        price.append(i.text)\n",
    "\n",
    "    nxt_button=driver.find_elements_by_xpath(\"//a[@class='_1LKTO3']\")#scraping the list of buttons from the page\n",
    "\n",
    "    try:\n",
    "\n",
    "        driver.get(nxt_button[1].get_attribute('href'))#getting the link from the list for next page\n",
    "\n",
    "    except:\n",
    "\n",
    "        driver.get(nxt_button[0].get_attribute('href'))"
   ]
  },
  {
   "cell_type": "code",
   "execution_count": 70,
   "metadata": {},
   "outputs": [],
   "source": [
    "data = list(zip(Brand,product_description,price))"
   ]
  },
  {
   "cell_type": "code",
   "execution_count": 71,
   "metadata": {},
   "outputs": [],
   "source": [
    "df = pd.DataFrame(data,columns=['Brand','product_description','price'])"
   ]
  },
  {
   "cell_type": "code",
   "execution_count": 73,
   "metadata": {},
   "outputs": [
    {
     "data": {
      "text/html": [
       "<div>\n",
       "<style scoped>\n",
       "    .dataframe tbody tr th:only-of-type {\n",
       "        vertical-align: middle;\n",
       "    }\n",
       "\n",
       "    .dataframe tbody tr th {\n",
       "        vertical-align: top;\n",
       "    }\n",
       "\n",
       "    .dataframe thead th {\n",
       "        text-align: right;\n",
       "    }\n",
       "</style>\n",
       "<table border=\"1\" class=\"dataframe\">\n",
       "  <thead>\n",
       "    <tr style=\"text-align: right;\">\n",
       "      <th></th>\n",
       "      <th>Brand</th>\n",
       "      <th>product_description</th>\n",
       "      <th>price</th>\n",
       "    </tr>\n",
       "  </thead>\n",
       "  <tbody>\n",
       "    <tr>\n",
       "      <th>0</th>\n",
       "      <td>PUMA</td>\n",
       "      <td>Plank Eng Knit Slipon IDP Sneakers For Men</td>\n",
       "      <td>₹4,181₹6,99940% off</td>\n",
       "    </tr>\n",
       "    <tr>\n",
       "      <th>1</th>\n",
       "      <td>CHamps</td>\n",
       "      <td>Sneakers For Men</td>\n",
       "      <td>₹474₹99952% off</td>\n",
       "    </tr>\n",
       "    <tr>\n",
       "      <th>2</th>\n",
       "      <td>FOOTGRAB</td>\n",
       "      <td>Fashionable casual sneaker sports shoes Sneake...</td>\n",
       "      <td>₹2,635₹4,49941% off</td>\n",
       "    </tr>\n",
       "    <tr>\n",
       "      <th>3</th>\n",
       "      <td>Numenzo</td>\n",
       "      <td>X-Ray 2 Square Sneakers For Men</td>\n",
       "      <td>₹242₹69965% off</td>\n",
       "    </tr>\n",
       "    <tr>\n",
       "      <th>4</th>\n",
       "      <td>Magnolia</td>\n",
       "      <td>Sneakers For Men</td>\n",
       "      <td>₹249₹49950% off</td>\n",
       "    </tr>\n",
       "    <tr>\n",
       "      <th>...</th>\n",
       "      <td>...</td>\n",
       "      <td>...</td>\n",
       "      <td>...</td>\n",
       "    </tr>\n",
       "    <tr>\n",
       "      <th>95</th>\n",
       "      <td>Extoes</td>\n",
       "      <td>Classy Sneakers For Men</td>\n",
       "      <td>₹898₹1,49740% off</td>\n",
       "    </tr>\n",
       "    <tr>\n",
       "      <th>96</th>\n",
       "      <td>OUTALYFE</td>\n",
       "      <td>Sneakers For Men</td>\n",
       "      <td>₹1,679₹3,99958% off</td>\n",
       "    </tr>\n",
       "    <tr>\n",
       "      <th>97</th>\n",
       "      <td>BRUTON</td>\n",
       "      <td>Serve Pro Sneakers For Men</td>\n",
       "      <td>₹359₹2,40085% off</td>\n",
       "    </tr>\n",
       "    <tr>\n",
       "      <th>98</th>\n",
       "      <td>Absolute comfort</td>\n",
       "      <td>Canvas Sneaker Sneakers For Men</td>\n",
       "      <td>₹258₹69963% off</td>\n",
       "    </tr>\n",
       "    <tr>\n",
       "      <th>99</th>\n",
       "      <td>PUMA</td>\n",
       "      <td>PUMA X 1DER KL RAHUL Sneakers For Men</td>\n",
       "      <td>₹654₹99834% off</td>\n",
       "    </tr>\n",
       "  </tbody>\n",
       "</table>\n",
       "<p>100 rows × 3 columns</p>\n",
       "</div>"
      ],
      "text/plain": [
       "               Brand                                product_description  \\\n",
       "0               PUMA         Plank Eng Knit Slipon IDP Sneakers For Men   \n",
       "1             CHamps                                   Sneakers For Men   \n",
       "2           FOOTGRAB  Fashionable casual sneaker sports shoes Sneake...   \n",
       "3            Numenzo                    X-Ray 2 Square Sneakers For Men   \n",
       "4           Magnolia                                   Sneakers For Men   \n",
       "..               ...                                                ...   \n",
       "95            Extoes                            Classy Sneakers For Men   \n",
       "96          OUTALYFE                                   Sneakers For Men   \n",
       "97            BRUTON                         Serve Pro Sneakers For Men   \n",
       "98  Absolute comfort                    Canvas Sneaker Sneakers For Men   \n",
       "99              PUMA              PUMA X 1DER KL RAHUL Sneakers For Men   \n",
       "\n",
       "                  price  \n",
       "0   ₹4,181₹6,99940% off  \n",
       "1       ₹474₹99952% off  \n",
       "2   ₹2,635₹4,49941% off  \n",
       "3       ₹242₹69965% off  \n",
       "4       ₹249₹49950% off  \n",
       "..                  ...  \n",
       "95    ₹898₹1,49740% off  \n",
       "96  ₹1,679₹3,99958% off  \n",
       "97    ₹359₹2,40085% off  \n",
       "98      ₹258₹69963% off  \n",
       "99      ₹654₹99834% off  \n",
       "\n",
       "[100 rows x 3 columns]"
      ]
     },
     "execution_count": 73,
     "metadata": {},
     "output_type": "execute_result"
    }
   ],
   "source": [
    "df.head(100)"
   ]
  },
  {
   "cell_type": "code",
   "execution_count": 95,
   "metadata": {},
   "outputs": [],
   "source": [
    "#  Q.7\n",
    "driver.get('https://www.amazon.in/s?k=Laptop&ref=nb_sb_noss_2')"
   ]
  },
  {
   "cell_type": "code",
   "execution_count": 105,
   "metadata": {},
   "outputs": [
    {
     "name": "stderr",
     "output_type": "stream",
     "text": [
      "<ipython-input-105-533d228e254b>:8: DeprecationWarning: find_elements_by_* commands are deprecated. Please use find_elements() instead\n",
      "  filter_button = driver.find_elements_by_xpath(\"a[@class='a-link-normal s-navigation-item']/span\")\n"
     ]
    }
   ],
   "source": [
    "import time\n",
    "time.sleep(3)\n",
    "from selenium.common.exceptions import NoSuchElementException\n",
    "\n",
    "\n",
    "# Locating a Intel Core i7 filter\n",
    "\n",
    "filter_button = driver.find_elements_by_xpath(\"a[@class='a-link-normal s-navigation-item']/span\")\n",
    "for i in filter_button:\n",
    "    if i.text=='Intel Core i7':\n",
    "        i.click()\n",
    "        break"
   ]
  },
  {
   "cell_type": "code",
   "execution_count": 106,
   "metadata": {},
   "outputs": [
    {
     "name": "stderr",
     "output_type": "stream",
     "text": [
      "<ipython-input-106-a02dd7aa2813>:3: DeprecationWarning: find_elements_by_* commands are deprecated. Please use find_elements() instead\n",
      "  filter_button = driver.find_elements_by_xpath(\"a[@class='a-link-normal s-navigation-item']/span\")\n"
     ]
    }
   ],
   "source": [
    "# Locating a Intel Core i9 filter\n",
    "\n",
    "filter_button = driver.find_elements_by_xpath(\"a[@class='a-link-normal s-navigation-item']/span\")\n",
    "for i in filter_button:\n",
    "    if i.text=='Intel Core i9':\n",
    "        i.click()\n",
    "        break"
   ]
  },
  {
   "cell_type": "code",
   "execution_count": 107,
   "metadata": {
    "scrolled": false
   },
   "outputs": [
    {
     "name": "stderr",
     "output_type": "stream",
     "text": [
      "<ipython-input-107-4b13f80de938>:6: DeprecationWarning: find_element_by_* commands are deprecated. Please use find_element() instead\n",
      "  driver.find_element_by_xpath(\"ul[@class='a-pagination']/li[8]\").click()\n",
      "<ipython-input-107-4b13f80de938>:10: DeprecationWarning: find_element_by_* commands are deprecated. Please use find_element() instead\n",
      "  driver.find_element_by_xpath(\"ul[@class='a-pagination']/li[7]\").click()\n"
     ]
    },
    {
     "ename": "NoSuchElementException",
     "evalue": "Message: no such element: Unable to locate element: {\"method\":\"xpath\",\"selector\":\"ul[@class='a-pagination']/li[7]\"}\n  (Session info: chrome=95.0.4638.69)\nStacktrace:\nBacktrace:\n\tOrdinal0 [0x011D06F3+2492147]\n\tOrdinal0 [0x01169BD1+2071505]\n\tOrdinal0 [0x01072478+1057912]\n\tOrdinal0 [0x0109C964+1231204]\n\tOrdinal0 [0x010C6B62+1403746]\n\tOrdinal0 [0x010B57FA+1333242]\n\tOrdinal0 [0x010C4F38+1396536]\n\tOrdinal0 [0x010B568B+1332875]\n\tOrdinal0 [0x010921D4+1188308]\n\tOrdinal0 [0x0109302F+1191983]\n\tGetHandleVerifier [0x013567A6+1545030]\n\tGetHandleVerifier [0x0140105C+2243580]\n\tGetHandleVerifier [0x0125BC97+518199]\n\tGetHandleVerifier [0x0125AD80+514336]\n\tOrdinal0 [0x0116ED2D+2092333]\n\tOrdinal0 [0x01172EE8+2109160]\n\tOrdinal0 [0x01173022+2109474]\n\tOrdinal0 [0x0117CB71+2149233]\n\tBaseThreadInitThunk [0x776A41C8+40]\n\tLdrRemoveLoadAsDataTable [0x778728C1+401]\n\tLdrRemoveLoadAsDataTable [0x7787288F+351]\n",
     "output_type": "error",
     "traceback": [
      "\u001b[1;31m---------------------------------------------------------------------------\u001b[0m",
      "\u001b[1;31mNoSuchElementException\u001b[0m                    Traceback (most recent call last)",
      "\u001b[1;32m<ipython-input-107-4b13f80de938>\u001b[0m in \u001b[0;36m<module>\u001b[1;34m\u001b[0m\n\u001b[0;32m      5\u001b[0m     \u001b[1;32mtry\u001b[0m\u001b[1;33m:\u001b[0m\u001b[1;33m\u001b[0m\u001b[1;33m\u001b[0m\u001b[0m\n\u001b[1;32m----> 6\u001b[1;33m         \u001b[0mdriver\u001b[0m\u001b[1;33m.\u001b[0m\u001b[0mfind_element_by_xpath\u001b[0m\u001b[1;33m(\u001b[0m\u001b[1;34m\"ul[@class='a-pagination']/li[8]\"\u001b[0m\u001b[1;33m)\u001b[0m\u001b[1;33m.\u001b[0m\u001b[0mclick\u001b[0m\u001b[1;33m(\u001b[0m\u001b[1;33m)\u001b[0m\u001b[1;33m\u001b[0m\u001b[1;33m\u001b[0m\u001b[0m\n\u001b[0m\u001b[0;32m      7\u001b[0m \u001b[1;33m\u001b[0m\u001b[0m\n",
      "\u001b[1;32m~\\anaconda3\\lib\\site-packages\\selenium\\webdriver\\remote\\webdriver.py\u001b[0m in \u001b[0;36mfind_element_by_xpath\u001b[1;34m(self, xpath)\u001b[0m\n\u001b[0;32m    513\u001b[0m         )\n\u001b[1;32m--> 514\u001b[1;33m         \u001b[1;32mreturn\u001b[0m \u001b[0mself\u001b[0m\u001b[1;33m.\u001b[0m\u001b[0mfind_element\u001b[0m\u001b[1;33m(\u001b[0m\u001b[0mby\u001b[0m\u001b[1;33m=\u001b[0m\u001b[0mBy\u001b[0m\u001b[1;33m.\u001b[0m\u001b[0mXPATH\u001b[0m\u001b[1;33m,\u001b[0m \u001b[0mvalue\u001b[0m\u001b[1;33m=\u001b[0m\u001b[0mxpath\u001b[0m\u001b[1;33m)\u001b[0m\u001b[1;33m\u001b[0m\u001b[1;33m\u001b[0m\u001b[0m\n\u001b[0m\u001b[0;32m    515\u001b[0m \u001b[1;33m\u001b[0m\u001b[0m\n",
      "\u001b[1;32m~\\anaconda3\\lib\\site-packages\\selenium\\webdriver\\remote\\webdriver.py\u001b[0m in \u001b[0;36mfind_element\u001b[1;34m(self, by, value)\u001b[0m\n\u001b[0;32m   1237\u001b[0m \u001b[1;33m\u001b[0m\u001b[0m\n\u001b[1;32m-> 1238\u001b[1;33m         return self.execute(Command.FIND_ELEMENT, {\n\u001b[0m\u001b[0;32m   1239\u001b[0m             \u001b[1;34m'using'\u001b[0m\u001b[1;33m:\u001b[0m \u001b[0mby\u001b[0m\u001b[1;33m,\u001b[0m\u001b[1;33m\u001b[0m\u001b[1;33m\u001b[0m\u001b[0m\n",
      "\u001b[1;32m~\\anaconda3\\lib\\site-packages\\selenium\\webdriver\\remote\\webdriver.py\u001b[0m in \u001b[0;36mexecute\u001b[1;34m(self, driver_command, params)\u001b[0m\n\u001b[0;32m    417\u001b[0m         \u001b[1;32mif\u001b[0m \u001b[0mresponse\u001b[0m\u001b[1;33m:\u001b[0m\u001b[1;33m\u001b[0m\u001b[1;33m\u001b[0m\u001b[0m\n\u001b[1;32m--> 418\u001b[1;33m             \u001b[0mself\u001b[0m\u001b[1;33m.\u001b[0m\u001b[0merror_handler\u001b[0m\u001b[1;33m.\u001b[0m\u001b[0mcheck_response\u001b[0m\u001b[1;33m(\u001b[0m\u001b[0mresponse\u001b[0m\u001b[1;33m)\u001b[0m\u001b[1;33m\u001b[0m\u001b[1;33m\u001b[0m\u001b[0m\n\u001b[0m\u001b[0;32m    419\u001b[0m             response['value'] = self._unwrap_value(\n",
      "\u001b[1;32m~\\anaconda3\\lib\\site-packages\\selenium\\webdriver\\remote\\errorhandler.py\u001b[0m in \u001b[0;36mcheck_response\u001b[1;34m(self, response)\u001b[0m\n\u001b[0;32m    242\u001b[0m             \u001b[1;32mraise\u001b[0m \u001b[0mexception_class\u001b[0m\u001b[1;33m(\u001b[0m\u001b[0mmessage\u001b[0m\u001b[1;33m,\u001b[0m \u001b[0mscreen\u001b[0m\u001b[1;33m,\u001b[0m \u001b[0mstacktrace\u001b[0m\u001b[1;33m,\u001b[0m \u001b[0malert_text\u001b[0m\u001b[1;33m)\u001b[0m  \u001b[1;31m# type: ignore[call-arg]  # mypy is not smart enough here\u001b[0m\u001b[1;33m\u001b[0m\u001b[1;33m\u001b[0m\u001b[0m\n\u001b[1;32m--> 243\u001b[1;33m         \u001b[1;32mraise\u001b[0m \u001b[0mexception_class\u001b[0m\u001b[1;33m(\u001b[0m\u001b[0mmessage\u001b[0m\u001b[1;33m,\u001b[0m \u001b[0mscreen\u001b[0m\u001b[1;33m,\u001b[0m \u001b[0mstacktrace\u001b[0m\u001b[1;33m)\u001b[0m\u001b[1;33m\u001b[0m\u001b[1;33m\u001b[0m\u001b[0m\n\u001b[0m\u001b[0;32m    244\u001b[0m \u001b[1;33m\u001b[0m\u001b[0m\n",
      "\u001b[1;31mNoSuchElementException\u001b[0m: Message: no such element: Unable to locate element: {\"method\":\"xpath\",\"selector\":\"ul[@class='a-pagination']/li[8]\"}\n  (Session info: chrome=95.0.4638.69)\nStacktrace:\nBacktrace:\n\tOrdinal0 [0x011D06F3+2492147]\n\tOrdinal0 [0x01169BD1+2071505]\n\tOrdinal0 [0x01072478+1057912]\n\tOrdinal0 [0x0109C964+1231204]\n\tOrdinal0 [0x010C6B62+1403746]\n\tOrdinal0 [0x010B57FA+1333242]\n\tOrdinal0 [0x010C4F38+1396536]\n\tOrdinal0 [0x010B568B+1332875]\n\tOrdinal0 [0x010921D4+1188308]\n\tOrdinal0 [0x0109302F+1191983]\n\tGetHandleVerifier [0x013567A6+1545030]\n\tGetHandleVerifier [0x0140105C+2243580]\n\tGetHandleVerifier [0x0125BC97+518199]\n\tGetHandleVerifier [0x0125AD80+514336]\n\tOrdinal0 [0x0116ED2D+2092333]\n\tOrdinal0 [0x01172EE8+2109160]\n\tOrdinal0 [0x01173022+2109474]\n\tOrdinal0 [0x0117CB71+2149233]\n\tBaseThreadInitThunk [0x776A41C8+40]\n\tLdrRemoveLoadAsDataTable [0x778728C1+401]\n\tLdrRemoveLoadAsDataTable [0x7787288F+351]\n",
      "\nDuring handling of the above exception, another exception occurred:\n",
      "\u001b[1;31mNoSuchElementException\u001b[0m                    Traceback (most recent call last)",
      "\u001b[1;32m<ipython-input-107-4b13f80de938>\u001b[0m in \u001b[0;36m<module>\u001b[1;34m\u001b[0m\n\u001b[0;32m      8\u001b[0m     \u001b[1;32mexcept\u001b[0m\u001b[1;33m:\u001b[0m\u001b[1;33m\u001b[0m\u001b[1;33m\u001b[0m\u001b[0m\n\u001b[0;32m      9\u001b[0m \u001b[1;33m\u001b[0m\u001b[0m\n\u001b[1;32m---> 10\u001b[1;33m         \u001b[0mdriver\u001b[0m\u001b[1;33m.\u001b[0m\u001b[0mfind_element_by_xpath\u001b[0m\u001b[1;33m(\u001b[0m\u001b[1;34m\"ul[@class='a-pagination']/li[7]\"\u001b[0m\u001b[1;33m)\u001b[0m\u001b[1;33m.\u001b[0m\u001b[0mclick\u001b[0m\u001b[1;33m(\u001b[0m\u001b[1;33m)\u001b[0m\u001b[1;33m\u001b[0m\u001b[1;33m\u001b[0m\u001b[0m\n\u001b[0m",
      "\u001b[1;32m~\\anaconda3\\lib\\site-packages\\selenium\\webdriver\\remote\\webdriver.py\u001b[0m in \u001b[0;36mfind_element_by_xpath\u001b[1;34m(self, xpath)\u001b[0m\n\u001b[0;32m    512\u001b[0m             \u001b[0mstacklevel\u001b[0m\u001b[1;33m=\u001b[0m\u001b[1;36m2\u001b[0m\u001b[1;33m,\u001b[0m\u001b[1;33m\u001b[0m\u001b[1;33m\u001b[0m\u001b[0m\n\u001b[0;32m    513\u001b[0m         )\n\u001b[1;32m--> 514\u001b[1;33m         \u001b[1;32mreturn\u001b[0m \u001b[0mself\u001b[0m\u001b[1;33m.\u001b[0m\u001b[0mfind_element\u001b[0m\u001b[1;33m(\u001b[0m\u001b[0mby\u001b[0m\u001b[1;33m=\u001b[0m\u001b[0mBy\u001b[0m\u001b[1;33m.\u001b[0m\u001b[0mXPATH\u001b[0m\u001b[1;33m,\u001b[0m \u001b[0mvalue\u001b[0m\u001b[1;33m=\u001b[0m\u001b[0mxpath\u001b[0m\u001b[1;33m)\u001b[0m\u001b[1;33m\u001b[0m\u001b[1;33m\u001b[0m\u001b[0m\n\u001b[0m\u001b[0;32m    515\u001b[0m \u001b[1;33m\u001b[0m\u001b[0m\n\u001b[0;32m    516\u001b[0m     \u001b[1;32mdef\u001b[0m \u001b[0mfind_elements_by_xpath\u001b[0m\u001b[1;33m(\u001b[0m\u001b[0mself\u001b[0m\u001b[1;33m,\u001b[0m \u001b[0mxpath\u001b[0m\u001b[1;33m)\u001b[0m \u001b[1;33m->\u001b[0m \u001b[0mWebElement\u001b[0m\u001b[1;33m:\u001b[0m\u001b[1;33m\u001b[0m\u001b[1;33m\u001b[0m\u001b[0m\n",
      "\u001b[1;32m~\\anaconda3\\lib\\site-packages\\selenium\\webdriver\\remote\\webdriver.py\u001b[0m in \u001b[0;36mfind_element\u001b[1;34m(self, by, value)\u001b[0m\n\u001b[0;32m   1236\u001b[0m             \u001b[0mvalue\u001b[0m \u001b[1;33m=\u001b[0m \u001b[1;34m'[name=\"%s\"]'\u001b[0m \u001b[1;33m%\u001b[0m \u001b[0mvalue\u001b[0m\u001b[1;33m\u001b[0m\u001b[1;33m\u001b[0m\u001b[0m\n\u001b[0;32m   1237\u001b[0m \u001b[1;33m\u001b[0m\u001b[0m\n\u001b[1;32m-> 1238\u001b[1;33m         return self.execute(Command.FIND_ELEMENT, {\n\u001b[0m\u001b[0;32m   1239\u001b[0m             \u001b[1;34m'using'\u001b[0m\u001b[1;33m:\u001b[0m \u001b[0mby\u001b[0m\u001b[1;33m,\u001b[0m\u001b[1;33m\u001b[0m\u001b[1;33m\u001b[0m\u001b[0m\n\u001b[0;32m   1240\u001b[0m             'value': value})['value']\n",
      "\u001b[1;32m~\\anaconda3\\lib\\site-packages\\selenium\\webdriver\\remote\\webdriver.py\u001b[0m in \u001b[0;36mexecute\u001b[1;34m(self, driver_command, params)\u001b[0m\n\u001b[0;32m    416\u001b[0m         \u001b[0mresponse\u001b[0m \u001b[1;33m=\u001b[0m \u001b[0mself\u001b[0m\u001b[1;33m.\u001b[0m\u001b[0mcommand_executor\u001b[0m\u001b[1;33m.\u001b[0m\u001b[0mexecute\u001b[0m\u001b[1;33m(\u001b[0m\u001b[0mdriver_command\u001b[0m\u001b[1;33m,\u001b[0m \u001b[0mparams\u001b[0m\u001b[1;33m)\u001b[0m\u001b[1;33m\u001b[0m\u001b[1;33m\u001b[0m\u001b[0m\n\u001b[0;32m    417\u001b[0m         \u001b[1;32mif\u001b[0m \u001b[0mresponse\u001b[0m\u001b[1;33m:\u001b[0m\u001b[1;33m\u001b[0m\u001b[1;33m\u001b[0m\u001b[0m\n\u001b[1;32m--> 418\u001b[1;33m             \u001b[0mself\u001b[0m\u001b[1;33m.\u001b[0m\u001b[0merror_handler\u001b[0m\u001b[1;33m.\u001b[0m\u001b[0mcheck_response\u001b[0m\u001b[1;33m(\u001b[0m\u001b[0mresponse\u001b[0m\u001b[1;33m)\u001b[0m\u001b[1;33m\u001b[0m\u001b[1;33m\u001b[0m\u001b[0m\n\u001b[0m\u001b[0;32m    419\u001b[0m             response['value'] = self._unwrap_value(\n\u001b[0;32m    420\u001b[0m                 response.get('value', None))\n",
      "\u001b[1;32m~\\anaconda3\\lib\\site-packages\\selenium\\webdriver\\remote\\errorhandler.py\u001b[0m in \u001b[0;36mcheck_response\u001b[1;34m(self, response)\u001b[0m\n\u001b[0;32m    241\u001b[0m                 \u001b[0malert_text\u001b[0m \u001b[1;33m=\u001b[0m \u001b[0mvalue\u001b[0m\u001b[1;33m[\u001b[0m\u001b[1;34m'alert'\u001b[0m\u001b[1;33m]\u001b[0m\u001b[1;33m.\u001b[0m\u001b[0mget\u001b[0m\u001b[1;33m(\u001b[0m\u001b[1;34m'text'\u001b[0m\u001b[1;33m)\u001b[0m\u001b[1;33m\u001b[0m\u001b[1;33m\u001b[0m\u001b[0m\n\u001b[0;32m    242\u001b[0m             \u001b[1;32mraise\u001b[0m \u001b[0mexception_class\u001b[0m\u001b[1;33m(\u001b[0m\u001b[0mmessage\u001b[0m\u001b[1;33m,\u001b[0m \u001b[0mscreen\u001b[0m\u001b[1;33m,\u001b[0m \u001b[0mstacktrace\u001b[0m\u001b[1;33m,\u001b[0m \u001b[0malert_text\u001b[0m\u001b[1;33m)\u001b[0m  \u001b[1;31m# type: ignore[call-arg]  # mypy is not smart enough here\u001b[0m\u001b[1;33m\u001b[0m\u001b[1;33m\u001b[0m\u001b[0m\n\u001b[1;32m--> 243\u001b[1;33m         \u001b[1;32mraise\u001b[0m \u001b[0mexception_class\u001b[0m\u001b[1;33m(\u001b[0m\u001b[0mmessage\u001b[0m\u001b[1;33m,\u001b[0m \u001b[0mscreen\u001b[0m\u001b[1;33m,\u001b[0m \u001b[0mstacktrace\u001b[0m\u001b[1;33m)\u001b[0m\u001b[1;33m\u001b[0m\u001b[1;33m\u001b[0m\u001b[0m\n\u001b[0m\u001b[0;32m    244\u001b[0m \u001b[1;33m\u001b[0m\u001b[0m\n\u001b[0;32m    245\u001b[0m     \u001b[1;32mdef\u001b[0m \u001b[0m_value_or_default\u001b[0m\u001b[1;33m(\u001b[0m\u001b[0mself\u001b[0m\u001b[1;33m,\u001b[0m \u001b[0mobj\u001b[0m\u001b[1;33m:\u001b[0m \u001b[0mMapping\u001b[0m\u001b[1;33m[\u001b[0m\u001b[0m_KT\u001b[0m\u001b[1;33m,\u001b[0m \u001b[0m_VT\u001b[0m\u001b[1;33m]\u001b[0m\u001b[1;33m,\u001b[0m \u001b[0mkey\u001b[0m\u001b[1;33m:\u001b[0m \u001b[0m_KT\u001b[0m\u001b[1;33m,\u001b[0m \u001b[0mdefault\u001b[0m\u001b[1;33m:\u001b[0m \u001b[0m_VT\u001b[0m\u001b[1;33m)\u001b[0m \u001b[1;33m->\u001b[0m \u001b[0m_VT\u001b[0m\u001b[1;33m:\u001b[0m\u001b[1;33m\u001b[0m\u001b[1;33m\u001b[0m\u001b[0m\n",
      "\u001b[1;31mNoSuchElementException\u001b[0m: Message: no such element: Unable to locate element: {\"method\":\"xpath\",\"selector\":\"ul[@class='a-pagination']/li[7]\"}\n  (Session info: chrome=95.0.4638.69)\nStacktrace:\nBacktrace:\n\tOrdinal0 [0x011D06F3+2492147]\n\tOrdinal0 [0x01169BD1+2071505]\n\tOrdinal0 [0x01072478+1057912]\n\tOrdinal0 [0x0109C964+1231204]\n\tOrdinal0 [0x010C6B62+1403746]\n\tOrdinal0 [0x010B57FA+1333242]\n\tOrdinal0 [0x010C4F38+1396536]\n\tOrdinal0 [0x010B568B+1332875]\n\tOrdinal0 [0x010921D4+1188308]\n\tOrdinal0 [0x0109302F+1191983]\n\tGetHandleVerifier [0x013567A6+1545030]\n\tGetHandleVerifier [0x0140105C+2243580]\n\tGetHandleVerifier [0x0125BC97+518199]\n\tGetHandleVerifier [0x0125AD80+514336]\n\tOrdinal0 [0x0116ED2D+2092333]\n\tOrdinal0 [0x01172EE8+2109160]\n\tOrdinal0 [0x01173022+2109474]\n\tOrdinal0 [0x0117CB71+2149233]\n\tBaseThreadInitThunk [0x776A41C8+40]\n\tLdrRemoveLoadAsDataTable [0x778728C1+401]\n\tLdrRemoveLoadAsDataTable [0x7787288F+351]\n"
     ]
    }
   ],
   "source": [
    "for i in range(3):\n",
    "    \n",
    "    time.sleep(3)\n",
    "    \n",
    "    try:\n",
    "        driver.find_element_by_xpath(\"ul[@class='a-pagination']/li[8]\").click()\n",
    "        \n",
    "    except:\n",
    "        \n",
    "        driver.find_element_by_xpath(\"ul[@class='a-pagination']/li[7]\").click()"
   ]
  },
  {
   "cell_type": "code",
   "execution_count": 123,
   "metadata": {},
   "outputs": [],
   "source": [
    "driver.get('https://www.ambitionbox.com/salaries')"
   ]
  },
  {
   "cell_type": "code",
   "execution_count": 125,
   "metadata": {},
   "outputs": [
    {
     "name": "stderr",
     "output_type": "stream",
     "text": [
      "<ipython-input-125-18e819dff1e8>:1: DeprecationWarning: find_elements_by_* commands are deprecated. Please use find_elements() instead\n",
      "  company = driver.find_elements_by_class_name(\"//p[@class='jp-name']/span\")\n"
     ]
    },
    {
     "ename": "InvalidSelectorException",
     "evalue": "Message: invalid selector: An invalid or illegal selector was specified\n  (Session info: chrome=95.0.4638.69)\nStacktrace:\nBacktrace:\n\tOrdinal0 [0x011D06F3+2492147]\n\tOrdinal0 [0x01169BD1+2071505]\n\tOrdinal0 [0x01072478+1057912]\n\tOrdinal0 [0x01074BA4+1067940]\n\tOrdinal0 [0x01074A6E+1067630]\n\tOrdinal0 [0x01074CD0+1068240]\n\tOrdinal0 [0x0109C6A8+1230504]\n\tOrdinal0 [0x010C6B9C+1403804]\n\tOrdinal0 [0x010B57FA+1333242]\n\tOrdinal0 [0x010C4F38+1396536]\n\tOrdinal0 [0x010B568B+1332875]\n\tOrdinal0 [0x010921D4+1188308]\n\tOrdinal0 [0x0109302F+1191983]\n\tGetHandleVerifier [0x013567A6+1545030]\n\tGetHandleVerifier [0x0140105C+2243580]\n\tGetHandleVerifier [0x0125BC97+518199]\n\tGetHandleVerifier [0x0125AD80+514336]\n\tOrdinal0 [0x0116ED2D+2092333]\n\tOrdinal0 [0x01172EE8+2109160]\n\tOrdinal0 [0x01173022+2109474]\n\tOrdinal0 [0x0117CB71+2149233]\n\tBaseThreadInitThunk [0x776A41C8+40]\n\tLdrRemoveLoadAsDataTable [0x778728C1+401]\n\tLdrRemoveLoadAsDataTable [0x7787288F+351]\n",
     "output_type": "error",
     "traceback": [
      "\u001b[1;31m---------------------------------------------------------------------------\u001b[0m",
      "\u001b[1;31mInvalidSelectorException\u001b[0m                  Traceback (most recent call last)",
      "\u001b[1;32m<ipython-input-125-18e819dff1e8>\u001b[0m in \u001b[0;36m<module>\u001b[1;34m\u001b[0m\n\u001b[1;32m----> 1\u001b[1;33m \u001b[0mcompany\u001b[0m \u001b[1;33m=\u001b[0m \u001b[0mdriver\u001b[0m\u001b[1;33m.\u001b[0m\u001b[0mfind_elements_by_class_name\u001b[0m\u001b[1;33m(\u001b[0m\u001b[1;34m\"//p[@class='jp-name']/span\"\u001b[0m\u001b[1;33m)\u001b[0m\u001b[1;33m\u001b[0m\u001b[1;33m\u001b[0m\u001b[0m\n\u001b[0m\u001b[0;32m      2\u001b[0m \u001b[0mcompany_name\u001b[0m \u001b[1;33m=\u001b[0m \u001b[1;33m[\u001b[0m\u001b[1;33m]\u001b[0m\u001b[1;33m\u001b[0m\u001b[1;33m\u001b[0m\u001b[0m\n\u001b[0;32m      3\u001b[0m \u001b[1;32mfor\u001b[0m \u001b[0mi\u001b[0m \u001b[1;32min\u001b[0m \u001b[0mcompany\u001b[0m\u001b[1;33m[\u001b[0m\u001b[1;36m0\u001b[0m\u001b[1;33m:\u001b[0m\u001b[1;36m10\u001b[0m\u001b[1;33m]\u001b[0m\u001b[1;33m:\u001b[0m\u001b[1;33m\u001b[0m\u001b[1;33m\u001b[0m\u001b[0m\n\u001b[0;32m      4\u001b[0m     \u001b[0mcompany_name\u001b[0m\u001b[1;33m.\u001b[0m\u001b[0mappend\u001b[0m\u001b[1;33m(\u001b[0m\u001b[0mi\u001b[0m\u001b[1;33m.\u001b[0m\u001b[0mtext\u001b[0m\u001b[1;33m)\u001b[0m\u001b[1;33m\u001b[0m\u001b[1;33m\u001b[0m\u001b[0m\n\u001b[0;32m      5\u001b[0m \u001b[1;33m\u001b[0m\u001b[0m\n",
      "\u001b[1;32m~\\anaconda3\\lib\\site-packages\\selenium\\webdriver\\remote\\webdriver.py\u001b[0m in \u001b[0;36mfind_elements_by_class_name\u001b[1;34m(self, name)\u001b[0m\n\u001b[0;32m    775\u001b[0m             \u001b[0mstacklevel\u001b[0m\u001b[1;33m=\u001b[0m\u001b[1;36m2\u001b[0m\u001b[1;33m,\u001b[0m\u001b[1;33m\u001b[0m\u001b[1;33m\u001b[0m\u001b[0m\n\u001b[0;32m    776\u001b[0m         )\n\u001b[1;32m--> 777\u001b[1;33m         \u001b[1;32mreturn\u001b[0m \u001b[0mself\u001b[0m\u001b[1;33m.\u001b[0m\u001b[0mfind_elements\u001b[0m\u001b[1;33m(\u001b[0m\u001b[0mby\u001b[0m\u001b[1;33m=\u001b[0m\u001b[0mBy\u001b[0m\u001b[1;33m.\u001b[0m\u001b[0mCLASS_NAME\u001b[0m\u001b[1;33m,\u001b[0m \u001b[0mvalue\u001b[0m\u001b[1;33m=\u001b[0m\u001b[0mname\u001b[0m\u001b[1;33m)\u001b[0m\u001b[1;33m\u001b[0m\u001b[1;33m\u001b[0m\u001b[0m\n\u001b[0m\u001b[0;32m    778\u001b[0m \u001b[1;33m\u001b[0m\u001b[0m\n\u001b[0;32m    779\u001b[0m     \u001b[1;32mdef\u001b[0m \u001b[0mfind_element_by_css_selector\u001b[0m\u001b[1;33m(\u001b[0m\u001b[0mself\u001b[0m\u001b[1;33m,\u001b[0m \u001b[0mcss_selector\u001b[0m\u001b[1;33m)\u001b[0m \u001b[1;33m->\u001b[0m \u001b[0mWebElement\u001b[0m\u001b[1;33m:\u001b[0m\u001b[1;33m\u001b[0m\u001b[1;33m\u001b[0m\u001b[0m\n",
      "\u001b[1;32m~\\anaconda3\\lib\\site-packages\\selenium\\webdriver\\remote\\webdriver.py\u001b[0m in \u001b[0;36mfind_elements\u001b[1;34m(self, by, value)\u001b[0m\n\u001b[0;32m   1271\u001b[0m         \u001b[1;31m# Return empty list if driver returns null\u001b[0m\u001b[1;33m\u001b[0m\u001b[1;33m\u001b[0m\u001b[1;33m\u001b[0m\u001b[0m\n\u001b[0;32m   1272\u001b[0m         \u001b[1;31m# See https://github.com/SeleniumHQ/selenium/issues/4555\u001b[0m\u001b[1;33m\u001b[0m\u001b[1;33m\u001b[0m\u001b[1;33m\u001b[0m\u001b[0m\n\u001b[1;32m-> 1273\u001b[1;33m         return self.execute(Command.FIND_ELEMENTS, {\n\u001b[0m\u001b[0;32m   1274\u001b[0m             \u001b[1;34m'using'\u001b[0m\u001b[1;33m:\u001b[0m \u001b[0mby\u001b[0m\u001b[1;33m,\u001b[0m\u001b[1;33m\u001b[0m\u001b[1;33m\u001b[0m\u001b[0m\n\u001b[0;32m   1275\u001b[0m             'value': value})['value'] or []\n",
      "\u001b[1;32m~\\anaconda3\\lib\\site-packages\\selenium\\webdriver\\remote\\webdriver.py\u001b[0m in \u001b[0;36mexecute\u001b[1;34m(self, driver_command, params)\u001b[0m\n\u001b[0;32m    416\u001b[0m         \u001b[0mresponse\u001b[0m \u001b[1;33m=\u001b[0m \u001b[0mself\u001b[0m\u001b[1;33m.\u001b[0m\u001b[0mcommand_executor\u001b[0m\u001b[1;33m.\u001b[0m\u001b[0mexecute\u001b[0m\u001b[1;33m(\u001b[0m\u001b[0mdriver_command\u001b[0m\u001b[1;33m,\u001b[0m \u001b[0mparams\u001b[0m\u001b[1;33m)\u001b[0m\u001b[1;33m\u001b[0m\u001b[1;33m\u001b[0m\u001b[0m\n\u001b[0;32m    417\u001b[0m         \u001b[1;32mif\u001b[0m \u001b[0mresponse\u001b[0m\u001b[1;33m:\u001b[0m\u001b[1;33m\u001b[0m\u001b[1;33m\u001b[0m\u001b[0m\n\u001b[1;32m--> 418\u001b[1;33m             \u001b[0mself\u001b[0m\u001b[1;33m.\u001b[0m\u001b[0merror_handler\u001b[0m\u001b[1;33m.\u001b[0m\u001b[0mcheck_response\u001b[0m\u001b[1;33m(\u001b[0m\u001b[0mresponse\u001b[0m\u001b[1;33m)\u001b[0m\u001b[1;33m\u001b[0m\u001b[1;33m\u001b[0m\u001b[0m\n\u001b[0m\u001b[0;32m    419\u001b[0m             response['value'] = self._unwrap_value(\n\u001b[0;32m    420\u001b[0m                 response.get('value', None))\n",
      "\u001b[1;32m~\\anaconda3\\lib\\site-packages\\selenium\\webdriver\\remote\\errorhandler.py\u001b[0m in \u001b[0;36mcheck_response\u001b[1;34m(self, response)\u001b[0m\n\u001b[0;32m    241\u001b[0m                 \u001b[0malert_text\u001b[0m \u001b[1;33m=\u001b[0m \u001b[0mvalue\u001b[0m\u001b[1;33m[\u001b[0m\u001b[1;34m'alert'\u001b[0m\u001b[1;33m]\u001b[0m\u001b[1;33m.\u001b[0m\u001b[0mget\u001b[0m\u001b[1;33m(\u001b[0m\u001b[1;34m'text'\u001b[0m\u001b[1;33m)\u001b[0m\u001b[1;33m\u001b[0m\u001b[1;33m\u001b[0m\u001b[0m\n\u001b[0;32m    242\u001b[0m             \u001b[1;32mraise\u001b[0m \u001b[0mexception_class\u001b[0m\u001b[1;33m(\u001b[0m\u001b[0mmessage\u001b[0m\u001b[1;33m,\u001b[0m \u001b[0mscreen\u001b[0m\u001b[1;33m,\u001b[0m \u001b[0mstacktrace\u001b[0m\u001b[1;33m,\u001b[0m \u001b[0malert_text\u001b[0m\u001b[1;33m)\u001b[0m  \u001b[1;31m# type: ignore[call-arg]  # mypy is not smart enough here\u001b[0m\u001b[1;33m\u001b[0m\u001b[1;33m\u001b[0m\u001b[0m\n\u001b[1;32m--> 243\u001b[1;33m         \u001b[1;32mraise\u001b[0m \u001b[0mexception_class\u001b[0m\u001b[1;33m(\u001b[0m\u001b[0mmessage\u001b[0m\u001b[1;33m,\u001b[0m \u001b[0mscreen\u001b[0m\u001b[1;33m,\u001b[0m \u001b[0mstacktrace\u001b[0m\u001b[1;33m)\u001b[0m\u001b[1;33m\u001b[0m\u001b[1;33m\u001b[0m\u001b[0m\n\u001b[0m\u001b[0;32m    244\u001b[0m \u001b[1;33m\u001b[0m\u001b[0m\n\u001b[0;32m    245\u001b[0m     \u001b[1;32mdef\u001b[0m \u001b[0m_value_or_default\u001b[0m\u001b[1;33m(\u001b[0m\u001b[0mself\u001b[0m\u001b[1;33m,\u001b[0m \u001b[0mobj\u001b[0m\u001b[1;33m:\u001b[0m \u001b[0mMapping\u001b[0m\u001b[1;33m[\u001b[0m\u001b[0m_KT\u001b[0m\u001b[1;33m,\u001b[0m \u001b[0m_VT\u001b[0m\u001b[1;33m]\u001b[0m\u001b[1;33m,\u001b[0m \u001b[0mkey\u001b[0m\u001b[1;33m:\u001b[0m \u001b[0m_KT\u001b[0m\u001b[1;33m,\u001b[0m \u001b[0mdefault\u001b[0m\u001b[1;33m:\u001b[0m \u001b[0m_VT\u001b[0m\u001b[1;33m)\u001b[0m \u001b[1;33m->\u001b[0m \u001b[0m_VT\u001b[0m\u001b[1;33m:\u001b[0m\u001b[1;33m\u001b[0m\u001b[1;33m\u001b[0m\u001b[0m\n",
      "\u001b[1;31mInvalidSelectorException\u001b[0m: Message: invalid selector: An invalid or illegal selector was specified\n  (Session info: chrome=95.0.4638.69)\nStacktrace:\nBacktrace:\n\tOrdinal0 [0x011D06F3+2492147]\n\tOrdinal0 [0x01169BD1+2071505]\n\tOrdinal0 [0x01072478+1057912]\n\tOrdinal0 [0x01074BA4+1067940]\n\tOrdinal0 [0x01074A6E+1067630]\n\tOrdinal0 [0x01074CD0+1068240]\n\tOrdinal0 [0x0109C6A8+1230504]\n\tOrdinal0 [0x010C6B9C+1403804]\n\tOrdinal0 [0x010B57FA+1333242]\n\tOrdinal0 [0x010C4F38+1396536]\n\tOrdinal0 [0x010B568B+1332875]\n\tOrdinal0 [0x010921D4+1188308]\n\tOrdinal0 [0x0109302F+1191983]\n\tGetHandleVerifier [0x013567A6+1545030]\n\tGetHandleVerifier [0x0140105C+2243580]\n\tGetHandleVerifier [0x0125BC97+518199]\n\tGetHandleVerifier [0x0125AD80+514336]\n\tOrdinal0 [0x0116ED2D+2092333]\n\tOrdinal0 [0x01172EE8+2109160]\n\tOrdinal0 [0x01173022+2109474]\n\tOrdinal0 [0x0117CB71+2149233]\n\tBaseThreadInitThunk [0x776A41C8+40]\n\tLdrRemoveLoadAsDataTable [0x778728C1+401]\n\tLdrRemoveLoadAsDataTable [0x7787288F+351]\n"
     ]
    }
   ],
   "source": [
    "company = driver.find_elements_by_class_name(\"//p[@class='jp-name']/span\")\n",
    "company_name = []\n",
    "for i in company[0:10]:\n",
    "    company_name.append(i.text)\n",
    "    "
   ]
  },
  {
   "cell_type": "code",
   "execution_count": null,
   "metadata": {},
   "outputs": [],
   "source": []
  }
 ],
 "metadata": {
  "kernelspec": {
   "display_name": "Python 3",
   "language": "python",
   "name": "python3"
  },
  "language_info": {
   "codemirror_mode": {
    "name": "ipython",
    "version": 3
   },
   "file_extension": ".py",
   "mimetype": "text/x-python",
   "name": "python",
   "nbconvert_exporter": "python",
   "pygments_lexer": "ipython3",
   "version": "3.8.5"
  }
 },
 "nbformat": 4,
 "nbformat_minor": 4
}
