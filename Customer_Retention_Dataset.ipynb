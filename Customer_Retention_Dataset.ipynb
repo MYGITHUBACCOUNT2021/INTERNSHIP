{
 "cells": [
  {
   "cell_type": "code",
   "execution_count": 1,
   "metadata": {},
   "outputs": [],
   "source": [
    "import numpy as np\n",
    "import pandas as pd"
   ]
  },
  {
   "cell_type": "code",
   "execution_count": 48,
   "metadata": {},
   "outputs": [],
   "source": [
    "df = pd.read_excel(r\"C:\\Users\\acer\\Desktop\\retention_dataset.xlsx\")"
   ]
  },
  {
   "cell_type": "code",
   "execution_count": 49,
   "metadata": {},
   "outputs": [
    {
     "data": {
      "text/html": [
       "<div>\n",
       "<style scoped>\n",
       "    .dataframe tbody tr th:only-of-type {\n",
       "        vertical-align: middle;\n",
       "    }\n",
       "\n",
       "    .dataframe tbody tr th {\n",
       "        vertical-align: top;\n",
       "    }\n",
       "\n",
       "    .dataframe thead th {\n",
       "        text-align: right;\n",
       "    }\n",
       "</style>\n",
       "<table border=\"1\" class=\"dataframe\">\n",
       "  <thead>\n",
       "    <tr style=\"text-align: right;\">\n",
       "      <th></th>\n",
       "      <th>Gender</th>\n",
       "      <th>Years</th>\n",
       "      <th>city</th>\n",
       "      <th>pin_code</th>\n",
       "      <th>Shopping Online</th>\n",
       "      <th>online purchase in the past 1 year</th>\n",
       "      <th>ow do you access the internet while shopping</th>\n",
       "      <th>device  use to access the online shopping</th>\n",
       "      <th>screen size</th>\n",
       "      <th>operating system</th>\n",
       "      <th>...</th>\n",
       "      <th>Longer time to get logged in</th>\n",
       "      <th>Longer time in displaying graphics and photos</th>\n",
       "      <th>Late declaration of price</th>\n",
       "      <th>Longer page loading time</th>\n",
       "      <th>Limited mode of payment on most products</th>\n",
       "      <th>Longer delivery period</th>\n",
       "      <th>Change in website or Application design</th>\n",
       "      <th>Frequent disruption when moving from one page to another</th>\n",
       "      <th>Website is as efficient as before</th>\n",
       "      <th>Indian online retailer would you recommend to a friend</th>\n",
       "    </tr>\n",
       "  </thead>\n",
       "  <tbody>\n",
       "    <tr>\n",
       "      <th>0</th>\n",
       "      <td>Male</td>\n",
       "      <td>31-40 years</td>\n",
       "      <td>Delhi</td>\n",
       "      <td>110009</td>\n",
       "      <td>Above 4 years</td>\n",
       "      <td>31-40 times</td>\n",
       "      <td>Dial-up</td>\n",
       "      <td>Desktop</td>\n",
       "      <td>Others</td>\n",
       "      <td>Window/windows Mobile</td>\n",
       "      <td>...</td>\n",
       "      <td>Amazon.in</td>\n",
       "      <td>Amazon.in</td>\n",
       "      <td>Flipkart.com</td>\n",
       "      <td>Flipkart.com</td>\n",
       "      <td>Amazon.in</td>\n",
       "      <td>Paytm.com</td>\n",
       "      <td>Flipkart.com</td>\n",
       "      <td>Amazon.in</td>\n",
       "      <td>Amazon.in</td>\n",
       "      <td>Flipkart.com</td>\n",
       "    </tr>\n",
       "    <tr>\n",
       "      <th>1</th>\n",
       "      <td>Female</td>\n",
       "      <td>21-30 years</td>\n",
       "      <td>Delhi</td>\n",
       "      <td>110030</td>\n",
       "      <td>Above 4 years</td>\n",
       "      <td>41 times and above</td>\n",
       "      <td>Wi-Fi</td>\n",
       "      <td>Smartphone</td>\n",
       "      <td>4.7 inches</td>\n",
       "      <td>IOS/Mac</td>\n",
       "      <td>...</td>\n",
       "      <td>Amazon.in, Flipkart.com</td>\n",
       "      <td>Myntra.com</td>\n",
       "      <td>snapdeal.com</td>\n",
       "      <td>Snapdeal.com</td>\n",
       "      <td>Snapdeal.com</td>\n",
       "      <td>Snapdeal.com</td>\n",
       "      <td>Amazon.in</td>\n",
       "      <td>Myntra.com</td>\n",
       "      <td>Amazon.in, Flipkart.com</td>\n",
       "      <td>Amazon.in, Myntra.com</td>\n",
       "    </tr>\n",
       "    <tr>\n",
       "      <th>2</th>\n",
       "      <td>Female</td>\n",
       "      <td>21-30 years</td>\n",
       "      <td>Greater Noida</td>\n",
       "      <td>201308</td>\n",
       "      <td>3-4 years</td>\n",
       "      <td>41 times and above</td>\n",
       "      <td>Mobile Internet</td>\n",
       "      <td>Smartphone</td>\n",
       "      <td>5.5 inches</td>\n",
       "      <td>Android</td>\n",
       "      <td>...</td>\n",
       "      <td>Myntra.com</td>\n",
       "      <td>Myntra.com</td>\n",
       "      <td>Myntra.com</td>\n",
       "      <td>Myntra.com</td>\n",
       "      <td>Amazon.in</td>\n",
       "      <td>Paytm.com</td>\n",
       "      <td>Paytm.com</td>\n",
       "      <td>Paytm.com</td>\n",
       "      <td>Amazon.in</td>\n",
       "      <td>Amazon.in, Paytm.com, Myntra.com</td>\n",
       "    </tr>\n",
       "    <tr>\n",
       "      <th>3</th>\n",
       "      <td>Male</td>\n",
       "      <td>21-30 years</td>\n",
       "      <td>Karnal</td>\n",
       "      <td>132001</td>\n",
       "      <td>3-4 years</td>\n",
       "      <td>Less than 10 times</td>\n",
       "      <td>Mobile Internet</td>\n",
       "      <td>Smartphone</td>\n",
       "      <td>5.5 inches</td>\n",
       "      <td>IOS/Mac</td>\n",
       "      <td>...</td>\n",
       "      <td>Snapdeal.com</td>\n",
       "      <td>Myntra.com, Snapdeal.com</td>\n",
       "      <td>Myntra.com</td>\n",
       "      <td>Paytm.com</td>\n",
       "      <td>Paytm.com</td>\n",
       "      <td>Paytm.com</td>\n",
       "      <td>Amazon.in, Flipkart.com</td>\n",
       "      <td>Amazon.in, Flipkart.com</td>\n",
       "      <td>Amazon.in, Flipkart.com, Paytm.com</td>\n",
       "      <td>Amazon.in, Flipkart.com</td>\n",
       "    </tr>\n",
       "    <tr>\n",
       "      <th>4</th>\n",
       "      <td>Female</td>\n",
       "      <td>21-30 years</td>\n",
       "      <td>Bangalore</td>\n",
       "      <td>530068</td>\n",
       "      <td>2-3 years</td>\n",
       "      <td>11-20 times</td>\n",
       "      <td>Wi-Fi</td>\n",
       "      <td>Smartphone</td>\n",
       "      <td>4.7 inches</td>\n",
       "      <td>IOS/Mac</td>\n",
       "      <td>...</td>\n",
       "      <td>Flipkart.com, Paytm.com</td>\n",
       "      <td>Paytm.com</td>\n",
       "      <td>Paytm.com</td>\n",
       "      <td>Paytm.com</td>\n",
       "      <td>Snapdeal.com</td>\n",
       "      <td>Paytm.com</td>\n",
       "      <td>Amazon.in</td>\n",
       "      <td>Snapdeal.com</td>\n",
       "      <td>Paytm.com</td>\n",
       "      <td>Amazon.in, Myntra.com</td>\n",
       "    </tr>\n",
       "    <tr>\n",
       "      <th>...</th>\n",
       "      <td>...</td>\n",
       "      <td>...</td>\n",
       "      <td>...</td>\n",
       "      <td>...</td>\n",
       "      <td>...</td>\n",
       "      <td>...</td>\n",
       "      <td>...</td>\n",
       "      <td>...</td>\n",
       "      <td>...</td>\n",
       "      <td>...</td>\n",
       "      <td>...</td>\n",
       "      <td>...</td>\n",
       "      <td>...</td>\n",
       "      <td>...</td>\n",
       "      <td>...</td>\n",
       "      <td>...</td>\n",
       "      <td>...</td>\n",
       "      <td>...</td>\n",
       "      <td>...</td>\n",
       "      <td>...</td>\n",
       "      <td>...</td>\n",
       "    </tr>\n",
       "    <tr>\n",
       "      <th>264</th>\n",
       "      <td>Female</td>\n",
       "      <td>21-30 years</td>\n",
       "      <td>Solan</td>\n",
       "      <td>173212</td>\n",
       "      <td>1-2 years</td>\n",
       "      <td>Less than 10 times</td>\n",
       "      <td>Mobile Internet</td>\n",
       "      <td>Smartphone</td>\n",
       "      <td>5.5 inches</td>\n",
       "      <td>Android</td>\n",
       "      <td>...</td>\n",
       "      <td>Amazon.in</td>\n",
       "      <td>Amazon.in</td>\n",
       "      <td>Amazon.in</td>\n",
       "      <td>Amazon.in</td>\n",
       "      <td>Amazon.in</td>\n",
       "      <td>Amazon.in</td>\n",
       "      <td>Amazon.in</td>\n",
       "      <td>Amazon.in</td>\n",
       "      <td>Amazon.in</td>\n",
       "      <td>Amazon.in</td>\n",
       "    </tr>\n",
       "    <tr>\n",
       "      <th>265</th>\n",
       "      <td>Female</td>\n",
       "      <td>31-40 years</td>\n",
       "      <td>Ghaziabad</td>\n",
       "      <td>201008</td>\n",
       "      <td>1-2 years</td>\n",
       "      <td>31-40 times</td>\n",
       "      <td>Mobile Internet</td>\n",
       "      <td>Smartphone</td>\n",
       "      <td>Others</td>\n",
       "      <td>Android</td>\n",
       "      <td>...</td>\n",
       "      <td>Flipkart.com</td>\n",
       "      <td>Flipkart.com</td>\n",
       "      <td>Flipkart.com</td>\n",
       "      <td>Flipkart.com</td>\n",
       "      <td>Flipkart.com</td>\n",
       "      <td>Flipkart.com</td>\n",
       "      <td>Flipkart.com</td>\n",
       "      <td>Flipkart.com</td>\n",
       "      <td>Flipkart.com</td>\n",
       "      <td>Flipkart.com</td>\n",
       "    </tr>\n",
       "    <tr>\n",
       "      <th>266</th>\n",
       "      <td>Female</td>\n",
       "      <td>41-50 yaers</td>\n",
       "      <td>Bangalore</td>\n",
       "      <td>560010</td>\n",
       "      <td>2-3 years</td>\n",
       "      <td>Less than 10 times</td>\n",
       "      <td>Mobile internet</td>\n",
       "      <td>Laptop</td>\n",
       "      <td>Others</td>\n",
       "      <td>Window/windows Mobile</td>\n",
       "      <td>...</td>\n",
       "      <td>Amazon.in</td>\n",
       "      <td>Snapdeal.com</td>\n",
       "      <td>Amazon.in</td>\n",
       "      <td>Snapdeal.com</td>\n",
       "      <td>Snapdeal.com</td>\n",
       "      <td>Snapdeal.com</td>\n",
       "      <td>Snapdeal.com</td>\n",
       "      <td>Snapdeal.com</td>\n",
       "      <td>Amazon.in</td>\n",
       "      <td>Amazon.in</td>\n",
       "    </tr>\n",
       "    <tr>\n",
       "      <th>267</th>\n",
       "      <td>Female</td>\n",
       "      <td>Less than 20 years</td>\n",
       "      <td>Solan</td>\n",
       "      <td>173229</td>\n",
       "      <td>2-3 years</td>\n",
       "      <td>Less than 10 times</td>\n",
       "      <td>Wi-Fi</td>\n",
       "      <td>Smartphone</td>\n",
       "      <td>5.5 inches</td>\n",
       "      <td>Android</td>\n",
       "      <td>...</td>\n",
       "      <td>Amazon.in</td>\n",
       "      <td>Amazon.in, Myntra.com, Snapdeal.com</td>\n",
       "      <td>Amazon.in</td>\n",
       "      <td>Amazon.in, Snapdeal.com</td>\n",
       "      <td>Amazon.in</td>\n",
       "      <td>Amazon.in</td>\n",
       "      <td>Amazon.in</td>\n",
       "      <td>Myntra.com, Snapdeal.com</td>\n",
       "      <td>Myntra.com, Snapdeal.com</td>\n",
       "      <td>Amazon.in</td>\n",
       "    </tr>\n",
       "    <tr>\n",
       "      <th>268</th>\n",
       "      <td>Female</td>\n",
       "      <td>41-50 yaers</td>\n",
       "      <td>Ghaziabad</td>\n",
       "      <td>201009</td>\n",
       "      <td>2-3 years</td>\n",
       "      <td>31-40 times</td>\n",
       "      <td>Mobile Internet</td>\n",
       "      <td>Smartphone</td>\n",
       "      <td>5.5 inches</td>\n",
       "      <td>Android</td>\n",
       "      <td>...</td>\n",
       "      <td>Amazon.in</td>\n",
       "      <td>Amazon.in</td>\n",
       "      <td>Amazon.in</td>\n",
       "      <td>Amazon.in</td>\n",
       "      <td>Amazon.in</td>\n",
       "      <td>Amazon.in</td>\n",
       "      <td>Amazon.in</td>\n",
       "      <td>Amazon.in</td>\n",
       "      <td>Amazon.in</td>\n",
       "      <td>Amazon.in</td>\n",
       "    </tr>\n",
       "  </tbody>\n",
       "</table>\n",
       "<p>269 rows × 71 columns</p>\n",
       "</div>"
      ],
      "text/plain": [
       "     Gender               Years           city  pin_code Shopping Online  \\\n",
       "0      Male         31-40 years          Delhi    110009   Above 4 years   \n",
       "1    Female         21-30 years          Delhi    110030   Above 4 years   \n",
       "2    Female         21-30 years  Greater Noida    201308       3-4 years   \n",
       "3      Male         21-30 years        Karnal     132001       3-4 years   \n",
       "4    Female         21-30 years     Bangalore     530068       2-3 years   \n",
       "..      ...                 ...            ...       ...             ...   \n",
       "264  Female         21-30 years          Solan    173212       1-2 years   \n",
       "265  Female         31-40 years      Ghaziabad    201008       1-2 years   \n",
       "266  Female         41-50 yaers     Bangalore     560010       2-3 years   \n",
       "267  Female  Less than 20 years          Solan    173229       2-3 years   \n",
       "268  Female         41-50 yaers      Ghaziabad    201009       2-3 years   \n",
       "\n",
       "    online purchase in the past 1 year  \\\n",
       "0                          31-40 times   \n",
       "1                   41 times and above   \n",
       "2                   41 times and above   \n",
       "3                   Less than 10 times   \n",
       "4                          11-20 times   \n",
       "..                                 ...   \n",
       "264                 Less than 10 times   \n",
       "265                        31-40 times   \n",
       "266                 Less than 10 times   \n",
       "267                 Less than 10 times   \n",
       "268                        31-40 times   \n",
       "\n",
       "    ow do you access the internet while shopping  \\\n",
       "0                                        Dial-up   \n",
       "1                                          Wi-Fi   \n",
       "2                                Mobile Internet   \n",
       "3                                Mobile Internet   \n",
       "4                                          Wi-Fi   \n",
       "..                                           ...   \n",
       "264                              Mobile Internet   \n",
       "265                              Mobile Internet   \n",
       "266                              Mobile internet   \n",
       "267                                        Wi-Fi   \n",
       "268                              Mobile Internet   \n",
       "\n",
       "    device  use to access the online shopping  screen size   \\\n",
       "0                                     Desktop        Others   \n",
       "1                                  Smartphone    4.7 inches   \n",
       "2                                  Smartphone    5.5 inches   \n",
       "3                                  Smartphone    5.5 inches   \n",
       "4                                  Smartphone    4.7 inches   \n",
       "..                                        ...           ...   \n",
       "264                                Smartphone    5.5 inches   \n",
       "265                                Smartphone        Others   \n",
       "266                                    Laptop        Others   \n",
       "267                                Smartphone    5.5 inches   \n",
       "268                                Smartphone    5.5 inches   \n",
       "\n",
       "          operating system  ... Longer time to get logged in  \\\n",
       "0    Window/windows Mobile  ...                    Amazon.in   \n",
       "1                  IOS/Mac  ...      Amazon.in, Flipkart.com   \n",
       "2                  Android  ...                   Myntra.com   \n",
       "3                  IOS/Mac  ...                 Snapdeal.com   \n",
       "4                  IOS/Mac  ...      Flipkart.com, Paytm.com   \n",
       "..                     ...  ...                          ...   \n",
       "264                Android  ...                    Amazon.in   \n",
       "265                Android  ...                 Flipkart.com   \n",
       "266  Window/windows Mobile  ...                    Amazon.in   \n",
       "267                Android  ...                    Amazon.in   \n",
       "268                Android  ...                    Amazon.in   \n",
       "\n",
       "    Longer time in displaying graphics and photos Late declaration of price  \\\n",
       "0                                       Amazon.in              Flipkart.com   \n",
       "1                                      Myntra.com              snapdeal.com   \n",
       "2                                      Myntra.com                Myntra.com   \n",
       "3                        Myntra.com, Snapdeal.com                Myntra.com   \n",
       "4                                       Paytm.com                 Paytm.com   \n",
       "..                                            ...                       ...   \n",
       "264                                     Amazon.in                 Amazon.in   \n",
       "265                                  Flipkart.com              Flipkart.com   \n",
       "266                                  Snapdeal.com                 Amazon.in   \n",
       "267           Amazon.in, Myntra.com, Snapdeal.com                 Amazon.in   \n",
       "268                                     Amazon.in                 Amazon.in   \n",
       "\n",
       "    Longer page loading time Limited mode of payment on most products  \\\n",
       "0               Flipkart.com                                Amazon.in   \n",
       "1               Snapdeal.com                             Snapdeal.com   \n",
       "2                 Myntra.com                                Amazon.in   \n",
       "3                  Paytm.com                                Paytm.com   \n",
       "4                  Paytm.com                             Snapdeal.com   \n",
       "..                       ...                                      ...   \n",
       "264                Amazon.in                                Amazon.in   \n",
       "265             Flipkart.com                             Flipkart.com   \n",
       "266             Snapdeal.com                             Snapdeal.com   \n",
       "267  Amazon.in, Snapdeal.com                                Amazon.in   \n",
       "268                Amazon.in                                Amazon.in   \n",
       "\n",
       "    Longer delivery period Change in website or Application design  \\\n",
       "0                Paytm.com                            Flipkart.com   \n",
       "1             Snapdeal.com                               Amazon.in   \n",
       "2                Paytm.com                               Paytm.com   \n",
       "3                Paytm.com                 Amazon.in, Flipkart.com   \n",
       "4                Paytm.com                               Amazon.in   \n",
       "..                     ...                                     ...   \n",
       "264              Amazon.in                               Amazon.in   \n",
       "265           Flipkart.com                            Flipkart.com   \n",
       "266           Snapdeal.com                            Snapdeal.com   \n",
       "267              Amazon.in                               Amazon.in   \n",
       "268              Amazon.in                               Amazon.in   \n",
       "\n",
       "    Frequent disruption when moving from one page to another  \\\n",
       "0                                            Amazon.in         \n",
       "1                                           Myntra.com         \n",
       "2                                            Paytm.com         \n",
       "3                              Amazon.in, Flipkart.com         \n",
       "4                                         Snapdeal.com         \n",
       "..                                                 ...         \n",
       "264                                          Amazon.in         \n",
       "265                                       Flipkart.com         \n",
       "266                                       Snapdeal.com         \n",
       "267                           Myntra.com, Snapdeal.com         \n",
       "268                                          Amazon.in         \n",
       "\n",
       "      Website is as efficient as before  \\\n",
       "0                             Amazon.in   \n",
       "1               Amazon.in, Flipkart.com   \n",
       "2                             Amazon.in   \n",
       "3    Amazon.in, Flipkart.com, Paytm.com   \n",
       "4                             Paytm.com   \n",
       "..                                  ...   \n",
       "264                           Amazon.in   \n",
       "265                        Flipkart.com   \n",
       "266                           Amazon.in   \n",
       "267            Myntra.com, Snapdeal.com   \n",
       "268                           Amazon.in   \n",
       "\n",
       "     Indian online retailer would you recommend to a friend  \n",
       "0                                         Flipkart.com       \n",
       "1                                Amazon.in, Myntra.com       \n",
       "2                     Amazon.in, Paytm.com, Myntra.com       \n",
       "3                              Amazon.in, Flipkart.com       \n",
       "4                                Amazon.in, Myntra.com       \n",
       "..                                                 ...       \n",
       "264                                          Amazon.in       \n",
       "265                                       Flipkart.com       \n",
       "266                                          Amazon.in       \n",
       "267                                          Amazon.in       \n",
       "268                                          Amazon.in       \n",
       "\n",
       "[269 rows x 71 columns]"
      ]
     },
     "execution_count": 49,
     "metadata": {},
     "output_type": "execute_result"
    }
   ],
   "source": [
    "df"
   ]
  },
  {
   "cell_type": "code",
   "execution_count": 50,
   "metadata": {},
   "outputs": [
    {
     "data": {
      "text/plain": [
       "Index(['Gender', 'Years', 'city', 'pin_code', 'Shopping Online',\n",
       "       'online purchase in the past 1 year',\n",
       "       'ow do you access the internet while shopping',\n",
       "       'device  use to access the online shopping', ' screen size ',\n",
       "       'operating system', 'browser ', 'channel',\n",
       "       'After first visi  how do you reach the online retail store',\n",
       "       'Time do you explore the e- retail store before making a purchase decision',\n",
       "       'payment Option',\n",
       "       'selecting an items and leaving without making payment',\n",
       "       'Why did you abandon the Bag or Shopping Cart',\n",
       "       'The content on the website must be easy to read and understand',\n",
       "       'Information on similar product to the one highlighted  is important for product comparison',\n",
       "       'Complete information on listed seller and product being offered is important for purchase decision',\n",
       "       'All relevant information on listed products must be stated clearly',\n",
       "       'Ease of navigation in website', 'Loading and processing speed',\n",
       "       'User friendly Interface of the website', 'Convenient Payment methods',\n",
       "       'Trust that the online retail store will fulfill its part of the transaction at the stipulated time',\n",
       "       'readiness to assist with queries',\n",
       "       'Being able to guarantee the privacy of the customer',\n",
       "       'availability of several communication channels',\n",
       "       'Online shopping gives monetary benefit and discounts',\n",
       "       'Enjoyment is derived from shopping online',\n",
       "       'Shopping online is convenient and flexible',\n",
       "       'Return and replacement policy  is important for purchase decision',\n",
       "       'Gaining access to loyalty programs is a benefit of shopping online',\n",
       "       'Displaying quality Information on the website improves satisfaction of customers',\n",
       "       'User derive satisfaction while shopping on a good quality website or application',\n",
       "       'Net Benefit derived from shopping online can lead to users satisfaction',\n",
       "       'User satisfaction cannot exist without trust',\n",
       "       'Offering a wide variety of listed product in several category',\n",
       "       'Provision of complete and relevant product information',\n",
       "       'Monetary savings', 'Convenience of patronizing the online retailer',\n",
       "       'Shopping on the website gives you the sense of adventure',\n",
       "       'Shopping on your preferred e-tailer enhances your social status',\n",
       "       ' You feel gratification shopping on your favorite e-tailer',\n",
       "       'Shopping on the website helps you fulfill certain roles',\n",
       "       'Getting value for money spent',\n",
       "       'online retailers you have shopped from',\n",
       "       'Easy to use website or application',\n",
       "       'Visual appealing web-page layout', 'Wild variety of product on offer',\n",
       "       'relevant description information of products',\n",
       "       'Fast loading website or application',\n",
       "       'Reliability of the website or application',\n",
       "       'Quickness to complete purchase',\n",
       "       'Availability of several payment options', 'Speedy order delivery ',\n",
       "       'Privacy of customer information',\n",
       "       'Security of customer financial information',\n",
       "       'Perceived Trustworthiness',\n",
       "       'Presence of online assistance through multi-channel',\n",
       "       'Longer time to get logged in',\n",
       "       'Longer time in displaying graphics and photos',\n",
       "       'Late declaration of price', 'Longer page loading time',\n",
       "       'Limited mode of payment on most products', 'Longer delivery period',\n",
       "       'Change in website or Application design',\n",
       "       'Frequent disruption when moving from one page to another',\n",
       "       'Website is as efficient as before',\n",
       "       ' Indian online retailer would you recommend to a friend'],\n",
       "      dtype='object')"
      ]
     },
     "execution_count": 50,
     "metadata": {},
     "output_type": "execute_result"
    }
   ],
   "source": [
    "df.columns"
   ]
  },
  {
   "cell_type": "code",
   "execution_count": 51,
   "metadata": {},
   "outputs": [
    {
     "data": {
      "text/plain": [
       "Gender                                                      0\n",
       "Years                                                       0\n",
       "city                                                        0\n",
       "pin_code                                                    0\n",
       "Shopping Online                                             0\n",
       "                                                           ..\n",
       "Longer delivery period                                      0\n",
       "Change in website or Application design                     0\n",
       "Frequent disruption when moving from one page to another    0\n",
       "Website is as efficient as before                           0\n",
       " Indian online retailer would you recommend to a friend     0\n",
       "Length: 71, dtype: int64"
      ]
     },
     "execution_count": 51,
     "metadata": {},
     "output_type": "execute_result"
    }
   ],
   "source": [
    "df.isnull().sum()"
   ]
  },
  {
   "cell_type": "markdown",
   "metadata": {},
   "source": [
    "EDA"
   ]
  },
  {
   "cell_type": "code",
   "execution_count": 52,
   "metadata": {},
   "outputs": [],
   "source": [
    "import seaborn as sns\n",
    "import matplotlib.pyplot as plt"
   ]
  },
  {
   "cell_type": "code",
   "execution_count": 60,
   "metadata": {},
   "outputs": [
    {
     "name": "stderr",
     "output_type": "stream",
     "text": [
      "C:\\Users\\acer\\anaconda3\\lib\\site-packages\\seaborn\\_decorators.py:36: FutureWarning: Pass the following variable as a keyword arg: x. From version 0.12, the only valid positional argument will be `data`, and passing other arguments without an explicit keyword will result in an error or misinterpretation.\n",
      "  warnings.warn(\n"
     ]
    },
    {
     "data": {
      "text/plain": [
       "Female    181\n",
       "Male       88\n",
       "Name: Gender, dtype: int64"
      ]
     },
     "execution_count": 60,
     "metadata": {},
     "output_type": "execute_result"
    },
    {
     "data": {
      "image/png": "[encoded data removed]",
      "text/plain": [
       "<Figure size 360x360 with 1 Axes>"
      ]
     },
     "metadata": {
      "needs_background": "light"
     },
     "output_type": "display_data"
    }
   ],
   "source": [
    "plt.figure(figsize=(5,5))\n",
    "sns.countplot(df['Gender'])\n",
    "df['Gender'].value_counts()"
   ]
  },
  {
   "cell_type": "markdown",
   "metadata": {},
   "source": [
    "As per above observation\n",
    "No.s of Male and Female are below\n",
    "\n",
    "Female    181\n",
    "\n",
    "Male       88"
   ]
  },
  {
   "cell_type": "code",
   "execution_count": 54,
   "metadata": {
    "scrolled": true
   },
   "outputs": [
    {
     "name": "stderr",
     "output_type": "stream",
     "text": [
      "C:\\Users\\acer\\anaconda3\\lib\\site-packages\\seaborn\\_decorators.py:36: FutureWarning: Pass the following variable as a keyword arg: x. From version 0.12, the only valid positional argument will be `data`, and passing other arguments without an explicit keyword will result in an error or misinterpretation.\n",
      "  warnings.warn(\n"
     ]
    },
    {
     "data": {
      "text/plain": [
       "31-40 years           81\n",
       "21-30 years           79\n",
       "41-50 yaers           70\n",
       "Less than 20 years    20\n",
       "51 years and above    19\n",
       "Name: Years, dtype: int64"
      ]
     },
     "execution_count": 54,
     "metadata": {},
     "output_type": "execute_result"
    },
    {
     "data": {
      "image/png": "[encoded data removed]",
      "text/plain": [
       "<Figure size 720x360 with 1 Axes>"
      ]
     },
     "metadata": {
      "needs_background": "light"
     },
     "output_type": "display_data"
    }
   ],
   "source": [
    "plt.figure(figsize=(10,5))\n",
    "sns.countplot(df['Years'])\n",
    "df['Years'].value_counts()"
   ]
  },
  {
   "cell_type": "markdown",
   "metadata": {},
   "source": [
    "As per above observation majorities of online shoppers are fall into 31-40 years group and less in 51 years and above\n",
    "\n",
    "31-40 years :          81\n",
    "\n",
    "21-30 years  :         79\n",
    "\n",
    "41-50 yaers  :         70\n",
    "\n",
    "Less than 20 years :   20\n",
    "\n",
    "51 years and above  :  19"
   ]
  },
  {
   "cell_type": "code",
   "execution_count": 55,
   "metadata": {},
   "outputs": [
    {
     "name": "stderr",
     "output_type": "stream",
     "text": [
      "C:\\Users\\acer\\anaconda3\\lib\\site-packages\\seaborn\\_decorators.py:36: FutureWarning: Pass the following variable as a keyword arg: x. From version 0.12, the only valid positional argument will be `data`, and passing other arguments without an explicit keyword will result in an error or misinterpretation.\n",
      "  warnings.warn(\n"
     ]
    },
    {
     "data": {
      "text/plain": [
       "Delhi            58\n",
       "Greater Noida    43\n",
       "Noida            40\n",
       "Bangalore        37\n",
       "Karnal           27\n",
       "Solan            18\n",
       "Ghaziabad        18\n",
       "Gurgaon          12\n",
       "Merrut            9\n",
       "Moradabad         5\n",
       "Bulandshahr       2\n",
       "Name: city, dtype: int64"
      ]
     },
     "execution_count": 55,
     "metadata": {},
     "output_type": "execute_result"
    },
    {
     "data": {
      "image/png": "[encoded data removed]",
      "text/plain": [
       "<Figure size 864x360 with 1 Axes>"
      ]
     },
     "metadata": {
      "needs_background": "light"
     },
     "output_type": "display_data"
    }
   ],
   "source": [
    "plt.figure(figsize=(12,5))\n",
    "sns.countplot(df['city'])\n",
    "df['city'].value_counts()"
   ]
  },
  {
   "cell_type": "markdown",
   "metadata": {},
   "source": [
    "Delhi   :         58\n",
    "\n",
    "Greater Noida :    43\n",
    "\n",
    "Noida       :     40\n",
    "\n",
    "Bangalore    :    37\n",
    "\n",
    "Karnal        :   27\n",
    "\n",
    "Solan         :   18\n",
    "\n",
    "Ghaziabad     :   18\n",
    "\n",
    "Gurgaon       :   12\n",
    "\n",
    "Merrut        :    9\n",
    "\n",
    "Moradabad     :    5\n",
    "\n",
    "Bulandshahr   :    2\n",
    "\n",
    "\n",
    "As per above observation no. of online shoppings are more in delhi and less in Bulandshahr\n"
   ]
  },
  {
   "cell_type": "code",
   "execution_count": 56,
   "metadata": {},
   "outputs": [
    {
     "name": "stderr",
     "output_type": "stream",
     "text": [
      "C:\\Users\\acer\\anaconda3\\lib\\site-packages\\seaborn\\_decorators.py:36: FutureWarning: Pass the following variable as a keyword arg: x. From version 0.12, the only valid positional argument will be `data`, and passing other arguments without an explicit keyword will result in an error or misinterpretation.\n",
      "  warnings.warn(\n"
     ]
    },
    {
     "data": {
      "text/plain": [
       "Above 4 years       98\n",
       "2-3 years           65\n",
       "3-4 years           47\n",
       "Less than 1 year    43\n",
       "1-2 years           16\n",
       "Name: Shopping Online, dtype: int64"
      ]
     },
     "execution_count": 56,
     "metadata": {},
     "output_type": "execute_result"
    },
    {
     "data": {
      "image/png": "[encoded data removed]",
      "text/plain": [
       "<Figure size 864x360 with 1 Axes>"
      ]
     },
     "metadata": {
      "needs_background": "light"
     },
     "output_type": "display_data"
    }
   ],
   "source": [
    "plt.figure(figsize=(12,5))\n",
    "sns.countplot(df['Shopping Online'])\n",
    "df['Shopping Online'].value_counts()"
   ]
  },
  {
   "cell_type": "markdown",
   "metadata": {},
   "source": [
    "As per the above observation \n",
    "\n",
    "98 people are doing  Online Shopping Since Above 4 years , \n",
    "\n",
    "65 people are doing  Online Shopping since 2-3 years,\n",
    "\n",
    "47 people are doing  Online Shopping since 3-4 years, \n",
    "\n",
    "43 people are doing  Online Shopping since Less than 1 year,\n",
    "\n",
    "16 people are doing  Online Shopping since 1-2 years\n"
   ]
  },
  {
   "cell_type": "code",
   "execution_count": 57,
   "metadata": {},
   "outputs": [
    {
     "name": "stderr",
     "output_type": "stream",
     "text": [
      "C:\\Users\\acer\\anaconda3\\lib\\site-packages\\seaborn\\_decorators.py:36: FutureWarning: Pass the following variable as a keyword arg: x. From version 0.12, the only valid positional argument will be `data`, and passing other arguments without an explicit keyword will result in an error or misinterpretation.\n",
      "  warnings.warn(\n"
     ]
    },
    {
     "data": {
      "text/plain": [
       "Less than 10 times    114\n",
       "31-40 times            63\n",
       "41 times and above     47\n",
       "11-20 times            29\n",
       "21-30 times            10\n",
       "42 times and above      6\n",
       "Name: online purchase in the past 1 year, dtype: int64"
      ]
     },
     "execution_count": 57,
     "metadata": {},
     "output_type": "execute_result"
    },
    {
     "data": {
      "image/png": "[encoded data removed]",
      "text/plain": [
       "<Figure size 864x360 with 1 Axes>"
      ]
     },
     "metadata": {
      "needs_background": "light"
     },
     "output_type": "display_data"
    }
   ],
   "source": [
    "plt.figure(figsize=(12,5))\n",
    "sns.countplot(df['online purchase in the past 1 year'])\n",
    "df['online purchase in the past 1 year'].value_counts()"
   ]
  },
  {
   "cell_type": "markdown",
   "metadata": {},
   "source": [
    "online purchase in the past 1 year are mentioned below:\n",
    "\n",
    "Less than 10 times  =  114\n",
    "\n",
    "31-40 times      =      63\n",
    "\n",
    "41 times and above =     47\n",
    "\n",
    "11-20 times        =    29\n",
    "\n",
    "21-30 times         =   10\n",
    "\n",
    "42 times and above   =   6\n",
    "    \n"
   ]
  },
  {
   "cell_type": "code",
   "execution_count": 58,
   "metadata": {},
   "outputs": [
    {
     "name": "stderr",
     "output_type": "stream",
     "text": [
      "C:\\Users\\acer\\anaconda3\\lib\\site-packages\\seaborn\\_decorators.py:36: FutureWarning: Pass the following variable as a keyword arg: x. From version 0.12, the only valid positional argument will be `data`, and passing other arguments without an explicit keyword will result in an error or misinterpretation.\n",
      "  warnings.warn(\n"
     ]
    },
    {
     "data": {
      "text/plain": [
       "Mobile internet    142\n",
       "Wi-Fi               76\n",
       "Mobile Internet     47\n",
       "Dial-up              4\n",
       "Name: ow do you access the internet while shopping, dtype: int64"
      ]
     },
     "execution_count": 58,
     "metadata": {},
     "output_type": "execute_result"
    },
    {
     "data": {
      "image/png": "[encoded data removed]",
      "text/plain": [
       "<Figure size 864x360 with 1 Axes>"
      ]
     },
     "metadata": {
      "needs_background": "light"
     },
     "output_type": "display_data"
    }
   ],
   "source": [
    "plt.figure(figsize=(12,5))\n",
    "sns.countplot(df['ow do you access the internet while shopping'])\n",
    "df['ow do you access the internet while shopping'].value_counts()\n"
   ]
  },
  {
   "cell_type": "markdown",
   "metadata": {},
   "source": [
    "As per above observation maximmum people accessing  the Mobile internet while shopping,details are mentioned below\n",
    "\n",
    "Mobile internet  =  142\n",
    "\n",
    "Wi-Fi     =          76\n",
    "\n",
    "Mobile Internet   =  47\n",
    "\n",
    "Dial-up         =     4"
   ]
  },
  {
   "cell_type": "code",
   "execution_count": null,
   "metadata": {},
   "outputs": [],
   "source": []
  }
 ],
 "metadata": {
  "kernelspec": {
   "display_name": "Python 3",
   "language": "python",
   "name": "python3"
  },
  "language_info": {
   "codemirror_mode": {
    "name": "ipython",
    "version": 3
   },
   "file_extension": ".py",
   "mimetype": "text/x-python",
   "name": "python",
   "nbconvert_exporter": "python",
   "pygments_lexer": "ipython3",
   "version": "3.8.5"
  }
 },
 "nbformat": 4,
 "nbformat_minor": 4
}
