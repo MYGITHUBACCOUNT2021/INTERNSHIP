{
 "cells": [
  {
   "cell_type": "code",
   "execution_count": 15,
   "metadata": {},
   "outputs": [
    {
     "name": "stderr",
     "output_type": "stream",
     "text": [
      "<ipython-input-15-96c1293fdd0e>:8: DeprecationWarning: executable_path has been deprecated, please pass in a Service object\n",
      "  driver = webdriver.Chrome(PATH)\n"
     ]
    }
   ],
   "source": [
    "# Q.1\n",
    "\n",
    "#downloading important libraries\n",
    "import selenium\n",
    "\n",
    "from selenium import webdriver\n",
    "PATH = 'C:\\Program Files\\TeamViewer\\chromedriver.exe' #extracting path of the webdriver\n",
    "driver = webdriver.Chrome(PATH)\n",
    "\n",
    "from selenium.webdriver.common.keys import Keys"
   ]
  },
  {
   "cell_type": "code",
   "execution_count": 25,
   "metadata": {},
   "outputs": [],
   "source": [
    "#fetching url of naukri\n",
    "driver.get('https://www.naukri.com/')"
   ]
  },
  {
   "cell_type": "code",
   "execution_count": 26,
   "metadata": {
    "scrolled": true
   },
   "outputs": [
    {
     "name": "stderr",
     "output_type": "stream",
     "text": [
      "<ipython-input-26-0eaa9b1fbc5f>:2: DeprecationWarning: find_element_by_* commands are deprecated. Please use find_element() instead\n",
      "  search_job = driver.find_element_by_id('qsb-keyword-sugg')\n",
      "<ipython-input-26-0eaa9b1fbc5f>:5: DeprecationWarning: find_element_by_* commands are deprecated. Please use find_element() instead\n",
      "  search_loc = driver.find_element_by_id('qsb-location-sugg')\n",
      "<ipython-input-26-0eaa9b1fbc5f>:8: DeprecationWarning: find_element_by_* commands are deprecated. Please use find_element() instead\n",
      "  search_btn = driver.find_element_by_xpath(\"//button[@class='btn']\")\n"
     ]
    }
   ],
   "source": [
    "#giving input for job title as Data Analyst\n",
    "search_job = driver.find_element_by_id('qsb-keyword-sugg')\n",
    "search_job.send_keys('Data Analyst')\n",
    "#giving input for job location as Bangalore\n",
    "search_loc = driver.find_element_by_id('qsb-location-sugg')\n",
    "search_loc.send_keys('Bangalore')\n",
    "#code to click on search button\n",
    "search_btn = driver.find_element_by_xpath(\"//button[@class='btn']\")\n",
    "search_btn.click()"
   ]
  },
  {
   "cell_type": "code",
   "execution_count": 7,
   "metadata": {},
   "outputs": [
    {
     "name": "stderr",
     "output_type": "stream",
     "text": [
      "<ipython-input-7-bf70bf4bc80e>:2: DeprecationWarning: find_elements_by_* commands are deprecated. Please use find_elements() instead\n",
      "  title = driver.find_elements_by_xpath(\"//a[@class='title fw500 ellipsis']\")\n"
     ]
    }
   ],
   "source": [
    "#fetching job title for top 10 data\n",
    "title = driver.find_elements_by_xpath(\"//a[@class='title fw500 ellipsis']\")\n",
    "job_title=[]\n",
    "for i in title[0:10]:\n",
    "    job_title.append(i.text)"
   ]
  },
  {
   "cell_type": "code",
   "execution_count": 8,
   "metadata": {},
   "outputs": [
    {
     "data": {
      "text/plain": [
       "['Business Data Analyst - MIS & Reporting',\n",
       " 'Business Data Analyst - Database Design/Mining',\n",
       " 'Senior Data Analyst - SQL/Tableau/Redshift',\n",
       " 'Sr Business Data Analyst',\n",
       " 'Lead Data Analyst - Claim Analytics',\n",
       " 'Lead Data Analyst - Claim Analytics',\n",
       " 'ID&A - Data Analyst - Informatica MDM',\n",
       " 'Data Analyst',\n",
       " 'Data Analyst',\n",
       " 'Hiring For Clinical Data Analyst - Bangalore / Chennai / Homebased']"
      ]
     },
     "execution_count": 8,
     "metadata": {},
     "output_type": "execute_result"
    }
   ],
   "source": [
    "job_title"
   ]
  },
  {
   "cell_type": "code",
   "execution_count": 9,
   "metadata": {
    "scrolled": true
   },
   "outputs": [
    {
     "name": "stderr",
     "output_type": "stream",
     "text": [
      "<ipython-input-9-468641f97398>:3: DeprecationWarning: find_elements_by_* commands are deprecated. Please use find_elements() instead\n",
      "  location = driver.find_elements_by_xpath(\"//li[@class='fleft grey-text br2 placeHolderLi location']\")\n"
     ]
    }
   ],
   "source": [
    "# job-location, company_name, experience_required\n",
    "#fetching job-location for top 10 data\n",
    "location = driver.find_elements_by_xpath(\"//li[@class='fleft grey-text br2 placeHolderLi location']\")\n",
    "job_location=[]\n",
    "for i in location[0:10]:\n",
    "    job_location.append(i.text)"
   ]
  },
  {
   "cell_type": "code",
   "execution_count": 10,
   "metadata": {},
   "outputs": [
    {
     "data": {
      "text/plain": [
       "['Mumbai, Bangalore/Bengaluru',\n",
       " 'Bangalore/Bengaluru',\n",
       " 'Noida, Mumbai, Indore, Hyderabad/Secunderabad, Pune, Chennai, Bangalore/Bengaluru\\n(WFH during Covid)',\n",
       " 'Bangalore/Bengaluru',\n",
       " 'Noida, Bangalore/Bengaluru',\n",
       " 'Noida, Bangalore/Bengaluru',\n",
       " 'Bangalore/Bengaluru',\n",
       " 'Bangalore/Bengaluru',\n",
       " 'Bangalore/Bengaluru',\n",
       " 'Chennai, Bangalore/Bengaluru, Mumbai (All Areas)']"
      ]
     },
     "execution_count": 10,
     "metadata": {},
     "output_type": "execute_result"
    }
   ],
   "source": [
    "job_location"
   ]
  },
  {
   "cell_type": "code",
   "execution_count": 11,
   "metadata": {
    "scrolled": true
   },
   "outputs": [
    {
     "name": "stderr",
     "output_type": "stream",
     "text": [
      "<ipython-input-11-7970ac025e32>:1: DeprecationWarning: find_elements_by_* commands are deprecated. Please use find_elements() instead\n",
      "  company = driver.find_elements_by_xpath(\"//a[@class='subTitle ellipsis fleft']\")\n"
     ]
    }
   ],
   "source": [
    "company = driver.find_elements_by_xpath(\"//a[@class='subTitle ellipsis fleft']\")\n",
    "company_name =[]\n",
    "for i in company[0:10]:\n",
    "    company_name.append(i.text)\n"
   ]
  },
  {
   "cell_type": "code",
   "execution_count": 12,
   "metadata": {},
   "outputs": [
    {
     "data": {
      "text/plain": [
       "['INTERTRUST GROUP',\n",
       " 'AugmatrixGo',\n",
       " 'Pronto Consulting Services',\n",
       " 'ExecBoardinAsia',\n",
       " 'InnovAccer',\n",
       " 'InnovAccer',\n",
       " 'Shell',\n",
       " 'Capgemini',\n",
       " 'Snaphunt',\n",
       " 'ICON plc (Formerly PRA Health Sciences)']"
      ]
     },
     "execution_count": 12,
     "metadata": {},
     "output_type": "execute_result"
    }
   ],
   "source": [
    "company_name"
   ]
  },
  {
   "cell_type": "code",
   "execution_count": 13,
   "metadata": {},
   "outputs": [
    {
     "name": "stderr",
     "output_type": "stream",
     "text": [
      "<ipython-input-13-c8e25ae26aef>:1: DeprecationWarning: find_elements_by_* commands are deprecated. Please use find_elements() instead\n",
      "  experience = driver.find_elements_by_xpath(\"//li[@class='fleft grey-text br2 placeHolderLi experience']\")\n"
     ]
    }
   ],
   "source": [
    "experience = driver.find_elements_by_xpath(\"//li[@class='fleft grey-text br2 placeHolderLi experience']\")\n",
    "experience_required = []\n",
    "for i in experience[0:10]:\n",
    "    experience_required.append(i.text)"
   ]
  },
  {
   "cell_type": "code",
   "execution_count": 14,
   "metadata": {},
   "outputs": [
    {
     "data": {
      "text/plain": [
       "['3-8 Yrs',\n",
       " '2-5 Yrs',\n",
       " '6-10 Yrs',\n",
       " '5-10 Yrs',\n",
       " '7-12 Yrs',\n",
       " '7-12 Yrs',\n",
       " '5-9 Yrs',\n",
       " '2-5 Yrs',\n",
       " '0-2 Yrs',\n",
       " '1-6 Yrs']"
      ]
     },
     "execution_count": 14,
     "metadata": {},
     "output_type": "execute_result"
    }
   ],
   "source": [
    "experience_required"
   ]
  },
  {
   "cell_type": "code",
   "execution_count": 1,
   "metadata": {},
   "outputs": [],
   "source": [
    "import pandas as pd"
   ]
  },
  {
   "cell_type": "code",
   "execution_count": 19,
   "metadata": {},
   "outputs": [],
   "source": [
    "data=list(zip(job_title,job_location,company_name,experience_required))"
   ]
  },
  {
   "cell_type": "code",
   "execution_count": 20,
   "metadata": {},
   "outputs": [],
   "source": [
    "df = pd.DataFrame(data,columns=['job_title','job_location','company_name','experience_required'])"
   ]
  },
  {
   "cell_type": "code",
   "execution_count": 21,
   "metadata": {},
   "outputs": [
    {
     "data": {
      "text/html": [
       "<div>\n",
       "<style scoped>\n",
       "    .dataframe tbody tr th:only-of-type {\n",
       "        vertical-align: middle;\n",
       "    }\n",
       "\n",
       "    .dataframe tbody tr th {\n",
       "        vertical-align: top;\n",
       "    }\n",
       "\n",
       "    .dataframe thead th {\n",
       "        text-align: right;\n",
       "    }\n",
       "</style>\n",
       "<table border=\"1\" class=\"dataframe\">\n",
       "  <thead>\n",
       "    <tr style=\"text-align: right;\">\n",
       "      <th></th>\n",
       "      <th>job_title</th>\n",
       "      <th>job_location</th>\n",
       "      <th>company_name</th>\n",
       "      <th>experience_required</th>\n",
       "    </tr>\n",
       "  </thead>\n",
       "  <tbody>\n",
       "    <tr>\n",
       "      <th>0</th>\n",
       "      <td>Business Data Analyst - MIS &amp; Reporting</td>\n",
       "      <td>Mumbai, Bangalore/Bengaluru</td>\n",
       "      <td>INTERTRUST GROUP</td>\n",
       "      <td>3-8 Yrs</td>\n",
       "    </tr>\n",
       "    <tr>\n",
       "      <th>1</th>\n",
       "      <td>Business Data Analyst - Database Design/Mining</td>\n",
       "      <td>Bangalore/Bengaluru</td>\n",
       "      <td>AugmatrixGo</td>\n",
       "      <td>2-5 Yrs</td>\n",
       "    </tr>\n",
       "    <tr>\n",
       "      <th>2</th>\n",
       "      <td>Senior Data Analyst - SQL/Tableau/Redshift</td>\n",
       "      <td>Noida, Mumbai, Indore, Hyderabad/Secunderabad,...</td>\n",
       "      <td>Pronto Consulting Services</td>\n",
       "      <td>6-10 Yrs</td>\n",
       "    </tr>\n",
       "    <tr>\n",
       "      <th>3</th>\n",
       "      <td>Sr Business Data Analyst</td>\n",
       "      <td>Bangalore/Bengaluru</td>\n",
       "      <td>ExecBoardinAsia</td>\n",
       "      <td>5-10 Yrs</td>\n",
       "    </tr>\n",
       "    <tr>\n",
       "      <th>4</th>\n",
       "      <td>Lead Data Analyst - Claim Analytics</td>\n",
       "      <td>Noida, Bangalore/Bengaluru</td>\n",
       "      <td>InnovAccer</td>\n",
       "      <td>7-12 Yrs</td>\n",
       "    </tr>\n",
       "    <tr>\n",
       "      <th>5</th>\n",
       "      <td>Lead Data Analyst - Claim Analytics</td>\n",
       "      <td>Noida, Bangalore/Bengaluru</td>\n",
       "      <td>InnovAccer</td>\n",
       "      <td>7-12 Yrs</td>\n",
       "    </tr>\n",
       "    <tr>\n",
       "      <th>6</th>\n",
       "      <td>ID&amp;A - Data Analyst - Informatica MDM</td>\n",
       "      <td>Bangalore/Bengaluru</td>\n",
       "      <td>Shell</td>\n",
       "      <td>5-9 Yrs</td>\n",
       "    </tr>\n",
       "    <tr>\n",
       "      <th>7</th>\n",
       "      <td>Data Analyst</td>\n",
       "      <td>Bangalore/Bengaluru</td>\n",
       "      <td>Capgemini</td>\n",
       "      <td>2-5 Yrs</td>\n",
       "    </tr>\n",
       "    <tr>\n",
       "      <th>8</th>\n",
       "      <td>Data Analyst</td>\n",
       "      <td>Bangalore/Bengaluru</td>\n",
       "      <td>Snaphunt</td>\n",
       "      <td>0-2 Yrs</td>\n",
       "    </tr>\n",
       "    <tr>\n",
       "      <th>9</th>\n",
       "      <td>Hiring For Clinical Data Analyst - Bangalore /...</td>\n",
       "      <td>Chennai, Bangalore/Bengaluru, Mumbai (All Areas)</td>\n",
       "      <td>ICON plc (Formerly PRA Health Sciences)</td>\n",
       "      <td>1-6 Yrs</td>\n",
       "    </tr>\n",
       "  </tbody>\n",
       "</table>\n",
       "</div>"
      ],
      "text/plain": [
       "                                           job_title  \\\n",
       "0            Business Data Analyst - MIS & Reporting   \n",
       "1     Business Data Analyst - Database Design/Mining   \n",
       "2         Senior Data Analyst - SQL/Tableau/Redshift   \n",
       "3                           Sr Business Data Analyst   \n",
       "4                Lead Data Analyst - Claim Analytics   \n",
       "5                Lead Data Analyst - Claim Analytics   \n",
       "6              ID&A - Data Analyst - Informatica MDM   \n",
       "7                                       Data Analyst   \n",
       "8                                       Data Analyst   \n",
       "9  Hiring For Clinical Data Analyst - Bangalore /...   \n",
       "\n",
       "                                        job_location  \\\n",
       "0                        Mumbai, Bangalore/Bengaluru   \n",
       "1                                Bangalore/Bengaluru   \n",
       "2  Noida, Mumbai, Indore, Hyderabad/Secunderabad,...   \n",
       "3                                Bangalore/Bengaluru   \n",
       "4                         Noida, Bangalore/Bengaluru   \n",
       "5                         Noida, Bangalore/Bengaluru   \n",
       "6                                Bangalore/Bengaluru   \n",
       "7                                Bangalore/Bengaluru   \n",
       "8                                Bangalore/Bengaluru   \n",
       "9   Chennai, Bangalore/Bengaluru, Mumbai (All Areas)   \n",
       "\n",
       "                              company_name experience_required  \n",
       "0                         INTERTRUST GROUP             3-8 Yrs  \n",
       "1                              AugmatrixGo             2-5 Yrs  \n",
       "2               Pronto Consulting Services            6-10 Yrs  \n",
       "3                          ExecBoardinAsia            5-10 Yrs  \n",
       "4                               InnovAccer            7-12 Yrs  \n",
       "5                               InnovAccer            7-12 Yrs  \n",
       "6                                    Shell             5-9 Yrs  \n",
       "7                                Capgemini             2-5 Yrs  \n",
       "8                                 Snaphunt             0-2 Yrs  \n",
       "9  ICON plc (Formerly PRA Health Sciences)             1-6 Yrs  "
      ]
     },
     "execution_count": 21,
     "metadata": {},
     "output_type": "execute_result"
    }
   ],
   "source": [
    "df"
   ]
  },
  {
   "cell_type": "code",
   "execution_count": 14,
   "metadata": {},
   "outputs": [],
   "source": [
    "# Q.2\n",
    "driver.get('https://www.naukri.com/')"
   ]
  },
  {
   "cell_type": "code",
   "execution_count": 15,
   "metadata": {},
   "outputs": [
    {
     "name": "stderr",
     "output_type": "stream",
     "text": [
      "<ipython-input-15-ae79bb9f747e>:2: DeprecationWarning: find_element_by_* commands are deprecated. Please use find_element() instead\n",
      "  search_job = driver.find_element_by_id('qsb-keyword-sugg')\n"
     ]
    }
   ],
   "source": [
    "# giving input for job title as Data scientist\n",
    "search_job = driver.find_element_by_id('qsb-keyword-sugg')\n",
    "search_job.send_keys('Data Scientist')"
   ]
  },
  {
   "cell_type": "code",
   "execution_count": 16,
   "metadata": {},
   "outputs": [
    {
     "name": "stderr",
     "output_type": "stream",
     "text": [
      "<ipython-input-16-be6251dd96a5>:2: DeprecationWarning: find_element_by_* commands are deprecated. Please use find_element() instead\n",
      "  search_loc = driver.find_element_by_id('qsb-location-sugg')\n"
     ]
    }
   ],
   "source": [
    "# giving input for job location as Bangalore\n",
    "search_loc = driver.find_element_by_id('qsb-location-sugg')\n",
    "search_loc.send_keys('Bangalore')"
   ]
  },
  {
   "cell_type": "code",
   "execution_count": 17,
   "metadata": {},
   "outputs": [
    {
     "name": "stderr",
     "output_type": "stream",
     "text": [
      "<ipython-input-17-d9cb70721bf8>:2: DeprecationWarning: find_element_by_* commands are deprecated. Please use find_element() instead\n",
      "  search_btn = driver.find_element_by_xpath(\"//button[@class='btn']\")\n"
     ]
    }
   ],
   "source": [
    "# code to click on search button\n",
    "search_btn = driver.find_element_by_xpath(\"//button[@class='btn']\")\n",
    "search_btn.click()"
   ]
  },
  {
   "cell_type": "code",
   "execution_count": 18,
   "metadata": {},
   "outputs": [
    {
     "name": "stderr",
     "output_type": "stream",
     "text": [
      "<ipython-input-18-c1b24b9a6849>:2: DeprecationWarning: find_elements_by_* commands are deprecated. Please use find_elements() instead\n",
      "  title = driver.find_elements_by_xpath(\"//a[@class='title fw500 ellipsis']\")\n"
     ]
    }
   ],
   "source": [
    "# fetching job title for top 10 data\n",
    "title = driver.find_elements_by_xpath(\"//a[@class='title fw500 ellipsis']\")\n",
    "job_title = []\n",
    "for i in title[0:10]:\n",
    "    job_title.append(i.text)"
   ]
  },
  {
   "cell_type": "code",
   "execution_count": 19,
   "metadata": {},
   "outputs": [
    {
     "data": {
      "text/plain": [
       "['Data Scientist',\n",
       " 'Data Scientist',\n",
       " 'Senior Data Scientist | Fortune 500 Supermarket Chain',\n",
       " 'Senior Data Scientist',\n",
       " 'Data Scientist',\n",
       " 'Hiring For AI Architect / Lead Data Scientist - Bangalore -Iqvia',\n",
       " 'Senior Data Scientist',\n",
       " 'Senior / Lead Data Scientist',\n",
       " 'Lead Data Scientist - Machine Learning/ Data Mining',\n",
       " 'Data Scientist']"
      ]
     },
     "execution_count": 19,
     "metadata": {},
     "output_type": "execute_result"
    }
   ],
   "source": [
    "job_title"
   ]
  },
  {
   "cell_type": "code",
   "execution_count": 20,
   "metadata": {},
   "outputs": [
    {
     "name": "stderr",
     "output_type": "stream",
     "text": [
      "<ipython-input-20-9177045d1ba0>:2: DeprecationWarning: find_elements_by_* commands are deprecated. Please use find_elements() instead\n",
      "  location = driver.find_elements_by_xpath(\"//li[@class='fleft grey-text br2 placeHolderLi location']\")\n"
     ]
    }
   ],
   "source": [
    "#fetching job location for top 10 data\n",
    "location = driver.find_elements_by_xpath(\"//li[@class='fleft grey-text br2 placeHolderLi location']\")\n",
    "job_location = []\n",
    "for i in location[0:10]:\n",
    "    job_location.append(i.text)"
   ]
  },
  {
   "cell_type": "code",
   "execution_count": 21,
   "metadata": {},
   "outputs": [
    {
     "data": {
      "text/plain": [
       "['Hyderabad/Secunderabad, Pune, Bangalore/Bengaluru',\n",
       " 'Bangalore/Bengaluru',\n",
       " 'Bangalore/Bengaluru',\n",
       " 'Hyderabad/Secunderabad, Chennai, Bangalore/Bengaluru',\n",
       " 'Bangalore/Bengaluru\\n(WFH during Covid)',\n",
       " 'Bangalore/Bengaluru',\n",
       " 'Bangalore/Bengaluru',\n",
       " 'Bangalore/Bengaluru',\n",
       " 'Bangalore/Bengaluru',\n",
       " 'Hyderabad/Secunderabad, Pune, Bangalore/Bengaluru']"
      ]
     },
     "execution_count": 21,
     "metadata": {},
     "output_type": "execute_result"
    }
   ],
   "source": [
    "job_location"
   ]
  },
  {
   "cell_type": "code",
   "execution_count": 22,
   "metadata": {},
   "outputs": [
    {
     "name": "stderr",
     "output_type": "stream",
     "text": [
      "<ipython-input-22-15276d6296b8>:1: DeprecationWarning: find_elements_by_* commands are deprecated. Please use find_elements() instead\n",
      "  company = driver.find_elements_by_xpath(\"//a[@class='subTitle ellipsis fleft']\")\n"
     ]
    }
   ],
   "source": [
    "company = driver.find_elements_by_xpath(\"//a[@class='subTitle ellipsis fleft']\")\n",
    "company_name = []\n",
    "for i in company[0:10]:\n",
    "    company_name.append(i.text)"
   ]
  },
  {
   "cell_type": "code",
   "execution_count": 23,
   "metadata": {},
   "outputs": [
    {
     "data": {
      "text/plain": [
       "['Amazon',\n",
       " 'Alstom Transport India Ltd.',\n",
       " 'TALENT500 TECH (INDIA) PRIVATE LIMITED',\n",
       " 'Santechture',\n",
       " 'Evalueserve',\n",
       " 'IQVIA RDS India Pvt Ltd',\n",
       " 'Easy Recruit',\n",
       " 'Bukuwarung',\n",
       " 'Wrackle Technologies Pvt Ltd',\n",
       " 'SG Analytics Pvt. Ltd.']"
      ]
     },
     "execution_count": 23,
     "metadata": {},
     "output_type": "execute_result"
    }
   ],
   "source": [
    "company_name"
   ]
  },
  {
   "cell_type": "code",
   "execution_count": 24,
   "metadata": {},
   "outputs": [],
   "source": [
    "data = list(zip(job_title,job_location,company_name))"
   ]
  },
  {
   "cell_type": "code",
   "execution_count": 25,
   "metadata": {},
   "outputs": [],
   "source": [
    "df = pd.DataFrame(data,columns=['job_title','job_location','company_name'])"
   ]
  },
  {
   "cell_type": "code",
   "execution_count": 26,
   "metadata": {},
   "outputs": [
    {
     "data": {
      "text/html": [
       "<div>\n",
       "<style scoped>\n",
       "    .dataframe tbody tr th:only-of-type {\n",
       "        vertical-align: middle;\n",
       "    }\n",
       "\n",
       "    .dataframe tbody tr th {\n",
       "        vertical-align: top;\n",
       "    }\n",
       "\n",
       "    .dataframe thead th {\n",
       "        text-align: right;\n",
       "    }\n",
       "</style>\n",
       "<table border=\"1\" class=\"dataframe\">\n",
       "  <thead>\n",
       "    <tr style=\"text-align: right;\">\n",
       "      <th></th>\n",
       "      <th>job_title</th>\n",
       "      <th>job_location</th>\n",
       "      <th>company_name</th>\n",
       "    </tr>\n",
       "  </thead>\n",
       "  <tbody>\n",
       "    <tr>\n",
       "      <th>0</th>\n",
       "      <td>Data Scientist</td>\n",
       "      <td>Hyderabad/Secunderabad, Pune, Bangalore/Bengaluru</td>\n",
       "      <td>Amazon</td>\n",
       "    </tr>\n",
       "    <tr>\n",
       "      <th>1</th>\n",
       "      <td>Data Scientist</td>\n",
       "      <td>Bangalore/Bengaluru</td>\n",
       "      <td>Alstom Transport India Ltd.</td>\n",
       "    </tr>\n",
       "    <tr>\n",
       "      <th>2</th>\n",
       "      <td>Senior Data Scientist | Fortune 500 Supermarke...</td>\n",
       "      <td>Bangalore/Bengaluru</td>\n",
       "      <td>TALENT500 TECH (INDIA) PRIVATE LIMITED</td>\n",
       "    </tr>\n",
       "    <tr>\n",
       "      <th>3</th>\n",
       "      <td>Senior Data Scientist</td>\n",
       "      <td>Hyderabad/Secunderabad, Chennai, Bangalore/Ben...</td>\n",
       "      <td>Santechture</td>\n",
       "    </tr>\n",
       "    <tr>\n",
       "      <th>4</th>\n",
       "      <td>Data Scientist</td>\n",
       "      <td>Bangalore/Bengaluru\\n(WFH during Covid)</td>\n",
       "      <td>Evalueserve</td>\n",
       "    </tr>\n",
       "    <tr>\n",
       "      <th>5</th>\n",
       "      <td>Hiring For AI Architect / Lead Data Scientist ...</td>\n",
       "      <td>Bangalore/Bengaluru</td>\n",
       "      <td>IQVIA RDS India Pvt Ltd</td>\n",
       "    </tr>\n",
       "    <tr>\n",
       "      <th>6</th>\n",
       "      <td>Senior Data Scientist</td>\n",
       "      <td>Bangalore/Bengaluru</td>\n",
       "      <td>Easy Recruit</td>\n",
       "    </tr>\n",
       "    <tr>\n",
       "      <th>7</th>\n",
       "      <td>Senior / Lead Data Scientist</td>\n",
       "      <td>Bangalore/Bengaluru</td>\n",
       "      <td>Bukuwarung</td>\n",
       "    </tr>\n",
       "    <tr>\n",
       "      <th>8</th>\n",
       "      <td>Lead Data Scientist - Machine Learning/ Data M...</td>\n",
       "      <td>Bangalore/Bengaluru</td>\n",
       "      <td>Wrackle Technologies Pvt Ltd</td>\n",
       "    </tr>\n",
       "    <tr>\n",
       "      <th>9</th>\n",
       "      <td>Data Scientist</td>\n",
       "      <td>Hyderabad/Secunderabad, Pune, Bangalore/Bengaluru</td>\n",
       "      <td>SG Analytics Pvt. Ltd.</td>\n",
       "    </tr>\n",
       "  </tbody>\n",
       "</table>\n",
       "</div>"
      ],
      "text/plain": [
       "                                           job_title  \\\n",
       "0                                     Data Scientist   \n",
       "1                                     Data Scientist   \n",
       "2  Senior Data Scientist | Fortune 500 Supermarke...   \n",
       "3                              Senior Data Scientist   \n",
       "4                                     Data Scientist   \n",
       "5  Hiring For AI Architect / Lead Data Scientist ...   \n",
       "6                              Senior Data Scientist   \n",
       "7                       Senior / Lead Data Scientist   \n",
       "8  Lead Data Scientist - Machine Learning/ Data M...   \n",
       "9                                     Data Scientist   \n",
       "\n",
       "                                        job_location  \\\n",
       "0  Hyderabad/Secunderabad, Pune, Bangalore/Bengaluru   \n",
       "1                                Bangalore/Bengaluru   \n",
       "2                                Bangalore/Bengaluru   \n",
       "3  Hyderabad/Secunderabad, Chennai, Bangalore/Ben...   \n",
       "4            Bangalore/Bengaluru\\n(WFH during Covid)   \n",
       "5                                Bangalore/Bengaluru   \n",
       "6                                Bangalore/Bengaluru   \n",
       "7                                Bangalore/Bengaluru   \n",
       "8                                Bangalore/Bengaluru   \n",
       "9  Hyderabad/Secunderabad, Pune, Bangalore/Bengaluru   \n",
       "\n",
       "                             company_name  \n",
       "0                                  Amazon  \n",
       "1             Alstom Transport India Ltd.  \n",
       "2  TALENT500 TECH (INDIA) PRIVATE LIMITED  \n",
       "3                             Santechture  \n",
       "4                             Evalueserve  \n",
       "5                 IQVIA RDS India Pvt Ltd  \n",
       "6                            Easy Recruit  \n",
       "7                              Bukuwarung  \n",
       "8            Wrackle Technologies Pvt Ltd  \n",
       "9                  SG Analytics Pvt. Ltd.  "
      ]
     },
     "execution_count": 26,
     "metadata": {},
     "output_type": "execute_result"
    }
   ],
   "source": [
    "df"
   ]
  },
  {
   "cell_type": "code",
   "execution_count": 27,
   "metadata": {},
   "outputs": [],
   "source": [
    "# Q.3\n",
    "driver.get('https://www.naukri.com/')"
   ]
  },
  {
   "cell_type": "code",
   "execution_count": 28,
   "metadata": {},
   "outputs": [
    {
     "name": "stderr",
     "output_type": "stream",
     "text": [
      "<ipython-input-28-ae79bb9f747e>:2: DeprecationWarning: find_element_by_* commands are deprecated. Please use find_element() instead\n",
      "  search_job = driver.find_element_by_id('qsb-keyword-sugg')\n"
     ]
    }
   ],
   "source": [
    "# giving input for job title as Data scientist\n",
    "search_job = driver.find_element_by_id('qsb-keyword-sugg')\n",
    "search_job.send_keys('Data Scientist')"
   ]
  },
  {
   "cell_type": "code",
   "execution_count": 29,
   "metadata": {},
   "outputs": [
    {
     "name": "stderr",
     "output_type": "stream",
     "text": [
      "<ipython-input-29-0092e6bdd995>:2: DeprecationWarning: find_element_by_* commands are deprecated. Please use find_element() instead\n",
      "  search_loc = driver.find_element_by_id('qsb-location-sugg')\n"
     ]
    }
   ],
   "source": [
    " # giving input for job location as Bangalore\n",
    "search_loc = driver.find_element_by_id('qsb-location-sugg')\n",
    "search_loc.send_keys('Delhi')"
   ]
  },
  {
   "cell_type": "code",
   "execution_count": 30,
   "metadata": {},
   "outputs": [
    {
     "name": "stderr",
     "output_type": "stream",
     "text": [
      "<ipython-input-30-d9cb70721bf8>:2: DeprecationWarning: find_element_by_* commands are deprecated. Please use find_element() instead\n",
      "  search_btn = driver.find_element_by_xpath(\"//button[@class='btn']\")\n"
     ]
    }
   ],
   "source": [
    "# code to click on search button\n",
    "search_btn = driver.find_element_by_xpath(\"//button[@class='btn']\")\n",
    "search_btn.click()"
   ]
  },
  {
   "cell_type": "code",
   "execution_count": 31,
   "metadata": {},
   "outputs": [
    {
     "name": "stderr",
     "output_type": "stream",
     "text": [
      "<ipython-input-31-c1b24b9a6849>:2: DeprecationWarning: find_elements_by_* commands are deprecated. Please use find_elements() instead\n",
      "  title = driver.find_elements_by_xpath(\"//a[@class='title fw500 ellipsis']\")\n"
     ]
    }
   ],
   "source": [
    "# fetching job title for top 10 data\n",
    "title = driver.find_elements_by_xpath(\"//a[@class='title fw500 ellipsis']\")\n",
    "job_title = []\n",
    "for i in title[0:10]:\n",
    "    job_title.append(i.text)"
   ]
  },
  {
   "cell_type": "code",
   "execution_count": 32,
   "metadata": {},
   "outputs": [
    {
     "data": {
      "text/plain": [
       "['Associate Data Scientist',\n",
       " 'Data Scientist',\n",
       " 'Co-Founder - Principal Data Scientist/Senior Data Scientist',\n",
       " 'Data Scientist- Predictive Modelling',\n",
       " 'Data Scientist: ML and NLP Expert',\n",
       " 'Lead Data Scientist',\n",
       " 'Data Scientist - Analytics & Insights Team - Food Services Firm - IIT/',\n",
       " 'Data Scientist',\n",
       " 'Data Scientist, Energy modelling',\n",
       " 'Data Scientist: Advanced Analytics']"
      ]
     },
     "execution_count": 32,
     "metadata": {},
     "output_type": "execute_result"
    }
   ],
   "source": [
    "job_title"
   ]
  },
  {
   "cell_type": "code",
   "execution_count": 33,
   "metadata": {},
   "outputs": [
    {
     "name": "stderr",
     "output_type": "stream",
     "text": [
      "<ipython-input-33-9177045d1ba0>:2: DeprecationWarning: find_elements_by_* commands are deprecated. Please use find_elements() instead\n",
      "  location = driver.find_elements_by_xpath(\"//li[@class='fleft grey-text br2 placeHolderLi location']\")\n"
     ]
    }
   ],
   "source": [
    "#fetching job location for top 10 data\n",
    "location = driver.find_elements_by_xpath(\"//li[@class='fleft grey-text br2 placeHolderLi location']\")\n",
    "job_location = []\n",
    "for i in location[0:10]:\n",
    "    job_location.append(i.text)"
   ]
  },
  {
   "cell_type": "code",
   "execution_count": 34,
   "metadata": {},
   "outputs": [
    {
     "data": {
      "text/plain": [
       "['Gurgaon/Gurugram',\n",
       " 'Kochi/Cochin, Kolkata, Hyderabad/Secunderabad, Pune, Ahmedabad, Chennai, Bangalore/Bengaluru, Delhi / NCR, Mumbai (All Areas)',\n",
       " 'Gurgaon/Gurugram, Delhi / NCR',\n",
       " 'Noida, Gurgaon/Gurugram, Bangalore/Bengaluru, Delhi / NCR\\n(WFH during Covid)',\n",
       " 'Noida, Hyderabad/Secunderabad, Gurgaon/Gurugram, Bangalore/Bengaluru',\n",
       " 'Faridabad, Bangalore/Bengaluru',\n",
       " 'Noida',\n",
       " 'Gurgaon/Gurugram, Gurgaon',\n",
       " 'Remote',\n",
       " 'Delhi']"
      ]
     },
     "execution_count": 34,
     "metadata": {},
     "output_type": "execute_result"
    }
   ],
   "source": [
    "job_location"
   ]
  },
  {
   "cell_type": "code",
   "execution_count": 35,
   "metadata": {},
   "outputs": [
    {
     "name": "stderr",
     "output_type": "stream",
     "text": [
      "<ipython-input-35-15276d6296b8>:1: DeprecationWarning: find_elements_by_* commands are deprecated. Please use find_elements() instead\n",
      "  company = driver.find_elements_by_xpath(\"//a[@class='subTitle ellipsis fleft']\")\n"
     ]
    }
   ],
   "source": [
    "company = driver.find_elements_by_xpath(\"//a[@class='subTitle ellipsis fleft']\")\n",
    "company_name = []\n",
    "for i in company[0:10]:\n",
    "    company_name.append(i.text)"
   ]
  },
  {
   "cell_type": "code",
   "execution_count": 36,
   "metadata": {},
   "outputs": [
    {
     "data": {
      "text/plain": [
       "['leading global company',\n",
       " 'Think i',\n",
       " 'Benovymed Healthcare Private Limited',\n",
       " 'Emmess technologies private Limited',\n",
       " 'Evalueserve',\n",
       " 'Freshworks',\n",
       " 'HyrEzy Talent Solutions',\n",
       " 'Webhelp',\n",
       " 'CEPA',\n",
       " 'IBM India Pvt. Limited']"
      ]
     },
     "execution_count": 36,
     "metadata": {},
     "output_type": "execute_result"
    }
   ],
   "source": [
    "company_name"
   ]
  },
  {
   "cell_type": "code",
   "execution_count": 37,
   "metadata": {},
   "outputs": [
    {
     "name": "stderr",
     "output_type": "stream",
     "text": [
      "<ipython-input-37-c8e25ae26aef>:1: DeprecationWarning: find_elements_by_* commands are deprecated. Please use find_elements() instead\n",
      "  experience = driver.find_elements_by_xpath(\"//li[@class='fleft grey-text br2 placeHolderLi experience']\")\n"
     ]
    }
   ],
   "source": [
    "experience = driver.find_elements_by_xpath(\"//li[@class='fleft grey-text br2 placeHolderLi experience']\")\n",
    "experience_required = []\n",
    "for i in experience[0:10]:\n",
    "    experience_required.append(i.text)"
   ]
  },
  {
   "cell_type": "code",
   "execution_count": 38,
   "metadata": {},
   "outputs": [
    {
     "data": {
      "text/plain": [
       "['2-4 Yrs',\n",
       " '0-2 Yrs',\n",
       " '2-7 Yrs',\n",
       " '3-8 Yrs',\n",
       " '2-4 Yrs',\n",
       " '5-9 Yrs',\n",
       " '3-6 Yrs',\n",
       " '0-0 Yrs',\n",
       " '0-5 Yrs',\n",
       " '5-7 Yrs']"
      ]
     },
     "execution_count": 38,
     "metadata": {},
     "output_type": "execute_result"
    }
   ],
   "source": [
    "experience_required"
   ]
  },
  {
   "cell_type": "code",
   "execution_count": 40,
   "metadata": {},
   "outputs": [
    {
     "name": "stderr",
     "output_type": "stream",
     "text": [
      "<ipython-input-40-ee0e463a00dd>:1: DeprecationWarning: find_elements_by_* commands are deprecated. Please use find_elements() instead\n",
      "  salary = driver.find_elements_by_xpath(\"//li[@class='fleft grey-text br2 placeHolderLi salary']\")\n"
     ]
    }
   ],
   "source": [
    "salary = driver.find_elements_by_xpath(\"//li[@class='fleft grey-text br2 placeHolderLi salary']\")\n",
    "#salary = driver.find_elements_by_xpath(\"//span[@class='fleft ml-5']\")\n",
    "\n",
    "Salary=[]\n",
    "for i in salary[0:10]:\n",
    "    Salary.append(i.text)"
   ]
  },
  {
   "cell_type": "code",
   "execution_count": 41,
   "metadata": {},
   "outputs": [
    {
     "data": {
      "text/plain": [
       "['5,00,000 - 5,50,000 PA.',\n",
       " '5,00,000 - 10,00,000 PA.',\n",
       " '5,00,000 - 10,00,000 PA.',\n",
       " '3,00,000 - 8,00,000 PA.',\n",
       " 'Not disclosed',\n",
       " 'Not disclosed',\n",
       " 'Not disclosed',\n",
       " 'Not disclosed',\n",
       " 'Not disclosed',\n",
       " 'Not disclosed']"
      ]
     },
     "execution_count": 41,
     "metadata": {},
     "output_type": "execute_result"
    }
   ],
   "source": [
    "Salary"
   ]
  },
  {
   "cell_type": "code",
   "execution_count": 42,
   "metadata": {},
   "outputs": [],
   "source": [
    "data = list(zip(job_title,job_location,company_name,experience_required,Salary))"
   ]
  },
  {
   "cell_type": "code",
   "execution_count": 43,
   "metadata": {},
   "outputs": [],
   "source": [
    "df = pd.DataFrame(data,columns=['job_title','job_location','company_name','experience_required','Salary'])"
   ]
  },
  {
   "cell_type": "code",
   "execution_count": 44,
   "metadata": {},
   "outputs": [
    {
     "data": {
      "text/html": [
       "<div>\n",
       "<style scoped>\n",
       "    .dataframe tbody tr th:only-of-type {\n",
       "        vertical-align: middle;\n",
       "    }\n",
       "\n",
       "    .dataframe tbody tr th {\n",
       "        vertical-align: top;\n",
       "    }\n",
       "\n",
       "    .dataframe thead th {\n",
       "        text-align: right;\n",
       "    }\n",
       "</style>\n",
       "<table border=\"1\" class=\"dataframe\">\n",
       "  <thead>\n",
       "    <tr style=\"text-align: right;\">\n",
       "      <th></th>\n",
       "      <th>job_title</th>\n",
       "      <th>job_location</th>\n",
       "      <th>company_name</th>\n",
       "      <th>experience_required</th>\n",
       "      <th>Salary</th>\n",
       "    </tr>\n",
       "  </thead>\n",
       "  <tbody>\n",
       "    <tr>\n",
       "      <th>0</th>\n",
       "      <td>Associate Data Scientist</td>\n",
       "      <td>Gurgaon/Gurugram</td>\n",
       "      <td>leading global company</td>\n",
       "      <td>2-4 Yrs</td>\n",
       "      <td>5,00,000 - 5,50,000 PA.</td>\n",
       "    </tr>\n",
       "    <tr>\n",
       "      <th>1</th>\n",
       "      <td>Data Scientist</td>\n",
       "      <td>Kochi/Cochin, Kolkata, Hyderabad/Secunderabad,...</td>\n",
       "      <td>Think i</td>\n",
       "      <td>0-2 Yrs</td>\n",
       "      <td>5,00,000 - 10,00,000 PA.</td>\n",
       "    </tr>\n",
       "    <tr>\n",
       "      <th>2</th>\n",
       "      <td>Co-Founder - Principal Data Scientist/Senior D...</td>\n",
       "      <td>Gurgaon/Gurugram, Delhi / NCR</td>\n",
       "      <td>Benovymed Healthcare Private Limited</td>\n",
       "      <td>2-7 Yrs</td>\n",
       "      <td>5,00,000 - 10,00,000 PA.</td>\n",
       "    </tr>\n",
       "    <tr>\n",
       "      <th>3</th>\n",
       "      <td>Data Scientist- Predictive Modelling</td>\n",
       "      <td>Noida, Gurgaon/Gurugram, Bangalore/Bengaluru, ...</td>\n",
       "      <td>Emmess technologies private Limited</td>\n",
       "      <td>3-8 Yrs</td>\n",
       "      <td>3,00,000 - 8,00,000 PA.</td>\n",
       "    </tr>\n",
       "    <tr>\n",
       "      <th>4</th>\n",
       "      <td>Data Scientist: ML and NLP Expert</td>\n",
       "      <td>Noida, Hyderabad/Secunderabad, Gurgaon/Gurugra...</td>\n",
       "      <td>Evalueserve</td>\n",
       "      <td>2-4 Yrs</td>\n",
       "      <td>Not disclosed</td>\n",
       "    </tr>\n",
       "    <tr>\n",
       "      <th>5</th>\n",
       "      <td>Lead Data Scientist</td>\n",
       "      <td>Faridabad, Bangalore/Bengaluru</td>\n",
       "      <td>Freshworks</td>\n",
       "      <td>5-9 Yrs</td>\n",
       "      <td>Not disclosed</td>\n",
       "    </tr>\n",
       "    <tr>\n",
       "      <th>6</th>\n",
       "      <td>Data Scientist - Analytics &amp; Insights Team - F...</td>\n",
       "      <td>Noida</td>\n",
       "      <td>HyrEzy Talent Solutions</td>\n",
       "      <td>3-6 Yrs</td>\n",
       "      <td>Not disclosed</td>\n",
       "    </tr>\n",
       "    <tr>\n",
       "      <th>7</th>\n",
       "      <td>Data Scientist</td>\n",
       "      <td>Gurgaon/Gurugram, Gurgaon</td>\n",
       "      <td>Webhelp</td>\n",
       "      <td>0-0 Yrs</td>\n",
       "      <td>Not disclosed</td>\n",
       "    </tr>\n",
       "    <tr>\n",
       "      <th>8</th>\n",
       "      <td>Data Scientist, Energy modelling</td>\n",
       "      <td>Remote</td>\n",
       "      <td>CEPA</td>\n",
       "      <td>0-5 Yrs</td>\n",
       "      <td>Not disclosed</td>\n",
       "    </tr>\n",
       "    <tr>\n",
       "      <th>9</th>\n",
       "      <td>Data Scientist: Advanced Analytics</td>\n",
       "      <td>Delhi</td>\n",
       "      <td>IBM India Pvt. Limited</td>\n",
       "      <td>5-7 Yrs</td>\n",
       "      <td>Not disclosed</td>\n",
       "    </tr>\n",
       "  </tbody>\n",
       "</table>\n",
       "</div>"
      ],
      "text/plain": [
       "                                           job_title  \\\n",
       "0                           Associate Data Scientist   \n",
       "1                                     Data Scientist   \n",
       "2  Co-Founder - Principal Data Scientist/Senior D...   \n",
       "3               Data Scientist- Predictive Modelling   \n",
       "4                  Data Scientist: ML and NLP Expert   \n",
       "5                                Lead Data Scientist   \n",
       "6  Data Scientist - Analytics & Insights Team - F...   \n",
       "7                                     Data Scientist   \n",
       "8                   Data Scientist, Energy modelling   \n",
       "9                 Data Scientist: Advanced Analytics   \n",
       "\n",
       "                                        job_location  \\\n",
       "0                                   Gurgaon/Gurugram   \n",
       "1  Kochi/Cochin, Kolkata, Hyderabad/Secunderabad,...   \n",
       "2                      Gurgaon/Gurugram, Delhi / NCR   \n",
       "3  Noida, Gurgaon/Gurugram, Bangalore/Bengaluru, ...   \n",
       "4  Noida, Hyderabad/Secunderabad, Gurgaon/Gurugra...   \n",
       "5                     Faridabad, Bangalore/Bengaluru   \n",
       "6                                              Noida   \n",
       "7                          Gurgaon/Gurugram, Gurgaon   \n",
       "8                                             Remote   \n",
       "9                                              Delhi   \n",
       "\n",
       "                           company_name experience_required  \\\n",
       "0                leading global company             2-4 Yrs   \n",
       "1                               Think i             0-2 Yrs   \n",
       "2  Benovymed Healthcare Private Limited             2-7 Yrs   \n",
       "3   Emmess technologies private Limited             3-8 Yrs   \n",
       "4                           Evalueserve             2-4 Yrs   \n",
       "5                            Freshworks             5-9 Yrs   \n",
       "6               HyrEzy Talent Solutions             3-6 Yrs   \n",
       "7                               Webhelp             0-0 Yrs   \n",
       "8                                  CEPA             0-5 Yrs   \n",
       "9                IBM India Pvt. Limited             5-7 Yrs   \n",
       "\n",
       "                     Salary  \n",
       "0   5,00,000 - 5,50,000 PA.  \n",
       "1  5,00,000 - 10,00,000 PA.  \n",
       "2  5,00,000 - 10,00,000 PA.  \n",
       "3   3,00,000 - 8,00,000 PA.  \n",
       "4             Not disclosed  \n",
       "5             Not disclosed  \n",
       "6             Not disclosed  \n",
       "7             Not disclosed  \n",
       "8             Not disclosed  \n",
       "9             Not disclosed  "
      ]
     },
     "execution_count": 44,
     "metadata": {},
     "output_type": "execute_result"
    }
   ],
   "source": [
    "df"
   ]
  },
  {
   "cell_type": "code",
   "execution_count": 101,
   "metadata": {},
   "outputs": [],
   "source": [
    "# Q.4"
   ]
  },
  {
   "cell_type": "code",
   "execution_count": 31,
   "metadata": {},
   "outputs": [],
   "source": [
    "driver.get('https://www.flipkart.com/')"
   ]
  },
  {
   "cell_type": "code",
   "execution_count": 38,
   "metadata": {},
   "outputs": [],
   "source": [
    "brand=[]"
   ]
  },
  {
   "cell_type": "code",
   "execution_count": 39,
   "metadata": {},
   "outputs": [
    {
     "name": "stderr",
     "output_type": "stream",
     "text": [
      "<ipython-input-39-5ce92c2a6d69>:7: DeprecationWarning: find_elements_by_* commands are deprecated. Please use find_elements() instead\n",
      "  brands=driver.find_elements_by_class_name('_2WkVRV')#scraping brands name by class name='_2WkVRV'\n",
      "<ipython-input-39-5ce92c2a6d69>:13: DeprecationWarning: find_elements_by_* commands are deprecated. Please use find_elements() instead\n",
      "  nxt_button=driver.find_elements_by_xpath(\"//a[@class='_1LKTO3']\")#scraping the list of buttons from the page\n"
     ]
    }
   ],
   "source": [
    "start=0\n",
    "\n",
    "end=3\n",
    "\n",
    "for page in range(start,end):#for loop for scrapping 4 page\n",
    "\n",
    "    brands=driver.find_elements_by_class_name('_2WkVRV')#scraping brands name by class name='_2WkVRV'\n",
    "\n",
    "    for i in brands:\n",
    "\n",
    "        brand.append(i.text)\n",
    "\n",
    "    nxt_button=driver.find_elements_by_xpath(\"//a[@class='_1LKTO3']\")#scraping the list of buttons from the page\n",
    "\n",
    "    try:\n",
    "\n",
    "        driver.get(nxt_button[1].get_attribute('href'))#getting the link from the list for next page\n",
    "\n",
    "    except:\n",
    "\n",
    "        driver.get(nxt_button[0].get_attribute('href'))"
   ]
  },
  {
   "cell_type": "code",
   "execution_count": 40,
   "metadata": {},
   "outputs": [
    {
     "data": {
      "text/plain": [
       "['ROZZETTA CRAFT',\n",
       " 'VINCENT CHASE',\n",
       " 'Fastrack',\n",
       " 'PIRASO',\n",
       " 'PIRASO',\n",
       " 'SHAAH COLLECTIONS',\n",
       " 'kingsunglasses',\n",
       " 'VINCENT CHASE',\n",
       " 'New Specs',\n",
       " 'PHENOMENAL',\n",
       " 'SUNBEE',\n",
       " 'ROZZETTA CRAFT',\n",
       " 'New Specs',\n",
       " 'ROZZETTA CRAFT',\n",
       " 'GANSTA',\n",
       " 'elegante',\n",
       " 'kingsunglasses',\n",
       " 'SHAAH COLLECTIONS',\n",
       " 'HIPPON',\n",
       " 'VINCENT CHASE',\n",
       " 'Rich Club',\n",
       " 'Elligator',\n",
       " 'ROZZETTA CRAFT',\n",
       " 'VINCENT CHASE',\n",
       " 'hipe',\n",
       " 'SHAAH COLLECTIONS',\n",
       " 'Elligator',\n",
       " 'VILLAIN',\n",
       " 'PIRASO',\n",
       " 'kingsunglasses',\n",
       " 'Silver Kartz',\n",
       " 'Fravy',\n",
       " 'Lee Topper',\n",
       " 'SUNBEE',\n",
       " 'ROZZETTA CRAFT',\n",
       " 'ROYAL SON',\n",
       " 'kingsunglasses',\n",
       " 'kingsunglasses',\n",
       " 'PIRASO',\n",
       " 'VINCENT CHASE',\n",
       " 'povty',\n",
       " 'ROYAL SON',\n",
       " 'kingsunglasses',\n",
       " 'ROZZETTA CRAFT',\n",
       " 'GANSTA',\n",
       " 'New Specs',\n",
       " 'PHENOMENAL',\n",
       " 'VINCENT CHASE',\n",
       " 'GANSTA',\n",
       " 'kingsunglasses',\n",
       " 'GANSTA',\n",
       " 'VINCENT CHASE',\n",
       " 'ROZZETTA CRAFT',\n",
       " 'ROZZETTA CRAFT',\n",
       " 'SUNBEE',\n",
       " 'VINCENT CHASE',\n",
       " 'PHENOMENAL',\n",
       " 'PIRASO',\n",
       " 'kingsunglasses',\n",
       " 'elegante',\n",
       " 'elegante',\n",
       " 'MAXX',\n",
       " 'Elligator',\n",
       " 'VINCENT CHASE',\n",
       " 'Silver Kartz',\n",
       " 'SUNBEE',\n",
       " 'kingsunglasses',\n",
       " 'VINCENT CHASE',\n",
       " 'kingsunglasses',\n",
       " 'Singco India',\n",
       " 'Rich Club',\n",
       " 'ROZZETTA CRAFT',\n",
       " 'Elligator',\n",
       " 'DEIXELS',\n",
       " 'SHAAH COLLECTIONS',\n",
       " 'ROZZETTA CRAFT',\n",
       " 'kingsunglasses',\n",
       " 'PIRASO',\n",
       " 'hipe',\n",
       " 'VINCENT CHASE',\n",
       " 'PIRASO',\n",
       " 'Lee Topper',\n",
       " 'Fastrack',\n",
       " 'ROZZETTA CRAFT',\n",
       " 'ROYAL SON',\n",
       " 'Ray-Ban',\n",
       " 'GANSTA',\n",
       " 'VINCENT CHASE',\n",
       " 'PETER JONES',\n",
       " 'DEIXELS',\n",
       " 'PHENOMENAL',\n",
       " 'VINCENT CHASE',\n",
       " 'PHENOMENAL',\n",
       " 'Rich Club',\n",
       " 'PHENOMENAL',\n",
       " 'VINCENT CHASE',\n",
       " 'Singco',\n",
       " 'NuVew',\n",
       " 'elegante',\n",
       " 'elegante',\n",
       " 'Elligator',\n",
       " 'Fastrack',\n",
       " 'kingsunglasses',\n",
       " 'ROZZETTA CRAFT',\n",
       " 'Elligator',\n",
       " 'ROYAL SON',\n",
       " 'Fastrack',\n",
       " 'VINCENT CHASE',\n",
       " 'Rich Club',\n",
       " 'elegante',\n",
       " 'ROYAL SON',\n",
       " 'ROZZETTA CRAFT',\n",
       " 'kingsunglasses',\n",
       " 'ROYAL SON',\n",
       " 'Fastrack',\n",
       " 'VINCENT CHASE',\n",
       " 'ROYAL SON',\n",
       " 'Elligator',\n",
       " 'NuVew',\n",
       " 'hipe']"
      ]
     },
     "execution_count": 40,
     "metadata": {},
     "output_type": "execute_result"
    }
   ],
   "source": [
    "brand"
   ]
  },
  {
   "cell_type": "code",
   "execution_count": 44,
   "metadata": {},
   "outputs": [],
   "source": [
    "product_description =[]"
   ]
  },
  {
   "cell_type": "code",
   "execution_count": 45,
   "metadata": {},
   "outputs": [
    {
     "name": "stderr",
     "output_type": "stream",
     "text": [
      "<ipython-input-45-50d0b7404b71>:7: DeprecationWarning: find_elements_by_* commands are deprecated. Please use find_elements() instead\n",
      "  products=driver.find_elements_by_class_name('IRpwTa')#scraping brands name by class name='_2WkVRV'\n",
      "<ipython-input-45-50d0b7404b71>:13: DeprecationWarning: find_elements_by_* commands are deprecated. Please use find_elements() instead\n",
      "  nxt_button=driver.find_elements_by_xpath(\"//a[@class='_1LKTO3']\")#scraping the list of buttons from the page\n"
     ]
    }
   ],
   "source": [
    "start=0\n",
    "\n",
    "end=3\n",
    "\n",
    "for page in range(start,end):#for loop for scrapping 4 page\n",
    "\n",
    "    products=driver.find_elements_by_class_name('IRpwTa')#scraping brands name by class name='_2WkVRV'\n",
    "\n",
    "    for i in products:\n",
    "\n",
    "        product_description.append(i.text)\n",
    "\n",
    "    nxt_button=driver.find_elements_by_xpath(\"//a[@class='_1LKTO3']\")#scraping the list of buttons from the page\n",
    "\n",
    "    try:\n",
    "\n",
    "        driver.get(nxt_button[1].get_attribute('href'))#getting the link from the list for next page\n",
    "\n",
    "    except:\n",
    "\n",
    "        driver.get(nxt_button[0].get_attribute('href'))"
   ]
  },
  {
   "cell_type": "code",
   "execution_count": 46,
   "metadata": {},
   "outputs": [
    {
     "data": {
      "text/plain": [
       "['UV Protection, Gradient Wayfarer Sunglasses (53)',\n",
       " 'UV Protection Over-sized Sunglasses (60)',\n",
       " 'Polarized Retro Square Sunglasses (58)',\n",
       " 'UV Protection, Gradient Round Sunglasses (Free Size)',\n",
       " 'UV Protection Round Sunglasses (Free Size)',\n",
       " 'Polarized, UV Protection, Mirrored Aviator Sunglasses (...',\n",
       " 'UV Protection, Gradient, Mirrored Shield Sunglasses (54...',\n",
       " 'UV Protection Aviator Sunglasses (53)',\n",
       " 'UV Protection Wayfarer Sunglasses (Free Size)',\n",
       " 'Gradient, UV Protection Round Sunglasses (49)',\n",
       " 'UV Protection Aviator Sunglasses (Free Size)',\n",
       " 'Polarized, UV Protection Wayfarer Sunglasses (Free Size...',\n",
       " 'UV Protection Wayfarer Sunglasses (54)',\n",
       " 'Gradient Wayfarer Sunglasses (50)',\n",
       " 'UV Protection, Gradient Cat-eye Sunglasses (68)',\n",
       " 'Polarized, UV Protection Wayfarer Sunglasses (57)',\n",
       " 'UV Protection Wayfarer, Rectangular Sunglasses (53)',\n",
       " 'UV Protection Aviator Sunglasses (Free Size)',\n",
       " 'UV Protection, Gradient Round Sunglasses (Free Size)',\n",
       " 'UV Protection Oval Sunglasses (Free Size)',\n",
       " 'Mirrored Retro Square Sunglasses (57)',\n",
       " 'UV Protection, Gradient Round Sunglasses (55)',\n",
       " 'UV Protection, Riding Glasses Aviator Sunglasses (57)',\n",
       " 'UV Protection, Gradient Rectangular Sunglasses (Free Si...',\n",
       " 'UV Protection Wayfarer Sunglasses (Free Size)',\n",
       " 'UV Protection, Gradient Butterfly, Wayfarer Sunglasses ...',\n",
       " 'UV Protection Wayfarer Sunglasses (55)',\n",
       " 'by Lenskart Polarized, UV Protection Round Sunglasses (...',\n",
       " 'UV Protection, Gradient Oval Sunglasses (58)',\n",
       " 'UV Protection, Gradient Cat-eye Sunglasses (61)',\n",
       " 'UV Protection Wayfarer Sunglasses (51)',\n",
       " 'UV Protection, Gradient Retro Square Sunglasses (Free S...',\n",
       " 'UV Protection Aviator Sunglasses (57)',\n",
       " 'UV Protection Round Sunglasses (52)',\n",
       " 'Polarized Wayfarer Sunglasses (Free Size)',\n",
       " 'Polarized, UV Protection Wayfarer Sunglasses (57)',\n",
       " 'UV Protection, Mirrored, Night Vision, Riding Glasses R...',\n",
       " 'UV Protection Oval Sunglasses (58)',\n",
       " 'by Lenskart UV Protection Rectangular Sunglasses (54)',\n",
       " 'UV Protection Sports Sunglasses (Free Size)',\n",
       " 'UV Protection Retro Square Sunglasses (Free Size)',\n",
       " 'Polarized Sports Sunglasses (68)',\n",
       " 'Mirrored, UV Protection Wayfarer Sunglasses (Free Size)',\n",
       " 'UV Protection Aviator Sunglasses (57)',\n",
       " 'UV Protection Aviator Sunglasses (58)',\n",
       " 'UV Protection, Gradient, Night Vision Retro Square Sung...',\n",
       " 'UV Protection Retro Square Sunglasses (49)',\n",
       " 'UV Protection Wayfarer Sunglasses (58)',\n",
       " 'UV Protection Rectangular Sunglasses (60)',\n",
       " 'UV Protection Wayfarer, Rectangular Sunglasses (61)',\n",
       " 'UV Protection Round Sunglasses (52)',\n",
       " 'Night Vision, Riding Glasses Wayfarer Sunglasses (53)',\n",
       " 'UV Protection Aviator Sunglasses (Free Size)',\n",
       " 'UV Protection, Riding Glasses Sports Sunglasses (65)',\n",
       " 'UV Protection Cat-eye Sunglasses (57)',\n",
       " 'Polarized Wayfarer Sunglasses (60)',\n",
       " 'Mirrored, UV Protection Wayfarer Sunglasses (18)',\n",
       " 'Polarized Aviator Sunglasses (Free Size)',\n",
       " 'UV Protection Sports Sunglasses (Free Size)',\n",
       " 'Polarized Over-sized Sunglasses (56)',\n",
       " 'Gradient Oval Sunglasses (Free Size)',\n",
       " 'UV Protection Round Sunglasses (58)',\n",
       " 'Polarized, UV Protection Over-sized Sunglasses (56)',\n",
       " 'Riding Glasses, Others, UV Protection Wrap-around Sungl...',\n",
       " 'UV Protection Round Sunglasses (50)',\n",
       " 'Mirrored, UV Protection Aviator Sunglasses (56)',\n",
       " 'Gradient, UV Protection Round Sunglasses (Free Size)',\n",
       " 'Polarized Over-sized Sunglasses (56)',\n",
       " 'UV Protection, Riding Glasses Aviator Sunglasses (57)',\n",
       " 'UV Protection Oval Sunglasses (Free Size)',\n",
       " 'UV Protection Wayfarer Sunglasses (50)',\n",
       " 'UV Protection, Night Vision Wayfarer Sunglasses (Free S...',\n",
       " 'Polarized Aviator Sunglasses (Free Size)',\n",
       " 'Wrap-around Sunglasses (61)',\n",
       " 'UV Protection, Mirrored Aviator Sunglasses (60)',\n",
       " 'UV Protection Retro Square Sunglasses (53)',\n",
       " 'UV Protection, Gradient Butterfly Sunglasses (62)',\n",
       " 'Riding Glasses, UV Protection, Mirrored Sports Sunglass...',\n",
       " 'by Lenskart UV Protection Wayfarer Sunglasses (49)',\n",
       " 'UV Protection, Gradient Cat-eye, Wayfarer Sunglasses (6...',\n",
       " 'UV Protection Round Sunglasses (50)',\n",
       " 'UV Protection Wayfarer, Round Sunglasses (63)',\n",
       " 'UV Protection Wrap-around Sunglasses (Free Size)',\n",
       " 'UV Protection, Gradient Round Sunglasses (Free Size)',\n",
       " 'UV Protection Round Sunglasses (Free Size)',\n",
       " 'UV Protection, Night Vision, Riding Glasses, Polarized ...',\n",
       " 'UV Protection Retro Square Sunglasses (47)',\n",
       " 'UV Protection Aviator Sunglasses (53)',\n",
       " 'UV Protection Aviator Sunglasses (58)',\n",
       " 'Polarized, UV Protection Wayfarer Sunglasses (57)',\n",
       " 'Polarized, Mirrored Round Sunglasses (49)',\n",
       " 'Polarized, UV Protection Wayfarer Sunglasses (Free Size...',\n",
       " 'Mirrored, UV Protection Wayfarer Sunglasses (50)',\n",
       " 'UV Protection Sports Sunglasses (Free Size)',\n",
       " 'Polarized Wayfarer Sunglasses (53)',\n",
       " 'Polarized, UV Protection Wayfarer Sunglasses (57)',\n",
       " 'UV Protection, Riding Glasses Aviator Sunglasses (58)',\n",
       " 'Mirrored Aviator Sunglasses (58)',\n",
       " 'UV Protection Round Sunglasses (50)',\n",
       " 'UV Protection Oval Sunglasses (Free Size)',\n",
       " 'UV Protection, Gradient Butterfly, Retro Square Sunglas...',\n",
       " 'UV Protection Aviator Sunglasses (54)',\n",
       " 'UV Protection Aviator Sunglasses (Free Size)',\n",
       " 'UV Protection, Gradient Rectangular Sunglasses (Free Si...',\n",
       " 'UV Protection, Gradient Aviator Sunglasses (57)',\n",
       " 'UV Protection Rectangular Sunglasses (Free Size)',\n",
       " 'UV Protection, Gradient Oval Sunglasses (58)',\n",
       " 'by Lenskart Polarized, UV Protection Wayfarer Sunglasse...',\n",
       " 'UV Protection Round Sunglasses (54)',\n",
       " 'UV Protection, Gradient Over-sized Sunglasses (56)',\n",
       " 'UV Protection Wayfarer Sunglasses (55)',\n",
       " 'by Lenskart Polarized, UV Protection Round Sunglasses (...',\n",
       " 'Others Retro Square Sunglasses (62)',\n",
       " 'UV Protection Wayfarer Sunglasses (Free Size)',\n",
       " 'Polarized Cat-eye Sunglasses (57)',\n",
       " 'UV Protection, Gradient Retro Square Sunglasses (Free S...',\n",
       " 'UV Protection Wayfarer Sunglasses (55)',\n",
       " 'UV Protection, Mirrored Aviator Sunglasses (58)',\n",
       " 'UV Protection Aviator Sunglasses (59)',\n",
       " 'Polarized, UV Protection Wayfarer Sunglasses (57)']"
      ]
     },
     "execution_count": 46,
     "metadata": {},
     "output_type": "execute_result"
    }
   ],
   "source": [
    "product_description"
   ]
  },
  {
   "cell_type": "code",
   "execution_count": 47,
   "metadata": {},
   "outputs": [],
   "source": [
    "price=[]"
   ]
  },
  {
   "cell_type": "code",
   "execution_count": 48,
   "metadata": {},
   "outputs": [
    {
     "name": "stderr",
     "output_type": "stream",
     "text": [
      "<ipython-input-48-ad4fde94eee8>:7: DeprecationWarning: find_elements_by_* commands are deprecated. Please use find_elements() instead\n",
      "  prices=driver.find_elements_by_class_name('_3bPFwb')#scraping brands name by class name='_2WkVRV'\n",
      "<ipython-input-48-ad4fde94eee8>:13: DeprecationWarning: find_elements_by_* commands are deprecated. Please use find_elements() instead\n",
      "  nxt_button=driver.find_elements_by_xpath(\"//a[@class='_1LKTO3']\")#scraping the list of buttons from the page\n"
     ]
    }
   ],
   "source": [
    "start=0\n",
    "\n",
    "end=3\n",
    "\n",
    "for page in range(start,end):#for loop for scrapping 4 page\n",
    "\n",
    "    prices=driver.find_elements_by_class_name('_3bPFwb')#scraping brands name by class name='_2WkVRV'\n",
    "\n",
    "    for i in prices:\n",
    "\n",
    "        price.append(i.text)\n",
    "\n",
    "    nxt_button=driver.find_elements_by_xpath(\"//a[@class='_1LKTO3']\")#scraping the list of buttons from the page\n",
    "\n",
    "    try:\n",
    "\n",
    "        driver.get(nxt_button[1].get_attribute('href'))#getting the link from the list for next page\n",
    "\n",
    "    except:\n",
    "\n",
    "        driver.get(nxt_button[0].get_attribute('href'))"
   ]
  },
  {
   "cell_type": "code",
   "execution_count": 49,
   "metadata": {},
   "outputs": [
    {
     "data": {
      "text/plain": [
       "['₹664₹1,99966% off',\n",
       " '₹1,010₹2,99966% off',\n",
       " '₹2,250',\n",
       " '₹336₹1,99983% off',\n",
       " '₹399₹1,99980% off',\n",
       " '₹699₹1,99965% off',\n",
       " '₹851₹3,25073% off',\n",
       " '₹799₹1,99960% off',\n",
       " '₹548₹3,80085% off',\n",
       " '₹359₹1,49976% off',\n",
       " '₹343₹1,24572% off',\n",
       " '₹999₹1,99950% off',\n",
       " '₹2,162₹2,2995% off',\n",
       " '₹219₹1,29983% off',\n",
       " '₹1,100₹3,99972% off',\n",
       " '₹999₹1,99950% off',\n",
       " '₹263₹1,99586% off',\n",
       " '₹239₹1,99988% off',\n",
       " '₹310₹1,99984% off',\n",
       " '₹449₹1,99977% off',\n",
       " '₹403₹1,44572% off',\n",
       " '₹6,021₹7,49019% off',\n",
       " '₹4,719₹5,49014% off',\n",
       " '₹359₹1,49976% off',\n",
       " '₹1,259₹1,2993% off',\n",
       " '₹259₹1,49982% off',\n",
       " '₹1,326₹4,10067% off',\n",
       " '₹1,415₹1,99929% off',\n",
       " '₹695₹79913% off',\n",
       " '₹255₹1,19978% off',\n",
       " '₹990₹3,99975% off',\n",
       " '₹325₹1,99983% off',\n",
       " '₹958₹3,44972% off',\n",
       " '₹1,535₹4,10062% off',\n",
       " '₹1,100₹3,99972% off',\n",
       " '₹799₹1,99960% off',\n",
       " '₹276₹1,29978% off',\n",
       " '₹467₹1,49968% off',\n",
       " '₹170₹99982% off',\n",
       " '₹799₹1,99960% off',\n",
       " '₹179₹1,29986% off',\n",
       " '₹599₹1,99970% off',\n",
       " '₹245₹1,99987% off',\n",
       " '₹336₹1,99983% off',\n",
       " '₹664₹1,99966% off',\n",
       " '₹1,164₹3,70068% off',\n",
       " '₹249₹1,49983% off',\n",
       " '₹799₹1,99960% off',\n",
       " '₹448₹1,69573% off',\n",
       " '₹258₹1,29980% off',\n",
       " '₹1,506₹4,10063% off',\n",
       " '₹999₹1,99950% off',\n",
       " '₹689₹89923% off',\n",
       " '₹1,591₹4,10061% off',\n",
       " '₹1,179₹1,99941% off',\n",
       " '₹999₹1,99950% off',\n",
       " '₹289₹1,99985% off',\n",
       " '₹1,621₹4,10060% off',\n",
       " '₹300₹92567% off',\n",
       " '₹359₹1,49976% off',\n",
       " '₹383₹99961% off',\n",
       " '₹499₹2,55580% off',\n",
       " '₹1,100₹3,99972% off',\n",
       " '₹449₹1,99977% off',\n",
       " '₹815₹2,54968% off',\n",
       " '₹759₹1,99962% off',\n",
       " '₹569₹1,99971% off',\n",
       " '₹325₹1,99983% off',\n",
       " '₹448₹1,72574% off',\n",
       " '₹395₹1,70076% off',\n",
       " '₹3,092₹8,67064% off',\n",
       " '₹1,415₹1,99929% off',\n",
       " '₹854₹1,99957% off',\n",
       " '₹4,851₹5,39010% off',\n",
       " '₹1,085₹1,29916% off',\n",
       " '₹287₹1,89984% off',\n",
       " '₹169₹1,19985% off',\n",
       " '₹184₹69973% off',\n",
       " '₹1,080₹1,0991% off',\n",
       " '₹799₹1,99960% off',\n",
       " '₹661₹2,85076% off',\n",
       " '₹664₹1,99966% off',\n",
       " '₹437₹1,62573% off',\n",
       " '₹336₹1,99983% off',\n",
       " '₹8,451₹9,39010% off',\n",
       " '₹161₹99983% off',\n",
       " '₹699₹1,49953% off',\n",
       " '₹799₹1,99960% off',\n",
       " '₹738₹1,09932% off',\n",
       " '₹1,135₹4,25073% off',\n",
       " '₹314₹1,99984% off',\n",
       " '₹999₹1,99950% off',\n",
       " '₹1,745₹4,70062% off',\n",
       " '₹574₹1,52562% off',\n",
       " '₹1,571₹3,90059% off',\n",
       " '₹999₹1,99950% off',\n",
       " '₹1,274₹1,2991% off',\n",
       " '₹664₹1,99966% off',\n",
       " '₹225₹1,09979% off',\n",
       " '₹359₹1,49976% off',\n",
       " '₹330₹1,24573% off',\n",
       " '₹664₹1,99966% off',\n",
       " '₹1,442₹3,90063% off',\n",
       " '₹449₹1,99977% off',\n",
       " '₹500₹1,52567% off',\n",
       " '₹276₹1,69983% off',\n",
       " '₹349₹1,54977% off',\n",
       " '₹1,415₹1,99929% off',\n",
       " '₹1,223₹3,70066% off',\n",
       " '₹10,971₹12,19010% off',\n",
       " '₹8,631₹9,59010% off',\n",
       " '₹325₹1,99983% off',\n",
       " '₹209₹1,29583% off',\n",
       " '₹1,434₹4,10065% off',\n",
       " '₹664₹1,99966% off',\n",
       " '₹799₹1,99960% off',\n",
       " '₹215₹1,29983% off',\n",
       " '₹824₹2,99972% off',\n",
       " '₹359₹1,49976% off',\n",
       " '₹799₹1,99960% off']"
      ]
     },
     "execution_count": 49,
     "metadata": {},
     "output_type": "execute_result"
    }
   ],
   "source": [
    "price"
   ]
  },
  {
   "cell_type": "code",
   "execution_count": 50,
   "metadata": {
    "scrolled": true
   },
   "outputs": [
    {
     "name": "stdout",
     "output_type": "stream",
     "text": [
      "120 120 120\n"
     ]
    }
   ],
   "source": [
    "print(len(brand),len(product_description),len(price))"
   ]
  },
  {
   "cell_type": "code",
   "execution_count": 51,
   "metadata": {},
   "outputs": [],
   "source": [
    "data = list(zip(brand,product_description,price))"
   ]
  },
  {
   "cell_type": "code",
   "execution_count": 53,
   "metadata": {},
   "outputs": [],
   "source": [
    "import pandas as pd"
   ]
  },
  {
   "cell_type": "code",
   "execution_count": 54,
   "metadata": {},
   "outputs": [],
   "source": [
    "df = pd.DataFrame(data,columns=['brand','product_description','price'])"
   ]
  },
  {
   "cell_type": "code",
   "execution_count": 55,
   "metadata": {},
   "outputs": [
    {
     "data": {
      "text/html": [
       "<div>\n",
       "<style scoped>\n",
       "    .dataframe tbody tr th:only-of-type {\n",
       "        vertical-align: middle;\n",
       "    }\n",
       "\n",
       "    .dataframe tbody tr th {\n",
       "        vertical-align: top;\n",
       "    }\n",
       "\n",
       "    .dataframe thead th {\n",
       "        text-align: right;\n",
       "    }\n",
       "</style>\n",
       "<table border=\"1\" class=\"dataframe\">\n",
       "  <thead>\n",
       "    <tr style=\"text-align: right;\">\n",
       "      <th></th>\n",
       "      <th>brand</th>\n",
       "      <th>product_description</th>\n",
       "      <th>price</th>\n",
       "    </tr>\n",
       "  </thead>\n",
       "  <tbody>\n",
       "    <tr>\n",
       "      <th>0</th>\n",
       "      <td>ROZZETTA CRAFT</td>\n",
       "      <td>UV Protection, Gradient Wayfarer Sunglasses (53)</td>\n",
       "      <td>₹664₹1,99966% off</td>\n",
       "    </tr>\n",
       "    <tr>\n",
       "      <th>1</th>\n",
       "      <td>VINCENT CHASE</td>\n",
       "      <td>UV Protection Over-sized Sunglasses (60)</td>\n",
       "      <td>₹1,010₹2,99966% off</td>\n",
       "    </tr>\n",
       "    <tr>\n",
       "      <th>2</th>\n",
       "      <td>Fastrack</td>\n",
       "      <td>Polarized Retro Square Sunglasses (58)</td>\n",
       "      <td>₹2,250</td>\n",
       "    </tr>\n",
       "    <tr>\n",
       "      <th>3</th>\n",
       "      <td>PIRASO</td>\n",
       "      <td>UV Protection, Gradient Round Sunglasses (Free...</td>\n",
       "      <td>₹336₹1,99983% off</td>\n",
       "    </tr>\n",
       "    <tr>\n",
       "      <th>4</th>\n",
       "      <td>PIRASO</td>\n",
       "      <td>UV Protection Round Sunglasses (Free Size)</td>\n",
       "      <td>₹399₹1,99980% off</td>\n",
       "    </tr>\n",
       "    <tr>\n",
       "      <th>...</th>\n",
       "      <td>...</td>\n",
       "      <td>...</td>\n",
       "      <td>...</td>\n",
       "    </tr>\n",
       "    <tr>\n",
       "      <th>95</th>\n",
       "      <td>VINCENT CHASE</td>\n",
       "      <td>Polarized, UV Protection Wayfarer Sunglasses (57)</td>\n",
       "      <td>₹999₹1,99950% off</td>\n",
       "    </tr>\n",
       "    <tr>\n",
       "      <th>96</th>\n",
       "      <td>Singco</td>\n",
       "      <td>UV Protection, Riding Glasses Aviator Sunglass...</td>\n",
       "      <td>₹1,274₹1,2991% off</td>\n",
       "    </tr>\n",
       "    <tr>\n",
       "      <th>97</th>\n",
       "      <td>NuVew</td>\n",
       "      <td>Mirrored Aviator Sunglasses (58)</td>\n",
       "      <td>₹664₹1,99966% off</td>\n",
       "    </tr>\n",
       "    <tr>\n",
       "      <th>98</th>\n",
       "      <td>elegante</td>\n",
       "      <td>UV Protection Round Sunglasses (50)</td>\n",
       "      <td>₹225₹1,09979% off</td>\n",
       "    </tr>\n",
       "    <tr>\n",
       "      <th>99</th>\n",
       "      <td>elegante</td>\n",
       "      <td>UV Protection Oval Sunglasses (Free Size)</td>\n",
       "      <td>₹359₹1,49976% off</td>\n",
       "    </tr>\n",
       "  </tbody>\n",
       "</table>\n",
       "<p>100 rows × 3 columns</p>\n",
       "</div>"
      ],
      "text/plain": [
       "             brand                                product_description  \\\n",
       "0   ROZZETTA CRAFT   UV Protection, Gradient Wayfarer Sunglasses (53)   \n",
       "1    VINCENT CHASE           UV Protection Over-sized Sunglasses (60)   \n",
       "2         Fastrack             Polarized Retro Square Sunglasses (58)   \n",
       "3           PIRASO  UV Protection, Gradient Round Sunglasses (Free...   \n",
       "4           PIRASO         UV Protection Round Sunglasses (Free Size)   \n",
       "..             ...                                                ...   \n",
       "95   VINCENT CHASE  Polarized, UV Protection Wayfarer Sunglasses (57)   \n",
       "96          Singco  UV Protection, Riding Glasses Aviator Sunglass...   \n",
       "97           NuVew                   Mirrored Aviator Sunglasses (58)   \n",
       "98        elegante                UV Protection Round Sunglasses (50)   \n",
       "99        elegante          UV Protection Oval Sunglasses (Free Size)   \n",
       "\n",
       "                  price  \n",
       "0     ₹664₹1,99966% off  \n",
       "1   ₹1,010₹2,99966% off  \n",
       "2                ₹2,250  \n",
       "3     ₹336₹1,99983% off  \n",
       "4     ₹399₹1,99980% off  \n",
       "..                  ...  \n",
       "95    ₹999₹1,99950% off  \n",
       "96   ₹1,274₹1,2991% off  \n",
       "97    ₹664₹1,99966% off  \n",
       "98    ₹225₹1,09979% off  \n",
       "99    ₹359₹1,49976% off  \n",
       "\n",
       "[100 rows x 3 columns]"
      ]
     },
     "execution_count": 55,
     "metadata": {},
     "output_type": "execute_result"
    }
   ],
   "source": [
    "df.head(100)"
   ]
  },
  {
   "cell_type": "code",
   "execution_count": 2,
   "metadata": {},
   "outputs": [],
   "source": [
    "import selenium\n",
    "import pandas as pd\n",
    "import time\n",
    "from bs4 import BeautifulSoup\n",
    "\n",
    "# Importing selenium webdriver \n",
    "from selenium import webdriver\n",
    "\n"
   ]
  },
  {
   "cell_type": "code",
   "execution_count": 4,
   "metadata": {},
   "outputs": [
    {
     "name": "stderr",
     "output_type": "stream",
     "text": [
      "<ipython-input-4-0a42a6d352c8>:1: DeprecationWarning: executable_path has been deprecated, please pass in a Service object\n",
      "  driver = webdriver.Chrome('chromedriver.exe')\n"
     ]
    }
   ],
   "source": [
    "driver = webdriver.Chrome('chromedriver.exe')\n",
    "driver.get('https://www.flipkart.com/apple-iphone-11-black-64-gb-includes-earpods-power-adapter/product-reviews/itm0f37c2240b217?pid=MOBFKCTSVZAXUHGR&lid=LSTMOBFKCTSVZAXUHGREPBFGI&marketplace=FLIPKART')"
   ]
  },
  {
   "cell_type": "code",
   "execution_count": 17,
   "metadata": {},
   "outputs": [],
   "source": [
    "from time import sleep"
   ]
  },
  {
   "cell_type": "code",
   "execution_count": 5,
   "metadata": {},
   "outputs": [
    {
     "name": "stderr",
     "output_type": "stream",
     "text": [
      "C:\\Users\\Srishti Maan\\anaconda3\\lib\\site-packages\\selenium\\webdriver\\remote\\webdriver.py:502: UserWarning: find_elements_by_* commands are deprecated. Please use find_elements() instead\n",
      "  warnings.warn(\"find_elements_by_* commands are deprecated. Please use find_elements() instead\")\n"
     ]
    }
   ],
   "source": [
    "page_url = [] # a list containg url's of every page\n",
    "\n",
    "url = driver.find_elements_by_xpath(\"//nav[@class='yFHi8N']//a\")\n",
    "\n",
    "for i in url:\n",
    "\n",
    "    page_url.append(i.get_attribute('href'))\n",
    "\n",
    "rating = []\n",
    "\n",
    "review_short =[]\n",
    "\n",
    "review_full =[]\n",
    "\n",
    "for i in page_url[:10]:\n",
    "\n",
    "    # open one browser window at a time and extract data\n",
    "\n",
    "    driver.get(i)\n",
    "\n",
    "    #time.sleep(10)\n",
    "\n",
    "    try:\n",
    "\n",
    "        rat = driver.find_elements_by_xpath(\"//div[@class='_3LWZlK _1BLPMq' or @class='_3LWZlK _1rdVr6 _1BLPMq']\") # stores all web elements of ratings present on one page\n",
    "\n",
    "        for j in rat:\n",
    "\n",
    "            rating.append(j.text) # fetches text out of those web elements\n",
    "\n",
    "    except:\n",
    "\n",
    "        pass"
   ]
  },
  {
   "cell_type": "code",
   "execution_count": 6,
   "metadata": {},
   "outputs": [
    {
     "data": {
      "text/plain": [
       "['5',\n",
       " '5',\n",
       " '5',\n",
       " '5',\n",
       " '5',\n",
       " '5',\n",
       " '5',\n",
       " '4',\n",
       " '5',\n",
       " '5',\n",
       " '5',\n",
       " '5',\n",
       " '5',\n",
       " '5',\n",
       " '5',\n",
       " '5',\n",
       " '5',\n",
       " '5',\n",
       " '5',\n",
       " '5',\n",
       " '5',\n",
       " '5',\n",
       " '4',\n",
       " '5',\n",
       " '5',\n",
       " '5',\n",
       " '5',\n",
       " '5',\n",
       " '4',\n",
       " '5',\n",
       " '5',\n",
       " '5',\n",
       " '5',\n",
       " '5',\n",
       " '5',\n",
       " '5',\n",
       " '5',\n",
       " '4',\n",
       " '1',\n",
       " '5',\n",
       " '5',\n",
       " '5',\n",
       " '5',\n",
       " '5',\n",
       " '5',\n",
       " '5',\n",
       " '5',\n",
       " '4',\n",
       " '5',\n",
       " '5',\n",
       " '5',\n",
       " '5',\n",
       " '4',\n",
       " '5',\n",
       " '5',\n",
       " '5',\n",
       " '5',\n",
       " '5',\n",
       " '5',\n",
       " '5',\n",
       " '5',\n",
       " '1',\n",
       " '5',\n",
       " '5',\n",
       " '5',\n",
       " '4',\n",
       " '5',\n",
       " '5',\n",
       " '5',\n",
       " '4',\n",
       " '5',\n",
       " '5',\n",
       " '5',\n",
       " '4',\n",
       " '5',\n",
       " '1',\n",
       " '5',\n",
       " '5',\n",
       " '5',\n",
       " '5',\n",
       " '4',\n",
       " '5',\n",
       " '5',\n",
       " '5',\n",
       " '5',\n",
       " '5',\n",
       " '5',\n",
       " '5',\n",
       " '5',\n",
       " '5',\n",
       " '5',\n",
       " '4',\n",
       " '5',\n",
       " '5',\n",
       " '5',\n",
       " '5',\n",
       " '5',\n",
       " '5',\n",
       " '5',\n",
       " '3']"
      ]
     },
     "execution_count": 6,
     "metadata": {},
     "output_type": "execute_result"
    }
   ],
   "source": [
    "rating"
   ]
  },
  {
   "cell_type": "code",
   "execution_count": null,
   "metadata": {},
   "outputs": [],
   "source": []
  }
 ],
 "metadata": {
  "kernelspec": {
   "display_name": "Python 3",
   "language": "python",
   "name": "python3"
  },
  "language_info": {
   "codemirror_mode": {
    "name": "ipython",
    "version": 3
   },
   "file_extension": ".py",
   "mimetype": "text/x-python",
   "name": "python",
   "nbconvert_exporter": "python",
   "pygments_lexer": "ipython3",
   "version": "3.8.5"
  }
 },
 "nbformat": 4,
 "nbformat_minor": 4
}
