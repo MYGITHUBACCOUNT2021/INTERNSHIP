{
 "cells": [
  {
   "cell_type": "markdown",
   "metadata": {},
   "source": [
    "#                                   WEB SCRAPPING"
   ]
  },
  {
   "cell_type": "markdown",
   "metadata": {},
   "source": [
    "# QUESTION NUMBER 1"
   ]
  },
  {
   "cell_type": "code",
   "execution_count": 1,
   "metadata": {},
   "outputs": [],
   "source": [
    "from urllib.request import urlopen"
   ]
  },
  {
   "cell_type": "code",
   "execution_count": 2,
   "metadata": {},
   "outputs": [],
   "source": [
    "html = urlopen('https://en.wikipedia.org/wiki/Main_Page')"
   ]
  },
  {
   "cell_type": "code",
   "execution_count": 3,
   "metadata": {},
   "outputs": [],
   "source": [
    "from bs4 import BeautifulSoup\n",
    "bs = BeautifulSoup(html,'html.parser')"
   ]
  },
  {
   "cell_type": "code",
   "execution_count": 4,
   "metadata": {
    "scrolled": true
   },
   "outputs": [
    {
     "name": "stdout",
     "output_type": "stream",
     "text": [
      "List all the header tags :\n",
      "\n",
      "<h1 class=\"firstHeading\" id=\"firstHeading\">Main Page</h1>\n",
      "\n",
      "<h2 class=\"mp-h2\" id=\"mp-tfa-h2\"><span id=\"From_today.27s_featured_article\"></span><span class=\"mw-headline\" id=\"From_today's_featured_article\">From today's featured article</span></h2>\n",
      "\n",
      "<h2 class=\"mp-h2\" id=\"mp-dyk-h2\"><span class=\"mw-headline\" id=\"Did_you_know_...\">Did you know ...</span></h2>\n",
      "\n",
      "<h2 class=\"mp-h2\" id=\"mp-itn-h2\"><span class=\"mw-headline\" id=\"In_the_news\">In the news</span></h2>\n",
      "\n",
      "<h2 class=\"mp-h2\" id=\"mp-otd-h2\"><span class=\"mw-headline\" id=\"On_this_day\">On this day</span></h2>\n",
      "\n",
      "<h2 class=\"mp-h2\" id=\"mp-tfp-h2\"><span id=\"Today.27s_featured_picture\"></span><span class=\"mw-headline\" id=\"Today's_featured_picture\">Today's featured picture</span></h2>\n",
      "\n",
      "<h2 class=\"mp-h2\" id=\"mp-other\"><span class=\"mw-headline\" id=\"Other_areas_of_Wikipedia\">Other areas of Wikipedia</span></h2>\n",
      "\n",
      "<h2 class=\"mp-h2\" id=\"mp-sister\"><span id=\"Wikipedia.27s_sister_projects\"></span><span class=\"mw-headline\" id=\"Wikipedia's_sister_projects\">Wikipedia's sister projects</span></h2>\n",
      "\n",
      "<h2 class=\"mp-h2\" id=\"mp-lang\"><span class=\"mw-headline\" id=\"Wikipedia_languages\">Wikipedia languages</span></h2>\n",
      "\n",
      "<h2>Navigation menu</h2>\n",
      "\n",
      "<h3 aria-label=\"\" class=\"vector-menu-heading\" id=\"p-personal-label\">\n",
      "<span>Personal tools</span>\n",
      "</h3>\n",
      "\n",
      "<h3 aria-label=\"\" class=\"vector-menu-heading\" id=\"p-namespaces-label\">\n",
      "<span>Namespaces</span>\n",
      "</h3>\n",
      "\n",
      "<h3 aria-label=\"Change language variant\" class=\"vector-menu-heading\" id=\"p-variants-label\">\n",
      "<span>Variants</span>\n",
      "<span class=\"vector-menu-checkbox-expanded\">expanded</span>\n",
      "<span class=\"vector-menu-checkbox-collapsed\">collapsed</span>\n",
      "</h3>\n",
      "\n",
      "<h3 aria-label=\"\" class=\"vector-menu-heading\" id=\"p-views-label\">\n",
      "<span>Views</span>\n",
      "</h3>\n",
      "\n",
      "<h3 aria-label=\"\" class=\"vector-menu-heading\" id=\"p-cactions-label\">\n",
      "<span>More</span>\n",
      "<span class=\"vector-menu-checkbox-expanded\">expanded</span>\n",
      "<span class=\"vector-menu-checkbox-collapsed\">collapsed</span>\n",
      "</h3>\n",
      "\n",
      "<h3>\n",
      "<label for=\"searchInput\">Search</label>\n",
      "</h3>\n",
      "\n",
      "<h3 aria-label=\"\" class=\"vector-menu-heading\" id=\"p-navigation-label\">\n",
      "<span>Navigation</span>\n",
      "</h3>\n",
      "\n",
      "<h3 aria-label=\"\" class=\"vector-menu-heading\" id=\"p-interaction-label\">\n",
      "<span>Contribute</span>\n",
      "</h3>\n",
      "\n",
      "<h3 aria-label=\"\" class=\"vector-menu-heading\" id=\"p-tb-label\">\n",
      "<span>Tools</span>\n",
      "</h3>\n",
      "\n",
      "<h3 aria-label=\"\" class=\"vector-menu-heading\" id=\"p-coll-print_export-label\">\n",
      "<span>Print/export</span>\n",
      "</h3>\n",
      "\n",
      "<h3 aria-label=\"\" class=\"vector-menu-heading\" id=\"p-wikibase-otherprojects-label\">\n",
      "<span>In other projects</span>\n",
      "</h3>\n",
      "\n",
      "<h3 aria-label=\"\" class=\"vector-menu-heading\" id=\"p-lang-label\">\n",
      "<span>Languages</span>\n",
      "</h3>\n"
     ]
    }
   ],
   "source": [
    "titles = bs.find_all(['h1','h2','h3','h4','h5','h6'])\n",
    "\n",
    "print('List all the header tags :', *titles, sep='\\n\\n')"
   ]
  },
  {
   "cell_type": "markdown",
   "metadata": {},
   "source": [
    "# QUESTION NUMBER 2"
   ]
  },
  {
   "cell_type": "code",
   "execution_count": 5,
   "metadata": {},
   "outputs": [],
   "source": [
    "#!pip install requests"
   ]
  },
  {
   "cell_type": "code",
   "execution_count": 6,
   "metadata": {},
   "outputs": [],
   "source": [
    "#!pip install html5lib"
   ]
  },
  {
   "cell_type": "code",
   "execution_count": 7,
   "metadata": {},
   "outputs": [],
   "source": [
    "#!pip install bs4"
   ]
  },
  {
   "cell_type": "code",
   "execution_count": 8,
   "metadata": {},
   "outputs": [],
   "source": [
    "url = 'https://www.imdb.com/chart/top/'"
   ]
  },
  {
   "cell_type": "code",
   "execution_count": 9,
   "metadata": {},
   "outputs": [],
   "source": [
    "import requests"
   ]
  },
  {
   "cell_type": "code",
   "execution_count": 10,
   "metadata": {},
   "outputs": [],
   "source": [
    "r = requests.get(url)"
   ]
  },
  {
   "cell_type": "code",
   "execution_count": 11,
   "metadata": {},
   "outputs": [],
   "source": [
    "htmlcontent = r.content"
   ]
  },
  {
   "cell_type": "code",
   "execution_count": 12,
   "metadata": {},
   "outputs": [],
   "source": [
    "from bs4 import BeautifulSoup\n",
    "bs = BeautifulSoup(htmlcontent,'html.parser')"
   ]
  },
  {
   "cell_type": "code",
   "execution_count": 13,
   "metadata": {},
   "outputs": [
    {
     "data": {
      "text/plain": [
       "['      1.      The Shawshank Redemption(1994)',\n",
       " '      2.      The Godfather(1972)',\n",
       " '      3.      The Godfather: Part II(1974)',\n",
       " '      4.      The Dark Knight(2008)',\n",
       " '      5.      12 Angry Men(1957)',\n",
       " \"      6.      Schindler's List(1993)\",\n",
       " '      7.      The Lord of the Rings: The Return of the King(2003)',\n",
       " '      8.      Pulp Fiction(1994)',\n",
       " '      9.      Il buono, il brutto, il cattivo(1966)',\n",
       " '      10.      The Lord of the Rings: The Fellowship of the Ring(2001)',\n",
       " '      11.      Fight Club(1999)',\n",
       " '      12.      Forrest Gump(1994)',\n",
       " '      13.      Inception(2010)',\n",
       " '      14.      The Lord of the Rings: The Two Towers(2002)',\n",
       " '      15.      Star Wars: Episode V - The Empire Strikes Back(1980)',\n",
       " '      16.      The Matrix(1999)',\n",
       " '      17.      Goodfellas(1990)',\n",
       " \"      18.      One Flew Over the Cuckoo's Nest(1975)\",\n",
       " '      19.      Shichinin no samurai(1954)',\n",
       " '      20.      Se7en(1995)',\n",
       " '      21.      The Silence of the Lambs(1991)',\n",
       " '      22.      Cidade de Deus(2002)',\n",
       " '      23.      La vita è bella(1997)',\n",
       " \"      24.      It's a Wonderful Life(1946)\",\n",
       " '      25.      Star Wars(1977)',\n",
       " '      26.      Saving Private Ryan(1998)',\n",
       " '      27.      Interstellar(2014)',\n",
       " '      28.      Sen to Chihiro no kamikakushi(2001)',\n",
       " '      29.      The Green Mile(1999)',\n",
       " '      30.      Gisaengchung(2019)',\n",
       " '      31.      Léon(1994)',\n",
       " '      32.      Seppuku(1962)',\n",
       " '      33.      The Pianist(2002)',\n",
       " '      34.      The Usual Suspects(1995)',\n",
       " '      35.      Terminator 2: Judgment Day(1991)',\n",
       " '      36.      Back to the Future(1985)',\n",
       " '      37.      Psycho(1960)',\n",
       " '      38.      The Lion King(1994)',\n",
       " '      39.      Modern Times(1936)',\n",
       " '      40.      American History X(1998)',\n",
       " '      41.      Hotaru no haka(1988)',\n",
       " '      42.      City Lights(1931)',\n",
       " '      43.      Whiplash(2014)',\n",
       " '      44.      Gladiator(2000)',\n",
       " '      45.      The Departed(2006)',\n",
       " '      46.      The Intouchables(2011)',\n",
       " '      47.      The Prestige(2006)',\n",
       " '      48.      Casablanca(1942)',\n",
       " '      49.      Once Upon a Time in the West(1968)',\n",
       " '      50.      Rear Window(1954)',\n",
       " '      51.      Nuovo Cinema Paradiso(1988)',\n",
       " '      52.      Alien(1979)',\n",
       " '      53.      Apocalypse Now(1979)',\n",
       " '      54.      Memento(2000)',\n",
       " '      55.      Raiders of the Lost Ark(1981)',\n",
       " '      56.      The Great Dictator(1940)',\n",
       " '      57.      The Lives of Others(2006)',\n",
       " '      58.      Django Unchained(2012)',\n",
       " '      59.      Paths of Glory(1957)',\n",
       " '      60.      Sunset Blvd.(1950)',\n",
       " '      61.      WALL·E(2008)',\n",
       " '      62.      Avengers: Infinity War(2018)',\n",
       " '      63.      Witness for the Prosecution(1957)',\n",
       " '      64.      The Shining(1980)',\n",
       " '      65.      Spider-Man: Into the Spider-Verse(2018)',\n",
       " '      66.      Dr. Strangelove or: How I Learned to Stop Worrying and Love the Bomb(1964)',\n",
       " '      67.      Joker(2019)',\n",
       " '      68.      Mononoke-hime(1997)',\n",
       " '      69.      Oldeuboi(2003)',\n",
       " '      70.      Kimi no na wa.(2016)',\n",
       " '      71.      The Dark Knight Rises(2012)',\n",
       " '      72.      Coco(2017)',\n",
       " '      73.      Aliens(1986)',\n",
       " '      74.      Once Upon a Time in America(1984)',\n",
       " '      75.      Capharnaüm(2018)',\n",
       " '      76.      Avengers: Endgame(2019)',\n",
       " '      77.      Das Boot(1981)',\n",
       " '      78.      Tengoku to jigoku(1963)',\n",
       " '      79.      Hamilton(2020)',\n",
       " '      80.      American Beauty(1999)',\n",
       " '      81.      Toy Story(1995)',\n",
       " '      82.      3 Idiots(2009)',\n",
       " '      83.      Amadeus(1984)',\n",
       " '      84.      Braveheart(1995)',\n",
       " '      85.      Inglourious Basterds(2009)',\n",
       " '      86.      Good Will Hunting(1997)',\n",
       " '      87.      Star Wars: Episode VI - Return of the Jedi(1983)',\n",
       " '      88.      2001: A Space Odyssey(1968)',\n",
       " '      89.      Reservoir Dogs(1992)',\n",
       " '      90.      M - Eine Stadt sucht einen Mörder(1931)',\n",
       " '      91.      Vertigo(1958)',\n",
       " '      92.      Taare Zameen Par(2007)',\n",
       " '      93.      Citizen Kane(1941)',\n",
       " '      94.      Idi i smotri(1985)',\n",
       " '      95.      Jagten(2012)',\n",
       " '      96.      Requiem for a Dream(2000)',\n",
       " \"      97.      Singin' in the Rain(1952)\",\n",
       " '      98.      North by Northwest(1959)',\n",
       " '      99.      Eternal Sunshine of the Spotless Mind(2004)',\n",
       " '      100.      Ladri di biciclette(1948)',\n",
       " '      101.      Ikiru(1952)',\n",
       " '      102.      Lawrence of Arabia(1962)',\n",
       " '      103.      The Kid(1921)',\n",
       " '      104.      Pather Panchali(1955)',\n",
       " '      105.      Full Metal Jacket(1987)',\n",
       " '      106.      Dangal(2016)',\n",
       " '      107.      The Father(2020)',\n",
       " '      108.      The Apartment(1960)',\n",
       " '      109.      Incendies(2010)',\n",
       " '      110.      A Clockwork Orange(1971)',\n",
       " '      111.      Taxi Driver(1976)',\n",
       " '      112.      Metropolis(1927)',\n",
       " '      113.      Double Indemnity(1944)',\n",
       " '      114.      The Sting(1973)',\n",
       " '      115.      Jodaeiye Nader az Simin(2011)',\n",
       " '      116.      Scarface(1983)',\n",
       " '      117.      1917(2019)',\n",
       " '      118.      Snatch(2000)',\n",
       " \"      119.      Le fabuleux destin d'Amélie Poulain(2001)\",\n",
       " '      120.      To Kill a Mockingbird(1962)',\n",
       " '      121.      Toy Story 3(2010)',\n",
       " '      122.      Per qualche dollaro in più(1965)',\n",
       " '      123.      Up(2009)',\n",
       " '      124.      Indiana Jones and the Last Crusade(1989)',\n",
       " '      125.      Heat(1995)',\n",
       " '      126.      L.A. Confidential(1997)',\n",
       " '      127.      Dune: Part One(2021)',\n",
       " '      128.      Yôjinbô(1961)',\n",
       " '      129.      Ran(1985)',\n",
       " '      130.      Die Hard(1988)',\n",
       " '      131.      Rashômon(1950)',\n",
       " '      132.      Green Book(2018)',\n",
       " '      133.      Der Untergang(2004)',\n",
       " '      134.      Monty Python and the Holy Grail(1975)',\n",
       " '      135.      All About Eve(1950)',\n",
       " '      136.      Batman Begins(2005)',\n",
       " '      137.      Some Like It Hot(1959)',\n",
       " '      138.      Unforgiven(1992)',\n",
       " '      139.      Bacheha-Ye aseman(1997)',\n",
       " '      140.      Hauru no ugoku shiro(2004)',\n",
       " '      141.      The Wolf of Wall Street(2013)',\n",
       " '      142.      Judgment at Nuremberg(1961)',\n",
       " '      143.      The Great Escape(1963)',\n",
       " '      144.      Casino(1995)',\n",
       " '      145.      The Treasure of the Sierra Madre(1948)',\n",
       " '      146.      There Will Be Blood(2007)',\n",
       " \"      147.      Pan's Labyrinth(2006)\",\n",
       " '      148.      A Beautiful Mind(2001)',\n",
       " '      149.      El secreto de sus ojos(2009)',\n",
       " '      150.      Raging Bull(1980)',\n",
       " '      151.      Tonari no Totoro(1988)',\n",
       " '      152.      Chinatown(1974)',\n",
       " '      153.      Lock, Stock and Two Smoking Barrels(1998)',\n",
       " '      154.      Shutter Island(2010)',\n",
       " '      155.      The Gold Rush(1925)',\n",
       " '      156.      No Country for Old Men(2007)',\n",
       " '      157.      Dial M for Murder(1954)',\n",
       " '      158.      Det sjunde inseglet(1957)',\n",
       " '      159.      Three Billboards Outside Ebbing, Missouri(2017)',\n",
       " '      160.      The Thing(1982)',\n",
       " '      161.      The Elephant Man(1980)',\n",
       " '      162.      The Sixth Sense(1999)',\n",
       " '      163.      Klaus(2019)',\n",
       " '      164.      Smultronstället(1957)',\n",
       " '      165.      The Third Man(1949)',\n",
       " '      166.      The Truman Show(1998)',\n",
       " '      167.      Jurassic Park(1993)',\n",
       " '      168.      V for Vendetta(2005)',\n",
       " '      169.      Salinui chueok(2003)',\n",
       " '      170.      Inside Out(2015)',\n",
       " '      171.      Blade Runner(1982)',\n",
       " '      172.      Trainspotting(1996)',\n",
       " '      173.      The Bridge on the River Kwai(1957)',\n",
       " '      174.      Fargo(1996)',\n",
       " '      175.      Warrior(2011)',\n",
       " '      176.      Finding Nemo(2003)',\n",
       " '      177.      Kill Bill: Vol. 1(2003)',\n",
       " '      178.      Gone with the Wind(1939)',\n",
       " '      179.      Tôkyô monogatari(1953)',\n",
       " '      180.      On the Waterfront(1954)',\n",
       " '      181.      Babam ve Oglum(2005)',\n",
       " '      182.      Z(1969)',\n",
       " '      183.      Stalker(1979)',\n",
       " '      184.      Relatos salvajes(2014)',\n",
       " '      185.      The Deer Hunter(1978)',\n",
       " '      186.      Sherlock Jr.(1924)',\n",
       " '      187.      Gran Torino(2008)',\n",
       " '      188.      The General(1926)',\n",
       " '      189.      Persona(1966)',\n",
       " '      190.      The Grand Budapest Hotel(2014)',\n",
       " '      191.      Prisoners(2013)',\n",
       " '      192.      Before Sunrise(1995)',\n",
       " '      193.      Mary and Max.(2009)',\n",
       " '      194.      Mr. Smith Goes to Washington(1939)',\n",
       " '      195.      Catch Me If You Can(2002)',\n",
       " '      196.      Room(2015)',\n",
       " '      197.      In the Name of the Father(1993)',\n",
       " '      198.      Barry Lyndon(1975)',\n",
       " '      199.      Gone Girl(2014)',\n",
       " '      200.      Hacksaw Ridge(2016)',\n",
       " \"      201.      La passion de Jeanne d'Arc(1928)\",\n",
       " '      202.      Andhadhun(2018)',\n",
       " '      203.      To Be or Not to Be(1942)',\n",
       " '      204.      Ford v Ferrari(2019)',\n",
       " '      205.      12 Years a Slave(2013)',\n",
       " '      206.      The Big Lebowski(1998)',\n",
       " '      207.      How to Train Your Dragon(2010)',\n",
       " '      208.      Höstsonaten(1978)',\n",
       " '      209.      Mad Max: Fury Road(2015)',\n",
       " '      210.      Dead Poets Society(1989)',\n",
       " '      211.      Ben-Hur(1959)',\n",
       " '      212.      Million Dollar Baby(2004)',\n",
       " '      213.      Harry Potter and the Deathly Hallows: Part 2(2011)',\n",
       " '      214.      Le salaire de la peur(1953)',\n",
       " '      215.      Stand by Me(1986)',\n",
       " '      216.      Ah-ga-ssi(2016)',\n",
       " '      217.      Network(1976)',\n",
       " '      218.      Logan(2017)',\n",
       " '      219.      Cool Hand Luke(1967)',\n",
       " \"      220.      Hachi: A Dog's Tale(2009)\",\n",
       " '      221.      Les quatre cents coups(1959)',\n",
       " '      222.      Gangs of Wasseypur(2012)',\n",
       " '      223.      La haine(1995)',\n",
       " '      224.      Platoon(1986)',\n",
       " '      225.      Spotlight(2015)',\n",
       " '      226.      Koe no katachi(2016)',\n",
       " '      227.      Rebecca(1940)',\n",
       " '      228.      Monsters, Inc.(2001)',\n",
       " '      229.      Life of Brian(1979)',\n",
       " '      230.      Eskiya(1996)',\n",
       " '      231.      Hotel Rwanda(2004)',\n",
       " '      232.      Fa Yeung Nin Wah(2000)',\n",
       " '      233.      Rush(2013)',\n",
       " '      234.      Into the Wild(2007)',\n",
       " '      235.      Amores perros(2000)',\n",
       " '      236.      Rocky(1976)',\n",
       " '      237.      Kaze no tani no Naushika(1984)',\n",
       " '      238.      Andrei Rublev(1966)',\n",
       " '      239.      It Happened One Night(1934)',\n",
       " '      240.      Fanny och Alexander(1982)',\n",
       " '      241.      Before Sunset(2004)',\n",
       " '      242.      Shin seiki Evangelion Gekijô-ban: Air/Magokoro wo, kimi ni(1997)',\n",
       " '      243.      La battaglia di Algeri(1966)',\n",
       " '      244.      Kimetsu no Yaiba: Mugen Ressha-Hen(2020)',\n",
       " '      245.      The Princess Bride(1987)',\n",
       " '      246.      Le notti di Cabiria(1957)',\n",
       " '      247.      Paris, Texas(1984)',\n",
       " '      248.      Trois couleurs: Rouge(1994)',\n",
       " '      249.      Mandariinid(2013)',\n",
       " '      250.      Miracle in Cell No. 7(2019)']"
      ]
     },
     "execution_count": 13,
     "metadata": {},
     "output_type": "execute_result"
    }
   ],
   "source": [
    "title = []\n",
    "\n",
    "for i in bs.find_all('td' ,class_='titleColumn'):\n",
    "    title.append(i.text.replace('\\n',''))\n",
    "title\n"
   ]
  },
  {
   "cell_type": "code",
   "execution_count": 14,
   "metadata": {},
   "outputs": [
    {
     "data": {
      "text/plain": [
       "['9.2',\n",
       " '9.1',\n",
       " '9.0',\n",
       " '9.0',\n",
       " '8.9',\n",
       " '8.9',\n",
       " '8.9',\n",
       " '8.8',\n",
       " '8.8',\n",
       " '8.8',\n",
       " '8.8',\n",
       " '8.7',\n",
       " '8.7',\n",
       " '8.7',\n",
       " '8.7',\n",
       " '8.6',\n",
       " '8.6',\n",
       " '8.6',\n",
       " '8.6',\n",
       " '8.6',\n",
       " '8.6',\n",
       " '8.6',\n",
       " '8.6',\n",
       " '8.6',\n",
       " '8.6',\n",
       " '8.6',\n",
       " '8.5',\n",
       " '8.5',\n",
       " '8.5',\n",
       " '8.5',\n",
       " '8.5',\n",
       " '8.5',\n",
       " '8.5',\n",
       " '8.5',\n",
       " '8.5',\n",
       " '8.5',\n",
       " '8.5',\n",
       " '8.5',\n",
       " '8.5',\n",
       " '8.5',\n",
       " '8.5',\n",
       " '8.5',\n",
       " '8.5',\n",
       " '8.5',\n",
       " '8.5',\n",
       " '8.5',\n",
       " '8.5',\n",
       " '8.4',\n",
       " '8.4',\n",
       " '8.4',\n",
       " '8.4',\n",
       " '8.4',\n",
       " '8.4',\n",
       " '8.4',\n",
       " '8.4',\n",
       " '8.4',\n",
       " '8.4',\n",
       " '8.4',\n",
       " '8.4',\n",
       " '8.4',\n",
       " '8.4',\n",
       " '8.4',\n",
       " '8.4',\n",
       " '8.4',\n",
       " '8.4',\n",
       " '8.4',\n",
       " '8.3',\n",
       " '8.3',\n",
       " '8.3',\n",
       " '8.3',\n",
       " '8.3',\n",
       " '8.3',\n",
       " '8.3',\n",
       " '8.3',\n",
       " '8.3',\n",
       " '8.3',\n",
       " '8.3',\n",
       " '8.3',\n",
       " '8.3',\n",
       " '8.3',\n",
       " '8.3',\n",
       " '8.3',\n",
       " '8.3',\n",
       " '8.3',\n",
       " '8.3',\n",
       " '8.3',\n",
       " '8.3',\n",
       " '8.3',\n",
       " '8.3',\n",
       " '8.3',\n",
       " '8.3',\n",
       " '8.3',\n",
       " '8.3',\n",
       " '8.3',\n",
       " '8.3',\n",
       " '8.3',\n",
       " '8.3',\n",
       " '8.3',\n",
       " '8.3',\n",
       " '8.3',\n",
       " '8.3',\n",
       " '8.3',\n",
       " '8.2',\n",
       " '8.2',\n",
       " '8.2',\n",
       " '8.2',\n",
       " '8.2',\n",
       " '8.2',\n",
       " '8.2',\n",
       " '8.2',\n",
       " '8.2',\n",
       " '8.2',\n",
       " '8.2',\n",
       " '8.2',\n",
       " '8.2',\n",
       " '8.2',\n",
       " '8.2',\n",
       " '8.2',\n",
       " '8.2',\n",
       " '8.2',\n",
       " '8.2',\n",
       " '8.2',\n",
       " '8.2',\n",
       " '8.2',\n",
       " '8.2',\n",
       " '8.2',\n",
       " '8.2',\n",
       " '8.2',\n",
       " '8.2',\n",
       " '8.2',\n",
       " '8.2',\n",
       " '8.2',\n",
       " '8.2',\n",
       " '8.2',\n",
       " '8.2',\n",
       " '8.2',\n",
       " '8.2',\n",
       " '8.2',\n",
       " '8.2',\n",
       " '8.2',\n",
       " '8.2',\n",
       " '8.2',\n",
       " '8.2',\n",
       " '8.2',\n",
       " '8.2',\n",
       " '8.2',\n",
       " '8.1',\n",
       " '8.1',\n",
       " '8.1',\n",
       " '8.1',\n",
       " '8.1',\n",
       " '8.1',\n",
       " '8.1',\n",
       " '8.1',\n",
       " '8.1',\n",
       " '8.1',\n",
       " '8.1',\n",
       " '8.1',\n",
       " '8.1',\n",
       " '8.1',\n",
       " '8.1',\n",
       " '8.1',\n",
       " '8.1',\n",
       " '8.1',\n",
       " '8.1',\n",
       " '8.1',\n",
       " '8.1',\n",
       " '8.1',\n",
       " '8.1',\n",
       " '8.1',\n",
       " '8.1',\n",
       " '8.1',\n",
       " '8.1',\n",
       " '8.1',\n",
       " '8.1',\n",
       " '8.1',\n",
       " '8.1',\n",
       " '8.1',\n",
       " '8.1',\n",
       " '8.1',\n",
       " '8.1',\n",
       " '8.1',\n",
       " '8.1',\n",
       " '8.1',\n",
       " '8.1',\n",
       " '8.1',\n",
       " '8.1',\n",
       " '8.1',\n",
       " '8.1',\n",
       " '8.1',\n",
       " '8.1',\n",
       " '8.1',\n",
       " '8.1',\n",
       " '8.1',\n",
       " '8.1',\n",
       " '8.1',\n",
       " '8.1',\n",
       " '8.1',\n",
       " '8.1',\n",
       " '8.1',\n",
       " '8.1',\n",
       " '8.1',\n",
       " '8.1',\n",
       " '8.1',\n",
       " '8.1',\n",
       " '8.1',\n",
       " '8.1',\n",
       " '8.1',\n",
       " '8.1',\n",
       " '8.1',\n",
       " '8.1',\n",
       " '8.1',\n",
       " '8.1',\n",
       " '8.1',\n",
       " '8.1',\n",
       " '8.1',\n",
       " '8.1',\n",
       " '8.1',\n",
       " '8.1',\n",
       " '8.0',\n",
       " '8.0',\n",
       " '8.0',\n",
       " '8.0',\n",
       " '8.0',\n",
       " '8.0',\n",
       " '8.0',\n",
       " '8.0',\n",
       " '8.0',\n",
       " '8.0',\n",
       " '8.0',\n",
       " '8.0',\n",
       " '8.0',\n",
       " '8.0',\n",
       " '8.0',\n",
       " '8.0',\n",
       " '8.0',\n",
       " '8.0',\n",
       " '8.0',\n",
       " '8.0',\n",
       " '8.0',\n",
       " '8.0',\n",
       " '8.0',\n",
       " '8.0',\n",
       " '8.0',\n",
       " '8.0',\n",
       " '8.0',\n",
       " '8.0',\n",
       " '8.0',\n",
       " '8.0',\n",
       " '8.0']"
      ]
     },
     "execution_count": 14,
     "metadata": {},
     "output_type": "execute_result"
    }
   ],
   "source": [
    "rating = []\n",
    "\n",
    "for i in bs.find_all('td' ,class_='ratingColumn imdbRating'):\n",
    "    rating.append(i.text.replace('\\n',''))\n",
    "rating    "
   ]
  },
  {
   "cell_type": "code",
   "execution_count": 15,
   "metadata": {},
   "outputs": [
    {
     "data": {
      "text/plain": [
       "['(1994)',\n",
       " '(1972)',\n",
       " '(1974)',\n",
       " '(2008)',\n",
       " '(1957)',\n",
       " '(1993)',\n",
       " '(2003)',\n",
       " '(1994)',\n",
       " '(1966)',\n",
       " '(2001)',\n",
       " '(1999)',\n",
       " '(1994)',\n",
       " '(2010)',\n",
       " '(2002)',\n",
       " '(1980)',\n",
       " '(1999)',\n",
       " '(1990)',\n",
       " '(1975)',\n",
       " '(1954)',\n",
       " '(1995)',\n",
       " '(1991)',\n",
       " '(2002)',\n",
       " '(1997)',\n",
       " '(1946)',\n",
       " '(1977)',\n",
       " '(1998)',\n",
       " '(2014)',\n",
       " '(2001)',\n",
       " '(1999)',\n",
       " '(2019)',\n",
       " '(1994)',\n",
       " '(1962)',\n",
       " '(2002)',\n",
       " '(1995)',\n",
       " '(1991)',\n",
       " '(1985)',\n",
       " '(1960)',\n",
       " '(1994)',\n",
       " '(1936)',\n",
       " '(1998)',\n",
       " '(1988)',\n",
       " '(1931)',\n",
       " '(2014)',\n",
       " '(2000)',\n",
       " '(2006)',\n",
       " '(2011)',\n",
       " '(2006)',\n",
       " '(1942)',\n",
       " '(1968)',\n",
       " '(1954)',\n",
       " '(1988)',\n",
       " '(1979)',\n",
       " '(1979)',\n",
       " '(2000)',\n",
       " '(1981)',\n",
       " '(1940)',\n",
       " '(2006)',\n",
       " '(2012)',\n",
       " '(1957)',\n",
       " '(1950)',\n",
       " '(2008)',\n",
       " '(2018)',\n",
       " '(1957)',\n",
       " '(1980)',\n",
       " '(2018)',\n",
       " '(1964)',\n",
       " '(2019)',\n",
       " '(1997)',\n",
       " '(2003)',\n",
       " '(2016)',\n",
       " '(2012)',\n",
       " '(2017)',\n",
       " '(1986)',\n",
       " '(1984)',\n",
       " '(2018)',\n",
       " '(2019)',\n",
       " '(1981)',\n",
       " '(1963)',\n",
       " '(2020)',\n",
       " '(1999)',\n",
       " '(1995)',\n",
       " '(2009)',\n",
       " '(1984)',\n",
       " '(1995)',\n",
       " '(2009)',\n",
       " '(1997)',\n",
       " '(1983)',\n",
       " '(1968)',\n",
       " '(1992)',\n",
       " '(1931)',\n",
       " '(1958)',\n",
       " '(2007)',\n",
       " '(1941)',\n",
       " '(1985)',\n",
       " '(2012)',\n",
       " '(2000)',\n",
       " '(1952)',\n",
       " '(1959)',\n",
       " '(2004)',\n",
       " '(1948)',\n",
       " '(1952)',\n",
       " '(1962)',\n",
       " '(1921)',\n",
       " '(1955)',\n",
       " '(1987)',\n",
       " '(2016)',\n",
       " '(2020)',\n",
       " '(1960)',\n",
       " '(2010)',\n",
       " '(1971)',\n",
       " '(1976)',\n",
       " '(1927)',\n",
       " '(1944)',\n",
       " '(1973)',\n",
       " '(2011)',\n",
       " '(1983)',\n",
       " '(2019)',\n",
       " '(2000)',\n",
       " '(2001)',\n",
       " '(1962)',\n",
       " '(2010)',\n",
       " '(1965)',\n",
       " '(2009)',\n",
       " '(1989)',\n",
       " '(1995)',\n",
       " '(1997)',\n",
       " '(2021)',\n",
       " '(1961)',\n",
       " '(1985)',\n",
       " '(1988)',\n",
       " '(1950)',\n",
       " '(2018)',\n",
       " '(2004)',\n",
       " '(1975)',\n",
       " '(1950)',\n",
       " '(2005)',\n",
       " '(1959)',\n",
       " '(1992)',\n",
       " '(1997)',\n",
       " '(2004)',\n",
       " '(2013)',\n",
       " '(1961)',\n",
       " '(1963)',\n",
       " '(1995)',\n",
       " '(1948)',\n",
       " '(2007)',\n",
       " '(2006)',\n",
       " '(2001)',\n",
       " '(2009)',\n",
       " '(1980)',\n",
       " '(1988)',\n",
       " '(1974)',\n",
       " '(1998)',\n",
       " '(2010)',\n",
       " '(1925)',\n",
       " '(2007)',\n",
       " '(1954)',\n",
       " '(1957)',\n",
       " '(2017)',\n",
       " '(1982)',\n",
       " '(1980)',\n",
       " '(1999)',\n",
       " '(2019)',\n",
       " '(1957)',\n",
       " '(1949)',\n",
       " '(1998)',\n",
       " '(1993)',\n",
       " '(2005)',\n",
       " '(2003)',\n",
       " '(2015)',\n",
       " '(1982)',\n",
       " '(1996)',\n",
       " '(1957)',\n",
       " '(1996)',\n",
       " '(2011)',\n",
       " '(2003)',\n",
       " '(2003)',\n",
       " '(1939)',\n",
       " '(1953)',\n",
       " '(1954)',\n",
       " '(2005)',\n",
       " '(1969)',\n",
       " '(1979)',\n",
       " '(2014)',\n",
       " '(1978)',\n",
       " '(1924)',\n",
       " '(2008)',\n",
       " '(1926)',\n",
       " '(1966)',\n",
       " '(2014)',\n",
       " '(2013)',\n",
       " '(1995)',\n",
       " '(2009)',\n",
       " '(1939)',\n",
       " '(2002)',\n",
       " '(2015)',\n",
       " '(1993)',\n",
       " '(1975)',\n",
       " '(2014)',\n",
       " '(2016)',\n",
       " '(1928)',\n",
       " '(2018)',\n",
       " '(1942)',\n",
       " '(2019)',\n",
       " '(2013)',\n",
       " '(1998)',\n",
       " '(2010)',\n",
       " '(1978)',\n",
       " '(2015)',\n",
       " '(1989)',\n",
       " '(1959)',\n",
       " '(2004)',\n",
       " '(2011)',\n",
       " '(1953)',\n",
       " '(1986)',\n",
       " '(2016)',\n",
       " '(1976)',\n",
       " '(2017)',\n",
       " '(1967)',\n",
       " '(2009)',\n",
       " '(1959)',\n",
       " '(2012)',\n",
       " '(1995)',\n",
       " '(1986)',\n",
       " '(2015)',\n",
       " '(2016)',\n",
       " '(1940)',\n",
       " '(2001)',\n",
       " '(1979)',\n",
       " '(1996)',\n",
       " '(2004)',\n",
       " '(2000)',\n",
       " '(2013)',\n",
       " '(2007)',\n",
       " '(2000)',\n",
       " '(1976)',\n",
       " '(1984)',\n",
       " '(1966)',\n",
       " '(1934)',\n",
       " '(1982)',\n",
       " '(2004)',\n",
       " '(1997)',\n",
       " '(1966)',\n",
       " '(2020)',\n",
       " '(1987)',\n",
       " '(1957)',\n",
       " '(1984)',\n",
       " '(1994)',\n",
       " '(2013)',\n",
       " '(2019)']"
      ]
     },
     "execution_count": 15,
     "metadata": {},
     "output_type": "execute_result"
    }
   ],
   "source": [
    "release = []\n",
    "\n",
    "for i in bs.find_all('span' ,class_='secondaryInfo'):\n",
    "    release.append(i.text)\n",
    "release    "
   ]
  },
  {
   "cell_type": "code",
   "execution_count": 16,
   "metadata": {},
   "outputs": [],
   "source": [
    "import pandas as pd"
   ]
  },
  {
   "cell_type": "code",
   "execution_count": 17,
   "metadata": {},
   "outputs": [],
   "source": [
    "df = pd.DataFrame({'Name': title,'IMDB rating':rating,'Year of release': release})"
   ]
  },
  {
   "cell_type": "code",
   "execution_count": 18,
   "metadata": {},
   "outputs": [
    {
     "data": {
      "text/html": [
       "<div>\n",
       "<style scoped>\n",
       "    .dataframe tbody tr th:only-of-type {\n",
       "        vertical-align: middle;\n",
       "    }\n",
       "\n",
       "    .dataframe tbody tr th {\n",
       "        vertical-align: top;\n",
       "    }\n",
       "\n",
       "    .dataframe thead th {\n",
       "        text-align: right;\n",
       "    }\n",
       "</style>\n",
       "<table border=\"1\" class=\"dataframe\">\n",
       "  <thead>\n",
       "    <tr style=\"text-align: right;\">\n",
       "      <th></th>\n",
       "      <th>Name</th>\n",
       "      <th>IMDB rating</th>\n",
       "      <th>Year of release</th>\n",
       "    </tr>\n",
       "  </thead>\n",
       "  <tbody>\n",
       "    <tr>\n",
       "      <th>0</th>\n",
       "      <td>1.      The Shawshank Redemption(1994)</td>\n",
       "      <td>9.2</td>\n",
       "      <td>(1994)</td>\n",
       "    </tr>\n",
       "    <tr>\n",
       "      <th>1</th>\n",
       "      <td>2.      The Godfather(1972)</td>\n",
       "      <td>9.1</td>\n",
       "      <td>(1972)</td>\n",
       "    </tr>\n",
       "    <tr>\n",
       "      <th>2</th>\n",
       "      <td>3.      The Godfather: Part II(1974)</td>\n",
       "      <td>9.0</td>\n",
       "      <td>(1974)</td>\n",
       "    </tr>\n",
       "    <tr>\n",
       "      <th>3</th>\n",
       "      <td>4.      The Dark Knight(2008)</td>\n",
       "      <td>9.0</td>\n",
       "      <td>(2008)</td>\n",
       "    </tr>\n",
       "    <tr>\n",
       "      <th>4</th>\n",
       "      <td>5.      12 Angry Men(1957)</td>\n",
       "      <td>8.9</td>\n",
       "      <td>(1957)</td>\n",
       "    </tr>\n",
       "    <tr>\n",
       "      <th>...</th>\n",
       "      <td>...</td>\n",
       "      <td>...</td>\n",
       "      <td>...</td>\n",
       "    </tr>\n",
       "    <tr>\n",
       "      <th>245</th>\n",
       "      <td>246.      Le notti di Cabiria(1957)</td>\n",
       "      <td>8.0</td>\n",
       "      <td>(1957)</td>\n",
       "    </tr>\n",
       "    <tr>\n",
       "      <th>246</th>\n",
       "      <td>247.      Paris, Texas(1984)</td>\n",
       "      <td>8.0</td>\n",
       "      <td>(1984)</td>\n",
       "    </tr>\n",
       "    <tr>\n",
       "      <th>247</th>\n",
       "      <td>248.      Trois couleurs: Rouge(1994)</td>\n",
       "      <td>8.0</td>\n",
       "      <td>(1994)</td>\n",
       "    </tr>\n",
       "    <tr>\n",
       "      <th>248</th>\n",
       "      <td>249.      Mandariinid(2013)</td>\n",
       "      <td>8.0</td>\n",
       "      <td>(2013)</td>\n",
       "    </tr>\n",
       "    <tr>\n",
       "      <th>249</th>\n",
       "      <td>250.      Miracle in Cell No. 7(2019)</td>\n",
       "      <td>8.0</td>\n",
       "      <td>(2019)</td>\n",
       "    </tr>\n",
       "  </tbody>\n",
       "</table>\n",
       "<p>250 rows × 3 columns</p>\n",
       "</div>"
      ],
      "text/plain": [
       "                                             Name IMDB rating Year of release\n",
       "0          1.      The Shawshank Redemption(1994)         9.2          (1994)\n",
       "1                     2.      The Godfather(1972)         9.1          (1972)\n",
       "2            3.      The Godfather: Part II(1974)         9.0          (1974)\n",
       "3                   4.      The Dark Knight(2008)         9.0          (2008)\n",
       "4                      5.      12 Angry Men(1957)         8.9          (1957)\n",
       "..                                            ...         ...             ...\n",
       "245           246.      Le notti di Cabiria(1957)         8.0          (1957)\n",
       "246                  247.      Paris, Texas(1984)         8.0          (1984)\n",
       "247         248.      Trois couleurs: Rouge(1994)         8.0          (1994)\n",
       "248                   249.      Mandariinid(2013)         8.0          (2013)\n",
       "249         250.      Miracle in Cell No. 7(2019)         8.0          (2019)\n",
       "\n",
       "[250 rows x 3 columns]"
      ]
     },
     "execution_count": 18,
     "metadata": {},
     "output_type": "execute_result"
    }
   ],
   "source": [
    "df"
   ]
  },
  {
   "cell_type": "code",
   "execution_count": 19,
   "metadata": {},
   "outputs": [
    {
     "data": {
      "text/html": [
       "<div>\n",
       "<style scoped>\n",
       "    .dataframe tbody tr th:only-of-type {\n",
       "        vertical-align: middle;\n",
       "    }\n",
       "\n",
       "    .dataframe tbody tr th {\n",
       "        vertical-align: top;\n",
       "    }\n",
       "\n",
       "    .dataframe thead th {\n",
       "        text-align: right;\n",
       "    }\n",
       "</style>\n",
       "<table border=\"1\" class=\"dataframe\">\n",
       "  <thead>\n",
       "    <tr style=\"text-align: right;\">\n",
       "      <th></th>\n",
       "      <th>Name</th>\n",
       "      <th>IMDB rating</th>\n",
       "      <th>Year of release</th>\n",
       "    </tr>\n",
       "  </thead>\n",
       "  <tbody>\n",
       "    <tr>\n",
       "      <th>0</th>\n",
       "      <td>1.      The Shawshank Redemption(1994)</td>\n",
       "      <td>9.2</td>\n",
       "      <td>(1994)</td>\n",
       "    </tr>\n",
       "    <tr>\n",
       "      <th>1</th>\n",
       "      <td>2.      The Godfather(1972)</td>\n",
       "      <td>9.1</td>\n",
       "      <td>(1972)</td>\n",
       "    </tr>\n",
       "    <tr>\n",
       "      <th>2</th>\n",
       "      <td>3.      The Godfather: Part II(1974)</td>\n",
       "      <td>9.0</td>\n",
       "      <td>(1974)</td>\n",
       "    </tr>\n",
       "    <tr>\n",
       "      <th>3</th>\n",
       "      <td>4.      The Dark Knight(2008)</td>\n",
       "      <td>9.0</td>\n",
       "      <td>(2008)</td>\n",
       "    </tr>\n",
       "    <tr>\n",
       "      <th>4</th>\n",
       "      <td>5.      12 Angry Men(1957)</td>\n",
       "      <td>8.9</td>\n",
       "      <td>(1957)</td>\n",
       "    </tr>\n",
       "    <tr>\n",
       "      <th>...</th>\n",
       "      <td>...</td>\n",
       "      <td>...</td>\n",
       "      <td>...</td>\n",
       "    </tr>\n",
       "    <tr>\n",
       "      <th>78</th>\n",
       "      <td>79.      Hamilton(2020)</td>\n",
       "      <td>8.3</td>\n",
       "      <td>(2020)</td>\n",
       "    </tr>\n",
       "    <tr>\n",
       "      <th>75</th>\n",
       "      <td>76.      Avengers: Endgame(2019)</td>\n",
       "      <td>8.3</td>\n",
       "      <td>(2019)</td>\n",
       "    </tr>\n",
       "    <tr>\n",
       "      <th>80</th>\n",
       "      <td>81.      Toy Story(1995)</td>\n",
       "      <td>8.3</td>\n",
       "      <td>(1995)</td>\n",
       "    </tr>\n",
       "    <tr>\n",
       "      <th>79</th>\n",
       "      <td>80.      American Beauty(1999)</td>\n",
       "      <td>8.3</td>\n",
       "      <td>(1999)</td>\n",
       "    </tr>\n",
       "    <tr>\n",
       "      <th>81</th>\n",
       "      <td>82.      3 Idiots(2009)</td>\n",
       "      <td>8.3</td>\n",
       "      <td>(2009)</td>\n",
       "    </tr>\n",
       "  </tbody>\n",
       "</table>\n",
       "<p>100 rows × 3 columns</p>\n",
       "</div>"
      ],
      "text/plain": [
       "                                            Name IMDB rating Year of release\n",
       "0         1.      The Shawshank Redemption(1994)         9.2          (1994)\n",
       "1                    2.      The Godfather(1972)         9.1          (1972)\n",
       "2           3.      The Godfather: Part II(1974)         9.0          (1974)\n",
       "3                  4.      The Dark Knight(2008)         9.0          (2008)\n",
       "4                     5.      12 Angry Men(1957)         8.9          (1957)\n",
       "..                                           ...         ...             ...\n",
       "78                       79.      Hamilton(2020)         8.3          (2020)\n",
       "75              76.      Avengers: Endgame(2019)         8.3          (2019)\n",
       "80                      81.      Toy Story(1995)         8.3          (1995)\n",
       "79                80.      American Beauty(1999)         8.3          (1999)\n",
       "81                       82.      3 Idiots(2009)         8.3          (2009)\n",
       "\n",
       "[100 rows x 3 columns]"
      ]
     },
     "execution_count": 19,
     "metadata": {},
     "output_type": "execute_result"
    }
   ],
   "source": [
    "df.sort_values('IMDB rating',ascending=False).head(100)"
   ]
  },
  {
   "cell_type": "markdown",
   "metadata": {},
   "source": [
    "# QUESTION NUMBER 3"
   ]
  },
  {
   "cell_type": "code",
   "execution_count": 20,
   "metadata": {},
   "outputs": [],
   "source": [
    "url = 'https://www.imdb.com/india/top-rated-indian-movies/?sort=rk,asc&mode=simple&page=1'\n",
    "r = requests.get(url)\n",
    "htmlcontent = r.content\n",
    "\n",
    "from bs4 import BeautifulSoup\n",
    "soup = BeautifulSoup(htmlcontent,'html.parser')"
   ]
  },
  {
   "cell_type": "code",
   "execution_count": 21,
   "metadata": {},
   "outputs": [
    {
     "data": {
      "text/plain": [
       "['      1.      Sardar Udham(2021)',\n",
       " '      2.      Nayakan(1987)',\n",
       " '      3.      Anbe Sivam(2003)',\n",
       " '      4.      Pariyerum Perumal(2018)',\n",
       " '      5.      C/o Kancharapalem(2018)',\n",
       " '      6.      Manichitrathazhu(1993)',\n",
       " '      7.      Golmaal(1979)',\n",
       " '      8.      Kireedam(1989)',\n",
       " '      9.      Apur Sansar(1959)',\n",
       " '      10.      Natsamrat(2016)',\n",
       " '      11.      96(2018)',\n",
       " '      12.      Thevar Magan(1992)',\n",
       " '      13.      Kumbalangi Nights(2019)',\n",
       " '      14.      Black Friday(2004)',\n",
       " '      15.      Pather Panchali(1955)',\n",
       " '      16.      Soorarai Pottru(2020)',\n",
       " '      17.      #Home(2021)',\n",
       " '      18.      Visaaranai(2015)',\n",
       " '      19.      3 Idiots(2009)',\n",
       " '      20.      Jersey(2019)',\n",
       " '      21.      Taare Zameen Par(2007)',\n",
       " '      22.      Asuran(2019)',\n",
       " '      23.      Thalapathi(1991)',\n",
       " '      24.      Drishyam 2(2021)',\n",
       " '      25.      Kaithi(2019)',\n",
       " '      26.      Sarpatta Parambarai(2021)',\n",
       " '      27.      Dangal(2016)',\n",
       " '      28.      Devasuram(1993)',\n",
       " '      29.      Aparajito(1956)',\n",
       " '      30.      Jaane Bhi Do Yaaro(1983)',\n",
       " '      31.      Pyaasa(1957)',\n",
       " '      32.      Peranbu(2018)',\n",
       " '      33.      Vada Chennai(2018)',\n",
       " '      34.      Ratsasan(2018)',\n",
       " '      35.      Guide(1965)',\n",
       " '      36.      Thani Oruvan(2015)',\n",
       " '      37.      Kannathil Muthamittal(2002)',\n",
       " '      38.      Spadikam(1995)',\n",
       " '      39.      Agent Sai Srinivasa Athreya(2019)',\n",
       " '      40.      Iruvar(1997)',\n",
       " '      41.      Chupke Chupke(1975)',\n",
       " '      42.      Super Deluxe(2019)',\n",
       " '      43.      Mahanati(2018)',\n",
       " '      44.      Aruvi(2016)',\n",
       " '      45.      Khosla Ka Ghosla!(2006)',\n",
       " '      46.      Pudhu Pettai(2006)',\n",
       " '      47.      Drishyam(2013)',\n",
       " '      48.      Tumbbad(2018)',\n",
       " '      49.      Anniyan(2005)',\n",
       " '      50.      Premam(2015)',\n",
       " '      51.      Mudhalvan(1999)',\n",
       " '      52.      Vikram Vedha(2017)',\n",
       " '      53.      Kaakkaa Muttai(2014)',\n",
       " '      54.      Bangalore Days(2014)',\n",
       " '      55.      Satya(1998)',\n",
       " '      56.      Angoor(1982)',\n",
       " '      57.      Papanasam(2015)',\n",
       " '      58.      Soodhu Kavvum(2013)',\n",
       " '      59.      Andhadhun(2018)',\n",
       " '      60.      Dhuruvangal Pathinaaru(2016)',\n",
       " '      61.      Shahid(2012)',\n",
       " '      62.      Mandela(2021)',\n",
       " '      63.      Pithamagan(2003)',\n",
       " '      64.      Anand(1971)',\n",
       " '      65.      Jigarthanda(2014)',\n",
       " '      66.      Gangs of Wasseypur(2012)',\n",
       " '      67.      Paan Singh Tomar(2012)',\n",
       " '      68.      Sairat(2016)',\n",
       " '      69.      Bhaag Milkha Bhaag(2013)',\n",
       " '      70.      Hera Pheri(2000)',\n",
       " '      71.      Maheshinte Prathikaaram(2016)',\n",
       " '      72.      Sholay(1975)',\n",
       " '      73.      Swades: We, the People(2004)',\n",
       " '      74.      Talvar(2015)',\n",
       " '      75.      Chak De! India(2007)',\n",
       " '      76.      Ustad Hotel(2012)',\n",
       " '      77.      Mughal-E-Azam(1960)',\n",
       " '      78.      Black(2005)',\n",
       " '      79.      Zindagi Na Milegi Dobara(2011)',\n",
       " '      80.      Jo Jeeta Wohi Sikandar(1992)',\n",
       " '      81.      Chhichhore(2019)',\n",
       " '      82.      Theeran Adhigaaram Ondru(2017)',\n",
       " '      83.      Nil Battey Sannata(2015)',\n",
       " '      84.      Article 15(2019)',\n",
       " '      85.      Drishyam(2015)',\n",
       " '      86.      Charulata(1964)',\n",
       " '      87.      Udaan(2010)',\n",
       " '      88.      Baasha(1995)',\n",
       " '      89.      A Wednesday(2008)',\n",
       " '      90.      Masaan(2015)',\n",
       " '      91.      Alai Payuthey(2000)',\n",
       " '      92.      Munna Bhai M.B.B.S.(2003)',\n",
       " '      93.      Virumandi(2004)',\n",
       " '      94.      Sarfarosh(1999)',\n",
       " '      95.      Queen(2013)',\n",
       " '      96.      Roja(1992)',\n",
       " '      97.      Dil Chahta Hai(2001)',\n",
       " '      98.      Rang De Basanti(2006)',\n",
       " '      99.      OMG: Oh My God!(2012)',\n",
       " '      100.      Uri: The Surgical Strike(2019)',\n",
       " '      101.      Lagaan: Once Upon a Time in India(2001)',\n",
       " '      102.      Andaz Apna Apna(1994)',\n",
       " '      103.      Kahaani(2012)',\n",
       " '      104.      PK(2014)',\n",
       " '      105.      Lucia(2013)',\n",
       " '      106.      Bommarillu(2006)',\n",
       " '      107.      The Legend of Bhagat Singh(2002)',\n",
       " '      108.      Iqbal(2005)',\n",
       " '      109.      Barfi!(2012)',\n",
       " '      110.      Section 375(2019)',\n",
       " '      111.      Maqbool(2003)',\n",
       " '      112.      Pink(2016)',\n",
       " '      113.      Bombay(1995)',\n",
       " '      114.      Indian(1996)',\n",
       " '      115.      The Great Indian Kitchen(2021)',\n",
       " '      116.      Omkara(2006)',\n",
       " '      117.      Thadam(2019)',\n",
       " '      118.      Shershaah(2021)',\n",
       " '      119.      Kshanam(2016)',\n",
       " '      120.      Lage Raho Munna Bhai(2006)',\n",
       " '      121.      Pelli Choopulu(2016)',\n",
       " '      122.      Baahubali 2: The Conclusion(2017)',\n",
       " '      123.      Deewaar(1975)',\n",
       " '      124.      Pranchiyettan and the Saint(2010)',\n",
       " '      125.      Rangasthalam(2018)',\n",
       " '      126.      Naduvula Konjam Pakkatha Kaanom(2012)',\n",
       " '      127.      Padosan(1968)',\n",
       " '      128.      Gulaal(2009)',\n",
       " '      129.      Athadu(2005)',\n",
       " '      130.      Haider(2014)',\n",
       " '      131.      Dilwale Dulhania Le Jayenge(1995)',\n",
       " '      132.      Padayappa(1999)',\n",
       " '      133.      Thondimuthalum Dhriksakshiyum(2017)',\n",
       " '      134.      Take Off(2017)',\n",
       " '      135.      K.G.F: Chapter 1(2018)',\n",
       " '      136.      Aadukalam(2011)',\n",
       " '      137.      Ugly(2013)',\n",
       " '      138.      Baishe Srabon(2011)',\n",
       " '      139.      Mother India(1957)',\n",
       " '      140.      Vaaranam Aayiram(2008)',\n",
       " '      141.      Special Chabbis(2013)',\n",
       " '      142.      Ulidavaru Kandanthe(2014)',\n",
       " '      143.      Nayattu(2021)',\n",
       " '      144.      Ship of Theseus(2012)',\n",
       " '      145.      Badhaai ho(2018)',\n",
       " '      146.      Bajrangi Bhaijaan(2015)',\n",
       " '      147.      Dev.D(2009)',\n",
       " '      148.      Jalsaghar(1958)',\n",
       " '      149.      Kirik Party(2016)',\n",
       " '      150.      Deiva Thirumagal(2011)',\n",
       " '      151.      Vaastav: The Reality(1999)',\n",
       " '      152.      Gully Boy(2019)',\n",
       " '      153.      Mukkabaaz(2017)',\n",
       " '      154.      Vedam(2010)',\n",
       " '      155.      Ankhon Dekhi(2013)',\n",
       " '      156.      Karnan(2021)',\n",
       " '      157.      Company(2002)',\n",
       " '      158.      Manjhi: The Mountain Man(2015)',\n",
       " '      159.      Pizza(2012)',\n",
       " '      160.      Charlie(2015)',\n",
       " '      161.      Malik(2021)',\n",
       " '      162.      Arjun Reddy(2017)',\n",
       " '      163.      Memories(2013)',\n",
       " '      164.      My Name Is Khan(2010)',\n",
       " '      165.      Jab We Met(2007)',\n",
       " '      166.      Dil Bechara(2020)',\n",
       " '      167.      Kal Ho Naa Ho(2003)',\n",
       " '      168.      Ayyappanum Koshiyum(2020)',\n",
       " '      169.      Border(1997)',\n",
       " '      170.      Vinnaithaandi Varuvaayaa(2010)',\n",
       " '      171.      Poove Unakkaga(1996)',\n",
       " '      172.      Super 30(2019)',\n",
       " '      173.      Mumbai Police(2013)',\n",
       " '      174.      Kaakha..Kaakha: The Police(2003)',\n",
       " '      175.      Angamaly Diaries(2017)',\n",
       " '      176.      Sonchiriya(2019)',\n",
       " '      177.      Unnaipol Oruvan(2009)',\n",
       " '      178.      Anjaam Pathiraa(2020)',\n",
       " '      179.      Lakshya(2004)',\n",
       " '      180.      Bãhubali: The Beginning(2015)',\n",
       " '      181.      Hey Ram(2000)',\n",
       " '      182.      Thulladha Manamum Thullum(1999)',\n",
       " '      183.      Vettaiyaadu Vilaiyaadu(2006)',\n",
       " '      184.      Padman(2018)',\n",
       " '      185.      Dor(2006)',\n",
       " '      186.      Baby(2015)',\n",
       " '      187.      Airlift(2016)',\n",
       " '      188.      Hindi Medium(2017)',\n",
       " '      189.      Okkadu(2003)',\n",
       " '      190.      English Vinglish(2012)',\n",
       " '      191.      Gangaajal(2003)',\n",
       " '      192.      The Lunchbox(2013)',\n",
       " '      193.      Manam(2014)',\n",
       " '      194.      Johnny Gaddaar(2007)',\n",
       " '      195.      Ab Tak Chhappan(2004)',\n",
       " '      196.      M.S. Dhoni: The Untold Story(2016)',\n",
       " '      197.      Joji(2021)',\n",
       " '      198.      Pokiri(2006)',\n",
       " '      199.      Badla(2019)',\n",
       " '      200.      Goodachari(2018)',\n",
       " '      201.      Aayirathil Oruvan(2010)',\n",
       " '      202.      Secret Superstar(2017)',\n",
       " '      203.      Nayak: The Real Hero(2001)',\n",
       " '      204.      Vicky Donor(2012)',\n",
       " '      205.      Stanley Ka Dabba(2011)',\n",
       " '      206.      Mimi(2021)',\n",
       " '      207.      Mr. India(1987)',\n",
       " '      208.      Raazi(2018)',\n",
       " '      209.      Don(1978)',\n",
       " '      210.      RangiTaranga(2015)',\n",
       " '      211.      Udta Punjab(2016)',\n",
       " '      212.      Velaiilla Pattadhari(2014)',\n",
       " '      213.      Ko(2011)',\n",
       " '      214.      Aligarh(2015)',\n",
       " '      215.      Veer-Zaara(2004)',\n",
       " '      216.      Thuppakki(2012)',\n",
       " '      217.      Rock On!!(2008)',\n",
       " '      218.      Dasvidaniya(2008)',\n",
       " '      219.      Arya(2004)',\n",
       " '      220.      Kaththi(2014)',\n",
       " '      221.      Guru(2007)',\n",
       " '      222.      Kai po che!(2013)',\n",
       " '      223.      Samsara(2001)',\n",
       " '      224.      Oye Lucky! Lucky Oye!(2008)',\n",
       " '      225.      Ghilli(2004)',\n",
       " '      226.      24(2016)',\n",
       " '      227.      Rockstar(2011)',\n",
       " '      228.      Eega(2012)',\n",
       " '      229.      Mumbai Meri Jaan(2008)',\n",
       " '      230.      Kushi(2000)',\n",
       " '      231.      Darr(1993)',\n",
       " '      232.      Kabhi Haan Kabhi Naa(1994)',\n",
       " '      233.      Sir(2018)',\n",
       " '      234.      Avane Srimannarayana(2019)',\n",
       " '      235.      C U Soon(2020)',\n",
       " '      236.      Kapoor & Sons(2016)',\n",
       " '      237.      Ugramm(2014)',\n",
       " '      238.      Newton(2017)',\n",
       " '      239.      The Tashkent Files(2019)',\n",
       " '      240.      Aamir(2008)',\n",
       " '      241.      Earth(1998)',\n",
       " '      242.      Detective Byomkesh Bakshy!(2015)',\n",
       " '      243.      Agneepath(1990)',\n",
       " '      244.      State of Siege: Temple Attack(2021)',\n",
       " '      245.      Madras Cafe(2013)',\n",
       " '      246.      Sarkar(2005)',\n",
       " '      247.      Bheja Fry(2007)',\n",
       " '      248.      Kannum Kannum Kollaiyadithaal(2020)',\n",
       " '      249.      Neerja(2016)',\n",
       " '      250.      Pyaar Ka Punchnama(2011)']"
      ]
     },
     "execution_count": 21,
     "metadata": {},
     "output_type": "execute_result"
    }
   ],
   "source": [
    "T = []\n",
    "\n",
    "for i in soup.find_all('td' ,class_='titleColumn'):\n",
    "    T.append(i.text.replace('\\n',''))\n",
    "T    "
   ]
  },
  {
   "cell_type": "code",
   "execution_count": 22,
   "metadata": {},
   "outputs": [
    {
     "data": {
      "text/plain": [
       "['(2021)',\n",
       " '(1987)',\n",
       " '(2003)',\n",
       " '(2018)',\n",
       " '(2018)',\n",
       " '(1993)',\n",
       " '(1979)',\n",
       " '(1989)',\n",
       " '(1959)',\n",
       " '(2016)',\n",
       " '(2018)',\n",
       " '(1992)',\n",
       " '(2019)',\n",
       " '(2004)',\n",
       " '(1955)',\n",
       " '(2020)',\n",
       " '(2021)',\n",
       " '(2015)',\n",
       " '(2009)',\n",
       " '(2019)',\n",
       " '(2007)',\n",
       " '(2019)',\n",
       " '(1991)',\n",
       " '(2021)',\n",
       " '(2019)',\n",
       " '(2021)',\n",
       " '(2016)',\n",
       " '(1993)',\n",
       " '(1956)',\n",
       " '(1983)',\n",
       " '(1957)',\n",
       " '(2018)',\n",
       " '(2018)',\n",
       " '(2018)',\n",
       " '(1965)',\n",
       " '(2015)',\n",
       " '(2002)',\n",
       " '(1995)',\n",
       " '(2019)',\n",
       " '(1997)',\n",
       " '(1975)',\n",
       " '(2019)',\n",
       " '(2018)',\n",
       " '(2016)',\n",
       " '(2006)',\n",
       " '(2006)',\n",
       " '(2013)',\n",
       " '(2018)',\n",
       " '(2005)',\n",
       " '(2015)',\n",
       " '(1999)',\n",
       " '(2017)',\n",
       " '(2014)',\n",
       " '(2014)',\n",
       " '(1998)',\n",
       " '(1982)',\n",
       " '(2015)',\n",
       " '(2013)',\n",
       " '(2018)',\n",
       " '(2016)',\n",
       " '(2012)',\n",
       " '(2021)',\n",
       " '(2003)',\n",
       " '(1971)',\n",
       " '(2014)',\n",
       " '(2012)',\n",
       " '(2012)',\n",
       " '(2016)',\n",
       " '(2013)',\n",
       " '(2000)',\n",
       " '(2016)',\n",
       " '(1975)',\n",
       " '(2004)',\n",
       " '(2015)',\n",
       " '(2007)',\n",
       " '(2012)',\n",
       " '(1960)',\n",
       " '(2005)',\n",
       " '(2011)',\n",
       " '(1992)',\n",
       " '(2019)',\n",
       " '(2017)',\n",
       " '(2015)',\n",
       " '(2019)',\n",
       " '(2015)',\n",
       " '(1964)',\n",
       " '(2010)',\n",
       " '(1995)',\n",
       " '(2008)',\n",
       " '(2015)',\n",
       " '(2000)',\n",
       " '(2003)',\n",
       " '(2004)',\n",
       " '(1999)',\n",
       " '(2013)',\n",
       " '(1992)',\n",
       " '(2001)',\n",
       " '(2006)',\n",
       " '(2012)',\n",
       " '(2019)',\n",
       " '(2001)',\n",
       " '(1994)',\n",
       " '(2012)',\n",
       " '(2014)',\n",
       " '(2013)',\n",
       " '(2006)',\n",
       " '(2002)',\n",
       " '(2005)',\n",
       " '(2012)',\n",
       " '(2019)',\n",
       " '(2003)',\n",
       " '(2016)',\n",
       " '(1995)',\n",
       " '(1996)',\n",
       " '(2021)',\n",
       " '(2006)',\n",
       " '(2019)',\n",
       " '(2021)',\n",
       " '(2016)',\n",
       " '(2006)',\n",
       " '(2016)',\n",
       " '(2017)',\n",
       " '(1975)',\n",
       " '(2010)',\n",
       " '(2018)',\n",
       " '(2012)',\n",
       " '(1968)',\n",
       " '(2009)',\n",
       " '(2005)',\n",
       " '(2014)',\n",
       " '(1995)',\n",
       " '(1999)',\n",
       " '(2017)',\n",
       " '(2017)',\n",
       " '(2018)',\n",
       " '(2011)',\n",
       " '(2013)',\n",
       " '(2011)',\n",
       " '(1957)',\n",
       " '(2008)',\n",
       " '(2013)',\n",
       " '(2014)',\n",
       " '(2021)',\n",
       " '(2012)',\n",
       " '(2018)',\n",
       " '(2015)',\n",
       " '(2009)',\n",
       " '(1958)',\n",
       " '(2016)',\n",
       " '(2011)',\n",
       " '(1999)',\n",
       " '(2019)',\n",
       " '(2017)',\n",
       " '(2010)',\n",
       " '(2013)',\n",
       " '(2021)',\n",
       " '(2002)',\n",
       " '(2015)',\n",
       " '(2012)',\n",
       " '(2015)',\n",
       " '(2021)',\n",
       " '(2017)',\n",
       " '(2013)',\n",
       " '(2010)',\n",
       " '(2007)',\n",
       " '(2020)',\n",
       " '(2003)',\n",
       " '(2020)',\n",
       " '(1997)',\n",
       " '(2010)',\n",
       " '(1996)',\n",
       " '(2019)',\n",
       " '(2013)',\n",
       " '(2003)',\n",
       " '(2017)',\n",
       " '(2019)',\n",
       " '(2009)',\n",
       " '(2020)',\n",
       " '(2004)',\n",
       " '(2015)',\n",
       " '(2000)',\n",
       " '(1999)',\n",
       " '(2006)',\n",
       " '(2018)',\n",
       " '(2006)',\n",
       " '(2015)',\n",
       " '(2016)',\n",
       " '(2017)',\n",
       " '(2003)',\n",
       " '(2012)',\n",
       " '(2003)',\n",
       " '(2013)',\n",
       " '(2014)',\n",
       " '(2007)',\n",
       " '(2004)',\n",
       " '(2016)',\n",
       " '(2021)',\n",
       " '(2006)',\n",
       " '(2019)',\n",
       " '(2018)',\n",
       " '(2010)',\n",
       " '(2017)',\n",
       " '(2001)',\n",
       " '(2012)',\n",
       " '(2011)',\n",
       " '(2021)',\n",
       " '(1987)',\n",
       " '(2018)',\n",
       " '(1978)',\n",
       " '(2015)',\n",
       " '(2016)',\n",
       " '(2014)',\n",
       " '(2011)',\n",
       " '(2015)',\n",
       " '(2004)',\n",
       " '(2012)',\n",
       " '(2008)',\n",
       " '(2008)',\n",
       " '(2004)',\n",
       " '(2014)',\n",
       " '(2007)',\n",
       " '(2013)',\n",
       " '(2001)',\n",
       " '(2008)',\n",
       " '(2004)',\n",
       " '(2016)',\n",
       " '(2011)',\n",
       " '(2012)',\n",
       " '(2008)',\n",
       " '(2000)',\n",
       " '(1993)',\n",
       " '(1994)',\n",
       " '(2018)',\n",
       " '(2019)',\n",
       " '(2020)',\n",
       " '(2016)',\n",
       " '(2014)',\n",
       " '(2017)',\n",
       " '(2019)',\n",
       " '(2008)',\n",
       " '(1998)',\n",
       " '(2015)',\n",
       " '(1990)',\n",
       " '(2021)',\n",
       " '(2013)',\n",
       " '(2005)',\n",
       " '(2007)',\n",
       " '(2020)',\n",
       " '(2016)',\n",
       " '(2011)']"
      ]
     },
     "execution_count": 22,
     "metadata": {},
     "output_type": "execute_result"
    }
   ],
   "source": [
    "R = []\n",
    "\n",
    "for i in soup.find_all('span' ,class_='secondaryInfo'):\n",
    "    R.append(i.text)\n",
    "R    "
   ]
  },
  {
   "cell_type": "code",
   "execution_count": 23,
   "metadata": {},
   "outputs": [
    {
     "data": {
      "text/plain": [
       "['8.6',\n",
       " '8.5',\n",
       " '8.5',\n",
       " '8.5',\n",
       " '8.5',\n",
       " '8.5',\n",
       " '8.5',\n",
       " '8.5',\n",
       " '8.5',\n",
       " '8.4',\n",
       " '8.4',\n",
       " '8.4',\n",
       " '8.4',\n",
       " '8.4',\n",
       " '8.4',\n",
       " '8.4',\n",
       " '8.4',\n",
       " '8.4',\n",
       " '8.4',\n",
       " '8.3',\n",
       " '8.3',\n",
       " '8.3',\n",
       " '8.3',\n",
       " '8.3',\n",
       " '8.3',\n",
       " '8.3',\n",
       " '8.3',\n",
       " '8.3',\n",
       " '8.3',\n",
       " '8.3',\n",
       " '8.3',\n",
       " '8.3',\n",
       " '8.3',\n",
       " '8.3',\n",
       " '8.3',\n",
       " '8.3',\n",
       " '8.2',\n",
       " '8.2',\n",
       " '8.2',\n",
       " '8.2',\n",
       " '8.2',\n",
       " '8.2',\n",
       " '8.2',\n",
       " '8.2',\n",
       " '8.2',\n",
       " '8.2',\n",
       " '8.2',\n",
       " '8.2',\n",
       " '8.2',\n",
       " '8.2',\n",
       " '8.2',\n",
       " '8.2',\n",
       " '8.2',\n",
       " '8.2',\n",
       " '8.2',\n",
       " '8.2',\n",
       " '8.2',\n",
       " '8.2',\n",
       " '8.2',\n",
       " '8.2',\n",
       " '8.2',\n",
       " '8.2',\n",
       " '8.2',\n",
       " '8.2',\n",
       " '8.2',\n",
       " '8.1',\n",
       " '8.1',\n",
       " '8.1',\n",
       " '8.1',\n",
       " '8.1',\n",
       " '8.1',\n",
       " '8.1',\n",
       " '8.1',\n",
       " '8.1',\n",
       " '8.1',\n",
       " '8.1',\n",
       " '8.1',\n",
       " '8.1',\n",
       " '8.1',\n",
       " '8.1',\n",
       " '8.1',\n",
       " '8.1',\n",
       " '8.1',\n",
       " '8.1',\n",
       " '8.1',\n",
       " '8.1',\n",
       " '8.1',\n",
       " '8.1',\n",
       " '8.1',\n",
       " '8.1',\n",
       " '8.1',\n",
       " '8.1',\n",
       " '8.1',\n",
       " '8.1',\n",
       " '8.1',\n",
       " '8.1',\n",
       " '8.1',\n",
       " '8.1',\n",
       " '8.1',\n",
       " '8.1',\n",
       " '8.1',\n",
       " '8.1',\n",
       " '8.1',\n",
       " '8.1',\n",
       " '8.1',\n",
       " '8.1',\n",
       " '8.1',\n",
       " '8.1',\n",
       " '8.1',\n",
       " '8.0',\n",
       " '8.0',\n",
       " '8.0',\n",
       " '8.0',\n",
       " '8.0',\n",
       " '8.0',\n",
       " '8.0',\n",
       " '8.0',\n",
       " '8.0',\n",
       " '8.0',\n",
       " '8.0',\n",
       " '8.0',\n",
       " '8.0',\n",
       " '8.0',\n",
       " '8.0',\n",
       " '8.0',\n",
       " '8.0',\n",
       " '8.0',\n",
       " '8.0',\n",
       " '8.0',\n",
       " '8.0',\n",
       " '8.0',\n",
       " '8.0',\n",
       " '8.0',\n",
       " '8.0',\n",
       " '8.0',\n",
       " '8.0',\n",
       " '8.0',\n",
       " '8.0',\n",
       " '8.0',\n",
       " '8.0',\n",
       " '8.0',\n",
       " '8.0',\n",
       " '7.9',\n",
       " '7.9',\n",
       " '7.9',\n",
       " '7.9',\n",
       " '7.9',\n",
       " '7.9',\n",
       " '7.9',\n",
       " '7.9',\n",
       " '7.9',\n",
       " '7.9',\n",
       " '7.9',\n",
       " '7.9',\n",
       " '7.9',\n",
       " '7.9',\n",
       " '7.9',\n",
       " '7.9',\n",
       " '7.9',\n",
       " '7.9',\n",
       " '7.9',\n",
       " '7.9',\n",
       " '7.9',\n",
       " '7.9',\n",
       " '7.9',\n",
       " '7.9',\n",
       " '7.9',\n",
       " '7.9',\n",
       " '7.9',\n",
       " '7.9',\n",
       " '7.9',\n",
       " '7.9',\n",
       " '7.9',\n",
       " '7.8',\n",
       " '7.8',\n",
       " '7.8',\n",
       " '7.8',\n",
       " '7.8',\n",
       " '7.8',\n",
       " '7.8',\n",
       " '7.8',\n",
       " '7.8',\n",
       " '7.8',\n",
       " '7.8',\n",
       " '7.8',\n",
       " '7.8',\n",
       " '7.8',\n",
       " '7.8',\n",
       " '7.8',\n",
       " '7.8',\n",
       " '7.8',\n",
       " '7.8',\n",
       " '7.8',\n",
       " '7.8',\n",
       " '7.8',\n",
       " '7.8',\n",
       " '7.8',\n",
       " '7.8',\n",
       " '7.8',\n",
       " '7.7',\n",
       " '7.7',\n",
       " '7.7',\n",
       " '7.7',\n",
       " '7.7',\n",
       " '7.7',\n",
       " '7.7',\n",
       " '7.7',\n",
       " '7.7',\n",
       " '7.7',\n",
       " '7.7',\n",
       " '7.7',\n",
       " '7.7',\n",
       " '7.7',\n",
       " '7.7',\n",
       " '7.7',\n",
       " '7.7',\n",
       " '7.7',\n",
       " '7.7',\n",
       " '7.7',\n",
       " '7.7',\n",
       " '7.7',\n",
       " '7.7',\n",
       " '7.7',\n",
       " '7.7',\n",
       " '7.7',\n",
       " '7.7',\n",
       " '7.7',\n",
       " '7.6',\n",
       " '7.6',\n",
       " '7.6',\n",
       " '7.6',\n",
       " '7.6',\n",
       " '7.6',\n",
       " '7.6',\n",
       " '7.6',\n",
       " '7.6',\n",
       " '7.6',\n",
       " '7.6',\n",
       " '7.6',\n",
       " '7.6',\n",
       " '7.6',\n",
       " '7.6',\n",
       " '7.6',\n",
       " '7.6',\n",
       " '7.6',\n",
       " '7.6',\n",
       " '7.6',\n",
       " '7.6',\n",
       " '7.6',\n",
       " '7.6']"
      ]
     },
     "execution_count": 23,
     "metadata": {},
     "output_type": "execute_result"
    }
   ],
   "source": [
    "Y = []\n",
    "\n",
    "for i in soup.find_all('td' ,class_='ratingColumn imdbRating'):\n",
    "    Y.append(i.text.replace('\\n',''))\n",
    "Y    "
   ]
  },
  {
   "cell_type": "code",
   "execution_count": 24,
   "metadata": {},
   "outputs": [],
   "source": [
    "data = pd.DataFrame({'Name':T,'IMDB rating':R,'Year of release':Y})"
   ]
  },
  {
   "cell_type": "code",
   "execution_count": 25,
   "metadata": {},
   "outputs": [
    {
     "data": {
      "text/html": [
       "<div>\n",
       "<style scoped>\n",
       "    .dataframe tbody tr th:only-of-type {\n",
       "        vertical-align: middle;\n",
       "    }\n",
       "\n",
       "    .dataframe tbody tr th {\n",
       "        vertical-align: top;\n",
       "    }\n",
       "\n",
       "    .dataframe thead th {\n",
       "        text-align: right;\n",
       "    }\n",
       "</style>\n",
       "<table border=\"1\" class=\"dataframe\">\n",
       "  <thead>\n",
       "    <tr style=\"text-align: right;\">\n",
       "      <th></th>\n",
       "      <th>Name</th>\n",
       "      <th>IMDB rating</th>\n",
       "      <th>Year of release</th>\n",
       "    </tr>\n",
       "  </thead>\n",
       "  <tbody>\n",
       "    <tr>\n",
       "      <th>0</th>\n",
       "      <td>1.      Sardar Udham(2021)</td>\n",
       "      <td>(2021)</td>\n",
       "      <td>8.6</td>\n",
       "    </tr>\n",
       "    <tr>\n",
       "      <th>1</th>\n",
       "      <td>2.      Nayakan(1987)</td>\n",
       "      <td>(1987)</td>\n",
       "      <td>8.5</td>\n",
       "    </tr>\n",
       "    <tr>\n",
       "      <th>2</th>\n",
       "      <td>3.      Anbe Sivam(2003)</td>\n",
       "      <td>(2003)</td>\n",
       "      <td>8.5</td>\n",
       "    </tr>\n",
       "    <tr>\n",
       "      <th>3</th>\n",
       "      <td>4.      Pariyerum Perumal(2018)</td>\n",
       "      <td>(2018)</td>\n",
       "      <td>8.5</td>\n",
       "    </tr>\n",
       "    <tr>\n",
       "      <th>4</th>\n",
       "      <td>5.      C/o Kancharapalem(2018)</td>\n",
       "      <td>(2018)</td>\n",
       "      <td>8.5</td>\n",
       "    </tr>\n",
       "    <tr>\n",
       "      <th>...</th>\n",
       "      <td>...</td>\n",
       "      <td>...</td>\n",
       "      <td>...</td>\n",
       "    </tr>\n",
       "    <tr>\n",
       "      <th>245</th>\n",
       "      <td>246.      Sarkar(2005)</td>\n",
       "      <td>(2005)</td>\n",
       "      <td>7.6</td>\n",
       "    </tr>\n",
       "    <tr>\n",
       "      <th>246</th>\n",
       "      <td>247.      Bheja Fry(2007)</td>\n",
       "      <td>(2007)</td>\n",
       "      <td>7.6</td>\n",
       "    </tr>\n",
       "    <tr>\n",
       "      <th>247</th>\n",
       "      <td>248.      Kannum Kannum Kollaiyadithaal(...</td>\n",
       "      <td>(2020)</td>\n",
       "      <td>7.6</td>\n",
       "    </tr>\n",
       "    <tr>\n",
       "      <th>248</th>\n",
       "      <td>249.      Neerja(2016)</td>\n",
       "      <td>(2016)</td>\n",
       "      <td>7.6</td>\n",
       "    </tr>\n",
       "    <tr>\n",
       "      <th>249</th>\n",
       "      <td>250.      Pyaar Ka Punchnama(2011)</td>\n",
       "      <td>(2011)</td>\n",
       "      <td>7.6</td>\n",
       "    </tr>\n",
       "  </tbody>\n",
       "</table>\n",
       "<p>250 rows × 3 columns</p>\n",
       "</div>"
      ],
      "text/plain": [
       "                                                  Name IMDB rating  \\\n",
       "0                           1.      Sardar Udham(2021)      (2021)   \n",
       "1                                2.      Nayakan(1987)      (1987)   \n",
       "2                             3.      Anbe Sivam(2003)      (2003)   \n",
       "3                      4.      Pariyerum Perumal(2018)      (2018)   \n",
       "4                      5.      C/o Kancharapalem(2018)      (2018)   \n",
       "..                                                 ...         ...   \n",
       "245                             246.      Sarkar(2005)      (2005)   \n",
       "246                          247.      Bheja Fry(2007)      (2007)   \n",
       "247        248.      Kannum Kannum Kollaiyadithaal(...      (2020)   \n",
       "248                             249.      Neerja(2016)      (2016)   \n",
       "249                 250.      Pyaar Ka Punchnama(2011)      (2011)   \n",
       "\n",
       "    Year of release  \n",
       "0               8.6  \n",
       "1               8.5  \n",
       "2               8.5  \n",
       "3               8.5  \n",
       "4               8.5  \n",
       "..              ...  \n",
       "245             7.6  \n",
       "246             7.6  \n",
       "247             7.6  \n",
       "248             7.6  \n",
       "249             7.6  \n",
       "\n",
       "[250 rows x 3 columns]"
      ]
     },
     "execution_count": 25,
     "metadata": {},
     "output_type": "execute_result"
    }
   ],
   "source": [
    "data"
   ]
  },
  {
   "cell_type": "code",
   "execution_count": 26,
   "metadata": {},
   "outputs": [
    {
     "data": {
      "text/html": [
       "<div>\n",
       "<style scoped>\n",
       "    .dataframe tbody tr th:only-of-type {\n",
       "        vertical-align: middle;\n",
       "    }\n",
       "\n",
       "    .dataframe tbody tr th {\n",
       "        vertical-align: top;\n",
       "    }\n",
       "\n",
       "    .dataframe thead th {\n",
       "        text-align: right;\n",
       "    }\n",
       "</style>\n",
       "<table border=\"1\" class=\"dataframe\">\n",
       "  <thead>\n",
       "    <tr style=\"text-align: right;\">\n",
       "      <th></th>\n",
       "      <th>Name</th>\n",
       "      <th>IMDB rating</th>\n",
       "      <th>Year of release</th>\n",
       "    </tr>\n",
       "  </thead>\n",
       "  <tbody>\n",
       "    <tr>\n",
       "      <th>0</th>\n",
       "      <td>1.      Sardar Udham(2021)</td>\n",
       "      <td>(2021)</td>\n",
       "      <td>8.6</td>\n",
       "    </tr>\n",
       "    <tr>\n",
       "      <th>16</th>\n",
       "      <td>17.      #Home(2021)</td>\n",
       "      <td>(2021)</td>\n",
       "      <td>8.4</td>\n",
       "    </tr>\n",
       "    <tr>\n",
       "      <th>117</th>\n",
       "      <td>118.      Shershaah(2021)</td>\n",
       "      <td>(2021)</td>\n",
       "      <td>8.0</td>\n",
       "    </tr>\n",
       "    <tr>\n",
       "      <th>114</th>\n",
       "      <td>115.      The Great Indian Kitchen(2021)</td>\n",
       "      <td>(2021)</td>\n",
       "      <td>8.0</td>\n",
       "    </tr>\n",
       "    <tr>\n",
       "      <th>142</th>\n",
       "      <td>143.      Nayattu(2021)</td>\n",
       "      <td>(2021)</td>\n",
       "      <td>7.9</td>\n",
       "    </tr>\n",
       "    <tr>\n",
       "      <th>...</th>\n",
       "      <td>...</td>\n",
       "      <td>...</td>\n",
       "      <td>...</td>\n",
       "    </tr>\n",
       "    <tr>\n",
       "      <th>103</th>\n",
       "      <td>104.      PK(2014)</td>\n",
       "      <td>(2014)</td>\n",
       "      <td>8.1</td>\n",
       "    </tr>\n",
       "    <tr>\n",
       "      <th>141</th>\n",
       "      <td>142.      Ulidavaru Kandanthe(2014)</td>\n",
       "      <td>(2014)</td>\n",
       "      <td>8.0</td>\n",
       "    </tr>\n",
       "    <tr>\n",
       "      <th>129</th>\n",
       "      <td>130.      Haider(2014)</td>\n",
       "      <td>(2014)</td>\n",
       "      <td>8.0</td>\n",
       "    </tr>\n",
       "    <tr>\n",
       "      <th>53</th>\n",
       "      <td>54.      Bangalore Days(2014)</td>\n",
       "      <td>(2014)</td>\n",
       "      <td>8.2</td>\n",
       "    </tr>\n",
       "    <tr>\n",
       "      <th>236</th>\n",
       "      <td>237.      Ugramm(2014)</td>\n",
       "      <td>(2014)</td>\n",
       "      <td>7.6</td>\n",
       "    </tr>\n",
       "  </tbody>\n",
       "</table>\n",
       "<p>100 rows × 3 columns</p>\n",
       "</div>"
      ],
      "text/plain": [
       "                                               Name IMDB rating  \\\n",
       "0                        1.      Sardar Udham(2021)      (2021)   \n",
       "16                             17.      #Home(2021)      (2021)   \n",
       "117                       118.      Shershaah(2021)      (2021)   \n",
       "114        115.      The Great Indian Kitchen(2021)      (2021)   \n",
       "142                         143.      Nayattu(2021)      (2021)   \n",
       "..                                              ...         ...   \n",
       "103                              104.      PK(2014)      (2014)   \n",
       "141             142.      Ulidavaru Kandanthe(2014)      (2014)   \n",
       "129                          130.      Haider(2014)      (2014)   \n",
       "53                    54.      Bangalore Days(2014)      (2014)   \n",
       "236                          237.      Ugramm(2014)      (2014)   \n",
       "\n",
       "    Year of release  \n",
       "0               8.6  \n",
       "16              8.4  \n",
       "117             8.0  \n",
       "114             8.0  \n",
       "142             7.9  \n",
       "..              ...  \n",
       "103             8.1  \n",
       "141             8.0  \n",
       "129             8.0  \n",
       "53              8.2  \n",
       "236             7.6  \n",
       "\n",
       "[100 rows x 3 columns]"
      ]
     },
     "execution_count": 26,
     "metadata": {},
     "output_type": "execute_result"
    }
   ],
   "source": [
    "data.sort_values('IMDB rating',ascending=False).head(100)"
   ]
  },
  {
   "cell_type": "markdown",
   "metadata": {},
   "source": [
    "# QUESTION NUMBER 4(i)"
   ]
  },
  {
   "cell_type": "code",
   "execution_count": 27,
   "metadata": {},
   "outputs": [],
   "source": [
    "import requests\n",
    "from bs4 import BeautifulSoup"
   ]
  },
  {
   "cell_type": "code",
   "execution_count": 28,
   "metadata": {},
   "outputs": [],
   "source": [
    "#ODI best team URL\n",
    "source = 'https://www.icc-cricket.com/rankings/mens/team-rankings/odi'"
   ]
  },
  {
   "cell_type": "code",
   "execution_count": 29,
   "metadata": {},
   "outputs": [],
   "source": [
    "page = requests.get(source)"
   ]
  },
  {
   "cell_type": "code",
   "execution_count": 30,
   "metadata": {},
   "outputs": [
    {
     "data": {
      "text/plain": [
       "<Response [200]>"
      ]
     },
     "execution_count": 30,
     "metadata": {},
     "output_type": "execute_result"
    }
   ],
   "source": [
    "page"
   ]
  },
  {
   "cell_type": "code",
   "execution_count": 31,
   "metadata": {},
   "outputs": [],
   "source": [
    "htmlContent= page.content"
   ]
  },
  {
   "cell_type": "code",
   "execution_count": 32,
   "metadata": {},
   "outputs": [],
   "source": [
    "soup= BeautifulSoup(htmlContent,'html.parser')"
   ]
  },
  {
   "cell_type": "code",
   "execution_count": 33,
   "metadata": {},
   "outputs": [],
   "source": [
    "# name of ODI best team rank wise\n",
    "team = soup.find_all('span', class_='u-hide-phablet')"
   ]
  },
  {
   "cell_type": "code",
   "execution_count": 34,
   "metadata": {},
   "outputs": [
    {
     "data": {
      "text/plain": [
       "['New Zealand',\n",
       " 'England',\n",
       " 'Australia',\n",
       " 'India',\n",
       " 'South Africa',\n",
       " 'Pakistan',\n",
       " 'Bangladesh',\n",
       " 'West Indies',\n",
       " 'Sri Lanka',\n",
       " 'Afghanistan']"
      ]
     },
     "execution_count": 34,
     "metadata": {},
     "output_type": "execute_result"
    }
   ],
   "source": [
    "#fetching name for first 10 best team\n",
    "ODI_team = []\n",
    "for i in range(0,10): #using range function to extract only top 10 data\n",
    "    ODI_team.append(team[i].get_text().replace(\"\\n\",\"\"))\n",
    "ODI_team"
   ]
  },
  {
   "cell_type": "code",
   "execution_count": 35,
   "metadata": {},
   "outputs": [
    {
     "data": {
      "text/plain": [
       "'17'"
      ]
     },
     "execution_count": 35,
     "metadata": {},
     "output_type": "execute_result"
    }
   ],
   "source": [
    "#number of matches played by team 1 i.e New Zealand\n",
    "team1_matches = soup.find('td', class_='rankings-block__banner--matches').text\n",
    "team1_matches"
   ]
  },
  {
   "cell_type": "code",
   "execution_count": 36,
   "metadata": {
    "scrolled": true
   },
   "outputs": [
    {
     "data": {
      "text/plain": [
       "['32',\n",
       " '3,793',\n",
       " '28',\n",
       " '3,244',\n",
       " '32',\n",
       " '3,624',\n",
       " '25',\n",
       " '2,459',\n",
       " '27',\n",
       " '2,524',\n",
       " '30',\n",
       " '2,740',\n",
       " '30',\n",
       " '2,523',\n",
       " '32',\n",
       " '2,657',\n",
       " '17',\n",
       " '1,054',\n",
       " '7',\n",
       " '336',\n",
       " '25',\n",
       " '1,145',\n",
       " '10',\n",
       " '452',\n",
       " '20',\n",
       " '764',\n",
       " '14',\n",
       " '524',\n",
       " '11',\n",
       " '330',\n",
       " '9',\n",
       " '190',\n",
       " '14',\n",
       " '232',\n",
       " '6',\n",
       " '97',\n",
       " '13',\n",
       " '0']"
      ]
     },
     "execution_count": 36,
     "metadata": {},
     "output_type": "execute_result"
    }
   ],
   "source": [
    "#fetching other details about ODI best team\n",
    "# since matches and points are present inside the same class so fetching all the deatils present inside this class\n",
    "add_info =[]\n",
    "aditional_info = soup.find_all('td', class_='table-body__cell u-center-text')\n",
    "for i in aditional_info:\n",
    "    add_info.append(i.get_text().replace(\"\\n\",\"\"))\n",
    "add_info"
   ]
  },
  {
   "cell_type": "code",
   "execution_count": 37,
   "metadata": {},
   "outputs": [
    {
     "data": {
      "text/plain": [
       "['32', '28', '32', '25', '27', '30', '30', '32', '17']"
      ]
     },
     "execution_count": 37,
     "metadata": {},
     "output_type": "execute_result"
    }
   ],
   "source": [
    "#this is number of matches played by top 9 teams\n",
    "ODI_match = []\n",
    "for i in range(0,18,2):\n",
    "    ODI_match.append(aditional_info[i].get_text().replace(\"\\n\",\"\"))\n",
    "ODI_match"
   ]
  },
  {
   "cell_type": "code",
   "execution_count": 38,
   "metadata": {},
   "outputs": [
    {
     "data": {
      "text/plain": [
       "['17', '32', '28', '32', '25', '27', '30', '30', '32', '17']"
      ]
     },
     "execution_count": 38,
     "metadata": {},
     "output_type": "execute_result"
    }
   ],
   "source": [
    "#inserting number of matches played by team 1 into ODI_match\n",
    "ODI_match.insert(0, \"17\")\n",
    "ODI_match"
   ]
  },
  {
   "cell_type": "code",
   "execution_count": 39,
   "metadata": {},
   "outputs": [
    {
     "data": {
      "text/plain": [
       "['3,793',\n",
       " '3,244',\n",
       " '3,624',\n",
       " '2,459',\n",
       " '2,524',\n",
       " '2,740',\n",
       " '2,523',\n",
       " '2,657',\n",
       " '1,054']"
      ]
     },
     "execution_count": 39,
     "metadata": {},
     "output_type": "execute_result"
    }
   ],
   "source": [
    "#number of points by rest of the team\n",
    "ODI_points = []\n",
    "for i in range(1,18,2):\n",
    "    ODI_points.append(aditional_info[i].get_text().replace(\"\\n\",\"\"))\n",
    "ODI_points"
   ]
  },
  {
   "cell_type": "code",
   "execution_count": 40,
   "metadata": {},
   "outputs": [
    {
     "data": {
      "text/plain": [
       "['2,054',\n",
       " '3,793',\n",
       " '3,244',\n",
       " '3,624',\n",
       " '2,459',\n",
       " '2,524',\n",
       " '2,740',\n",
       " '2,523',\n",
       " '2,657',\n",
       " '1,054']"
      ]
     },
     "execution_count": 40,
     "metadata": {},
     "output_type": "execute_result"
    }
   ],
   "source": [
    "#inserting number of points made by team1 into ODI_points\n",
    "ODI_points.insert(0, \"2,054\")\n",
    "ODI_points"
   ]
  },
  {
   "cell_type": "code",
   "execution_count": 41,
   "metadata": {},
   "outputs": [],
   "source": [
    "# ratings for the rest of the team\n",
    "rating = soup.find_all('td', class_='table-body__cell u-text-right rating')"
   ]
  },
  {
   "cell_type": "code",
   "execution_count": 42,
   "metadata": {
    "scrolled": true
   },
   "outputs": [
    {
     "data": {
      "text/plain": [
       "['119', '116', '113', '98', '93', '91', '84', '83', '62']"
      ]
     },
     "execution_count": 42,
     "metadata": {},
     "output_type": "execute_result"
    }
   ],
   "source": [
    "ODI_rating = []\n",
    "for i in range(0,9):\n",
    "    ODI_rating.append(rating[i].get_text().replace(\"\\n\",\"\"))\n",
    "ODI_rating"
   ]
  },
  {
   "cell_type": "code",
   "execution_count": 43,
   "metadata": {},
   "outputs": [
    {
     "data": {
      "text/plain": [
       "['121', '119', '116', '113', '98', '93', '91', '84', '83', '62']"
      ]
     },
     "execution_count": 43,
     "metadata": {},
     "output_type": "execute_result"
    }
   ],
   "source": [
    "#inserting rating of team 1 into ODI_rating\n",
    "ODI_rating.insert(0, \"121\")\n",
    "ODI_rating"
   ]
  },
  {
   "cell_type": "code",
   "execution_count": 44,
   "metadata": {},
   "outputs": [],
   "source": [
    "import pandas as pd"
   ]
  },
  {
   "cell_type": "code",
   "execution_count": 45,
   "metadata": {},
   "outputs": [],
   "source": [
    "#creating dataframe\n",
    "data = list(zip(ODI_team,ODI_match,ODI_points,ODI_rating))"
   ]
  },
  {
   "cell_type": "code",
   "execution_count": 46,
   "metadata": {},
   "outputs": [],
   "source": [
    "df = pd.DataFrame(data,columns=['ODI_team','ODI_match','ODI_points','ODI_rating'])"
   ]
  },
  {
   "cell_type": "code",
   "execution_count": 47,
   "metadata": {},
   "outputs": [
    {
     "data": {
      "text/html": [
       "<div>\n",
       "<style scoped>\n",
       "    .dataframe tbody tr th:only-of-type {\n",
       "        vertical-align: middle;\n",
       "    }\n",
       "\n",
       "    .dataframe tbody tr th {\n",
       "        vertical-align: top;\n",
       "    }\n",
       "\n",
       "    .dataframe thead th {\n",
       "        text-align: right;\n",
       "    }\n",
       "</style>\n",
       "<table border=\"1\" class=\"dataframe\">\n",
       "  <thead>\n",
       "    <tr style=\"text-align: right;\">\n",
       "      <th></th>\n",
       "      <th>ODI_team</th>\n",
       "      <th>ODI_match</th>\n",
       "      <th>ODI_points</th>\n",
       "      <th>ODI_rating</th>\n",
       "    </tr>\n",
       "  </thead>\n",
       "  <tbody>\n",
       "    <tr>\n",
       "      <th>0</th>\n",
       "      <td>New Zealand</td>\n",
       "      <td>17</td>\n",
       "      <td>2,054</td>\n",
       "      <td>121</td>\n",
       "    </tr>\n",
       "    <tr>\n",
       "      <th>1</th>\n",
       "      <td>England</td>\n",
       "      <td>32</td>\n",
       "      <td>3,793</td>\n",
       "      <td>119</td>\n",
       "    </tr>\n",
       "    <tr>\n",
       "      <th>2</th>\n",
       "      <td>Australia</td>\n",
       "      <td>28</td>\n",
       "      <td>3,244</td>\n",
       "      <td>116</td>\n",
       "    </tr>\n",
       "    <tr>\n",
       "      <th>3</th>\n",
       "      <td>India</td>\n",
       "      <td>32</td>\n",
       "      <td>3,624</td>\n",
       "      <td>113</td>\n",
       "    </tr>\n",
       "    <tr>\n",
       "      <th>4</th>\n",
       "      <td>South Africa</td>\n",
       "      <td>25</td>\n",
       "      <td>2,459</td>\n",
       "      <td>98</td>\n",
       "    </tr>\n",
       "    <tr>\n",
       "      <th>5</th>\n",
       "      <td>Pakistan</td>\n",
       "      <td>27</td>\n",
       "      <td>2,524</td>\n",
       "      <td>93</td>\n",
       "    </tr>\n",
       "    <tr>\n",
       "      <th>6</th>\n",
       "      <td>Bangladesh</td>\n",
       "      <td>30</td>\n",
       "      <td>2,740</td>\n",
       "      <td>91</td>\n",
       "    </tr>\n",
       "    <tr>\n",
       "      <th>7</th>\n",
       "      <td>West Indies</td>\n",
       "      <td>30</td>\n",
       "      <td>2,523</td>\n",
       "      <td>84</td>\n",
       "    </tr>\n",
       "    <tr>\n",
       "      <th>8</th>\n",
       "      <td>Sri Lanka</td>\n",
       "      <td>32</td>\n",
       "      <td>2,657</td>\n",
       "      <td>83</td>\n",
       "    </tr>\n",
       "    <tr>\n",
       "      <th>9</th>\n",
       "      <td>Afghanistan</td>\n",
       "      <td>17</td>\n",
       "      <td>1,054</td>\n",
       "      <td>62</td>\n",
       "    </tr>\n",
       "  </tbody>\n",
       "</table>\n",
       "</div>"
      ],
      "text/plain": [
       "       ODI_team ODI_match ODI_points ODI_rating\n",
       "0   New Zealand        17      2,054        121\n",
       "1       England        32      3,793        119\n",
       "2     Australia        28      3,244        116\n",
       "3         India        32      3,624        113\n",
       "4  South Africa        25      2,459         98\n",
       "5      Pakistan        27      2,524         93\n",
       "6    Bangladesh        30      2,740         91\n",
       "7   West Indies        30      2,523         84\n",
       "8     Sri Lanka        32      2,657         83\n",
       "9   Afghanistan        17      1,054         62"
      ]
     },
     "execution_count": 47,
     "metadata": {},
     "output_type": "execute_result"
    }
   ],
   "source": [
    "df.head(10)"
   ]
  },
  {
   "cell_type": "markdown",
   "metadata": {},
   "source": [
    "# QUESTION NUMBER 4(ii)"
   ]
  },
  {
   "cell_type": "code",
   "execution_count": 48,
   "metadata": {},
   "outputs": [],
   "source": [
    "import requests"
   ]
  },
  {
   "cell_type": "code",
   "execution_count": 49,
   "metadata": {},
   "outputs": [],
   "source": [
    "url = 'https://www.icc-cricket.com/rankings/mens/player-rankings/odi'"
   ]
  },
  {
   "cell_type": "code",
   "execution_count": 50,
   "metadata": {},
   "outputs": [],
   "source": [
    "r = requests.get(url)"
   ]
  },
  {
   "cell_type": "code",
   "execution_count": 51,
   "metadata": {},
   "outputs": [],
   "source": [
    "htmlcontent = r.content"
   ]
  },
  {
   "cell_type": "code",
   "execution_count": 52,
   "metadata": {},
   "outputs": [],
   "source": [
    "bs = BeautifulSoup(htmlcontent,'html.parser')"
   ]
  },
  {
   "cell_type": "code",
   "execution_count": 53,
   "metadata": {},
   "outputs": [
    {
     "data": {
      "text/plain": [
       "['Virat Kohli',\n",
       " 'Rohit Sharma',\n",
       " 'Ross Taylor',\n",
       " 'Aaron Finch',\n",
       " 'Jonny Bairstow',\n",
       " 'David Warner',\n",
       " 'Shai Hope',\n",
       " 'Kane Williamson',\n",
       " 'Quinton de Kock',\n",
       " 'Josh Hazlewood',\n",
       " 'Mujeeb Ur Rahman',\n",
       " 'Chris Woakes',\n",
       " 'Mehedi Hasan',\n",
       " 'Matt Henry',\n",
       " 'Jasprit Bumrah',\n",
       " 'Mitchell Starc',\n",
       " 'Shakib Al Hasan',\n",
       " 'Kagiso Rabada',\n",
       " 'Mohammad Nabi',\n",
       " 'Chris Woakes',\n",
       " 'Rashid Khan',\n",
       " 'Mitchell Santner',\n",
       " 'Ben Stokes',\n",
       " 'Colin de Grandhomme',\n",
       " 'Imad Wasim',\n",
       " 'Ravindra Jadeja',\n",
       " 'Sikandar Raza',\n",
       " 'Virat Kohli',\n",
       " 'Rohit Sharma',\n",
       " 'Ross Taylor',\n",
       " 'Aaron Finch',\n",
       " 'Jonny Bairstow',\n",
       " 'David Warner',\n",
       " 'Shai Hope',\n",
       " 'Kane Williamson',\n",
       " 'Quinton de Kock',\n",
       " 'Josh Hazlewood',\n",
       " 'Mujeeb Ur Rahman',\n",
       " 'Chris Woakes',\n",
       " 'Mehedi Hasan',\n",
       " 'Matt Henry',\n",
       " 'Jasprit Bumrah',\n",
       " 'Mitchell Starc',\n",
       " 'Shakib Al Hasan',\n",
       " 'Kagiso Rabada',\n",
       " 'Mohammad Nabi',\n",
       " 'Chris Woakes',\n",
       " 'Rashid Khan',\n",
       " 'Mitchell Santner',\n",
       " 'Ben Stokes',\n",
       " 'Colin de Grandhomme',\n",
       " 'Imad Wasim',\n",
       " 'Ravindra Jadeja',\n",
       " 'Sikandar Raza']"
      ]
     },
     "execution_count": 53,
     "metadata": {},
     "output_type": "execute_result"
    }
   ],
   "source": [
    "player = []\n",
    "\n",
    "for i in bs.find_all('td' ,class_='table-body__cell name'):\n",
    "    player.append(i.text.replace('\\n',''))\n",
    "    \n",
    "player    "
   ]
  },
  {
   "cell_type": "code",
   "execution_count": 54,
   "metadata": {},
   "outputs": [
    {
     "data": {
      "text/plain": [
       "['IND',\n",
       " 'IND',\n",
       " 'NZ',\n",
       " 'AUS',\n",
       " 'ENG',\n",
       " 'AUS',\n",
       " 'WI',\n",
       " 'NZ',\n",
       " 'SA',\n",
       " 'AUS',\n",
       " 'AFG',\n",
       " 'ENG',\n",
       " 'BAN',\n",
       " 'NZ',\n",
       " 'IND',\n",
       " 'AUS',\n",
       " 'BAN',\n",
       " 'SA',\n",
       " 'AFG',\n",
       " 'ENG',\n",
       " 'AFG',\n",
       " 'NZ',\n",
       " 'ENG',\n",
       " 'NZ',\n",
       " 'PAK',\n",
       " 'IND',\n",
       " 'ZIM',\n",
       " 'IND',\n",
       " 'IND',\n",
       " 'NZ',\n",
       " 'AUS',\n",
       " 'ENG',\n",
       " 'AUS',\n",
       " 'WI',\n",
       " 'NZ',\n",
       " 'SA',\n",
       " 'AUS',\n",
       " 'AFG',\n",
       " 'ENG',\n",
       " 'BAN',\n",
       " 'NZ',\n",
       " 'IND',\n",
       " 'AUS',\n",
       " 'BAN',\n",
       " 'SA',\n",
       " 'AFG',\n",
       " 'ENG',\n",
       " 'AFG',\n",
       " 'NZ',\n",
       " 'ENG',\n",
       " 'NZ',\n",
       " 'PAK',\n",
       " 'IND',\n",
       " 'ZIM']"
      ]
     },
     "execution_count": 54,
     "metadata": {},
     "output_type": "execute_result"
    }
   ],
   "source": [
    "team = []\n",
    "\n",
    "for i in bs.find_all('td',class_='table-body__cell nationality-logo'):\n",
    "    team.append(i.text.replace('\\n',''))\n",
    "    \n",
    "team   "
   ]
  },
  {
   "cell_type": "code",
   "execution_count": 55,
   "metadata": {},
   "outputs": [
    {
     "data": {
      "text/plain": [
       "['844',\n",
       " '813',\n",
       " '801',\n",
       " '779',\n",
       " '775',\n",
       " '762',\n",
       " '758',\n",
       " '754',\n",
       " '747',\n",
       " '709',\n",
       " '708',\n",
       " '700',\n",
       " '692',\n",
       " '691',\n",
       " '679',\n",
       " '652',\n",
       " '650',\n",
       " '646',\n",
       " '294',\n",
       " '282',\n",
       " '270',\n",
       " '268',\n",
       " '266',\n",
       " '257',\n",
       " '256',\n",
       " '238',\n",
       " '229',\n",
       " '844',\n",
       " '813',\n",
       " '801',\n",
       " '779',\n",
       " '775',\n",
       " '762',\n",
       " '758',\n",
       " '754',\n",
       " '747',\n",
       " '709',\n",
       " '708',\n",
       " '700',\n",
       " '692',\n",
       " '691',\n",
       " '679',\n",
       " '652',\n",
       " '650',\n",
       " '646',\n",
       " '294',\n",
       " '282',\n",
       " '270',\n",
       " '268',\n",
       " '266',\n",
       " '257',\n",
       " '256',\n",
       " '238',\n",
       " '229']"
      ]
     },
     "execution_count": 55,
     "metadata": {},
     "output_type": "execute_result"
    }
   ],
   "source": [
    "rating = []\n",
    "\n",
    "for i in bs.find_all('td',class_='table-body__cell u-text-right rating'):\n",
    "    rating.append(i.text.replace('\\n',''))\n",
    "    \n",
    "rating    "
   ]
  },
  {
   "cell_type": "code",
   "execution_count": 56,
   "metadata": {},
   "outputs": [],
   "source": [
    "import pandas as pd\n",
    "df = pd.DataFrame({'PLAYER':player,'TEAM':team,'RATING':rating})"
   ]
  },
  {
   "cell_type": "code",
   "execution_count": 57,
   "metadata": {
    "scrolled": true
   },
   "outputs": [
    {
     "data": {
      "text/html": [
       "<div>\n",
       "<style scoped>\n",
       "    .dataframe tbody tr th:only-of-type {\n",
       "        vertical-align: middle;\n",
       "    }\n",
       "\n",
       "    .dataframe tbody tr th {\n",
       "        vertical-align: top;\n",
       "    }\n",
       "\n",
       "    .dataframe thead th {\n",
       "        text-align: right;\n",
       "    }\n",
       "</style>\n",
       "<table border=\"1\" class=\"dataframe\">\n",
       "  <thead>\n",
       "    <tr style=\"text-align: right;\">\n",
       "      <th></th>\n",
       "      <th>PLAYER</th>\n",
       "      <th>TEAM</th>\n",
       "      <th>RATING</th>\n",
       "    </tr>\n",
       "  </thead>\n",
       "  <tbody>\n",
       "    <tr>\n",
       "      <th>0</th>\n",
       "      <td>Virat Kohli</td>\n",
       "      <td>IND</td>\n",
       "      <td>844</td>\n",
       "    </tr>\n",
       "    <tr>\n",
       "      <th>27</th>\n",
       "      <td>Virat Kohli</td>\n",
       "      <td>IND</td>\n",
       "      <td>844</td>\n",
       "    </tr>\n",
       "    <tr>\n",
       "      <th>28</th>\n",
       "      <td>Rohit Sharma</td>\n",
       "      <td>IND</td>\n",
       "      <td>813</td>\n",
       "    </tr>\n",
       "    <tr>\n",
       "      <th>1</th>\n",
       "      <td>Rohit Sharma</td>\n",
       "      <td>IND</td>\n",
       "      <td>813</td>\n",
       "    </tr>\n",
       "    <tr>\n",
       "      <th>29</th>\n",
       "      <td>Ross Taylor</td>\n",
       "      <td>NZ</td>\n",
       "      <td>801</td>\n",
       "    </tr>\n",
       "    <tr>\n",
       "      <th>2</th>\n",
       "      <td>Ross Taylor</td>\n",
       "      <td>NZ</td>\n",
       "      <td>801</td>\n",
       "    </tr>\n",
       "    <tr>\n",
       "      <th>30</th>\n",
       "      <td>Aaron Finch</td>\n",
       "      <td>AUS</td>\n",
       "      <td>779</td>\n",
       "    </tr>\n",
       "    <tr>\n",
       "      <th>3</th>\n",
       "      <td>Aaron Finch</td>\n",
       "      <td>AUS</td>\n",
       "      <td>779</td>\n",
       "    </tr>\n",
       "    <tr>\n",
       "      <th>31</th>\n",
       "      <td>Jonny Bairstow</td>\n",
       "      <td>ENG</td>\n",
       "      <td>775</td>\n",
       "    </tr>\n",
       "    <tr>\n",
       "      <th>4</th>\n",
       "      <td>Jonny Bairstow</td>\n",
       "      <td>ENG</td>\n",
       "      <td>775</td>\n",
       "    </tr>\n",
       "  </tbody>\n",
       "</table>\n",
       "</div>"
      ],
      "text/plain": [
       "            PLAYER TEAM RATING\n",
       "0      Virat Kohli  IND    844\n",
       "27     Virat Kohli  IND    844\n",
       "28    Rohit Sharma  IND    813\n",
       "1     Rohit Sharma  IND    813\n",
       "29     Ross Taylor   NZ    801\n",
       "2      Ross Taylor   NZ    801\n",
       "30     Aaron Finch  AUS    779\n",
       "3      Aaron Finch  AUS    779\n",
       "31  Jonny Bairstow  ENG    775\n",
       "4   Jonny Bairstow  ENG    775"
      ]
     },
     "execution_count": 57,
     "metadata": {},
     "output_type": "execute_result"
    }
   ],
   "source": [
    "df.sort_values('RATING',ascending=False).head(10)"
   ]
  },
  {
   "cell_type": "markdown",
   "metadata": {},
   "source": [
    "# Question number 4(iii)"
   ]
  },
  {
   "cell_type": "code",
   "execution_count": 58,
   "metadata": {
    "scrolled": false
   },
   "outputs": [],
   "source": [
    "#!pip install requests"
   ]
  },
  {
   "cell_type": "code",
   "execution_count": 59,
   "metadata": {
    "scrolled": true
   },
   "outputs": [],
   "source": [
    "#!pip install bs4"
   ]
  },
  {
   "cell_type": "code",
   "execution_count": 60,
   "metadata": {
    "scrolled": true
   },
   "outputs": [],
   "source": [
    "#!pip install html5lib"
   ]
  },
  {
   "cell_type": "code",
   "execution_count": 61,
   "metadata": {},
   "outputs": [],
   "source": [
    "import requests"
   ]
  },
  {
   "cell_type": "code",
   "execution_count": 62,
   "metadata": {},
   "outputs": [],
   "source": [
    "url='https://www.icc-cricket.com/rankings/mens/player-rankings/odi/bowling'"
   ]
  },
  {
   "cell_type": "code",
   "execution_count": 63,
   "metadata": {},
   "outputs": [],
   "source": [
    "r = requests.get(url)"
   ]
  },
  {
   "cell_type": "code",
   "execution_count": 64,
   "metadata": {},
   "outputs": [],
   "source": [
    "from bs4 import BeautifulSoup"
   ]
  },
  {
   "cell_type": "code",
   "execution_count": 65,
   "metadata": {},
   "outputs": [],
   "source": [
    "htmlcontent = r.content"
   ]
  },
  {
   "cell_type": "code",
   "execution_count": 66,
   "metadata": {},
   "outputs": [],
   "source": [
    "soup = BeautifulSoup(htmlcontent,'html.parser')"
   ]
  },
  {
   "cell_type": "code",
   "execution_count": 67,
   "metadata": {},
   "outputs": [
    {
     "data": {
      "text/plain": [
       "['Josh Hazlewood',\n",
       " 'Mujeeb Ur Rahman',\n",
       " 'Chris Woakes',\n",
       " 'Mehedi Hasan',\n",
       " 'Matt Henry',\n",
       " 'Jasprit Bumrah',\n",
       " 'Mitchell Starc',\n",
       " 'Shakib Al Hasan',\n",
       " 'Kagiso Rabada',\n",
       " 'Mustafizur Rahman',\n",
       " 'Pat Cummins',\n",
       " 'Shaheen Afridi',\n",
       " 'Mohammad Amir',\n",
       " 'Rashid Khan',\n",
       " 'Adam Zampa',\n",
       " 'Bhuvneshwar Kumar',\n",
       " 'Lachlan Ferguson',\n",
       " 'Jofra Archer',\n",
       " 'Yuzvendra Chahal',\n",
       " 'Mohammad Nabi',\n",
       " 'Mark Wood',\n",
       " 'Alzarri Joseph',\n",
       " 'Lungi Ngidi',\n",
       " 'Mitchell Santner',\n",
       " 'Akila Dananjaya',\n",
       " 'Andy McBrine',\n",
       " 'Mohammad Shami',\n",
       " 'Tabraiz Shamsi',\n",
       " 'Kuldeep Yadav',\n",
       " 'Ravindra Jadeja',\n",
       " 'Sheldon Cottrell',\n",
       " 'Wanindu De Silva',\n",
       " 'Ahmed Raza',\n",
       " 'Dushmantha Chameera',\n",
       " 'Shadab Khan',\n",
       " 'Colin de Grandhomme',\n",
       " 'Simi Singh',\n",
       " 'David Willey',\n",
       " 'Tim Southee',\n",
       " 'Adil Rashid',\n",
       " 'Ish Sodhi',\n",
       " 'Keshav Maharaj',\n",
       " 'Mark Watt',\n",
       " 'Imad Wasim',\n",
       " 'Hasan Ali',\n",
       " 'Usman Khan',\n",
       " 'Jhye Richardson',\n",
       " 'Rohan Mustafa',\n",
       " 'Blessing Muzarabani',\n",
       " 'Andile Phehlukwayo',\n",
       " 'Mashrafe Mortaza',\n",
       " 'Mohammad Mohammad Saifuddin',\n",
       " 'Safyaan Sharif',\n",
       " 'Joshua Little',\n",
       " 'Jimmy Neesham',\n",
       " 'Tendai Chatara',\n",
       " 'Saqib Mahmood',\n",
       " 'Nuwan Pradeep',\n",
       " 'Jason Holder',\n",
       " 'Moeen Ali',\n",
       " 'Wahab Riaz',\n",
       " 'Faheem Ashraf',\n",
       " 'Akeal Hosein',\n",
       " 'Tom Curran',\n",
       " 'Suranga Lakmal',\n",
       " 'Ashton Agar',\n",
       " 'Taskin Ahmed',\n",
       " 'Anrich Nortje',\n",
       " 'Josh Davey',\n",
       " 'Sikandar Raza',\n",
       " 'Saurabh Netravalkar',\n",
       " 'Kane Richardson',\n",
       " 'Sean Williams',\n",
       " 'Ben Stokes',\n",
       " 'Shardul Thakur',\n",
       " 'Craig Young',\n",
       " 'Dhananjaya de Silva',\n",
       " 'Sandeep Lamichhane',\n",
       " 'Rubel Hossain',\n",
       " 'Gulbadin Naib',\n",
       " 'Hardik Pandya',\n",
       " 'Alasdair Evans',\n",
       " 'Mitchell Marsh',\n",
       " 'Barry McCarthy',\n",
       " 'Marcus Stoinis',\n",
       " 'Zeeshan Maqsood',\n",
       " 'Nosaina Pokana',\n",
       " 'Taijul Islam',\n",
       " 'Bilal Khan',\n",
       " 'Chad Soper',\n",
       " 'Mohammad Nawaz',\n",
       " 'Lakshan Sandakan',\n",
       " 'Donald Tiripano',\n",
       " 'Fred Klaassen',\n",
       " 'Oshane Thomas',\n",
       " 'Kyle Jamieson',\n",
       " 'Charles Amini',\n",
       " 'Michael Leask',\n",
       " 'Sharafuddin Ashraf']"
      ]
     },
     "execution_count": 67,
     "metadata": {},
     "output_type": "execute_result"
    }
   ],
   "source": [
    "P = []\n",
    "\n",
    "for i in soup.find_all('td',class_='table-body__cell rankings-table__name name'):\n",
    "    P.append(i.text.replace('\\n',''))\n",
    "    \n",
    "P    "
   ]
  },
  {
   "cell_type": "code",
   "execution_count": 68,
   "metadata": {},
   "outputs": [
    {
     "data": {
      "text/plain": [
       "['AUS',\n",
       " 'AFG',\n",
       " 'ENG',\n",
       " 'BAN',\n",
       " 'NZ',\n",
       " 'IND',\n",
       " 'AUS',\n",
       " 'BAN',\n",
       " 'SA',\n",
       " 'BAN',\n",
       " 'AUS',\n",
       " 'PAK',\n",
       " 'PAK',\n",
       " 'AFG',\n",
       " 'AUS',\n",
       " 'IND',\n",
       " 'NZ',\n",
       " 'ENG',\n",
       " 'IND',\n",
       " 'AFG',\n",
       " 'ENG',\n",
       " 'WI',\n",
       " 'SA',\n",
       " 'NZ',\n",
       " 'SL',\n",
       " 'IRE',\n",
       " 'IND',\n",
       " 'SA',\n",
       " 'IND',\n",
       " 'IND',\n",
       " 'WI',\n",
       " 'SL',\n",
       " 'UAE',\n",
       " 'SL',\n",
       " 'PAK',\n",
       " 'NZ',\n",
       " 'IRE',\n",
       " 'ENG',\n",
       " 'NZ',\n",
       " 'ENG',\n",
       " '',\n",
       " 'SA',\n",
       " 'SCO',\n",
       " 'PAK',\n",
       " 'PAK',\n",
       " 'PAK',\n",
       " 'AUS',\n",
       " 'UAE',\n",
       " 'ZIM',\n",
       " 'SA',\n",
       " 'BAN',\n",
       " 'BAN',\n",
       " 'SCO',\n",
       " 'IRE',\n",
       " 'NZ',\n",
       " 'ZIM',\n",
       " 'ENG',\n",
       " 'SL',\n",
       " 'WI',\n",
       " 'ENG',\n",
       " 'PAK',\n",
       " 'PAK',\n",
       " 'WI',\n",
       " 'ENG',\n",
       " 'SL',\n",
       " 'AUS',\n",
       " 'BAN',\n",
       " 'SA',\n",
       " 'SCO',\n",
       " 'ZIM',\n",
       " 'USA',\n",
       " 'AUS',\n",
       " 'ZIM',\n",
       " 'ENG',\n",
       " 'IND',\n",
       " 'IRE',\n",
       " 'SL',\n",
       " 'NEP',\n",
       " 'BAN',\n",
       " 'AFG',\n",
       " 'IND',\n",
       " 'SCO',\n",
       " 'AUS',\n",
       " 'IRE',\n",
       " 'AUS',\n",
       " 'OMA',\n",
       " 'PNG',\n",
       " 'BAN',\n",
       " 'OMA',\n",
       " 'PNG',\n",
       " 'PAK',\n",
       " 'SL',\n",
       " 'ZIM',\n",
       " 'NED',\n",
       " 'WI',\n",
       " 'NZ',\n",
       " 'PNG',\n",
       " 'SCO',\n",
       " 'AFG']"
      ]
     },
     "execution_count": 68,
     "metadata": {},
     "output_type": "execute_result"
    }
   ],
   "source": [
    "T = []\n",
    "\n",
    "for i in soup.find_all('span',class_='table-body__logo-text'):\n",
    "    T.append(i.text)\n",
    "    \n",
    "T    "
   ]
  },
  {
   "cell_type": "code",
   "execution_count": 69,
   "metadata": {
    "scrolled": true
   },
   "outputs": [
    {
     "data": {
      "text/plain": [
       "['709',\n",
       " '708',\n",
       " '700',\n",
       " '692',\n",
       " '691',\n",
       " '679',\n",
       " '652',\n",
       " '650',\n",
       " '646',\n",
       " '640',\n",
       " '636',\n",
       " '630',\n",
       " '628',\n",
       " '626',\n",
       " '625',\n",
       " '621',\n",
       " '619',\n",
       " '609',\n",
       " '603',\n",
       " '596',\n",
       " '594',\n",
       " '592',\n",
       " '590',\n",
       " '583',\n",
       " '583',\n",
       " '579',\n",
       " '566',\n",
       " '562',\n",
       " '562',\n",
       " '550',\n",
       " '541',\n",
       " '531',\n",
       " '531',\n",
       " '525',\n",
       " '517',\n",
       " '508',\n",
       " '507',\n",
       " '501',\n",
       " '500',\n",
       " '497',\n",
       " '496',\n",
       " '494',\n",
       " '490',\n",
       " '488',\n",
       " '483',\n",
       " '482',\n",
       " '480',\n",
       " '477',\n",
       " '470',\n",
       " '469',\n",
       " '469',\n",
       " '468',\n",
       " '467',\n",
       " '463',\n",
       " '458',\n",
       " '458',\n",
       " '454',\n",
       " '453',\n",
       " '451',\n",
       " '449',\n",
       " '447',\n",
       " '445',\n",
       " '443',\n",
       " '436',\n",
       " '436',\n",
       " '436',\n",
       " '434',\n",
       " '432',\n",
       " '427',\n",
       " '424',\n",
       " '419',\n",
       " '416',\n",
       " '413',\n",
       " '410',\n",
       " '405',\n",
       " '405',\n",
       " '401',\n",
       " '400',\n",
       " '400',\n",
       " '399',\n",
       " '394',\n",
       " '394',\n",
       " '390',\n",
       " '385',\n",
       " '377',\n",
       " '377',\n",
       " '375',\n",
       " '374',\n",
       " '373',\n",
       " '371',\n",
       " '370',\n",
       " '370',\n",
       " '362',\n",
       " '358',\n",
       " '355',\n",
       " '352',\n",
       " '351',\n",
       " '351',\n",
       " '347']"
      ]
     },
     "execution_count": 69,
     "metadata": {},
     "output_type": "execute_result"
    }
   ],
   "source": [
    "R = []\n",
    "\n",
    "for i in soup.find_all('td',class_='table-body__cell rating'):\n",
    "    R.append(i.text)\n",
    "    \n",
    "R    "
   ]
  },
  {
   "cell_type": "code",
   "execution_count": 70,
   "metadata": {},
   "outputs": [
    {
     "name": "stdout",
     "output_type": "stream",
     "text": [
      "99 99 99\n"
     ]
    }
   ],
   "source": [
    "print(len(P),len(T),len(R))"
   ]
  },
  {
   "cell_type": "code",
   "execution_count": 71,
   "metadata": {},
   "outputs": [],
   "source": [
    "import pandas as pd"
   ]
  },
  {
   "cell_type": "code",
   "execution_count": 72,
   "metadata": {},
   "outputs": [],
   "source": [
    "df = pd.DataFrame({'PLAYER':P,'TEAM':T,'RATING':R})"
   ]
  },
  {
   "cell_type": "code",
   "execution_count": 73,
   "metadata": {},
   "outputs": [
    {
     "data": {
      "text/html": [
       "<div>\n",
       "<style scoped>\n",
       "    .dataframe tbody tr th:only-of-type {\n",
       "        vertical-align: middle;\n",
       "    }\n",
       "\n",
       "    .dataframe tbody tr th {\n",
       "        vertical-align: top;\n",
       "    }\n",
       "\n",
       "    .dataframe thead th {\n",
       "        text-align: right;\n",
       "    }\n",
       "</style>\n",
       "<table border=\"1\" class=\"dataframe\">\n",
       "  <thead>\n",
       "    <tr style=\"text-align: right;\">\n",
       "      <th></th>\n",
       "      <th>PLAYER</th>\n",
       "      <th>TEAM</th>\n",
       "      <th>RATING</th>\n",
       "    </tr>\n",
       "  </thead>\n",
       "  <tbody>\n",
       "    <tr>\n",
       "      <th>0</th>\n",
       "      <td>Josh Hazlewood</td>\n",
       "      <td>AUS</td>\n",
       "      <td>709</td>\n",
       "    </tr>\n",
       "    <tr>\n",
       "      <th>1</th>\n",
       "      <td>Mujeeb Ur Rahman</td>\n",
       "      <td>AFG</td>\n",
       "      <td>708</td>\n",
       "    </tr>\n",
       "    <tr>\n",
       "      <th>2</th>\n",
       "      <td>Chris Woakes</td>\n",
       "      <td>ENG</td>\n",
       "      <td>700</td>\n",
       "    </tr>\n",
       "    <tr>\n",
       "      <th>3</th>\n",
       "      <td>Mehedi Hasan</td>\n",
       "      <td>BAN</td>\n",
       "      <td>692</td>\n",
       "    </tr>\n",
       "    <tr>\n",
       "      <th>4</th>\n",
       "      <td>Matt Henry</td>\n",
       "      <td>NZ</td>\n",
       "      <td>691</td>\n",
       "    </tr>\n",
       "    <tr>\n",
       "      <th>...</th>\n",
       "      <td>...</td>\n",
       "      <td>...</td>\n",
       "      <td>...</td>\n",
       "    </tr>\n",
       "    <tr>\n",
       "      <th>94</th>\n",
       "      <td>Oshane Thomas</td>\n",
       "      <td>WI</td>\n",
       "      <td>355</td>\n",
       "    </tr>\n",
       "    <tr>\n",
       "      <th>95</th>\n",
       "      <td>Kyle Jamieson</td>\n",
       "      <td>NZ</td>\n",
       "      <td>352</td>\n",
       "    </tr>\n",
       "    <tr>\n",
       "      <th>96</th>\n",
       "      <td>Charles Amini</td>\n",
       "      <td>PNG</td>\n",
       "      <td>351</td>\n",
       "    </tr>\n",
       "    <tr>\n",
       "      <th>97</th>\n",
       "      <td>Michael Leask</td>\n",
       "      <td>SCO</td>\n",
       "      <td>351</td>\n",
       "    </tr>\n",
       "    <tr>\n",
       "      <th>98</th>\n",
       "      <td>Sharafuddin Ashraf</td>\n",
       "      <td>AFG</td>\n",
       "      <td>347</td>\n",
       "    </tr>\n",
       "  </tbody>\n",
       "</table>\n",
       "<p>99 rows × 3 columns</p>\n",
       "</div>"
      ],
      "text/plain": [
       "                PLAYER TEAM RATING\n",
       "0       Josh Hazlewood  AUS    709\n",
       "1     Mujeeb Ur Rahman  AFG    708\n",
       "2         Chris Woakes  ENG    700\n",
       "3         Mehedi Hasan  BAN    692\n",
       "4           Matt Henry   NZ    691\n",
       "..                 ...  ...    ...\n",
       "94       Oshane Thomas   WI    355\n",
       "95       Kyle Jamieson   NZ    352\n",
       "96       Charles Amini  PNG    351\n",
       "97       Michael Leask  SCO    351\n",
       "98  Sharafuddin Ashraf  AFG    347\n",
       "\n",
       "[99 rows x 3 columns]"
      ]
     },
     "execution_count": 73,
     "metadata": {},
     "output_type": "execute_result"
    }
   ],
   "source": [
    "df"
   ]
  },
  {
   "cell_type": "code",
   "execution_count": 74,
   "metadata": {
    "scrolled": true
   },
   "outputs": [
    {
     "data": {
      "text/html": [
       "<div>\n",
       "<style scoped>\n",
       "    .dataframe tbody tr th:only-of-type {\n",
       "        vertical-align: middle;\n",
       "    }\n",
       "\n",
       "    .dataframe tbody tr th {\n",
       "        vertical-align: top;\n",
       "    }\n",
       "\n",
       "    .dataframe thead th {\n",
       "        text-align: right;\n",
       "    }\n",
       "</style>\n",
       "<table border=\"1\" class=\"dataframe\">\n",
       "  <thead>\n",
       "    <tr style=\"text-align: right;\">\n",
       "      <th></th>\n",
       "      <th>PLAYER</th>\n",
       "      <th>TEAM</th>\n",
       "      <th>RATING</th>\n",
       "    </tr>\n",
       "  </thead>\n",
       "  <tbody>\n",
       "    <tr>\n",
       "      <th>0</th>\n",
       "      <td>Josh Hazlewood</td>\n",
       "      <td>AUS</td>\n",
       "      <td>709</td>\n",
       "    </tr>\n",
       "    <tr>\n",
       "      <th>1</th>\n",
       "      <td>Mujeeb Ur Rahman</td>\n",
       "      <td>AFG</td>\n",
       "      <td>708</td>\n",
       "    </tr>\n",
       "    <tr>\n",
       "      <th>2</th>\n",
       "      <td>Chris Woakes</td>\n",
       "      <td>ENG</td>\n",
       "      <td>700</td>\n",
       "    </tr>\n",
       "    <tr>\n",
       "      <th>3</th>\n",
       "      <td>Mehedi Hasan</td>\n",
       "      <td>BAN</td>\n",
       "      <td>692</td>\n",
       "    </tr>\n",
       "    <tr>\n",
       "      <th>4</th>\n",
       "      <td>Matt Henry</td>\n",
       "      <td>NZ</td>\n",
       "      <td>691</td>\n",
       "    </tr>\n",
       "    <tr>\n",
       "      <th>5</th>\n",
       "      <td>Jasprit Bumrah</td>\n",
       "      <td>IND</td>\n",
       "      <td>679</td>\n",
       "    </tr>\n",
       "    <tr>\n",
       "      <th>6</th>\n",
       "      <td>Mitchell Starc</td>\n",
       "      <td>AUS</td>\n",
       "      <td>652</td>\n",
       "    </tr>\n",
       "    <tr>\n",
       "      <th>7</th>\n",
       "      <td>Shakib Al Hasan</td>\n",
       "      <td>BAN</td>\n",
       "      <td>650</td>\n",
       "    </tr>\n",
       "    <tr>\n",
       "      <th>8</th>\n",
       "      <td>Kagiso Rabada</td>\n",
       "      <td>SA</td>\n",
       "      <td>646</td>\n",
       "    </tr>\n",
       "    <tr>\n",
       "      <th>9</th>\n",
       "      <td>Mustafizur Rahman</td>\n",
       "      <td>BAN</td>\n",
       "      <td>640</td>\n",
       "    </tr>\n",
       "  </tbody>\n",
       "</table>\n",
       "</div>"
      ],
      "text/plain": [
       "              PLAYER TEAM RATING\n",
       "0     Josh Hazlewood  AUS    709\n",
       "1   Mujeeb Ur Rahman  AFG    708\n",
       "2       Chris Woakes  ENG    700\n",
       "3       Mehedi Hasan  BAN    692\n",
       "4         Matt Henry   NZ    691\n",
       "5     Jasprit Bumrah  IND    679\n",
       "6     Mitchell Starc  AUS    652\n",
       "7    Shakib Al Hasan  BAN    650\n",
       "8      Kagiso Rabada   SA    646\n",
       "9  Mustafizur Rahman  BAN    640"
      ]
     },
     "execution_count": 74,
     "metadata": {},
     "output_type": "execute_result"
    }
   ],
   "source": [
    "df.sort_values('RATING',ascending=False).head(10)"
   ]
  },
  {
   "cell_type": "markdown",
   "metadata": {},
   "source": [
    "# QUESTION NUMBER 5(i)"
   ]
  },
  {
   "cell_type": "code",
   "execution_count": 75,
   "metadata": {},
   "outputs": [],
   "source": [
    "import requests\n",
    "from bs4 import BeautifulSoup"
   ]
  },
  {
   "cell_type": "code",
   "execution_count": 76,
   "metadata": {},
   "outputs": [],
   "source": [
    "url = 'https://www.icc-cricket.com/rankings/womens/team-rankings/odi'"
   ]
  },
  {
   "cell_type": "code",
   "execution_count": 77,
   "metadata": {},
   "outputs": [
    {
     "data": {
      "text/plain": [
       "<Response [200]>"
      ]
     },
     "execution_count": 77,
     "metadata": {},
     "output_type": "execute_result"
    }
   ],
   "source": [
    "r = requests.get(url)\n",
    "r"
   ]
  },
  {
   "cell_type": "code",
   "execution_count": 78,
   "metadata": {},
   "outputs": [],
   "source": [
    "htmlcontent = r.content"
   ]
  },
  {
   "cell_type": "code",
   "execution_count": 79,
   "metadata": {},
   "outputs": [],
   "source": [
    "soup = BeautifulSoup(htmlcontent,'html.parser')"
   ]
  },
  {
   "cell_type": "code",
   "execution_count": 80,
   "metadata": {},
   "outputs": [],
   "source": [
    "team = soup.find_all('span', class_='u-hide-phablet')"
   ]
  },
  {
   "cell_type": "code",
   "execution_count": 81,
   "metadata": {},
   "outputs": [
    {
     "data": {
      "text/plain": [
       "['Australia',\n",
       " 'England',\n",
       " 'South Africa',\n",
       " 'India',\n",
       " 'New Zealand',\n",
       " 'West Indies',\n",
       " 'Pakistan',\n",
       " 'Bangladesh',\n",
       " 'Sri Lanka',\n",
       " 'Ireland']"
      ]
     },
     "execution_count": 81,
     "metadata": {},
     "output_type": "execute_result"
    }
   ],
   "source": [
    "ODI_Team = []\n",
    "\n",
    "for i in range(0,10):\n",
    "    ODI_Team.append(team[i].get_text().replace('\\n',\" \"))\n",
    "    \n",
    "ODI_Team "
   ]
  },
  {
   "cell_type": "code",
   "execution_count": 82,
   "metadata": {},
   "outputs": [
    {
     "data": {
      "text/plain": [
       "'21'"
      ]
     },
     "execution_count": 82,
     "metadata": {},
     "output_type": "execute_result"
    }
   ],
   "source": [
    "#number of matches played by team 1\n",
    "team1_matches = soup.find('td', class_='rankings-block__banner--matches').text\n",
    "team1_matches"
   ]
  },
  {
   "cell_type": "code",
   "execution_count": 83,
   "metadata": {},
   "outputs": [],
   "source": [
    "#fetching other details about ODI best team\n",
    "aditional_info = soup.find_all('td', class_='table-body__cell u-center-text')"
   ]
  },
  {
   "cell_type": "code",
   "execution_count": 84,
   "metadata": {},
   "outputs": [
    {
     "data": {
      "text/plain": [
       "['25', '29', '26', '26', '22', '20', '5', '11', '2']"
      ]
     },
     "execution_count": 84,
     "metadata": {},
     "output_type": "execute_result"
    }
   ],
   "source": [
    "ODI_match = []\n",
    "for i in range(0,18,2):\n",
    "    ODI_match.append(aditional_info[i].get_text().replace(\"\\n\",\"\"))\n",
    "ODI_match"
   ]
  },
  {
   "cell_type": "code",
   "execution_count": 85,
   "metadata": {},
   "outputs": [
    {
     "data": {
      "text/plain": [
       "['21', '25', '29', '26', '26', '22', '20', '5', '11', '2']"
      ]
     },
     "execution_count": 85,
     "metadata": {},
     "output_type": "execute_result"
    }
   ],
   "source": [
    "#inserting number of matches played by team 1 into ODI_match\n",
    "ODI_match.insert(0, \"21\")\n",
    "ODI_match"
   ]
  },
  {
   "cell_type": "code",
   "execution_count": 86,
   "metadata": {},
   "outputs": [
    {
     "data": {
      "text/plain": [
       "'3,379'"
      ]
     },
     "execution_count": 86,
     "metadata": {},
     "output_type": "execute_result"
    }
   ],
   "source": [
    "team_points = soup.find('td', class_='rankings-block__banner--points').text\n",
    "team_points "
   ]
  },
  {
   "cell_type": "code",
   "execution_count": 87,
   "metadata": {},
   "outputs": [
    {
     "data": {
      "text/plain": [
       "['2,983', '3,390', '2,934', '2,392', '1,872', '1,496', '306', '519', '25']"
      ]
     },
     "execution_count": 87,
     "metadata": {},
     "output_type": "execute_result"
    }
   ],
   "source": [
    "#number of points by rest of the team\n",
    "ODI_points = []\n",
    "for i in range(1,18,2):\n",
    "    ODI_points.append(aditional_info[i].get_text().replace(\"\\n\",\"\"))\n",
    "ODI_points"
   ]
  },
  {
   "cell_type": "code",
   "execution_count": 88,
   "metadata": {},
   "outputs": [
    {
     "data": {
      "text/plain": [
       "['3379',\n",
       " '2,983',\n",
       " '3,390',\n",
       " '2,934',\n",
       " '2,392',\n",
       " '1,872',\n",
       " '1,496',\n",
       " '306',\n",
       " '519',\n",
       " '25']"
      ]
     },
     "execution_count": 88,
     "metadata": {},
     "output_type": "execute_result"
    }
   ],
   "source": [
    "ODI_points.insert(0, \"3379\")\n",
    "ODI_points"
   ]
  },
  {
   "cell_type": "code",
   "execution_count": 89,
   "metadata": {},
   "outputs": [],
   "source": [
    "# ratings for the rest of the team\n",
    "rating = soup.find_all('td', class_='table-body__cell u-text-right rating')"
   ]
  },
  {
   "cell_type": "code",
   "execution_count": 90,
   "metadata": {},
   "outputs": [
    {
     "data": {
      "text/plain": [
       "['119', '117', '113', '92', '85', '75', '61', '47', '13']"
      ]
     },
     "execution_count": 90,
     "metadata": {},
     "output_type": "execute_result"
    }
   ],
   "source": [
    "ODI_rating = []\n",
    "for i in range(0,9):\n",
    "    ODI_rating.append(rating[i].get_text().replace(\"\\n\",\"\"))\n",
    "ODI_rating"
   ]
  },
  {
   "cell_type": "code",
   "execution_count": 91,
   "metadata": {},
   "outputs": [
    {
     "data": {
      "text/plain": [
       "['161', '119', '117', '113', '92', '85', '75', '61', '47', '13']"
      ]
     },
     "execution_count": 91,
     "metadata": {},
     "output_type": "execute_result"
    }
   ],
   "source": [
    "ODI_rating.insert(0,\"161\")\n",
    "ODI_rating"
   ]
  },
  {
   "cell_type": "code",
   "execution_count": 92,
   "metadata": {},
   "outputs": [],
   "source": [
    "#creating dataframe\n",
    "data = list(zip(ODI_team,ODI_match,ODI_points,ODI_rating))"
   ]
  },
  {
   "cell_type": "code",
   "execution_count": 93,
   "metadata": {},
   "outputs": [],
   "source": [
    "import pandas as pd\n",
    "df = pd.DataFrame(data,columns=['ODI_team','ODI_match','ODI_points','ODI_rating'])"
   ]
  },
  {
   "cell_type": "code",
   "execution_count": 94,
   "metadata": {},
   "outputs": [
    {
     "data": {
      "text/html": [
       "<div>\n",
       "<style scoped>\n",
       "    .dataframe tbody tr th:only-of-type {\n",
       "        vertical-align: middle;\n",
       "    }\n",
       "\n",
       "    .dataframe tbody tr th {\n",
       "        vertical-align: top;\n",
       "    }\n",
       "\n",
       "    .dataframe thead th {\n",
       "        text-align: right;\n",
       "    }\n",
       "</style>\n",
       "<table border=\"1\" class=\"dataframe\">\n",
       "  <thead>\n",
       "    <tr style=\"text-align: right;\">\n",
       "      <th></th>\n",
       "      <th>ODI_team</th>\n",
       "      <th>ODI_match</th>\n",
       "      <th>ODI_points</th>\n",
       "      <th>ODI_rating</th>\n",
       "    </tr>\n",
       "  </thead>\n",
       "  <tbody>\n",
       "    <tr>\n",
       "      <th>0</th>\n",
       "      <td>New Zealand</td>\n",
       "      <td>21</td>\n",
       "      <td>3379</td>\n",
       "      <td>161</td>\n",
       "    </tr>\n",
       "    <tr>\n",
       "      <th>1</th>\n",
       "      <td>England</td>\n",
       "      <td>25</td>\n",
       "      <td>2,983</td>\n",
       "      <td>119</td>\n",
       "    </tr>\n",
       "    <tr>\n",
       "      <th>2</th>\n",
       "      <td>Australia</td>\n",
       "      <td>29</td>\n",
       "      <td>3,390</td>\n",
       "      <td>117</td>\n",
       "    </tr>\n",
       "    <tr>\n",
       "      <th>3</th>\n",
       "      <td>India</td>\n",
       "      <td>26</td>\n",
       "      <td>2,934</td>\n",
       "      <td>113</td>\n",
       "    </tr>\n",
       "    <tr>\n",
       "      <th>4</th>\n",
       "      <td>South Africa</td>\n",
       "      <td>26</td>\n",
       "      <td>2,392</td>\n",
       "      <td>92</td>\n",
       "    </tr>\n",
       "    <tr>\n",
       "      <th>5</th>\n",
       "      <td>Pakistan</td>\n",
       "      <td>22</td>\n",
       "      <td>1,872</td>\n",
       "      <td>85</td>\n",
       "    </tr>\n",
       "    <tr>\n",
       "      <th>6</th>\n",
       "      <td>Bangladesh</td>\n",
       "      <td>20</td>\n",
       "      <td>1,496</td>\n",
       "      <td>75</td>\n",
       "    </tr>\n",
       "    <tr>\n",
       "      <th>7</th>\n",
       "      <td>West Indies</td>\n",
       "      <td>5</td>\n",
       "      <td>306</td>\n",
       "      <td>61</td>\n",
       "    </tr>\n",
       "    <tr>\n",
       "      <th>8</th>\n",
       "      <td>Sri Lanka</td>\n",
       "      <td>11</td>\n",
       "      <td>519</td>\n",
       "      <td>47</td>\n",
       "    </tr>\n",
       "    <tr>\n",
       "      <th>9</th>\n",
       "      <td>Afghanistan</td>\n",
       "      <td>2</td>\n",
       "      <td>25</td>\n",
       "      <td>13</td>\n",
       "    </tr>\n",
       "  </tbody>\n",
       "</table>\n",
       "</div>"
      ],
      "text/plain": [
       "       ODI_team ODI_match ODI_points ODI_rating\n",
       "0   New Zealand        21       3379        161\n",
       "1       England        25      2,983        119\n",
       "2     Australia        29      3,390        117\n",
       "3         India        26      2,934        113\n",
       "4  South Africa        26      2,392         92\n",
       "5      Pakistan        22      1,872         85\n",
       "6    Bangladesh        20      1,496         75\n",
       "7   West Indies         5        306         61\n",
       "8     Sri Lanka        11        519         47\n",
       "9   Afghanistan         2         25         13"
      ]
     },
     "execution_count": 94,
     "metadata": {},
     "output_type": "execute_result"
    }
   ],
   "source": [
    "df.head(10)"
   ]
  },
  {
   "cell_type": "markdown",
   "metadata": {},
   "source": [
    "# QUESTION NUMBER 5(ii)"
   ]
  },
  {
   "cell_type": "code",
   "execution_count": 95,
   "metadata": {},
   "outputs": [],
   "source": [
    "import requests\n",
    "from bs4 import BeautifulSoup\n",
    "\n",
    "url = 'https://www.icc-cricket.com/rankings/womens/player-rankings/odi'\n",
    "r = requests.get(url)\n",
    "htmlcontent = r.content"
   ]
  },
  {
   "cell_type": "code",
   "execution_count": 96,
   "metadata": {},
   "outputs": [],
   "source": [
    "bs = BeautifulSoup(htmlcontent,'html.parser')"
   ]
  },
  {
   "cell_type": "code",
   "execution_count": 97,
   "metadata": {},
   "outputs": [
    {
     "data": {
      "text/plain": [
       "['AUS',\n",
       " 'IND',\n",
       " 'ENG',\n",
       " 'NZ',\n",
       " 'IND',\n",
       " 'AUS',\n",
       " 'AUS',\n",
       " 'ENG',\n",
       " 'SA',\n",
       " 'IND',\n",
       " 'AUS',\n",
       " 'SA',\n",
       " 'ENG',\n",
       " 'SA',\n",
       " 'ENG',\n",
       " 'SA',\n",
       " 'ENG',\n",
       " 'ENG',\n",
       " 'ENG',\n",
       " 'AUS',\n",
       " 'WI',\n",
       " 'IND',\n",
       " 'AUS',\n",
       " 'SA',\n",
       " 'AUS',\n",
       " 'ENG',\n",
       " 'IND']"
      ]
     },
     "execution_count": 97,
     "metadata": {},
     "output_type": "execute_result"
    }
   ],
   "source": [
    "team = []\n",
    "\n",
    "for i in bs.find_all('td',class_='table-body__cell nationality-logo'):\n",
    "    team.append(i.text.replace('\\n',''))\n",
    "team    "
   ]
  },
  {
   "cell_type": "code",
   "execution_count": 98,
   "metadata": {},
   "outputs": [
    {
     "data": {
      "text/plain": [
       "['Alyssa Healy',\n",
       " 'Mithali Raj',\n",
       " 'Tammy Beaumont',\n",
       " 'Amy Satterthwaite',\n",
       " 'Smriti Mandhana',\n",
       " 'Meg Lanning',\n",
       " 'Beth Mooney',\n",
       " 'Heather Knight',\n",
       " 'Laura Wolvaardt',\n",
       " 'Jhulan Goswami',\n",
       " 'Megan Schutt',\n",
       " 'Marizanne Kapp',\n",
       " 'Sophie Ecclestone',\n",
       " 'Shabnim Ismail',\n",
       " 'Katherine Brunt',\n",
       " 'Ayabonga Khaka',\n",
       " 'Anya Shrubsole',\n",
       " 'Kate Cross',\n",
       " 'Natalie Sciver',\n",
       " 'Ellyse Perry',\n",
       " 'Stafanie Taylor',\n",
       " 'Deepti Sharma',\n",
       " 'Ashleigh Gardner',\n",
       " 'Dane van Niekerk',\n",
       " 'Jess Jonassen',\n",
       " 'Katherine Brunt',\n",
       " 'Jhulan Goswami']"
      ]
     },
     "execution_count": 98,
     "metadata": {},
     "output_type": "execute_result"
    }
   ],
   "source": [
    "player = []\n",
    "\n",
    "for i in bs.find_all('td',class_='table-body__cell name'):\n",
    "    player.append(i.text.replace('\\n',''))\n",
    "player    "
   ]
  },
  {
   "cell_type": "code",
   "execution_count": 99,
   "metadata": {},
   "outputs": [
    {
     "data": {
      "text/plain": [
       "['750',\n",
       " '738',\n",
       " '728',\n",
       " '717',\n",
       " '710',\n",
       " '699',\n",
       " '690',\n",
       " '674',\n",
       " '672',\n",
       " '727',\n",
       " '717',\n",
       " '715',\n",
       " '701',\n",
       " '688',\n",
       " '666',\n",
       " '643',\n",
       " '598',\n",
       " '589',\n",
       " '372',\n",
       " '365',\n",
       " '322',\n",
       " '299',\n",
       " '275',\n",
       " '274',\n",
       " '272',\n",
       " '272',\n",
       " '251']"
      ]
     },
     "execution_count": 99,
     "metadata": {},
     "output_type": "execute_result"
    }
   ],
   "source": [
    "rating = []\n",
    "\n",
    "for i in bs.find_all('td',class_='table-body__cell u-text-right rating'):\n",
    "    rating.append(i.text)\n",
    "rating    \n",
    "    "
   ]
  },
  {
   "cell_type": "code",
   "execution_count": 100,
   "metadata": {},
   "outputs": [
    {
     "name": "stdout",
     "output_type": "stream",
     "text": [
      "27 27 27\n"
     ]
    }
   ],
   "source": [
    "print(len(team),len(player),len(rating))"
   ]
  },
  {
   "cell_type": "code",
   "execution_count": 101,
   "metadata": {},
   "outputs": [],
   "source": [
    "import pandas as pd\n",
    "df = pd.DataFrame({'TEAM':team,'PLAYER':player,'RATING':rating})"
   ]
  },
  {
   "cell_type": "code",
   "execution_count": 102,
   "metadata": {},
   "outputs": [
    {
     "data": {
      "text/html": [
       "<div>\n",
       "<style scoped>\n",
       "    .dataframe tbody tr th:only-of-type {\n",
       "        vertical-align: middle;\n",
       "    }\n",
       "\n",
       "    .dataframe tbody tr th {\n",
       "        vertical-align: top;\n",
       "    }\n",
       "\n",
       "    .dataframe thead th {\n",
       "        text-align: right;\n",
       "    }\n",
       "</style>\n",
       "<table border=\"1\" class=\"dataframe\">\n",
       "  <thead>\n",
       "    <tr style=\"text-align: right;\">\n",
       "      <th></th>\n",
       "      <th>TEAM</th>\n",
       "      <th>PLAYER</th>\n",
       "      <th>RATING</th>\n",
       "    </tr>\n",
       "  </thead>\n",
       "  <tbody>\n",
       "    <tr>\n",
       "      <th>0</th>\n",
       "      <td>AUS</td>\n",
       "      <td>Alyssa Healy</td>\n",
       "      <td>750</td>\n",
       "    </tr>\n",
       "    <tr>\n",
       "      <th>1</th>\n",
       "      <td>IND</td>\n",
       "      <td>Mithali Raj</td>\n",
       "      <td>738</td>\n",
       "    </tr>\n",
       "    <tr>\n",
       "      <th>2</th>\n",
       "      <td>ENG</td>\n",
       "      <td>Tammy Beaumont</td>\n",
       "      <td>728</td>\n",
       "    </tr>\n",
       "    <tr>\n",
       "      <th>9</th>\n",
       "      <td>IND</td>\n",
       "      <td>Jhulan Goswami</td>\n",
       "      <td>727</td>\n",
       "    </tr>\n",
       "    <tr>\n",
       "      <th>3</th>\n",
       "      <td>NZ</td>\n",
       "      <td>Amy Satterthwaite</td>\n",
       "      <td>717</td>\n",
       "    </tr>\n",
       "    <tr>\n",
       "      <th>10</th>\n",
       "      <td>AUS</td>\n",
       "      <td>Megan Schutt</td>\n",
       "      <td>717</td>\n",
       "    </tr>\n",
       "    <tr>\n",
       "      <th>11</th>\n",
       "      <td>SA</td>\n",
       "      <td>Marizanne Kapp</td>\n",
       "      <td>715</td>\n",
       "    </tr>\n",
       "    <tr>\n",
       "      <th>4</th>\n",
       "      <td>IND</td>\n",
       "      <td>Smriti Mandhana</td>\n",
       "      <td>710</td>\n",
       "    </tr>\n",
       "    <tr>\n",
       "      <th>12</th>\n",
       "      <td>ENG</td>\n",
       "      <td>Sophie Ecclestone</td>\n",
       "      <td>701</td>\n",
       "    </tr>\n",
       "    <tr>\n",
       "      <th>5</th>\n",
       "      <td>AUS</td>\n",
       "      <td>Meg Lanning</td>\n",
       "      <td>699</td>\n",
       "    </tr>\n",
       "  </tbody>\n",
       "</table>\n",
       "</div>"
      ],
      "text/plain": [
       "   TEAM             PLAYER RATING\n",
       "0   AUS       Alyssa Healy    750\n",
       "1   IND        Mithali Raj    738\n",
       "2   ENG     Tammy Beaumont    728\n",
       "9   IND     Jhulan Goswami    727\n",
       "3    NZ  Amy Satterthwaite    717\n",
       "10  AUS       Megan Schutt    717\n",
       "11   SA     Marizanne Kapp    715\n",
       "4   IND    Smriti Mandhana    710\n",
       "12  ENG  Sophie Ecclestone    701\n",
       "5   AUS        Meg Lanning    699"
      ]
     },
     "execution_count": 102,
     "metadata": {},
     "output_type": "execute_result"
    }
   ],
   "source": [
    "df.sort_values('RATING',ascending=False).head(10)"
   ]
  },
  {
   "cell_type": "markdown",
   "metadata": {},
   "source": [
    "# QUESTION NUMBER 5(iii)"
   ]
  },
  {
   "cell_type": "code",
   "execution_count": 103,
   "metadata": {},
   "outputs": [],
   "source": [
    "url = 'https://www.icc-cricket.com/rankings/womens/player-rankings/odi/all-rounder'\n",
    "import requests\n",
    "from bs4 import BeautifulSoup\n",
    "r = requests.get(url)\n",
    "htmlcontent = r.content\n",
    "soup = BeautifulSoup(htmlcontent,'html.parser')"
   ]
  },
  {
   "cell_type": "code",
   "execution_count": 104,
   "metadata": {},
   "outputs": [
    {
     "data": {
      "text/plain": [
       "['Natalie Sciver',\n",
       " 'Ellyse Perry',\n",
       " 'Stafanie Taylor',\n",
       " 'Deepti Sharma',\n",
       " 'Ashleigh Gardner',\n",
       " 'Dane van Niekerk',\n",
       " 'Jess Jonassen',\n",
       " 'Katherine Brunt',\n",
       " 'Jhulan Goswami',\n",
       " 'Sophie Devine',\n",
       " 'Hayley Matthews',\n",
       " 'Heather Knight',\n",
       " 'Amelia Kerr',\n",
       " 'Nida Dar',\n",
       " 'Shikha Pandey',\n",
       " 'Rumana Ahmed',\n",
       " 'Chamari Athapaththu',\n",
       " 'Deandra Dottin',\n",
       " 'Kate Cross']"
      ]
     },
     "execution_count": 104,
     "metadata": {},
     "output_type": "execute_result"
    }
   ],
   "source": [
    "p = []\n",
    "\n",
    "for i in soup.find_all('td',class_='table-body__cell rankings-table__name name'):\n",
    "    p.append(i.text.replace('\\n',''))\n",
    "p    "
   ]
  },
  {
   "cell_type": "code",
   "execution_count": 105,
   "metadata": {},
   "outputs": [
    {
     "data": {
      "text/plain": [
       "['ENG',\n",
       " 'AUS',\n",
       " 'WI',\n",
       " 'IND',\n",
       " 'AUS',\n",
       " 'SA',\n",
       " 'AUS',\n",
       " 'ENG',\n",
       " 'IND',\n",
       " 'NZ',\n",
       " 'WI',\n",
       " 'ENG',\n",
       " 'NZ',\n",
       " 'PAK',\n",
       " 'IND',\n",
       " 'BAN',\n",
       " 'SL',\n",
       " 'WI',\n",
       " 'ENG']"
      ]
     },
     "execution_count": 105,
     "metadata": {},
     "output_type": "execute_result"
    }
   ],
   "source": [
    "t = []\n",
    "\n",
    "for i in soup.find_all('span',class_='table-body__logo-text'):\n",
    "    t.append(i.text)\n",
    "t    "
   ]
  },
  {
   "cell_type": "code",
   "execution_count": 106,
   "metadata": {},
   "outputs": [
    {
     "data": {
      "text/plain": [
       "['372',\n",
       " '365',\n",
       " '322',\n",
       " '299',\n",
       " '275',\n",
       " '274',\n",
       " '272',\n",
       " '272',\n",
       " '251',\n",
       " '248',\n",
       " '220',\n",
       " '195',\n",
       " '193',\n",
       " '176',\n",
       " '173',\n",
       " '168',\n",
       " '146',\n",
       " '142',\n",
       " '141']"
      ]
     },
     "execution_count": 106,
     "metadata": {},
     "output_type": "execute_result"
    }
   ],
   "source": [
    "r = []\n",
    "\n",
    "for i in soup.find_all('td',class_='table-body__cell rating'):\n",
    "    r.append(i.text)\n",
    "r    "
   ]
  },
  {
   "cell_type": "code",
   "execution_count": 107,
   "metadata": {},
   "outputs": [],
   "source": [
    "import pandas as pd\n",
    "df = pd.DataFrame({'PLAYER':p,'TEAM':t,'RATING':r})"
   ]
  },
  {
   "cell_type": "code",
   "execution_count": 108,
   "metadata": {
    "scrolled": true
   },
   "outputs": [
    {
     "data": {
      "text/html": [
       "<div>\n",
       "<style scoped>\n",
       "    .dataframe tbody tr th:only-of-type {\n",
       "        vertical-align: middle;\n",
       "    }\n",
       "\n",
       "    .dataframe tbody tr th {\n",
       "        vertical-align: top;\n",
       "    }\n",
       "\n",
       "    .dataframe thead th {\n",
       "        text-align: right;\n",
       "    }\n",
       "</style>\n",
       "<table border=\"1\" class=\"dataframe\">\n",
       "  <thead>\n",
       "    <tr style=\"text-align: right;\">\n",
       "      <th></th>\n",
       "      <th>PLAYER</th>\n",
       "      <th>TEAM</th>\n",
       "      <th>RATING</th>\n",
       "    </tr>\n",
       "  </thead>\n",
       "  <tbody>\n",
       "    <tr>\n",
       "      <th>0</th>\n",
       "      <td>Natalie Sciver</td>\n",
       "      <td>ENG</td>\n",
       "      <td>372</td>\n",
       "    </tr>\n",
       "    <tr>\n",
       "      <th>1</th>\n",
       "      <td>Ellyse Perry</td>\n",
       "      <td>AUS</td>\n",
       "      <td>365</td>\n",
       "    </tr>\n",
       "    <tr>\n",
       "      <th>2</th>\n",
       "      <td>Stafanie Taylor</td>\n",
       "      <td>WI</td>\n",
       "      <td>322</td>\n",
       "    </tr>\n",
       "    <tr>\n",
       "      <th>3</th>\n",
       "      <td>Deepti Sharma</td>\n",
       "      <td>IND</td>\n",
       "      <td>299</td>\n",
       "    </tr>\n",
       "    <tr>\n",
       "      <th>4</th>\n",
       "      <td>Ashleigh Gardner</td>\n",
       "      <td>AUS</td>\n",
       "      <td>275</td>\n",
       "    </tr>\n",
       "    <tr>\n",
       "      <th>5</th>\n",
       "      <td>Dane van Niekerk</td>\n",
       "      <td>SA</td>\n",
       "      <td>274</td>\n",
       "    </tr>\n",
       "    <tr>\n",
       "      <th>6</th>\n",
       "      <td>Jess Jonassen</td>\n",
       "      <td>AUS</td>\n",
       "      <td>272</td>\n",
       "    </tr>\n",
       "    <tr>\n",
       "      <th>7</th>\n",
       "      <td>Katherine Brunt</td>\n",
       "      <td>ENG</td>\n",
       "      <td>272</td>\n",
       "    </tr>\n",
       "    <tr>\n",
       "      <th>8</th>\n",
       "      <td>Jhulan Goswami</td>\n",
       "      <td>IND</td>\n",
       "      <td>251</td>\n",
       "    </tr>\n",
       "    <tr>\n",
       "      <th>9</th>\n",
       "      <td>Sophie Devine</td>\n",
       "      <td>NZ</td>\n",
       "      <td>248</td>\n",
       "    </tr>\n",
       "  </tbody>\n",
       "</table>\n",
       "</div>"
      ],
      "text/plain": [
       "             PLAYER TEAM RATING\n",
       "0    Natalie Sciver  ENG    372\n",
       "1      Ellyse Perry  AUS    365\n",
       "2   Stafanie Taylor   WI    322\n",
       "3     Deepti Sharma  IND    299\n",
       "4  Ashleigh Gardner  AUS    275\n",
       "5  Dane van Niekerk   SA    274\n",
       "6     Jess Jonassen  AUS    272\n",
       "7   Katherine Brunt  ENG    272\n",
       "8    Jhulan Goswami  IND    251\n",
       "9     Sophie Devine   NZ    248"
      ]
     },
     "execution_count": 108,
     "metadata": {},
     "output_type": "execute_result"
    }
   ],
   "source": [
    "df.sort_values('RATING',ascending=False).head(10)"
   ]
  },
  {
   "cell_type": "markdown",
   "metadata": {},
   "source": [
    "# QUESTION NUMBER 6"
   ]
  },
  {
   "cell_type": "code",
   "execution_count": 109,
   "metadata": {},
   "outputs": [],
   "source": [
    "import requests"
   ]
  },
  {
   "cell_type": "code",
   "execution_count": 110,
   "metadata": {},
   "outputs": [],
   "source": [
    "url ='https://www.amazon.in/s?k=all+mobile+phone+within+20000&rh=n%3A1389401031&crid=147LGSGA7SGZS&sprefix=all+mobile+phone+within+20000%2Caps%2C399&ref=nb_sb_noss'"
   ]
  },
  {
   "cell_type": "code",
   "execution_count": 111,
   "metadata": {},
   "outputs": [],
   "source": [
    "r = requests.get(url)"
   ]
  },
  {
   "cell_type": "code",
   "execution_count": 112,
   "metadata": {},
   "outputs": [
    {
     "data": {
      "text/plain": [
       "<Response [200]>"
      ]
     },
     "execution_count": 112,
     "metadata": {},
     "output_type": "execute_result"
    }
   ],
   "source": [
    "r"
   ]
  },
  {
   "cell_type": "code",
   "execution_count": 113,
   "metadata": {},
   "outputs": [],
   "source": [
    "htmlcontent = r.content"
   ]
  },
  {
   "cell_type": "code",
   "execution_count": 114,
   "metadata": {},
   "outputs": [],
   "source": [
    "from bs4 import BeautifulSoup"
   ]
  },
  {
   "cell_type": "code",
   "execution_count": 115,
   "metadata": {},
   "outputs": [],
   "source": [
    "soup = BeautifulSoup(htmlcontent,'html.parser')"
   ]
  },
  {
   "cell_type": "code",
   "execution_count": 116,
   "metadata": {},
   "outputs": [
    {
     "data": {
      "text/plain": [
       "['Samsung Galaxy M12 (Blue,4GB RAM, 64GB Storage) 6000 mAh with 8nm Processor | True 48 MP Quad Camera | 90Hz Refresh Rate',\n",
       " 'OPPO A74 5G (Fluid Black,6GB RAM,128GB Storage) - 5G Android Smartphone | 5000 mAh Battery | 18W Fast Charge | 90Hz LCD Display',\n",
       " 'OnePlus Nord CE 5G (Charcoal Ink, 8GB RAM, 128GB Storage)',\n",
       " 'Redmi Note 10 Lite Interstellar Black 4GB RAM 128GB ROM | Alexa Built-in',\n",
       " 'Redmi 9 (Sky Blue, 4GB RAM, 64GB Storage) | 2.3GHz Mediatek Helio G35 Octa core Processor',\n",
       " 'OnePlus Nord CE 5G (Blue Void, 8GB RAM, 128GB Storage)',\n",
       " 'iQOO Z5 5G (Mystic Space, 8GB RAM, 128GB Storage) | Snapdragon 778G 5G Processor | 5000mAh Battery | 44W FlashCharge | Rs.1000 Coupon Discount',\n",
       " 'realme narzo 50A (Oxygen Blue, 4GB RAM + 128GB Storage) - with No Cost EMI/Additional Exchange Offers',\n",
       " 'Samsung Galaxy M12 (Black,4GB RAM, 64GB Storage) 6000 mAh with 8nm Processor | True 48 MP Quad Camera | 90Hz Refresh Rate',\n",
       " 'realme narzo 30 (Racing Blue, 4GB RAM, 64GB Storage) - MediaTek Helio G95 processor I Full HD+ display with No Cost EMI/Additional Exchange Offers',\n",
       " 'Samsung Galaxy M12 (White,4GB RAM, 64GB Storage) 6000 mAh with 8nm Processor | True 48 MP Quad Camera | 90Hz Refresh Rate',\n",
       " 'realme narzo 30 (Racing Sliver, 6 GB RAM, 64 GB Storage) - MediaTek Helio G95 processor I Full HD+ display with No Cost EMI/Additional Exchange Offers',\n",
       " 'Tecno Spark 7T(Jewel Blue, 4GB RAM, 64GB Storage) 6000 mAh Battery| 48 MP AI Dual Rear Camera',\n",
       " 'realme narzo 50A (Oxygen Green, 4GB RAM + 128GB Storage) - with No Cost EMI/Additional Exchange Offers',\n",
       " 'Redmi 9A (Nature Green, 2GB RAM, 32GB Storage) | 2GHz Octa-core Helio G25 Processor | 5000 mAh Battery',\n",
       " 'OPPO A74 5G (Fantastic Purple,6GB RAM,128GB Storage) - 5G Android Smartphone | 5000 mAh Battery | 18W Fast Charge | 90Hz LCD Display',\n",
       " 'Samsung Galaxy M12 (Black,6GB RAM, 128GB Storage) 6 Months Free Screen Replacement for Prime',\n",
       " 'Lava A1 (Blue Silver)',\n",
       " 'Redmi Note 10 Pro (Dark Night, 6GB RAM, 128GB Storage) -120hz Super Amoled Display|64MPwith 5mp Super Tele-Macro',\n",
       " \"iQOO Z3 5G (Ace Black, 8GB RAM, 128GB Storage) | India's First SD 768G 5G Processor | 55W FlashCharge | Upto 9 Months No Cost EMI | 6 Months Free Screen Replacement\",\n",
       " 'Redmi 9 (Sporty Orange, 4GB RAM, 64GB Storage) | 2.3GHz Mediatek Helio G35 Octa core Processor',\n",
       " 'realme narzo 50i (Carbon Black, 4GB RAM+64GB Storage) - with No Cost EMI/Additional Exchange Offers',\n",
       " 'Samsung Galaxy M32 (Black, 4GB RAM, 64GB Storage) 6 Months Free Screen Replacement for Prime',\n",
       " 'OPPO A31 (Fantasy White, 6GB RAM, 128GB Storage) with No Cost EMI/Additional Exchange Offers']"
      ]
     },
     "execution_count": 116,
     "metadata": {},
     "output_type": "execute_result"
    }
   ],
   "source": [
    "product_name = []\n",
    "\n",
    "for i in soup.find_all('span' ,class_='a-size-medium a-color-base a-text-normal'):\n",
    "    product_name.append(i.text.replace('/n',''))\n",
    "    \n",
    "product_name   "
   ]
  },
  {
   "cell_type": "code",
   "execution_count": 117,
   "metadata": {},
   "outputs": [
    {
     "data": {
      "text/plain": [
       "['9,499',\n",
       " '15,990',\n",
       " '24,999',\n",
       " '14,999',\n",
       " '8,499',\n",
       " '24,999',\n",
       " '23,990',\n",
       " '12,499',\n",
       " '9,499',\n",
       " '13,499',\n",
       " '9,499',\n",
       " '14,499',\n",
       " '8,499',\n",
       " '12,499',\n",
       " '6,799',\n",
       " '15,990',\n",
       " '11,499',\n",
       " '999',\n",
       " '17,999',\n",
       " '18,990',\n",
       " '8,499',\n",
       " '8,999',\n",
       " '12,999',\n",
       " '11,490']"
      ]
     },
     "execution_count": 117,
     "metadata": {},
     "output_type": "execute_result"
    }
   ],
   "source": [
    "price = []\n",
    "\n",
    "for i in soup.find_all('span' ,class_='a-price-whole'):\n",
    "    price.append(i.text)\n",
    "    \n",
    "price    "
   ]
  },
  {
   "cell_type": "code",
   "execution_count": 118,
   "metadata": {},
   "outputs": [
    {
     "data": {
      "text/plain": [
       "['https://m.media-amazon.com/images/I/71r69Y7BSeL._AC_UY218_.jpg',\n",
       " 'https://m.media-amazon.com/images/I/71poFSdDs5S._AC_UY218_.jpg',\n",
       " 'https://m.media-amazon.com/images/I/71LRBr1aLNS._AC_UY218_.jpg',\n",
       " 'https://m.media-amazon.com/images/I/71HDwaQmdyL._AC_UY218_.jpg',\n",
       " 'https://m.media-amazon.com/images/I/71A9Vo1BatL._AC_UY218_.jpg',\n",
       " 'https://m.media-amazon.com/images/I/61iy2Ru9KdS._AC_UY218_.jpg',\n",
       " 'https://m.media-amazon.com/images/I/71wevQRS5qL._AC_UY218_.jpg',\n",
       " 'https://m.media-amazon.com/images/I/71hgVYiuFXL._AC_UY218_.jpg',\n",
       " 'https://m.media-amazon.com/images/I/7162Y5fPdkL._AC_UY218_.jpg',\n",
       " 'https://m.media-amazon.com/images/I/719tm7l723L._AC_UY218_.jpg',\n",
       " 'https://m.media-amazon.com/images/I/71Y8rH2cJiL._AC_UY218_.jpg',\n",
       " 'https://m.media-amazon.com/images/I/71YjsF1aQjL._AC_UY218_.jpg',\n",
       " 'https://m.media-amazon.com/images/I/81aWyRY67SS._AC_UY218_.jpg',\n",
       " 'https://m.media-amazon.com/images/I/718CklLKXmL._AC_UY218_.jpg',\n",
       " 'https://m.media-amazon.com/images/I/71sxlhYhKWL._AC_UY218_.jpg',\n",
       " 'https://m.media-amazon.com/images/I/71geVdy6-OS._AC_UY218_.jpg',\n",
       " 'https://m.media-amazon.com/images/I/7162Y5fPdkL._AC_UY218_.jpg',\n",
       " 'https://m.media-amazon.com/images/I/71nJCipMRiL._AC_UY218_.jpg',\n",
       " 'https://m.media-amazon.com/images/I/81S-XYJlzTL._AC_UY218_.jpg',\n",
       " 'https://m.media-amazon.com/images/I/61uIgwiP90S._AC_UY218_.jpg',\n",
       " 'https://m.media-amazon.com/images/I/71A9Vo1BatL._AC_UY218_.jpg',\n",
       " 'https://m.media-amazon.com/images/I/71djAn3nxoL._AC_UY218_.jpg',\n",
       " 'https://m.media-amazon.com/images/I/71Q3iSQAwAS._AC_UY218_.jpg',\n",
       " 'https://m.media-amazon.com/images/I/61CnyJ-IbML._AC_UY218_.jpg']"
      ]
     },
     "execution_count": 118,
     "metadata": {},
     "output_type": "execute_result"
    }
   ],
   "source": [
    "img = []\n",
    "\n",
    "for i in soup.find_all('img' ,class_='s-image'):\n",
    "    img.append(i['src'])\n",
    "    \n",
    "img   "
   ]
  },
  {
   "cell_type": "code",
   "execution_count": 119,
   "metadata": {
    "scrolled": false
   },
   "outputs": [
    {
     "data": {
      "text/plain": [
       "['4.1 out of 5 stars',\n",
       " '4.2 out of 5 stars',\n",
       " '4.1 out of 5 stars',\n",
       " '4.2 out of 5 stars',\n",
       " '4.2 out of 5 stars',\n",
       " '4.1 out of 5 stars',\n",
       " '4.2 out of 5 stars',\n",
       " '3.9 out of 5 stars',\n",
       " '4.1 out of 5 stars',\n",
       " '4.1 out of 5 stars',\n",
       " '4.1 out of 5 stars',\n",
       " '3.7 out of 5 stars',\n",
       " '4.0 out of 5 stars',\n",
       " '3.9 out of 5 stars',\n",
       " '4.2 out of 5 stars',\n",
       " '4.2 out of 5 stars',\n",
       " '4.1 out of 5 stars',\n",
       " '4.0 out of 5 stars',\n",
       " '4.2 out of 5 stars',\n",
       " '4.3 out of 5 stars',\n",
       " '4.2 out of 5 stars',\n",
       " '3.5 out of 5 stars',\n",
       " '4.2 out of 5 stars',\n",
       " '4.2 out of 5 stars',\n",
       " '4 Stars & Up',\n",
       " '3 Stars & Up',\n",
       " '2 Stars & Up',\n",
       " '1 Star & Up']"
      ]
     },
     "execution_count": 119,
     "metadata": {},
     "output_type": "execute_result"
    }
   ],
   "source": [
    "rating = []\n",
    "\n",
    "for i in soup.find_all('span', class_='a-icon-alt'):\n",
    "    rating.append(i.text)\n",
    "    \n",
    "rating    "
   ]
  },
  {
   "cell_type": "code",
   "execution_count": 120,
   "metadata": {},
   "outputs": [],
   "source": [
    "import pandas as pd"
   ]
  },
  {
   "cell_type": "code",
   "execution_count": null,
   "metadata": {},
   "outputs": [],
   "source": []
  },
  {
   "cell_type": "markdown",
   "metadata": {},
   "source": [
    "# Question number 7"
   ]
  },
  {
   "cell_type": "code",
   "execution_count": 121,
   "metadata": {},
   "outputs": [],
   "source": [
    "import pandas as pd\n",
    "import numpy as np"
   ]
  },
  {
   "cell_type": "code",
   "execution_count": 122,
   "metadata": {},
   "outputs": [],
   "source": [
    "import requests"
   ]
  },
  {
   "cell_type": "code",
   "execution_count": 123,
   "metadata": {},
   "outputs": [],
   "source": [
    "url = 'https://www.nobroker.in/property/sale/bangalore/Electronic City?type=BHK4&searchParam=W3sibGF0IjoxMi44NDUyMTQ1LCJsb24iOjc3LjY2MDE2OTUsInBsYWNlSWQiOiJDaElKdy1GUWQ0cHNyanNSSGZkYXpnXzhYRW8iLCJwbGFjZU5hbWUiOiJFbGVjdHJvbmljIENpdHkifV0=&propertyAge=0&radius=2.0 '"
   ]
  },
  {
   "cell_type": "code",
   "execution_count": 124,
   "metadata": {},
   "outputs": [],
   "source": [
    "r = requests.get(url)"
   ]
  },
  {
   "cell_type": "code",
   "execution_count": 125,
   "metadata": {},
   "outputs": [],
   "source": [
    "htmlcontent = r.content"
   ]
  },
  {
   "cell_type": "code",
   "execution_count": 126,
   "metadata": {},
   "outputs": [],
   "source": [
    "from bs4 import BeautifulSoup\n",
    "soup = BeautifulSoup(htmlcontent,'html.parser')"
   ]
  },
  {
   "cell_type": "code",
   "execution_count": 127,
   "metadata": {},
   "outputs": [
    {
     "data": {
      "text/plain": [
       "['Home ',\n",
       " 'Bangalore',\n",
       " '4 BHK In Independent House  For Sale  In Hebbagodi',\n",
       " '4 BHK In Independent House  For Sale  In Hebbagodi',\n",
       " 'Independent House, Bangalore - Hosur Road, Near  National Public School',\n",
       " '4 BHK Apartment  For Sale  In Nisarga Residency In Electronic City Phase Ii',\n",
       " '4 BHK Flat  For Sale  In Nisarga Residency In Electronic City Phase Ii',\n",
       " 'Near Thali Resturant, Ananth Nagar, Electronic City Phase II, Bangalore, Karnataka, INDIA.',\n",
       " '4 BHK Flat  For Sale  In Sobha Silicon Oasis  In Hosa Road',\n",
       " '4 BHK Flat  For Sale  In Sobha Silicon Oasis  In Hosa Road',\n",
       " 'Sobha Silicon Oasis Naganathapura, Rayasandra Bengaluru, Karnataka 560100 India',\n",
       " '4 BHK For Sale  In Daadys Garden In Electronic City',\n",
       " '4 BHK For Sale  In Daadys Garden In Electronic City',\n",
       " 'Kammasandra Rd, Kammasandra, Electronic City, Bengaluru, Karnataka 560100, India',\n",
       " '4 BHK Flat  For Sale  In , Electronic City',\n",
       " '4 BHK Flat  For Sale  In , Electronic City',\n",
       " 'Standalone Building, 16th Cross Road Neeladri Nagar, near by brand factory',\n",
       " '4 BHK Flat  For Sale  In Hosa Road, Parappana Agrahara',\n",
       " '4 BHK Flat  For Sale  In Hosa Road, Parappana Agrahara',\n",
       " 'Standalone Building, 11th cross.anjanadri lay out',\n",
       " '4 BHK In Independent House  For Sale  In Electronic City',\n",
       " '4 BHK In Independent House  For Sale  In Electronic City',\n",
       " 'Independent House, surya nagar face 1',\n",
       " '4 BHK In Independent House  For Sale  In Electronic City',\n",
       " '4 BHK In Independent House  For Sale  In Electronic City',\n",
       " 'Independent House, Hosur Rd,Near Infosys Limited',\n",
       " '4 BHK Apartment  For Sale  In Gopalan Gardenia In Electronic City',\n",
       " '4 BHK Flat  For Sale  In Gopalan Gardenia In Electronic City',\n",
       " 'Gopalan gardenia, Veerasandra Main Rd, Veer Sandra, Electronic City, Bengaluru, Karnataka 560100, India',\n",
       " '4 BHK For Sale  In Gpr Royale In Gpr Royale',\n",
       " '4 BHK For Sale  In Gpr Royale In Gpr Royale',\n",
       " '6th Cross',\n",
       " 'Flats in  Vidyanagar  for sale',\n",
       " 'Flats in  LHR Layout  for sale',\n",
       " 'Flats in  Basapura  for sale',\n",
       " 'Flats in  Hebbagodi  for sale',\n",
       " 'Flats in  Electronic City  for sale',\n",
       " 'Flats in  Chikkathoguru Village  for sale']"
      ]
     },
     "execution_count": 127,
     "metadata": {},
     "output_type": "execute_result"
    }
   ],
   "source": [
    "house_title = []\n",
    "\n",
    "for i in soup.find_all('span' ,itemprop='name'):\n",
    "    house_title.append(i.text)\n",
    "    \n",
    "house_title   "
   ]
  },
  {
   "cell_type": "code",
   "execution_count": 128,
   "metadata": {},
   "outputs": [
    {
     "data": {
      "text/plain": [
       "['Independent House, Bangalore - Hosur Road, Near  National Public School',\n",
       " 'Nisarga Residency\\xa0 Near Thali Resturant, Ananth Nagar, Electronic City Phase II, Bangalore, Karnataka, INDIA.',\n",
       " 'Sobha Silicon Oasis Naganathapura, Rayasandra Bengaluru, Karnataka 560100 India',\n",
       " 'Daadys Garden\\xa0 Kammasandra Rd, Kammasandra, Electronic City, Bengaluru, Karnataka 560100, India',\n",
       " 'Standalone Building, 16th Cross Road Neeladri Nagar, near by brand factory',\n",
       " 'Standalone Building, 11th cross.anjanadri lay out',\n",
       " 'Independent House, surya nagar face 1',\n",
       " 'Independent House, Hosur Rd,Near Infosys Limited',\n",
       " 'Gopalan Gardenia\\xa0 Gopalan gardenia, Veerasandra Main Rd, Veer Sandra, Electronic City, Bengaluru, Karnataka 560100, India',\n",
       " '6th Cross']"
      ]
     },
     "execution_count": 128,
     "metadata": {},
     "output_type": "execute_result"
    }
   ],
   "source": [
    "location = []\n",
    "\n",
    "for i in soup.find_all('div' ,class_='nb__2CMjv'):\n",
    "    location.append(i.text)\n",
    "    \n",
    "location  "
   ]
  },
  {
   "cell_type": "code",
   "execution_count": 129,
   "metadata": {},
   "outputs": [
    {
     "data": {
      "text/plain": [
       "['1,800 sqft',\n",
       " '2,000 sqft',\n",
       " '1,879 sqft',\n",
       " '2,600 sqft',\n",
       " '2,000 sqft',\n",
       " '3,000 sqft',\n",
       " '3,000 sqft',\n",
       " '1,200 sqft',\n",
       " '2,650 sqft',\n",
       " '3,100 sqft']"
      ]
     },
     "execution_count": 129,
     "metadata": {},
     "output_type": "execute_result"
    }
   ],
   "source": [
    "area = []\n",
    "\n",
    "for i in soup.find_all('div',class_='nb__3oNyC'):\n",
    "    area.append(i.text)\n",
    "    \n",
    "area    "
   ]
  },
  {
   "cell_type": "code",
   "execution_count": 130,
   "metadata": {},
   "outputs": [
    {
     "data": {
      "text/plain": [
       "['1,800 sqft',\n",
       " '₹77,374/Month',\n",
       " '₹1.35 Crores',\n",
       " '2,000 sqft',\n",
       " '₹45,851/Month',\n",
       " '₹80 Lacs',\n",
       " '1,879 sqft',\n",
       " '₹9,170/Month',\n",
       " '₹16 Lacs',\n",
       " '2,600 sqft',\n",
       " '₹85,971/Month',\n",
       " '₹1.5 Crores',\n",
       " '2,000 sqft',\n",
       " '₹39,546/Month',\n",
       " '₹69 Lacs',\n",
       " '3,000 sqft',\n",
       " '₹71,643/Month',\n",
       " '₹1.25 Crores',\n",
       " '3,000 sqft',\n",
       " '₹1.43 Lacs/Month',\n",
       " '₹2.5 Crores',\n",
       " '1,200 sqft',\n",
       " '₹42,985/Month',\n",
       " '₹75 Lacs',\n",
       " '2,650 sqft',\n",
       " '₹68,777/Month',\n",
       " '₹1.2 Crores',\n",
       " '3,100 sqft',\n",
       " '₹85,971/Month',\n",
       " '₹1.5 Crores']"
      ]
     },
     "execution_count": 130,
     "metadata": {},
     "output_type": "execute_result"
    }
   ],
   "source": [
    "Emi = []\n",
    "\n",
    "for i in soup.find_all('div',class_='font-semi-bold heading-6'):\n",
    "    Emi.append(i.text)\n",
    "    \n",
    "Emi   "
   ]
  },
  {
   "cell_type": "code",
   "execution_count": 131,
   "metadata": {},
   "outputs": [
    {
     "data": {
      "text/plain": [
       "['Builtup',\n",
       " 'Estimated EMI',\n",
       " '₹7,500 per sq.ft.',\n",
       " 'Facing',\n",
       " 'Apartment Type',\n",
       " 'Bathrooms',\n",
       " 'Parking',\n",
       " 'Builtup',\n",
       " 'Estimated EMI',\n",
       " '₹4,000 per sq.ft.',\n",
       " 'Facing',\n",
       " 'Apartment Type',\n",
       " 'Bathrooms',\n",
       " 'Parking',\n",
       " 'Builtup',\n",
       " 'Estimated EMI',\n",
       " '₹852 per sq.ft.',\n",
       " 'Facing',\n",
       " 'Apartment Type',\n",
       " 'Bathrooms',\n",
       " 'Parking',\n",
       " 'Builtup',\n",
       " 'Estimated EMI',\n",
       " '₹5,769 per sq.ft.',\n",
       " 'Facing',\n",
       " 'Apartment Type',\n",
       " 'Bathrooms',\n",
       " 'Parking',\n",
       " 'Builtup',\n",
       " 'Estimated EMI',\n",
       " '₹3,450 per sq.ft.',\n",
       " 'Facing',\n",
       " 'Apartment Type',\n",
       " 'Bathrooms',\n",
       " 'Parking',\n",
       " 'Builtup',\n",
       " 'Estimated EMI',\n",
       " '₹4,167 per sq.ft.',\n",
       " 'Facing',\n",
       " 'Apartment Type',\n",
       " 'Bathrooms',\n",
       " 'Parking',\n",
       " 'Builtup',\n",
       " 'Estimated EMI',\n",
       " '₹8,333 per sq.ft.',\n",
       " 'Facing',\n",
       " 'Apartment Type',\n",
       " 'Bathrooms',\n",
       " 'Parking',\n",
       " 'Builtup',\n",
       " 'Estimated EMI',\n",
       " '₹6,250 per sq.ft.',\n",
       " 'Facing',\n",
       " 'Apartment Type',\n",
       " 'Bathrooms',\n",
       " 'Parking',\n",
       " 'Builtup',\n",
       " 'Estimated EMI',\n",
       " '₹4,528 per sq.ft.',\n",
       " 'Facing',\n",
       " 'Apartment Type',\n",
       " 'Bathrooms',\n",
       " 'Parking',\n",
       " 'Builtup',\n",
       " 'Estimated EMI',\n",
       " '₹4,839 per sq.ft.',\n",
       " 'Facing',\n",
       " 'Apartment Type',\n",
       " 'Bathrooms',\n",
       " 'Parking']"
      ]
     },
     "execution_count": 131,
     "metadata": {},
     "output_type": "execute_result"
    }
   ],
   "source": [
    "Price = []\n",
    "\n",
    "for i in soup.find_all('div',class_='heading-7'):\n",
    "    Price.append(i.text)\n",
    "    \n",
    "Price "
   ]
  },
  {
   "cell_type": "code",
   "execution_count": null,
   "metadata": {},
   "outputs": [],
   "source": []
  },
  {
   "cell_type": "markdown",
   "metadata": {},
   "source": [
    "# QUESTION NUMBER 8"
   ]
  },
  {
   "cell_type": "code",
   "execution_count": 132,
   "metadata": {},
   "outputs": [],
   "source": [
    "import requests"
   ]
  },
  {
   "cell_type": "code",
   "execution_count": 133,
   "metadata": {},
   "outputs": [],
   "source": [
    "from bs4 import BeautifulSoup"
   ]
  },
  {
   "cell_type": "code",
   "execution_count": 134,
   "metadata": {
    "scrolled": true
   },
   "outputs": [],
   "source": [
    "#!pip install html5lib"
   ]
  },
  {
   "cell_type": "code",
   "execution_count": 135,
   "metadata": {},
   "outputs": [],
   "source": [
    "from urllib.request import urlopen"
   ]
  },
  {
   "cell_type": "code",
   "execution_count": 136,
   "metadata": {},
   "outputs": [],
   "source": [
    "url= 'https://www.dineout.co.in/delhi-restaurants/buffet-special'"
   ]
  },
  {
   "cell_type": "code",
   "execution_count": 137,
   "metadata": {},
   "outputs": [],
   "source": [
    "r = requests.get(url)"
   ]
  },
  {
   "cell_type": "code",
   "execution_count": 138,
   "metadata": {},
   "outputs": [],
   "source": [
    "htmlcontent = r.content"
   ]
  },
  {
   "cell_type": "code",
   "execution_count": 139,
   "metadata": {},
   "outputs": [],
   "source": [
    "soup = BeautifulSoup(htmlcontent,'html.parser')"
   ]
  },
  {
   "cell_type": "code",
   "execution_count": 140,
   "metadata": {},
   "outputs": [
    {
     "data": {
      "text/plain": [
       "['Castle BarbequeConnaught Place, Central Delhi',\n",
       " 'Jungle Jamboree3CS Mall,Lajpat Nagar - 3, South Delhi',\n",
       " 'Castle BarbequePacific Mall,Tagore Garden, West Delhi',\n",
       " 'Cafe KnoshThe Leela Ambience Convention Hotel,Shahdara, East Delhi',\n",
       " 'The Barbeque CompanyGardens Galleria,Sector 38A, Noida',\n",
       " 'India GrillHilton Garden Inn,Saket, South Delhi',\n",
       " 'Delhi BarbequeTaurus Sarovar Portico,Mahipalpur, South Delhi',\n",
       " 'The Monarch - Bar Be Que VillageIndirapuram Habitat Centre,Indirapuram, Ghaziabad',\n",
       " 'World CafeVibe by The Lalit Traveller,Sector 35, Faridabad',\n",
       " 'Indian Grill RoomSuncity Business Tower,Golf Course Road, Gurgaon',\n",
       " 'Mad 4 Bar B QueSector 29, Faridabad',\n",
       " 'Barbeque 29NIT, Faridabad',\n",
       " 'GlasshouseDoubleTree By Hilton Gurugram Baani Square,Sector 50, Gurgaon']"
      ]
     },
     "execution_count": 140,
     "metadata": {},
     "output_type": "execute_result"
    }
   ],
   "source": [
    "restaurant = []\n",
    "\n",
    "for i in soup.find_all('div' ,class_='restnt-info cursor'):\n",
    "    restaurant.append(i.text)\n",
    "    \n",
    "restaurant    "
   ]
  },
  {
   "cell_type": "code",
   "execution_count": 141,
   "metadata": {},
   "outputs": [
    {
     "data": {
      "text/plain": [
       "['₹ 2,000 for 2 (approx) | Chinese, North Indian',\n",
       " '₹ 1,400 for 2 (approx) | North Indian, Barbecue, Italian, Asian',\n",
       " '₹ 2,000 for 2 (approx) | North Indian, Chinese',\n",
       " '₹ 3,000 for 2 (approx) | Multi-Cuisine, North Indian, Italian, Continental, Mediterranean',\n",
       " '₹ 1,800 for 2 (approx) | Barbecue, Chinese, Mughlai, North Indian',\n",
       " '₹ 2,400 for 2 (approx) | North Indian, Italian, Oriental ',\n",
       " '₹ 1,500 for 2 (approx) | Barbecue, North Indian',\n",
       " '₹ 1,600 for 2 (approx) | North Indian, Chinese, Fast Food',\n",
       " '₹ 900 for 2 (approx) | North Indian, Chinese, Continental',\n",
       " '₹ 2,200 for 2 (approx) | North Indian, Mughlai, Barbecue',\n",
       " '₹ 800 for 2 (approx) | North Indian, Mughlai',\n",
       " '₹ 1,500 for 2 (approx) | Barbecue, Chinese, North Indian',\n",
       " '₹ 3,400 for 2 (approx) | Multi-Cuisine, Asian, European, Italian, North Indian']"
      ]
     },
     "execution_count": 141,
     "metadata": {},
     "output_type": "execute_result"
    }
   ],
   "source": [
    "cusine = []\n",
    "\n",
    "for i in soup.find_all('span' ,class_='double-line-ellipsis'):\n",
    "    cusine.append(i.text)\n",
    "    \n",
    "cusine    "
   ]
  },
  {
   "cell_type": "code",
   "execution_count": 142,
   "metadata": {},
   "outputs": [
    {
     "data": {
      "text/plain": [
       "['Connaught Place, Central Delhi',\n",
       " '3CS Mall,Lajpat Nagar - 3, South Delhi',\n",
       " 'Pacific Mall,Tagore Garden, West Delhi',\n",
       " 'The Leela Ambience Convention Hotel,Shahdara, East Delhi',\n",
       " 'Gardens Galleria,Sector 38A, Noida',\n",
       " 'Hilton Garden Inn,Saket, South Delhi',\n",
       " 'Taurus Sarovar Portico,Mahipalpur, South Delhi',\n",
       " 'Indirapuram Habitat Centre,Indirapuram, Ghaziabad',\n",
       " 'Vibe by The Lalit Traveller,Sector 35, Faridabad',\n",
       " 'Suncity Business Tower,Golf Course Road, Gurgaon',\n",
       " 'Sector 29, Faridabad',\n",
       " 'NIT, Faridabad',\n",
       " 'DoubleTree By Hilton Gurugram Baani Square,Sector 50, Gurgaon']"
      ]
     },
     "execution_count": 142,
     "metadata": {},
     "output_type": "execute_result"
    }
   ],
   "source": [
    "location = []\n",
    "\n",
    "for i in soup.find_all('div' ,class_='restnt-loc ellipsis'):\n",
    "    location.append(i.text)\n",
    "    \n",
    "location    "
   ]
  },
  {
   "cell_type": "code",
   "execution_count": 143,
   "metadata": {},
   "outputs": [
    {
     "data": {
      "text/plain": [
       "['3.4']"
      ]
     },
     "execution_count": 143,
     "metadata": {},
     "output_type": "execute_result"
    }
   ],
   "source": [
    "rating = []\n",
    "\n",
    "for i in soup.find_all('div' ,class_='restnt-rating rating-3'):\n",
    "    rating.append(i.text)\n",
    "    \n",
    "rating    "
   ]
  },
  {
   "cell_type": "code",
   "execution_count": 144,
   "metadata": {},
   "outputs": [
    {
     "data": {
      "text/plain": [
       "['https://im1.dineout.co.in/images/uploads/restaurant/sharpen/8/k/b/p86792-16062953735fbe1f4d3fb7e.jpg?tr=tr:n-medium',\n",
       " 'https://im1.dineout.co.in/images/uploads/restaurant/sharpen/5/a/k/p59633-16046474755fa4fa33c0e92.jpg?tr=tr:n-medium',\n",
       " 'https://im1.dineout.co.in/images/uploads/restaurant/sharpen/3/j/o/p38113-15959192065f1fcb666130c.jpg?tr=tr:n-medium',\n",
       " 'https://im1.dineout.co.in/images/uploads/restaurant/sharpen/4/j/v/p406-163401663361651d79326d0.jpg?tr=tr:n-medium',\n",
       " 'https://im1.dineout.co.in/images/uploads/restaurant/sharpen/7/q/d/p79307-16051787075fad15532bd7c.jpg?tr=tr:n-medium',\n",
       " 'https://im1.dineout.co.in/images/uploads/restaurant/sharpen/2/v/t/p2687-1482477169585cce712b90f.jpg?tr=tr:n-medium',\n",
       " 'https://im1.dineout.co.in/images/uploads/restaurant/sharpen/5/v/f/p52501-16006856545f68865616659.jpg?tr=tr:n-medium',\n",
       " 'https://im1.dineout.co.in/images/uploads/restaurant/sharpen/3/n/o/p34822-15599107305cfa594a13c24.jpg?tr=tr:n-medium',\n",
       " 'https://im1.dineout.co.in/images/uploads/restaurant/sharpen/1/p/y/p12366-1466935020576fa6ecdc359.jpg?tr=tr:n-medium',\n",
       " 'https://im1.dineout.co.in/images/uploads/restaurant/sharpen/5/y/y/p549-15143767525a438e30b3e19.jpg?tr=tr:n-medium',\n",
       " 'https://im1.dineout.co.in/images/uploads/restaurant/sharpen/4/j/e/p43488-15295778165b2b8158ceeef.jpg?tr=tr:n-medium',\n",
       " 'https://im1.dineout.co.in/images/uploads/restaurant/sharpen/5/w/r/p58842-15624171585d209806d9143.jpg?tr=tr:n-medium',\n",
       " 'https://im1.dineout.co.in/images/uploads/restaurant/sharpen/9/m/f/p9875-16057921085fb6716cc44f8.jpg?tr=tr:n-medium']"
      ]
     },
     "execution_count": 144,
     "metadata": {},
     "output_type": "execute_result"
    }
   ],
   "source": [
    "img = []\n",
    "\n",
    "for i in soup.find_all('img' ,class_='no-img'):\n",
    "    img.append(i['data-src'])\n",
    "    \n",
    "img    "
   ]
  },
  {
   "cell_type": "code",
   "execution_count": 145,
   "metadata": {},
   "outputs": [],
   "source": [
    "import pandas as pd"
   ]
  },
  {
   "cell_type": "code",
   "execution_count": 146,
   "metadata": {},
   "outputs": [
    {
     "name": "stdout",
     "output_type": "stream",
     "text": [
      "13 13 13 1 13\n"
     ]
    }
   ],
   "source": [
    "print(len(restaurant),len(cusine),len(location),len(rating),len(img))"
   ]
  },
  {
   "cell_type": "code",
   "execution_count": 147,
   "metadata": {},
   "outputs": [],
   "source": [
    "df = pd.DataFrame({'Restaurant':restaurant,'Cusine':cusine,'Location':location,'Img_Url':img})"
   ]
  },
  {
   "cell_type": "code",
   "execution_count": 148,
   "metadata": {},
   "outputs": [
    {
     "data": {
      "text/html": [
       "<div>\n",
       "<style scoped>\n",
       "    .dataframe tbody tr th:only-of-type {\n",
       "        vertical-align: middle;\n",
       "    }\n",
       "\n",
       "    .dataframe tbody tr th {\n",
       "        vertical-align: top;\n",
       "    }\n",
       "\n",
       "    .dataframe thead th {\n",
       "        text-align: right;\n",
       "    }\n",
       "</style>\n",
       "<table border=\"1\" class=\"dataframe\">\n",
       "  <thead>\n",
       "    <tr style=\"text-align: right;\">\n",
       "      <th></th>\n",
       "      <th>Restaurant</th>\n",
       "      <th>Cusine</th>\n",
       "      <th>Location</th>\n",
       "      <th>Img_Url</th>\n",
       "    </tr>\n",
       "  </thead>\n",
       "  <tbody>\n",
       "    <tr>\n",
       "      <th>0</th>\n",
       "      <td>Castle BarbequeConnaught Place, Central Delhi</td>\n",
       "      <td>₹ 2,000 for 2 (approx) | Chinese, North Indian</td>\n",
       "      <td>Connaught Place, Central Delhi</td>\n",
       "      <td>https://im1.dineout.co.in/images/uploads/resta...</td>\n",
       "    </tr>\n",
       "    <tr>\n",
       "      <th>1</th>\n",
       "      <td>Jungle Jamboree3CS Mall,Lajpat Nagar - 3, Sout...</td>\n",
       "      <td>₹ 1,400 for 2 (approx) | North Indian, Barbecu...</td>\n",
       "      <td>3CS Mall,Lajpat Nagar - 3, South Delhi</td>\n",
       "      <td>https://im1.dineout.co.in/images/uploads/resta...</td>\n",
       "    </tr>\n",
       "    <tr>\n",
       "      <th>2</th>\n",
       "      <td>Castle BarbequePacific Mall,Tagore Garden, Wes...</td>\n",
       "      <td>₹ 2,000 for 2 (approx) | North Indian, Chinese</td>\n",
       "      <td>Pacific Mall,Tagore Garden, West Delhi</td>\n",
       "      <td>https://im1.dineout.co.in/images/uploads/resta...</td>\n",
       "    </tr>\n",
       "    <tr>\n",
       "      <th>3</th>\n",
       "      <td>Cafe KnoshThe Leela Ambience Convention Hotel,...</td>\n",
       "      <td>₹ 3,000 for 2 (approx) | Multi-Cuisine, North ...</td>\n",
       "      <td>The Leela Ambience Convention Hotel,Shahdara, ...</td>\n",
       "      <td>https://im1.dineout.co.in/images/uploads/resta...</td>\n",
       "    </tr>\n",
       "    <tr>\n",
       "      <th>4</th>\n",
       "      <td>The Barbeque CompanyGardens Galleria,Sector 38...</td>\n",
       "      <td>₹ 1,800 for 2 (approx) | Barbecue, Chinese, Mu...</td>\n",
       "      <td>Gardens Galleria,Sector 38A, Noida</td>\n",
       "      <td>https://im1.dineout.co.in/images/uploads/resta...</td>\n",
       "    </tr>\n",
       "    <tr>\n",
       "      <th>5</th>\n",
       "      <td>India GrillHilton Garden Inn,Saket, South Delhi</td>\n",
       "      <td>₹ 2,400 for 2 (approx) | North Indian, Italian...</td>\n",
       "      <td>Hilton Garden Inn,Saket, South Delhi</td>\n",
       "      <td>https://im1.dineout.co.in/images/uploads/resta...</td>\n",
       "    </tr>\n",
       "    <tr>\n",
       "      <th>6</th>\n",
       "      <td>Delhi BarbequeTaurus Sarovar Portico,Mahipalpu...</td>\n",
       "      <td>₹ 1,500 for 2 (approx) | Barbecue, North Indian</td>\n",
       "      <td>Taurus Sarovar Portico,Mahipalpur, South Delhi</td>\n",
       "      <td>https://im1.dineout.co.in/images/uploads/resta...</td>\n",
       "    </tr>\n",
       "    <tr>\n",
       "      <th>7</th>\n",
       "      <td>The Monarch - Bar Be Que VillageIndirapuram Ha...</td>\n",
       "      <td>₹ 1,600 for 2 (approx) | North Indian, Chinese...</td>\n",
       "      <td>Indirapuram Habitat Centre,Indirapuram, Ghaziabad</td>\n",
       "      <td>https://im1.dineout.co.in/images/uploads/resta...</td>\n",
       "    </tr>\n",
       "    <tr>\n",
       "      <th>8</th>\n",
       "      <td>World CafeVibe by The Lalit Traveller,Sector 3...</td>\n",
       "      <td>₹ 900 for 2 (approx) | North Indian, Chinese, ...</td>\n",
       "      <td>Vibe by The Lalit Traveller,Sector 35, Faridabad</td>\n",
       "      <td>https://im1.dineout.co.in/images/uploads/resta...</td>\n",
       "    </tr>\n",
       "    <tr>\n",
       "      <th>9</th>\n",
       "      <td>Indian Grill RoomSuncity Business Tower,Golf C...</td>\n",
       "      <td>₹ 2,200 for 2 (approx) | North Indian, Mughlai...</td>\n",
       "      <td>Suncity Business Tower,Golf Course Road, Gurgaon</td>\n",
       "      <td>https://im1.dineout.co.in/images/uploads/resta...</td>\n",
       "    </tr>\n",
       "    <tr>\n",
       "      <th>10</th>\n",
       "      <td>Mad 4 Bar B QueSector 29, Faridabad</td>\n",
       "      <td>₹ 800 for 2 (approx) | North Indian, Mughlai</td>\n",
       "      <td>Sector 29, Faridabad</td>\n",
       "      <td>https://im1.dineout.co.in/images/uploads/resta...</td>\n",
       "    </tr>\n",
       "    <tr>\n",
       "      <th>11</th>\n",
       "      <td>Barbeque 29NIT, Faridabad</td>\n",
       "      <td>₹ 1,500 for 2 (approx) | Barbecue, Chinese, No...</td>\n",
       "      <td>NIT, Faridabad</td>\n",
       "      <td>https://im1.dineout.co.in/images/uploads/resta...</td>\n",
       "    </tr>\n",
       "    <tr>\n",
       "      <th>12</th>\n",
       "      <td>GlasshouseDoubleTree By Hilton Gurugram Baani ...</td>\n",
       "      <td>₹ 3,400 for 2 (approx) | Multi-Cuisine, Asian,...</td>\n",
       "      <td>DoubleTree By Hilton Gurugram Baani Square,Sec...</td>\n",
       "      <td>https://im1.dineout.co.in/images/uploads/resta...</td>\n",
       "    </tr>\n",
       "  </tbody>\n",
       "</table>\n",
       "</div>"
      ],
      "text/plain": [
       "                                           Restaurant  \\\n",
       "0       Castle BarbequeConnaught Place, Central Delhi   \n",
       "1   Jungle Jamboree3CS Mall,Lajpat Nagar - 3, Sout...   \n",
       "2   Castle BarbequePacific Mall,Tagore Garden, Wes...   \n",
       "3   Cafe KnoshThe Leela Ambience Convention Hotel,...   \n",
       "4   The Barbeque CompanyGardens Galleria,Sector 38...   \n",
       "5     India GrillHilton Garden Inn,Saket, South Delhi   \n",
       "6   Delhi BarbequeTaurus Sarovar Portico,Mahipalpu...   \n",
       "7   The Monarch - Bar Be Que VillageIndirapuram Ha...   \n",
       "8   World CafeVibe by The Lalit Traveller,Sector 3...   \n",
       "9   Indian Grill RoomSuncity Business Tower,Golf C...   \n",
       "10                Mad 4 Bar B QueSector 29, Faridabad   \n",
       "11                          Barbeque 29NIT, Faridabad   \n",
       "12  GlasshouseDoubleTree By Hilton Gurugram Baani ...   \n",
       "\n",
       "                                               Cusine  \\\n",
       "0      ₹ 2,000 for 2 (approx) | Chinese, North Indian   \n",
       "1   ₹ 1,400 for 2 (approx) | North Indian, Barbecu...   \n",
       "2      ₹ 2,000 for 2 (approx) | North Indian, Chinese   \n",
       "3   ₹ 3,000 for 2 (approx) | Multi-Cuisine, North ...   \n",
       "4   ₹ 1,800 for 2 (approx) | Barbecue, Chinese, Mu...   \n",
       "5   ₹ 2,400 for 2 (approx) | North Indian, Italian...   \n",
       "6     ₹ 1,500 for 2 (approx) | Barbecue, North Indian   \n",
       "7   ₹ 1,600 for 2 (approx) | North Indian, Chinese...   \n",
       "8   ₹ 900 for 2 (approx) | North Indian, Chinese, ...   \n",
       "9   ₹ 2,200 for 2 (approx) | North Indian, Mughlai...   \n",
       "10       ₹ 800 for 2 (approx) | North Indian, Mughlai   \n",
       "11  ₹ 1,500 for 2 (approx) | Barbecue, Chinese, No...   \n",
       "12  ₹ 3,400 for 2 (approx) | Multi-Cuisine, Asian,...   \n",
       "\n",
       "                                             Location  \\\n",
       "0                      Connaught Place, Central Delhi   \n",
       "1              3CS Mall,Lajpat Nagar - 3, South Delhi   \n",
       "2              Pacific Mall,Tagore Garden, West Delhi   \n",
       "3   The Leela Ambience Convention Hotel,Shahdara, ...   \n",
       "4                  Gardens Galleria,Sector 38A, Noida   \n",
       "5                Hilton Garden Inn,Saket, South Delhi   \n",
       "6      Taurus Sarovar Portico,Mahipalpur, South Delhi   \n",
       "7   Indirapuram Habitat Centre,Indirapuram, Ghaziabad   \n",
       "8    Vibe by The Lalit Traveller,Sector 35, Faridabad   \n",
       "9    Suncity Business Tower,Golf Course Road, Gurgaon   \n",
       "10                               Sector 29, Faridabad   \n",
       "11                                     NIT, Faridabad   \n",
       "12  DoubleTree By Hilton Gurugram Baani Square,Sec...   \n",
       "\n",
       "                                              Img_Url  \n",
       "0   https://im1.dineout.co.in/images/uploads/resta...  \n",
       "1   https://im1.dineout.co.in/images/uploads/resta...  \n",
       "2   https://im1.dineout.co.in/images/uploads/resta...  \n",
       "3   https://im1.dineout.co.in/images/uploads/resta...  \n",
       "4   https://im1.dineout.co.in/images/uploads/resta...  \n",
       "5   https://im1.dineout.co.in/images/uploads/resta...  \n",
       "6   https://im1.dineout.co.in/images/uploads/resta...  \n",
       "7   https://im1.dineout.co.in/images/uploads/resta...  \n",
       "8   https://im1.dineout.co.in/images/uploads/resta...  \n",
       "9   https://im1.dineout.co.in/images/uploads/resta...  \n",
       "10  https://im1.dineout.co.in/images/uploads/resta...  \n",
       "11  https://im1.dineout.co.in/images/uploads/resta...  \n",
       "12  https://im1.dineout.co.in/images/uploads/resta...  "
      ]
     },
     "execution_count": 148,
     "metadata": {},
     "output_type": "execute_result"
    }
   ],
   "source": [
    "df"
   ]
  },
  {
   "cell_type": "markdown",
   "metadata": {},
   "source": [
    "# QUESTION NUMBER 9"
   ]
  },
  {
   "cell_type": "code",
   "execution_count": 149,
   "metadata": {},
   "outputs": [],
   "source": [
    "import requests"
   ]
  },
  {
   "cell_type": "code",
   "execution_count": 150,
   "metadata": {},
   "outputs": [],
   "source": [
    "url = 'https://en.tutiempo.net/delhi.html?data=last-24-hours'"
   ]
  },
  {
   "cell_type": "code",
   "execution_count": 151,
   "metadata": {},
   "outputs": [],
   "source": [
    "r = requests.get(url)"
   ]
  },
  {
   "cell_type": "code",
   "execution_count": 152,
   "metadata": {},
   "outputs": [],
   "source": [
    "htmlcontent = r.content"
   ]
  },
  {
   "cell_type": "code",
   "execution_count": 153,
   "metadata": {},
   "outputs": [],
   "source": [
    "from bs4 import BeautifulSoup"
   ]
  },
  {
   "cell_type": "code",
   "execution_count": 154,
   "metadata": {},
   "outputs": [],
   "source": [
    "soup = BeautifulSoup(htmlcontent,'html.parser')"
   ]
  },
  {
   "cell_type": "code",
   "execution_count": 155,
   "metadata": {},
   "outputs": [
    {
     "data": {
      "text/plain": [
       "[]"
      ]
     },
     "execution_count": 155,
     "metadata": {},
     "output_type": "execute_result"
    }
   ],
   "source": [
    "hour = []\n",
    "\n",
    "for i in soup.find_all('td' ,class_='15:30'):\n",
    "    hour.append(i.text)\n",
    "    \n",
    "hour"
   ]
  },
  {
   "cell_type": "code",
   "execution_count": 156,
   "metadata": {},
   "outputs": [
    {
     "data": {
      "text/plain": [
       "['26°C',\n",
       " '26°C',\n",
       " '27°C',\n",
       " '28°C',\n",
       " '28°C',\n",
       " '27°C',\n",
       " '27°C',\n",
       " '27°C',\n",
       " '27°C',\n",
       " '26°C',\n",
       " '26°C',\n",
       " '24°C',\n",
       " '23°C',\n",
       " '23°C',\n",
       " '22°C',\n",
       " '21°C',\n",
       " '20°C',\n",
       " '19°C',\n",
       " '18°C',\n",
       " '18°C',\n",
       " '18°C',\n",
       " '17°C',\n",
       " '18°C',\n",
       " '18°C',\n",
       " '18°C',\n",
       " '18°C',\n",
       " '19°C',\n",
       " '19°C',\n",
       " '19°C',\n",
       " '19°C',\n",
       " '19°C',\n",
       " '19°C',\n",
       " '20°C',\n",
       " '20°C',\n",
       " '20°C',\n",
       " '21°C',\n",
       " '21°C',\n",
       " '21°C',\n",
       " '21°C',\n",
       " '22°C',\n",
       " '22°C',\n",
       " '22°C',\n",
       " '23°C',\n",
       " '24°C',\n",
       " '25°C',\n",
       " '25°C',\n",
       " '25°C',\n",
       " '25°C',\n",
       " '26°C']"
      ]
     },
     "execution_count": 156,
     "metadata": {},
     "output_type": "execute_result"
    }
   ],
   "source": [
    "temperature = []\n",
    "\n",
    "for i in soup.find_all('td' ,class_='t Temp'):\n",
    "    temperature.append(i.text)\n",
    "    \n",
    "temperature    "
   ]
  },
  {
   "cell_type": "code",
   "execution_count": 157,
   "metadata": {},
   "outputs": [
    {
     "data": {
      "text/plain": [
       "['7 km/h',\n",
       " '9 km/h',\n",
       " '11 km/h',\n",
       " '13 km/h',\n",
       " '11 km/h',\n",
       " '13 km/h',\n",
       " '17 km/h',\n",
       " '15 km/h',\n",
       " '15 km/h',\n",
       " '15 km/h',\n",
       " '11 km/h',\n",
       " '13 km/h',\n",
       " '9 km/h',\n",
       " '9 km/h',\n",
       " '7 km/h',\n",
       " '7 km/h',\n",
       " '7 km/h',\n",
       " '9 km/h',\n",
       " '9 km/h',\n",
       " '6 km/h',\n",
       " 'Calm',\n",
       " 'Calm',\n",
       " 'Calm',\n",
       " 'Calm',\n",
       " 'Calm',\n",
       " 'Calm',\n",
       " 'Calm',\n",
       " 'Calm',\n",
       " 'Calm',\n",
       " 'Calm',\n",
       " 'Calm',\n",
       " 'Calm',\n",
       " 'Calm',\n",
       " 'Calm',\n",
       " 'Calm',\n",
       " 'Calm',\n",
       " 'Calm',\n",
       " 'Calm',\n",
       " 'Calm',\n",
       " 'Calm',\n",
       " 'Calm',\n",
       " 'Calm',\n",
       " 'Calm',\n",
       " '6 km/h',\n",
       " '6 km/h',\n",
       " '6 km/h',\n",
       " '6 km/h',\n",
       " '6 km/h',\n",
       " '9 km/h']"
      ]
     },
     "execution_count": 157,
     "metadata": {},
     "output_type": "execute_result"
    }
   ],
   "source": [
    "wind = []\n",
    "\n",
    "for i in soup.find_all('td' ,class_='wind'):\n",
    "    wind.append(i.text)\n",
    "\n",
    "wind    "
   ]
  },
  {
   "cell_type": "code",
   "execution_count": 158,
   "metadata": {},
   "outputs": [
    {
     "data": {
      "text/plain": [
       "[]"
      ]
     },
     "execution_count": 158,
     "metadata": {},
     "output_type": "execute_result"
    }
   ],
   "source": [
    "weather = []\n",
    "\n",
    "for i in soup.find_all('span' ,class_='thhip ico i0530 u304'):\n",
    "    weather.append(i.text)\n",
    "    \n",
    "weather    "
   ]
  },
  {
   "cell_type": "code",
   "execution_count": 159,
   "metadata": {},
   "outputs": [
    {
     "data": {
      "text/plain": [
       "['39%',\n",
       " '42%',\n",
       " '39%',\n",
       " '40%',\n",
       " '42%',\n",
       " '42%',\n",
       " '48%',\n",
       " '48%',\n",
       " '51%',\n",
       " '54%',\n",
       " '54%',\n",
       " '61%',\n",
       " '69%',\n",
       " '69%',\n",
       " '78%',\n",
       " '78%',\n",
       " '83%',\n",
       " '83%',\n",
       " '88%',\n",
       " '88%',\n",
       " '88%',\n",
       " '94%',\n",
       " '88%',\n",
       " '88%',\n",
       " '88%',\n",
       " '88%',\n",
       " '88%',\n",
       " '88%',\n",
       " '88%',\n",
       " '88%',\n",
       " '88%',\n",
       " '88%',\n",
       " '83%',\n",
       " '83%',\n",
       " '83%',\n",
       " '73%',\n",
       " '73%',\n",
       " '73%',\n",
       " '73%',\n",
       " '64%',\n",
       " '64%',\n",
       " '64%',\n",
       " '61%',\n",
       " '54%',\n",
       " '47%',\n",
       " '47%',\n",
       " '47%',\n",
       " '44%',\n",
       " '42%']"
      ]
     },
     "execution_count": 159,
     "metadata": {},
     "output_type": "execute_result"
    }
   ],
   "source": [
    "humidity = []\n",
    "\n",
    "for i in soup.find_all('td' ,class_=\"hr\"):\n",
    "    humidity.append(i.text)\n",
    "    \n",
    "humidity    "
   ]
  },
  {
   "cell_type": "code",
   "execution_count": 160,
   "metadata": {},
   "outputs": [
    {
     "data": {
      "text/plain": [
       "['1014 hPa',\n",
       " '1014 hPa',\n",
       " '1014 hPa',\n",
       " '1014 hPa',\n",
       " '1014 hPa',\n",
       " '1015 hPa',\n",
       " '1015 hPa',\n",
       " '1016 hPa',\n",
       " '1016 hPa',\n",
       " '1017 hPa',\n",
       " '1017 hPa',\n",
       " '1018 hPa',\n",
       " '1018 hPa',\n",
       " '1019 hPa',\n",
       " '1019 hPa',\n",
       " '1018 hPa',\n",
       " '1018 hPa',\n",
       " '1018 hPa',\n",
       " '1018 hPa',\n",
       " '1017 hPa',\n",
       " '1017 hPa',\n",
       " '1016 hPa',\n",
       " '1016 hPa',\n",
       " '1016 hPa',\n",
       " '1015 hPa',\n",
       " '1015 hPa',\n",
       " '1015 hPa',\n",
       " '1015 hPa',\n",
       " '1015 hPa',\n",
       " '1015 hPa',\n",
       " '1015 hPa',\n",
       " '1015 hPa',\n",
       " '1015 hPa',\n",
       " '1015 hPa',\n",
       " '1015 hPa',\n",
       " '1015 hPa',\n",
       " '1015 hPa',\n",
       " '1015 hPa',\n",
       " '1015 hPa',\n",
       " '1015 hPa',\n",
       " '1015 hPa',\n",
       " '1015 hPa',\n",
       " '1015 hPa',\n",
       " '1014 hPa',\n",
       " '1014 hPa',\n",
       " '1014 hPa',\n",
       " '1013 hPa',\n",
       " '1013 hPa',\n",
       " '1013 hPa']"
      ]
     },
     "execution_count": 160,
     "metadata": {},
     "output_type": "execute_result"
    }
   ],
   "source": [
    "pressure = []\n",
    "\n",
    "for i in soup.find_all('td' ,class_='prob'):\n",
    "    pressure.append(i.text)\n",
    "    \n",
    "pressure    "
   ]
  },
  {
   "cell_type": "markdown",
   "metadata": {},
   "source": [
    "# QUESTION NUMBER 10"
   ]
  },
  {
   "cell_type": "code",
   "execution_count": 161,
   "metadata": {},
   "outputs": [],
   "source": [
    "import requests"
   ]
  },
  {
   "cell_type": "code",
   "execution_count": 162,
   "metadata": {},
   "outputs": [],
   "source": [
    "url = 'https://www.puredestinations.co.uk/top-10-famous-monuments-to-visit-in-india/'"
   ]
  },
  {
   "cell_type": "code",
   "execution_count": 163,
   "metadata": {},
   "outputs": [],
   "source": [
    "r = requests.get(url)"
   ]
  },
  {
   "cell_type": "code",
   "execution_count": 164,
   "metadata": {},
   "outputs": [],
   "source": [
    "htmlcontent = r.content"
   ]
  },
  {
   "cell_type": "code",
   "execution_count": 165,
   "metadata": {},
   "outputs": [],
   "source": [
    "from bs4 import BeautifulSoup"
   ]
  },
  {
   "cell_type": "code",
   "execution_count": 166,
   "metadata": {},
   "outputs": [],
   "source": [
    "bs = BeautifulSoup(htmlcontent,'html.parser')"
   ]
  },
  {
   "cell_type": "code",
   "execution_count": 167,
   "metadata": {},
   "outputs": [],
   "source": [
    "data = bs.find_all('div', class_=\"blog--single__content column--3-4 u-spacing-third\")\n",
    "\n",
    "temp=[]\n",
    "\n",
    "for i in data:\n",
    "\n",
    "    for j in i.find_all('p'):\n",
    "\n",
    "        t = j.text.replace('\\n', '') # only extracting data\n",
    "\n",
    "        temp.append(t)\n",
    "\n",
    "name=[]\n",
    "\n",
    "desc=[]\n",
    "\n",
    "\n",
    "for i in range(1,30,3):\n",
    "\n",
    "    name.append(temp[i])\n",
    "\n",
    "for i in range(2,30,3):\n",
    "\n",
    "    desc.append(temp[i])\n",
    "    \n",
    "    \n",
    "temp = [] # scraping all image url's\n",
    "\n",
    "for i in soup.find_all('img'):\n",
    "\n",
    "    temp.append(i['src'])\n",
    "\n",
    "img_url=[]\n",
    "\n",
    "for i in range(6,26,2):\n",
    "\n",
    "    img_url.append(temp[i])\n",
    "   \n",
    "     "
   ]
  },
  {
   "cell_type": "code",
   "execution_count": 168,
   "metadata": {},
   "outputs": [
    {
     "data": {
      "text/plain": [
       "['Taj Mahal, Agra',\n",
       " 'Golden Temple (Harmandir Sahib), Amritsar ',\n",
       " 'Meenakshi Temple, Madurai',\n",
       " 'Mysore Palace, Mysore',\n",
       " 'Gateway of India, Mumbai',\n",
       " 'Red Fort, New Delhi',\n",
       " 'Hawa Mahal, Jaipur',\n",
       " 'Qutub Minar, New Delhi',\n",
       " 'Sanchi Stupa, Sanchi',\n",
       " 'Charminar, Hyderabad']"
      ]
     },
     "execution_count": 168,
     "metadata": {},
     "output_type": "execute_result"
    }
   ],
   "source": [
    "name"
   ]
  },
  {
   "cell_type": "code",
   "execution_count": 169,
   "metadata": {
    "scrolled": true
   },
   "outputs": [
    {
     "data": {
      "text/plain": [
       "['Enlisted in the Seven Wonders of the World, The Taj Mahal is one of the most beautiful and famous buildings located in the city of Agra. This white marble monument was built by a Mughal Emperor called Shahajahan in memory of his beloved wife. Due to its amazing architecture and the history behind it, this world heritage site has become very popular to visit by all travellers and romantics from all over the world.',\n",
       " 'The holiest shrine and pilgrimage place located in Amritsar is The Golden Temple known as the Harmandir Sahib. This is the most famous and sacred Sikh Gurdwara in Punjab, India, adorned with rich history and gold gilded exterior. If you are interested in culture and history, be sure to visit this popular attraction in India.',\n",
       " 'Meenakshi Temple is situated on the Southern banks of Vaigai River in the temple city Madurai. This temple is dedicated to Parvati and her consort, Shiva and is visited by most Hindu and Tamil devotees and architectural lovers throughout the world. It is believed that this shrine houses 33,000 sculptures in its 14 gopurams. It’s no doubt one place to visit if you are impressed with art and cultural history.',\n",
       " 'The Mysore Palace is a famous historical monument in the city of Mysore in Karnataka. Commonly described as the City of Palaces, this is the most famous tourist attraction in India after the Taj Mahal. It is a sight not be missed with its spacious halls, lovely art paintings and Indo-Saracenic style architecture. Best time to visit is at night due to the astonishing illuminated lights covering the whole monument.',\n",
       " 'Even though Mumbai is famous for its Bollywood actors and movies, the most famous attraction in Mumbai is The Gateway of India. It is a popular gathering spot for locals, travellers, street vendors and photographers and is known as the Taj Mahal of Mumbai. The majestic monument was built to commemorate the visit of King George V and Queen Mary to Bombay. With so much fun and excitement this place is not to be missed with family or on your tour of India.',\n",
       " 'Declared as the UNESCO’s World Heritage Site, Red Fort is located in the centre of beautiful Delhi. If you love learning about history and culture then this famous historic monument is a must see place to visit. Built by the Mughal Emperor, Shah Jahan in 1648, and housing a number of museums, its walls are built of red sandstone. The best time to visit is on Independence Day where the Prime Minister of India hoists the national flag at the Red Fort. End the day by heading to an Indian restaurant and enjoy the varieties of wonderful cuisines.',\n",
       " 'Explore a blend of beauty and Rajasthan culture, the Hawa Mahal also known as Palace of Winds is situated in the capital of Rajasthan, Jaipur. Built from red and pink sandstones by the Maharaja Sawi Pratap Singh in 1799, this unique five storey structure is one of the most prominent tourist attractions in the Jaipur city.',\n",
       " 'Discover one of the tallest towers in the world and the second tallest Minar of India standing elegantly in the Capital city, New Delhi. Standing at 72.5 metres and consisting of around 379 stairs, this famous monument represents the rich architecture of India. As it is a UNESCO World Heritage Site made of red sandstone and decorated with Arabic and Brahmi inscriptions, travellers from around the world come to view this most famous tower in India.',\n",
       " 'The beautiful and massive dome, Sanchi Stupa also known as the Great Stupa is a world renowned Buddhist monument in Sanchi, India. It was constructed by Emperor Ashoka, and is one of the oldest stone structures in the heart of India. Experience the Indian culture by visiting these major attractions in Sanchi including a number of Buddhist Stupas, monasteries and temples.',\n",
       " 'No visit to Hyderabad should be complete without visiting the most famous and majestic monument known as the Charminar. This magnificent and striking mosque constructed in 1591 has four minarets and is the most recognisable symbol in the city of Hyderabad.']"
      ]
     },
     "execution_count": 169,
     "metadata": {},
     "output_type": "execute_result"
    }
   ],
   "source": [
    "desc"
   ]
  },
  {
   "cell_type": "code",
   "execution_count": 170,
   "metadata": {
    "scrolled": true
   },
   "outputs": [
    {
     "data": {
      "text/plain": [
       "['https://v5i.tutiempo.net/wd/WNW.png',\n",
       " 'https://v5i.tutiempo.net/wd/NW.png',\n",
       " 'https://v5i.tutiempo.net/wd/NW.png',\n",
       " 'https://v5i.tutiempo.net/wd/NW.png',\n",
       " 'https://v5i.tutiempo.net/wd/SSW.png',\n",
       " 'https://v5i.tutiempo.net/wd/NW.png',\n",
       " 'https://v5i.tutiempo.net/wd/NW.png',\n",
       " 'https://v5i.tutiempo.net/wd/NW.png',\n",
       " 'https://v5i.tutiempo.net/wd/W.png',\n",
       " 'https://v5i.tutiempo.net/wd/WNW.png',\n",
       " 'https://v5i.tutiempo.net/wd/NW.png',\n",
       " 'https://v5i.tutiempo.net/wd/WNW.png',\n",
       " 'https://v5i.tutiempo.net/wd/W.png',\n",
       " 'https://v5i.tutiempo.net/wd/WNW.png',\n",
       " 'https://v5i.tutiempo.net/wd/W.png',\n",
       " 'https://v5i.tutiempo.net/wd/SSW.png',\n",
       " 'https://v5i.tutiempo.net/wd/SSW.png',\n",
       " 'https://v5i.tutiempo.net/wd/SSW.png',\n",
       " 'https://v5i.tutiempo.net/wd/SSW.png',\n",
       " 'https://v5i.tutiempo.net/wd/SSW.png',\n",
       " 'https://v5i.tutiempo.net/wd/C.png',\n",
       " 'https://v5i.tutiempo.net/wd/C.png',\n",
       " 'https://v5i.tutiempo.net/wd/C.png',\n",
       " 'https://v5i.tutiempo.net/wd/C.png',\n",
       " 'https://v5i.tutiempo.net/wd/C.png',\n",
       " 'https://v5i.tutiempo.net/wd/C.png',\n",
       " 'https://v5i.tutiempo.net/wd/C.png',\n",
       " 'https://v5i.tutiempo.net/wd/C.png',\n",
       " 'https://v5i.tutiempo.net/wd/C.png',\n",
       " 'https://v5i.tutiempo.net/wd/C.png',\n",
       " 'https://v5i.tutiempo.net/wd/C.png',\n",
       " 'https://v5i.tutiempo.net/wd/C.png',\n",
       " 'https://v5i.tutiempo.net/wd/C.png',\n",
       " 'https://v5i.tutiempo.net/wd/C.png',\n",
       " 'https://v5i.tutiempo.net/wd/C.png',\n",
       " 'https://v5i.tutiempo.net/wd/C.png',\n",
       " 'https://v5i.tutiempo.net/wd/C.png',\n",
       " 'https://v5i.tutiempo.net/wd/C.png',\n",
       " 'https://v5i.tutiempo.net/wd/C.png',\n",
       " 'https://v5i.tutiempo.net/wd/C.png',\n",
       " 'https://v5i.tutiempo.net/wd/C.png',\n",
       " 'https://v5i.tutiempo.net/wd/C.png',\n",
       " 'https://v5i.tutiempo.net/wd/C.png',\n",
       " 'https://v5i.tutiempo.net/wd/SSW.png',\n",
       " 'https://v5i.tutiempo.net/wd/W.png',\n",
       " 'https://v5i.tutiempo.net/wd/W.png',\n",
       " 'https://v5i.tutiempo.net/wd/SSW.png',\n",
       " 'https://v5i.tutiempo.net/wd/SSW.png',\n",
       " 'https://v5i.tutiempo.net/wd/NW.png',\n",
       " 'https://oc.tutiempo.net/i/free/gratis-en.png',\n",
       " 'https://oc.tutiempo.net/i/fases-lunares.png',\n",
       " 'https://oc.tutiempo.net/i/logo45.png']"
      ]
     },
     "execution_count": 170,
     "metadata": {},
     "output_type": "execute_result"
    }
   ],
   "source": [
    "temp"
   ]
  },
  {
   "cell_type": "code",
   "execution_count": 171,
   "metadata": {},
   "outputs": [
    {
     "data": {
      "text/plain": [
       "['https://v5i.tutiempo.net/wd/NW.png',\n",
       " 'https://v5i.tutiempo.net/wd/W.png',\n",
       " 'https://v5i.tutiempo.net/wd/NW.png',\n",
       " 'https://v5i.tutiempo.net/wd/W.png',\n",
       " 'https://v5i.tutiempo.net/wd/W.png',\n",
       " 'https://v5i.tutiempo.net/wd/SSW.png',\n",
       " 'https://v5i.tutiempo.net/wd/SSW.png',\n",
       " 'https://v5i.tutiempo.net/wd/C.png',\n",
       " 'https://v5i.tutiempo.net/wd/C.png',\n",
       " 'https://v5i.tutiempo.net/wd/C.png']"
      ]
     },
     "execution_count": 171,
     "metadata": {},
     "output_type": "execute_result"
    }
   ],
   "source": [
    "img_url"
   ]
  },
  {
   "cell_type": "code",
   "execution_count": 172,
   "metadata": {
    "scrolled": true
   },
   "outputs": [
    {
     "name": "stdout",
     "output_type": "stream",
     "text": [
      "10 10 10\n"
     ]
    }
   ],
   "source": [
    "print(len(name),len(desc),len(img_url))"
   ]
  },
  {
   "cell_type": "code",
   "execution_count": 173,
   "metadata": {},
   "outputs": [],
   "source": [
    "import pandas as pd\n",
    "#creating dataframe\n",
    "data = list(zip(name,desc,img_url))"
   ]
  },
  {
   "cell_type": "code",
   "execution_count": 174,
   "metadata": {},
   "outputs": [],
   "source": [
    "df = pd.DataFrame(data,columns=['name','desc','img_url'])"
   ]
  },
  {
   "cell_type": "code",
   "execution_count": 175,
   "metadata": {},
   "outputs": [
    {
     "data": {
      "text/html": [
       "<div>\n",
       "<style scoped>\n",
       "    .dataframe tbody tr th:only-of-type {\n",
       "        vertical-align: middle;\n",
       "    }\n",
       "\n",
       "    .dataframe tbody tr th {\n",
       "        vertical-align: top;\n",
       "    }\n",
       "\n",
       "    .dataframe thead th {\n",
       "        text-align: right;\n",
       "    }\n",
       "</style>\n",
       "<table border=\"1\" class=\"dataframe\">\n",
       "  <thead>\n",
       "    <tr style=\"text-align: right;\">\n",
       "      <th></th>\n",
       "      <th>name</th>\n",
       "      <th>desc</th>\n",
       "      <th>img_url</th>\n",
       "    </tr>\n",
       "  </thead>\n",
       "  <tbody>\n",
       "    <tr>\n",
       "      <th>0</th>\n",
       "      <td>Taj Mahal, Agra</td>\n",
       "      <td>Enlisted in the Seven Wonders of the World, Th...</td>\n",
       "      <td>https://v5i.tutiempo.net/wd/NW.png</td>\n",
       "    </tr>\n",
       "    <tr>\n",
       "      <th>1</th>\n",
       "      <td>Golden Temple (Harmandir Sahib), Amritsar</td>\n",
       "      <td>The holiest shrine and pilgrimage place locate...</td>\n",
       "      <td>https://v5i.tutiempo.net/wd/W.png</td>\n",
       "    </tr>\n",
       "    <tr>\n",
       "      <th>2</th>\n",
       "      <td>Meenakshi Temple, Madurai</td>\n",
       "      <td>Meenakshi Temple is situated on the Southern b...</td>\n",
       "      <td>https://v5i.tutiempo.net/wd/NW.png</td>\n",
       "    </tr>\n",
       "    <tr>\n",
       "      <th>3</th>\n",
       "      <td>Mysore Palace, Mysore</td>\n",
       "      <td>The Mysore Palace is a famous historical monum...</td>\n",
       "      <td>https://v5i.tutiempo.net/wd/W.png</td>\n",
       "    </tr>\n",
       "    <tr>\n",
       "      <th>4</th>\n",
       "      <td>Gateway of India, Mumbai</td>\n",
       "      <td>Even though Mumbai is famous for its Bollywood...</td>\n",
       "      <td>https://v5i.tutiempo.net/wd/W.png</td>\n",
       "    </tr>\n",
       "    <tr>\n",
       "      <th>5</th>\n",
       "      <td>Red Fort, New Delhi</td>\n",
       "      <td>Declared as the UNESCO’s World Heritage Site, ...</td>\n",
       "      <td>https://v5i.tutiempo.net/wd/SSW.png</td>\n",
       "    </tr>\n",
       "    <tr>\n",
       "      <th>6</th>\n",
       "      <td>Hawa Mahal, Jaipur</td>\n",
       "      <td>Explore a blend of beauty and Rajasthan cultur...</td>\n",
       "      <td>https://v5i.tutiempo.net/wd/SSW.png</td>\n",
       "    </tr>\n",
       "    <tr>\n",
       "      <th>7</th>\n",
       "      <td>Qutub Minar, New Delhi</td>\n",
       "      <td>Discover one of the tallest towers in the worl...</td>\n",
       "      <td>https://v5i.tutiempo.net/wd/C.png</td>\n",
       "    </tr>\n",
       "    <tr>\n",
       "      <th>8</th>\n",
       "      <td>Sanchi Stupa, Sanchi</td>\n",
       "      <td>The beautiful and massive dome, Sanchi Stupa a...</td>\n",
       "      <td>https://v5i.tutiempo.net/wd/C.png</td>\n",
       "    </tr>\n",
       "    <tr>\n",
       "      <th>9</th>\n",
       "      <td>Charminar, Hyderabad</td>\n",
       "      <td>No visit to Hyderabad should be complete witho...</td>\n",
       "      <td>https://v5i.tutiempo.net/wd/C.png</td>\n",
       "    </tr>\n",
       "  </tbody>\n",
       "</table>\n",
       "</div>"
      ],
      "text/plain": [
       "                                         name  \\\n",
       "0                             Taj Mahal, Agra   \n",
       "1  Golden Temple (Harmandir Sahib), Amritsar    \n",
       "2                   Meenakshi Temple, Madurai   \n",
       "3                       Mysore Palace, Mysore   \n",
       "4                    Gateway of India, Mumbai   \n",
       "5                         Red Fort, New Delhi   \n",
       "6                          Hawa Mahal, Jaipur   \n",
       "7                      Qutub Minar, New Delhi   \n",
       "8                        Sanchi Stupa, Sanchi   \n",
       "9                        Charminar, Hyderabad   \n",
       "\n",
       "                                                desc  \\\n",
       "0  Enlisted in the Seven Wonders of the World, Th...   \n",
       "1  The holiest shrine and pilgrimage place locate...   \n",
       "2  Meenakshi Temple is situated on the Southern b...   \n",
       "3  The Mysore Palace is a famous historical monum...   \n",
       "4  Even though Mumbai is famous for its Bollywood...   \n",
       "5  Declared as the UNESCO’s World Heritage Site, ...   \n",
       "6  Explore a blend of beauty and Rajasthan cultur...   \n",
       "7  Discover one of the tallest towers in the worl...   \n",
       "8  The beautiful and massive dome, Sanchi Stupa a...   \n",
       "9  No visit to Hyderabad should be complete witho...   \n",
       "\n",
       "                               img_url  \n",
       "0   https://v5i.tutiempo.net/wd/NW.png  \n",
       "1    https://v5i.tutiempo.net/wd/W.png  \n",
       "2   https://v5i.tutiempo.net/wd/NW.png  \n",
       "3    https://v5i.tutiempo.net/wd/W.png  \n",
       "4    https://v5i.tutiempo.net/wd/W.png  \n",
       "5  https://v5i.tutiempo.net/wd/SSW.png  \n",
       "6  https://v5i.tutiempo.net/wd/SSW.png  \n",
       "7    https://v5i.tutiempo.net/wd/C.png  \n",
       "8    https://v5i.tutiempo.net/wd/C.png  \n",
       "9    https://v5i.tutiempo.net/wd/C.png  "
      ]
     },
     "execution_count": 175,
     "metadata": {},
     "output_type": "execute_result"
    }
   ],
   "source": [
    "df.head(10)"
   ]
  },
  {
   "cell_type": "code",
   "execution_count": 176,
   "metadata": {},
   "outputs": [],
   "source": [
    "import requests"
   ]
  },
  {
   "cell_type": "code",
   "execution_count": 177,
   "metadata": {},
   "outputs": [],
   "source": [
    "url = 'https://www.amazon.in/s?k=all+mobile+phone+within+20000&rh=n%3A1389401031&crid=147LGSGA7SGZS&sprefix=all+mobile+phone+within+20000%2Caps%2C399&ref=nb_sb_noss'"
   ]
  },
  {
   "cell_type": "code",
   "execution_count": 178,
   "metadata": {},
   "outputs": [],
   "source": [
    "r = requests.get(url)"
   ]
  },
  {
   "cell_type": "code",
   "execution_count": 179,
   "metadata": {},
   "outputs": [
    {
     "data": {
      "text/plain": [
       "<Response [503]>"
      ]
     },
     "execution_count": 179,
     "metadata": {},
     "output_type": "execute_result"
    }
   ],
   "source": [
    "r"
   ]
  },
  {
   "cell_type": "code",
   "execution_count": 180,
   "metadata": {},
   "outputs": [],
   "source": [
    "htmlcontent = r.content"
   ]
  },
  {
   "cell_type": "code",
   "execution_count": 181,
   "metadata": {},
   "outputs": [],
   "source": [
    "from bs4 import BeautifulSoup"
   ]
  },
  {
   "cell_type": "code",
   "execution_count": 182,
   "metadata": {},
   "outputs": [],
   "source": [
    "bs = BeautifulSoup(htmlcontent,'html.parser')"
   ]
  },
  {
   "cell_type": "code",
   "execution_count": 183,
   "metadata": {},
   "outputs": [
    {
     "ename": "IndexError",
     "evalue": "list index out of range",
     "output_type": "error",
     "traceback": [
      "\u001b[1;31m---------------------------------------------------------------------------\u001b[0m",
      "\u001b[1;31mIndexError\u001b[0m                                Traceback (most recent call last)",
      "\u001b[1;32m<ipython-input-183-e71843561478>\u001b[0m in \u001b[0;36m<module>\u001b[1;34m\u001b[0m\n\u001b[0;32m     20\u001b[0m \u001b[1;32mfor\u001b[0m \u001b[0mi\u001b[0m \u001b[1;32min\u001b[0m \u001b[0mrange\u001b[0m\u001b[1;33m(\u001b[0m\u001b[1;36m1\u001b[0m\u001b[1;33m,\u001b[0m\u001b[1;36m30\u001b[0m\u001b[1;33m,\u001b[0m\u001b[1;36m3\u001b[0m\u001b[1;33m)\u001b[0m\u001b[1;33m:\u001b[0m\u001b[1;33m\u001b[0m\u001b[1;33m\u001b[0m\u001b[0m\n\u001b[0;32m     21\u001b[0m \u001b[1;33m\u001b[0m\u001b[0m\n\u001b[1;32m---> 22\u001b[1;33m     \u001b[0mproduct_name\u001b[0m\u001b[1;33m.\u001b[0m\u001b[0mappend\u001b[0m\u001b[1;33m(\u001b[0m\u001b[0mtemp\u001b[0m\u001b[1;33m[\u001b[0m\u001b[0mi\u001b[0m\u001b[1;33m]\u001b[0m\u001b[1;33m)\u001b[0m\u001b[1;33m\u001b[0m\u001b[1;33m\u001b[0m\u001b[0m\n\u001b[0m\u001b[0;32m     23\u001b[0m \u001b[1;33m\u001b[0m\u001b[0m\n\u001b[0;32m     24\u001b[0m \u001b[1;32mfor\u001b[0m \u001b[0mi\u001b[0m \u001b[1;32min\u001b[0m \u001b[0mrange\u001b[0m\u001b[1;33m(\u001b[0m\u001b[1;36m2\u001b[0m\u001b[1;33m,\u001b[0m\u001b[1;36m30\u001b[0m\u001b[1;33m,\u001b[0m\u001b[1;36m3\u001b[0m\u001b[1;33m)\u001b[0m\u001b[1;33m:\u001b[0m\u001b[1;33m\u001b[0m\u001b[1;33m\u001b[0m\u001b[0m\n",
      "\u001b[1;31mIndexError\u001b[0m: list index out of range"
     ]
    }
   ],
   "source": [
    "data = bs.find_all('div', class_=\"s-desktop-width-max s-desktop-content s-opposite-dir sg-row\")\n",
    "\n",
    "temp=[]\n",
    "\n",
    "for i in data:\n",
    "\n",
    "    for j in i.find_all('p'):\n",
    "\n",
    "        t = j.text.replace('\\n', '') # only extracting data\n",
    "\n",
    "        temp.append(t)\n",
    "\n",
    "product_name=[]\n",
    "\n",
    "Price=[]\n",
    "\n",
    "#rating =[]\n",
    "\n",
    "\n",
    "for i in range(1,30,3):\n",
    "\n",
    "    product_name.append(temp[i])\n",
    "\n",
    "for i in range(2,30,3):\n",
    "\n",
    "    Price.append(temp[i])\n",
    "    \n",
    "    \n",
    "#for i in range(3,30,3):\n",
    "\n",
    "    #rating.append(temp[i])\n",
    "    \n",
    "    \n",
    "    \n",
    "temp = [] # scraping all image url's\n",
    "\n",
    "for i in soup.find_all('img'):\n",
    "\n",
    "    temp.append(i['src'])\n",
    "\n",
    "img_url=[]\n",
    "\n",
    "for i in range(6,26,2):\n",
    "\n",
    "    img_url.append(temp[i])\n",
    "   "
   ]
  },
  {
   "cell_type": "code",
   "execution_count": null,
   "metadata": {},
   "outputs": [],
   "source": []
  },
  {
   "cell_type": "code",
   "execution_count": null,
   "metadata": {},
   "outputs": [],
   "source": []
  },
  {
   "cell_type": "code",
   "execution_count": null,
   "metadata": {},
   "outputs": [],
   "source": []
  }
 ],
 "metadata": {
  "kernelspec": {
   "display_name": "Python 3",
   "language": "python",
   "name": "python3"
  },
  "language_info": {
   "codemirror_mode": {
    "name": "ipython",
    "version": 3
   },
   "file_extension": ".py",
   "mimetype": "text/x-python",
   "name": "python",
   "nbconvert_exporter": "python",
   "pygments_lexer": "ipython3",
   "version": "3.8.5"
  }
 },
 "nbformat": 4,
 "nbformat_minor": 4
}
